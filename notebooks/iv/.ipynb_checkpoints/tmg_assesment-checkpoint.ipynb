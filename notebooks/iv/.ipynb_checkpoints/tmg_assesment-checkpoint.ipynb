{
 "cells": [
  {
   "cell_type": "markdown",
   "id": "797ad836-c549-4380-8daa-a33e22d57c25",
   "metadata": {},
   "source": [
    "### Trans Market Group Teset"
   ]
  },
  {
   "cell_type": "code",
   "execution_count": 33,
   "id": "440b46f6-eb34-4301-9559-2967624c1712",
   "metadata": {},
   "outputs": [],
   "source": [
    "# find ananograms in a list, keep hte first remove any ohers\n",
    "def find_ananogram(anagram_list):\n",
    "    remaing = []\n",
    "    return remaing"
   ]
  },
  {
   "cell_type": "code",
   "execution_count": 25,
   "id": "8a84e022-7bfc-4160-95ba-b0c30328a473",
   "metadata": {},
   "outputs": [
    {
     "data": {
      "text/plain": [
       "[]"
      ]
     },
     "execution_count": 25,
     "metadata": {},
     "output_type": "execute_result"
    }
   ],
   "source": [
    "find_ananogram([\"foo\", \"bar\", \"rab\", \"oof\"])"
   ]
  },
  {
   "cell_type": "code",
   "execution_count": 39,
   "id": "3fc5c07b-5dc8-4e24-be7d-36d9bd05c4d6",
   "metadata": {},
   "outputs": [],
   "source": [
    "# count the number of scores in the list from teamB tha are greater than or equal to the scores from TeamA\n",
    "# [1,2], [1,2,3,4]\n",
    "# return [1, 2]\n",
    "def counter(teamB, teamA):\n",
    "    return None"
   ]
  },
  {
   "cell_type": "code",
   "execution_count": 38,
   "id": "34b1d2d9-4b9f-4085-861c-ff9507689ef0",
   "metadata": {},
   "outputs": [],
   "source": [
    "counter([1,2], [1,2,3,4])"
   ]
  },
  {
   "cell_type": "code",
   "execution_count": null,
   "id": "fa10618f-2a20-4b69-af28-2fb3c4adaf99",
   "metadata": {},
   "outputs": [],
   "source": []
  }
 ],
 "metadata": {
  "kernelspec": {
   "display_name": "Python 3 (ipykernel)",
   "language": "python",
   "name": "python3"
  },
  "language_info": {
   "codemirror_mode": {
    "name": "ipython",
    "version": 3
   },
   "file_extension": ".py",
   "mimetype": "text/x-python",
   "name": "python",
   "nbconvert_exporter": "python",
   "pygments_lexer": "ipython3",
   "version": "3.9.13"
  }
 },
 "nbformat": 4,
 "nbformat_minor": 5
}
