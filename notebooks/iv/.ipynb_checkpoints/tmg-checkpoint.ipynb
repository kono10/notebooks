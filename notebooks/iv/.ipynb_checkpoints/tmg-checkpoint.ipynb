{
 "cells": [
  {
   "cell_type": "markdown",
   "id": "d59d0acc-e72b-4e37-91d8-b0f0e3d3fe2f",
   "metadata": {},
   "source": [
    "# Notes "
   ]
  },
  {
   "cell_type": "markdown",
   "id": "853bd32b-7d46-46da-b5a6-bf9e8baae1d7",
   "metadata": {},
   "source": [
    "* first interview was with Tom Norwood, trader now developer, lives in puerto rico 7 months"
   ]
  },
  {
   "cell_type": "markdown",
   "id": "e7cf822d-cc25-4604-9b66-ee5e559d0a6e",
   "metadata": {
    "tags": []
   },
   "source": [
    "# Company Notes"
   ]
  },
  {
   "cell_type": "markdown",
   "id": "b5d2699e-8c04-4268-8525-397d24caf13c",
   "metadata": {},
   "source": [
    "* offices in puerto rico "
   ]
  },
  {
   "cell_type": "markdown",
   "id": "6aed7969-ac04-413c-987a-2df690ae6b1a",
   "metadata": {
    "tags": []
   },
   "source": [
    "# Job Description / Notes - Python Developer / Data Engineer"
   ]
  },
  {
   "cell_type": "markdown",
   "id": "8113ce0a-1d56-46dd-b949-8e92e5cc6a49",
   "metadata": {},
   "source": [
    "* quickly respond to ad hoc requests\n",
    "* enhance survellience and alerting infrastructure\n",
    "* strong knowledge python and pandas\n",
    "* sql db design\n",
    "* restful api design\n",
    "* data structure containers\n",
    "* dashboard design and visualization"
   ]
  },
  {
   "cell_type": "markdown",
   "id": "4ffcdf5e-6ab4-40e5-bc4c-222269d1848f",
   "metadata": {
    "tags": []
   },
   "source": [
    "# Person Interviewing Me - Ben Clark (Data Enginner)"
   ]
  },
  {
   "cell_type": "markdown",
   "id": "1f4305ca-244f-4dd2-b1fe-fec3549124db",
   "metadata": {
    "tags": []
   },
   "source": [
    "# Questions"
   ]
  },
  {
   "cell_type": "markdown",
   "id": "6c767f5e-a923-40fc-ae87-69de6951c418",
   "metadata": {},
   "source": [
    "* Tell me about the techo at TMG.\n",
    "    * CI / CD\n",
    "    * ETL Tools\n",
    "    * Python Packaging\n",
    "* Fast forward one year, looking back on this hire, what did they have to do to exceed every expectaation.\n",
    "* Why is this role open?\n",
    "* What traits and characteristics define a successfull employee?\n",
    "* What is the most unexpected thing that you've learned while working here?\n",
    "* Can you describe what this proprietary data store is home this role will be involved with it?\n",
    "* What are you looking for out of this role? \n",
    "* What are the characteristics of someone who enters this role and is very successful."
   ]
  },
  {
   "cell_type": "markdown",
   "id": "0cd8bb21-e501-4cff-b640-92cab5ca80a3",
   "metadata": {
    "tags": []
   },
   "source": [
    "## Description of My Career"
   ]
  },
  {
   "cell_type": "markdown",
   "id": "0c5dc96c-3d25-4a19-8d50-660e575fe9fa",
   "metadata": {
    "tags": []
   },
   "source": [
    "### Detail"
   ]
  },
  {
   "cell_type": "markdown",
   "id": "057c59fd-a0ae-4c45-b2bf-41419e574c9f",
   "metadata": {},
   "source": [
    "* Working at drw over 7 year\n",
    "* Finance and accounting\n",
    "    * Data Analyst\n",
    "        * promoted to a senior role after 7 months\n",
    "    * General\n",
    "        * Started soaking up any informatiaon I could get, particuarly for python\n",
    "        * python, sql, Tableau\n",
    "        * actively learning python\n",
    "    * Responibilities\n",
    "        * reporting - SQL, Tableau\n",
    "        * process automation - vba, excel, sql\n",
    "        * web app development - python (dont got into detail unless asked)\n",
    "            * one of the web apps I created\n",
    "            * displayed income statemetns for all drw groups\n",
    "            * accountants no longer had to manually generate and publish excel spreadsheets\n",
    "            * and the reconciliation and validations of the income statements was also streamlined\n",
    "            * saved team members alot of time\n",
    "* After about 4 years \n",
    "* Ficc (Fixed Income Currencies and Commodities - includes about 10 trade desk)\n",
    "    * Software and Data Engineer \n",
    "    * Technology\n",
    "        * python, sql, Airflow, oracle, linux, proficient with git\n",
    "    * Responsibilities\n",
    "        * etl development, monitoring, management\n",
    "        * make recomendations on adjustments we can make to increase efficiency\n",
    "        * debugging and resolving data issues\n",
    "        * app development\n",
    "        * visualziation and dashbaoard desgn\n",
    "            * plotly and dash\n",
    "        * data validation\n",
    "            * Checkmate\n",
    "                * system that organizes, aggregates and executes hundreds of checks accorss billions of records daily\n",
    "                * system is set up to execute checks in a distributed fashon or in an adhoc way\n",
    "                * includes live monitoring and a web application that users can click around in and see the results of checks and asses data health\n",
    "* other\n",
    "    * Definetly consider myself a test driven developer\n",
    "    * Ive made an effort to gain understanding of each part of the development life cycle\n",
    "    * CFA\n",
    "        * completed the exam within the shortest time span possible \n",
    "        * passed all on first attempt\n",
    "\n",
    "Wrap Up \n",
    "* To wrap it up ...\n",
    "* Fascinated by financial markets and how techonology can solve complex probleems in those markets\n",
    "* and how python and sql can help us gain information from data\n",
    "\n",
    "Why want to leave\n",
    "* I really enjory what I do \n",
    "* Happy in my current role\n",
    "* Enjoy my job and the people I work wit\n",
    "* Makes sense after 7 years to see what else is out there\n",
    "* Also interested in working in a group that move a bit more quickly."
   ]
  }
 ],
 "metadata": {
  "kernelspec": {
   "display_name": "Python 3 (ipykernel)",
   "language": "python",
   "name": "python3"
  },
  "language_info": {
   "codemirror_mode": {
    "name": "ipython",
    "version": 3
   },
   "file_extension": ".py",
   "mimetype": "text/x-python",
   "name": "python",
   "nbconvert_exporter": "python",
   "pygments_lexer": "ipython3",
   "version": "3.9.13"
  }
 },
 "nbformat": 4,
 "nbformat_minor": 5
}
