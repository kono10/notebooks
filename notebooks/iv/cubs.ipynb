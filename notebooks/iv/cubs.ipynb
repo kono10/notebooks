{
 "cells": [
  {
   "cell_type": "markdown",
   "id": "4d4ac1b7-0d10-4735-be44-0807a7972b06",
   "metadata": {},
   "source": [
    "# General"
   ]
  },
  {
   "cell_type": "markdown",
   "id": "564e406f-2d80-42e5-bed5-d515bdd65980",
   "metadata": {},
   "source": [
    "* talk clearly\n",
    "* talk slowly\n",
    "* passion for data\n",
    "* love what I do"
   ]
  },
  {
   "cell_type": "markdown",
   "id": "ae7c503a-ea11-447a-a49a-f29114c69c0a",
   "metadata": {
    "tags": []
   },
   "source": [
    "# Interview\n",
    "____"
   ]
  },
  {
   "cell_type": "markdown",
   "id": "20aaeb30-78a1-482d-835b-d00b07c9ac98",
   "metadata": {},
   "source": [
    "### Job Description"
   ]
  },
  {
   "cell_type": "markdown",
   "id": "b94f7281-a18b-44bd-b99a-e9c7bfd5126e",
   "metadata": {},
   "source": [
    "* Data Quality Engineer (baseball systems)\n",
    "* create automated processes to identify data integrity problems\n",
    "* airflow\n",
    "* attention to detail"
   ]
  },
  {
   "cell_type": "markdown",
   "id": "4b133da8-074b-4ce6-ae74-aeeaf83f838a",
   "metadata": {
    "tags": []
   },
   "source": [
    "### Eli Shayer - assistant director baseball systems "
   ]
  },
  {
   "cell_type": "markdown",
   "id": "e0bbb281-1280-455a-86ae-526db6d5ec1a",
   "metadata": {},
   "source": [
    "* with the cubs for 6 years \n",
    "* stanford\n",
    "* grew up in anchorage alaska\n",
    "* alot of different positions with the cubs, intern, developer, analyst, senior software engineer\n"
   ]
  },
  {
   "cell_type": "markdown",
   "id": "d23a3df7-f961-41df-86e2-236e35648185",
   "metadata": {},
   "source": [
    "# John Goode (Director Baseball Systems)\n",
    "* worked at amazon for a year\n",
    "* fin tech top step\n",
    "* u of i\n",
    "* Naz"
   ]
  },
  {
   "cell_type": "markdown",
   "id": "d86c40ae-49ab-42a6-a4b0-801dbbf908a8",
   "metadata": {
    "tags": []
   },
   "source": [
    "### My Questions"
   ]
  },
  {
   "cell_type": "markdown",
   "id": "99282c98-d202-4c2e-8718-4e52d7ca7d9b",
   "metadata": {},
   "source": [
    "* What is the best part about working for the cubs what is the worst part?\n",
    "* What are some string aspects of the cubs baseball systems? What are some weak aspects?\n",
    "* How have the offseason acquisitions impacted your day to day with the cubs?\n",
    "    * Dansby\n",
    "    * got a B\n",
    "    * white sox got an A\n",
    "* What is the most valuable statistic or data set that baseball systems provides?\n",
    "* In my interview with Jay he mentioned ivy as being one of the central tools utilized across the organization. \n",
    "    * You have alot of app dev exerience as a manger\n",
    "    * were you involved in creating that project\n",
    "    * if not do you think its built well \n",
    "    * what would you change\n",
    "* Also mentioned that theres a concerted effort to expand the baseball systems team, why is that? who is responsible for that?\n",
    "* What does a normal day look like for you?\n",
    "* What is your favorite baseball statistic and what types of new data and statics are you coming up with strategies for pulling in?\n",
    "* Intern when they won the world series, what was that like?\n",
    "* Can you tell me what a normal day looks like for you?\n",
    "* How have your responsibilities changed from a Software Engineer to a Director?\n",
    "* what the strongest aspect of the Cubs baseball systems?\n",
    "* What is the biggest issue with the Cubs baseball systems? \n",
    "* How would the data engineer interact with you and the rest of the team?\n",
    "* What are the most important qualities for a successful data engineer to have?\n",
    "* How has the organization changed from when you started working for the cubs up until now?\n",
    "* How has the organization changed since Jed Hoyer became president?\n",
    "* Did you go to the cubs convention at all? Were you involved in it?\n",
    "* What is the best part about the chicago cubs baseball systems, what is the worst part?\n",
    "* How would you interact with this role, what would you see as the first project for this role?\n",
    "* Ivy and Redshift? - happy with that?"
   ]
  },
  {
   "cell_type": "markdown",
   "id": "d3db4a5a-d39d-4880-8ac1-f6983e0b1782",
   "metadata": {
    "tags": []
   },
   "source": [
    "### Their Questions"
   ]
  },
  {
   "cell_type": "markdown",
   "id": "bc44fc91-59cb-4d05-8272-b48252a85056",
   "metadata": {},
   "source": [
    "* 7 years\n",
    "* finance and accounting\n",
    "* data analyst\n",
    "* 7 months\n",
    "* senior role\n",
    "* applied for ficc\n",
    "* ~ 10 trade desk\n",
    "* tech\n",
    "    * python, sql, airflow, oracle, linux, git, \n",
    "    * Responsibilities\n",
    "        * make recomendations on adjustments we can make to increase efficiency\n",
    "        * debugging and resolving data issues\n",
    "        * app development\n",
    "        * experience with docker and kubernetes\n",
    "        * data validation\n",
    "* cfa - 2.5, fastest\n",
    "    * work hard\n",
    "    * grind\n",
    "    * likely have a deeper knowledge of finance than your avg data engineer\n",
    "* passionate about the power that data has to inform decisions and analysis\n",
    "* and how python and sql can help us extract information from data\n"
   ]
  },
  {
   "cell_type": "markdown",
   "id": "67ed3519-9f14-4c02-b97d-fb1203296faf",
   "metadata": {},
   "source": [
    "General\n",
    "* Experience shows that im a quick learn and a hard worker\n",
    "* Happy in my current position and I love what I do\n",
    "* Traders and Researaches are a very demanding bunch\n",
    "* So the environment is very face paced    pprint\n",
    "\n",
    "* which has been exciting and ive really enjoyed\n",
    "* Get to learn from some really intereesting people\n",
    "* Data is a powerful tool whether its sports or finace, its exciting to be apart of that\n",
    "\n",
    "Wrap Up\n",
    "* Chicago\n",
    "* Cubs Fan\n",
    "* Happy in my current role\n",
    "* This role matched really well with my qualifications\n",
    "* As a Chicago kid jub with the cubs doing something I love and feel passionate about would be a dream come true"
   ]
  },
  {
   "cell_type": "markdown",
   "id": "75519d53-a8c4-4b58-872a-839faf6e083a",
   "metadata": {
    "tags": []
   },
   "source": [
    "### Detail\n"
   ]
  },
  {
   "cell_type": "markdown",
   "id": "8f1c9f5c-3bff-4f53-acdb-56404f263e9a",
   "metadata": {},
   "source": [
    "* Working at drw over 7 year\n",
    "* Finance and accounting\n",
    "    * Data Analyst\n",
    "        * promoted to a senior role after 7 months\n",
    "    * Responibilities\n",
    "        * reporting - SQL, Tableau\n",
    "        * process automation - vba, excel, sql\n",
    "        * web app development - python (dont got into detail unless asked)\n",
    "            * one of the web apps I created\n",
    "            * displayed income statemetns for all drw groups\n",
    "            * accountants no longer had to manually generate and publish excel spreadsheets\n",
    "            * and the reconciliation and validations of the income statements was also streamlined\n",
    "            * saved team members alot of time\n",
    "* After about 4 years \n",
    "* Ficc (Fixed Income Currencies and Commodities - includes about 10 trade desk)\n",
    "    * Software and Data Engineer \n",
    "    * Technology\n",
    "        * python, sql, Airflow, oracle, linux, proficient with git\n",
    "        * vim and pycharm\n",
    "    * Responsibilities\n",
    "        * etl development, monitoring, management\n",
    "            * Airflow\n",
    "        * debugging and resolving data issues\n",
    "        * app development\n",
    "        * data validation\n",
    "            * Checkmate\n",
    "                * system that organizes, aggregates and executes hundreds of checks accorss billions of rows of data on a daily basis\n",
    "                * it includes live monitoring and a web application to view the check data and track the health of the data over time\n",
    "* other\n",
    "    * CFA\n",
    "        * 2.5 years to finish, passed all on first attempt"
   ]
  },
  {
   "cell_type": "markdown",
   "id": "91ab1f77-5da7-4c29-9eee-f19ba3de0ed4",
   "metadata": {
    "jp-MarkdownHeadingCollapsed": true,
    "tags": []
   },
   "source": [
    "# Baseball Stats\n",
    "___"
   ]
  },
  {
   "cell_type": "markdown",
   "id": "0293e442-006b-4c1f-b20b-29c9b988a3da",
   "metadata": {
    "tags": []
   },
   "source": [
    "### OBP - on base percentage"
   ]
  },
  {
   "cell_type": "markdown",
   "id": "3ded9e5e-ec81-4303-8e26-eca3f52cfeae",
   "metadata": {},
   "source": [
    "* 390 - Excellent\n",
    "* 320 - Avg"
   ]
  },
  {
   "cell_type": "markdown",
   "id": "cdd77014-0745-4120-a971-c7b612b3e7ed",
   "metadata": {},
   "source": [
    "### SLG - Slugging "
   ]
  },
  {
   "cell_type": "markdown",
   "id": "7b92e6cf-17a3-4326-a59d-2b2f6b49e9d7",
   "metadata": {},
   "source": [
    "* could also be called total bases\n",
    "* gives extra weight to extra bases\n",
    "* 550 Excellent\n",
    "* 430 Avg"
   ]
  },
  {
   "cell_type": "markdown",
   "id": "e0c146d9-259d-4b42-a60d-86d67b1dba5f",
   "metadata": {},
   "source": [
    "### OPS - on base plus slugging"
   ]
  },
  {
   "cell_type": "markdown",
   "id": "294fae0d-ff6d-42a7-bd65-7c9ac625138c",
   "metadata": {},
   "source": [
    "* 1000 excellent\n",
    "* 700 avg"
   ]
  },
  {
   "cell_type": "markdown",
   "id": "4f9f7f5a-54c4-472a-a6fe-32887347ecdc",
   "metadata": {},
   "source": [
    "### wOBA - weighted on base percentage"
   ]
  },
  {
   "cell_type": "markdown",
   "id": "4c10f57f-9279-4289-bda2-0b7b72534d00",
   "metadata": {},
   "source": [
    "* assigns the proper value to each event in terms of its impact on runs"
   ]
  },
  {
   "cell_type": "markdown",
   "id": "916885e9-f5d7-42a3-bf5b-ff3b91898bd7",
   "metadata": {},
   "source": [
    "* .390 - Excellent\n",
    "* .320 - Average"
   ]
  },
  {
   "cell_type": "markdown",
   "id": "6e7a79cc-4eff-456c-a08a-e291274c75ca",
   "metadata": {},
   "source": [
    "### FIP - fielding independent pitching"
   ]
  },
  {
   "cell_type": "markdown",
   "id": "b5d0dc43-a38c-456a-8039-797d09163aa2",
   "metadata": {},
   "source": [
    "* takes into account the events a pitcher has control over"
   ]
  },
  {
   "cell_type": "markdown",
   "id": "bc319c73-7193-4918-8947-50851760fa07",
   "metadata": {},
   "source": [
    "* 3.20 - excellent\n",
    "* 4.20 - avg"
   ]
  },
  {
   "cell_type": "markdown",
   "id": "34689098-cca3-4a34-8af6-6a6227b9c177",
   "metadata": {
    "jp-MarkdownHeadingCollapsed": true,
    "tags": []
   },
   "source": [
    "### DRS (Defensive Runs Saved)\n",
    "how many runs a defensive player prevented from crossing the plate\n"
   ]
  },
  {
   "cell_type": "markdown",
   "id": "812e5eac-2463-4602-9553-7bb8cfc78549",
   "metadata": {},
   "source": [
    "* 15 - excellent\n",
    "* 0 - avg"
   ]
  },
  {
   "cell_type": "markdown",
   "id": "7deb0aa8-093e-4a5b-b86c-bf20f2038c79",
   "metadata": {
    "jp-MarkdownHeadingCollapsed": true,
    "tags": []
   },
   "source": [
    "### WAR (wins above replacement)\n",
    "A measure of a players value in all facets of the game by determining how many wins he is worth above a readily available replacement."
   ]
  },
  {
   "cell_type": "markdown",
   "id": "d10c07f0-118c-404a-8472-a7be05b8e0ea",
   "metadata": {},
   "source": [
    "* 8 mvp\n",
    "* 2-4 solid player"
   ]
  },
  {
   "cell_type": "markdown",
   "id": "3e642ec8-df66-4ab8-9dcc-d1a656d583f3",
   "metadata": {
    "tags": []
   },
   "source": [
    "### Slash Line"
   ]
  },
  {
   "cell_type": "markdown",
   "id": "94024011-c22e-443e-9307-12598ecf04d5",
   "metadata": {
    "jp-MarkdownHeadingCollapsed": true,
    "tags": []
   },
   "source": [
    "### OPS+\n"
   ]
  },
  {
   "cell_type": "markdown",
   "id": "33da8d38-800f-4633-8624-ccb0c9f57819",
   "metadata": {},
   "source": []
  },
  {
   "cell_type": "markdown",
   "id": "ceea43c7-d738-4ba1-9476-615e4a7cb953",
   "metadata": {
    "jp-MarkdownHeadingCollapsed": true,
    "tags": []
   },
   "source": [
    "# Cubs News\n",
    "___"
   ]
  },
  {
   "cell_type": "markdown",
   "id": "2235e9f5-e3fc-4674-b9f9-21f84983a670",
   "metadata": {},
   "source": [
    "* Gm - Carter Hawkins\n",
    "* President - Jed Hoyer\n",
    "* Owner - Tom Rickets\n",
    "* with latest addition cubs 16 mil under the cap\n",
    "* ryne sandburg getting a statue\n",
    "* mark grace inducted into cubs hall of fame\n",
    "* Jason Heyward gone this season\n",
    "* dexter fowler retire"
   ]
  },
  {
   "cell_type": "markdown",
   "id": "230269a2-864e-4dc6-b46c-38324b3e52f9",
   "metadata": {
    "tags": []
   },
   "source": [
    "### Nico Horner"
   ]
  },
  {
   "cell_type": "markdown",
   "id": "70c798a9-9bab-454a-bd53-8ed43bbfccbe",
   "metadata": {},
   "source": [
    "* going to have to move to 2nd base\n",
    "* swanson horner tandem will be one of the best middle infields in baseball"
   ]
  },
  {
   "cell_type": "markdown",
   "id": "f2063148-e68b-42ac-a8fb-dfa771a8e00f",
   "metadata": {
    "tags": []
   },
   "source": [
    "### Nick Madrigal"
   ]
  },
  {
   "cell_type": "markdown",
   "id": "9daf456d-a7ea-4c43-94fb-54ead6328d77",
   "metadata": {},
   "source": [
    "* played 59 games at 2nd base, what will we do with him with horner and swanson\n",
    "* play third base?\n",
    "* white sox\n",
    "* hurt alot"
   ]
  },
  {
   "cell_type": "markdown",
   "id": "4b1aa6e5-278e-4cd0-875d-06bffb3b3986",
   "metadata": {
    "tags": []
   },
   "source": [
    "### Ian Happ"
   ]
  },
  {
   "cell_type": "markdown",
   "id": "30a92ded-59f1-4695-bb77-37e7b4d8b275",
   "metadata": {},
   "source": [
    "* settled on deal to paly for 10 mil in 2023\n",
    "* 28\n",
    "* first all start game\n",
    "* gold glover"
   ]
  },
  {
   "cell_type": "markdown",
   "id": "f93d5684-7ee4-41ef-9aa9-8b321dbe56d5",
   "metadata": {
    "tags": []
   },
   "source": [
    "### Dansby Swanson"
   ]
  },
  {
   "cell_type": "markdown",
   "id": "bcb1cc08-779c-404f-b830-daa04b21e39d",
   "metadata": {},
   "source": [
    "* short stop"
   ]
  },
  {
   "cell_type": "markdown",
   "id": "aa3efd11-3403-477f-b979-dc16de6464ae",
   "metadata": {
    "tags": []
   },
   "source": [
    "### Trey Mancini"
   ]
  },
  {
   "cell_type": "markdown",
   "id": "f34f2903-8295-49ef-b65a-c12bb6f85ccc",
   "metadata": {},
   "source": [
    "* First Base\n",
    "* Not great \n",
    "* 31 \n",
    "* colon cancer"
   ]
  },
  {
   "cell_type": "markdown",
   "id": "f048da31-a2e3-410f-a7fb-af19374b022a",
   "metadata": {
    "jp-MarkdownHeadingCollapsed": true,
    "tags": []
   },
   "source": [
    "### Cubs Prospects"
   ]
  },
  {
   "cell_type": "markdown",
   "id": "679b24b0-8894-4379-aeb2-22293b8f83b1",
   "metadata": {
    "tags": []
   },
   "source": [
    "#### Matt Mevis"
   ]
  },
  {
   "cell_type": "markdown",
   "id": "11a87078-e3ee-4edf-98b5-de49bc82d105",
   "metadata": {
    "jp-MarkdownHeadingCollapsed": true,
    "tags": []
   },
   "source": [
    "* 24\n",
    "* 1st base prospect \n",
    "* 6-4 225"
   ]
  },
  {
   "cell_type": "markdown",
   "id": "bae7eb60-c632-4f5c-a7e1-320fe6bcd04d",
   "metadata": {},
   "source": [
    "###"
   ]
  },
  {
   "cell_type": "markdown",
   "id": "fdbc14cb-7141-4b33-82c0-7a29a2cd4cca",
   "metadata": {
    "jp-MarkdownHeadingCollapsed": true,
    "tags": []
   },
   "source": [
    "# Technical Questions\n",
    "----\n",
    "\n",
    "* https://realpython.com/sorting-algorithms-python/#measuring-efficiency-with-big-o-notation\n",
    "* https://realpython.com/python-coding-interview-tips/\n",
    "* https://medium.com/geekculture/i-got-rejected-from-metas-data-engineer-interview-here-s-what-i-learned-288041ef4032"
   ]
  },
  {
   "cell_type": "markdown",
   "id": "88992548-f154-4e8e-ae0a-ba9966632002",
   "metadata": {
    "tags": []
   },
   "source": [
    "### Sql"
   ]
  },
  {
   "cell_type": "markdown",
   "id": "14f065c3-b50c-4de9-85ed-0482fbf828c3",
   "metadata": {
    "jp-MarkdownHeadingCollapsed": true,
    "tags": []
   },
   "source": [
    "#### Over (can replace lag with sum, lead, lag)"
   ]
  },
  {
   "cell_type": "markdown",
   "id": "570d4a2f-9629-447d-9a73-2b4c544fba0f",
   "metadata": {},
   "source": [
    "``` \n",
    "SELECT \n",
    "    salesman_id,\n",
    "    year, \n",
    "    sales,\n",
    "    LAG(sales) OVER (PARTITION BY salesman_id ORDER BY year) py_sales\n",
    "FROM \n",
    "    salesman_performance\n",
    " \n",
    " ```"
   ]
  },
  {
   "cell_type": "markdown",
   "id": "5f821a55-41b7-4b6d-af85-41a50cf32fa9",
   "metadata": {
    "jp-MarkdownHeadingCollapsed": true,
    "tags": []
   },
   "source": [
    "### Common Table Expressions"
   ]
  },
  {
   "cell_type": "markdown",
   "id": "fc2ae44e-6535-4cc5-a5ab-b7d719db1b41",
   "metadata": {},
   "source": [
    "```\n",
    "with main as (...) select * from main\n",
    "```"
   ]
  },
  {
   "cell_type": "markdown",
   "id": "3806fd98-ee8a-45f3-8780-2591229d2002",
   "metadata": {
    "tags": []
   },
   "source": [
    "### Python"
   ]
  },
  {
   "cell_type": "markdown",
   "id": "7bcf4633-5bc8-4ac8-8de0-fa2aaf7436b7",
   "metadata": {
    "tags": []
   },
   "source": [
    "#### General\n"
   ]
  },
  {
   "cell_type": "markdown",
   "id": "f7bab9a3-8b78-4b9e-916d-11167b6362ff",
   "metadata": {},
   "source": [
    "* lists are mutable, higher memory consumption, slower iteration, alot of built in methods\n",
    "* tuples are immutable, lower memory consumptions, faster iteration\n",
    "* is checks identity and == checks equality\n",
    "* dictionaries are hash tables\n",
    "* ternary operator -> one line if statement\n",
    "* .pop removes an element by index and returns it, .remove() removes the first matching value\n",
    "* metaclass is a class for classes, can specify behavior for many classes\n",
    "* PEP 8 -> python enhancement protocols\n",
    "* Iterable vs iterator\n",
    "* interpreted language - doesn't need to be compiled at run time. \n",
    "* setdefault >>> sum([i * i for i in range(1, 1001)])"
   ]
  },
  {
   "cell_type": "markdown",
   "id": "0b899e44-24d4-47ca-9765-fdf03cd60a02",
   "metadata": {
    "jp-MarkdownHeadingCollapsed": true,
    "tags": []
   },
   "source": [
    "#### itertools.permutations / combinations\n",
    "Generates a list of all possible combinations in a list"
   ]
  },
  {
   "cell_type": "code",
   "execution_count": 10,
   "id": "84f2f0e5-7e9f-4156-ad0e-f54cfe6c9454",
   "metadata": {},
   "outputs": [
    {
     "data": {
      "text/plain": [
       "[('Monique', 'Ashish'),\n",
       " ('Monique', 'Devon'),\n",
       " ('Monique', 'Bernie'),\n",
       " ('Ashish', 'Monique'),\n",
       " ('Ashish', 'Devon'),\n",
       " ('Ashish', 'Bernie'),\n",
       " ('Devon', 'Monique'),\n",
       " ('Devon', 'Ashish'),\n",
       " ('Devon', 'Bernie'),\n",
       " ('Bernie', 'Monique'),\n",
       " ('Bernie', 'Ashish'),\n",
       " ('Bernie', 'Devon')]"
      ]
     },
     "execution_count": 10,
     "metadata": {},
     "output_type": "execute_result"
    }
   ],
   "source": [
    "import itertools\n",
    "friends = ['Monique', 'Ashish', 'Devon', 'Bernie']\n",
    "list(itertools.permutations(friends, r=2))\n",
    "    "
   ]
  },
  {
   "cell_type": "code",
   "execution_count": 9,
   "id": "33588bbc-5c11-41b0-b6cc-db436ec76d8c",
   "metadata": {},
   "outputs": [
    {
     "data": {
      "text/plain": [
       "[('Monique', 'Ashish'),\n",
       " ('Monique', 'Devon'),\n",
       " ('Monique', 'Bernie'),\n",
       " ('Ashish', 'Devon'),\n",
       " ('Ashish', 'Bernie'),\n",
       " ('Devon', 'Bernie')]"
      ]
     },
     "execution_count": 9,
     "metadata": {},
     "output_type": "execute_result"
    }
   ],
   "source": [
    "# order does not matter, will not generate duplicate paris\n",
    "list(itertools.combinations(friends, r=2))"
   ]
  },
  {
   "cell_type": "markdown",
   "id": "bdd9d6b0-7cd4-4bd5-83ef-f4d8512965dc",
   "metadata": {
    "jp-MarkdownHeadingCollapsed": true,
    "tags": []
   },
   "source": [
    "#### Counter"
   ]
  },
  {
   "cell_type": "code",
   "execution_count": 1,
   "id": "bc0fdb5c-435a-4cea-8c52-843f07f6d3eb",
   "metadata": {},
   "outputs": [
    {
     "data": {
      "text/plain": [
       "Counter({'if': 2, 'there': 4, 'was': 4, 'but': 1, 'not': 2})"
      ]
     },
     "execution_count": 1,
     "metadata": {},
     "output_type": "execute_result"
    }
   ],
   "source": [
    "from collections import Counter\n",
    "words = \"if there was there was but if there was not there was not\".split()\n",
    "counts = Counter(words)\n",
    "counts"
   ]
  },
  {
   "cell_type": "code",
   "execution_count": 6,
   "id": "2bab6b7b-78a1-4a22-ac57-7d793d8582fd",
   "metadata": {},
   "outputs": [
    {
     "data": {
      "text/plain": [
       "[('there', 4)]"
      ]
     },
     "execution_count": 6,
     "metadata": {},
     "output_type": "execute_result"
    }
   ],
   "source": [
    "counts.most_common(1)"
   ]
  },
  {
   "cell_type": "markdown",
   "id": "cbd40a9a-845b-43d1-b158-ed47f3a17fc8",
   "metadata": {
    "jp-MarkdownHeadingCollapsed": true,
    "tags": []
   },
   "source": [
    "#### Defaultdict"
   ]
  },
  {
   "cell_type": "code",
   "execution_count": 11,
   "id": "1881d457-eb43-46c8-afe8-25aaae27b9e5",
   "metadata": {},
   "outputs": [
    {
     "data": {
      "text/plain": [
       "[91, 88]"
      ]
     },
     "execution_count": 11,
     "metadata": {},
     "output_type": "execute_result"
    }
   ],
   "source": [
    "from collections import defaultdict\n",
    "grades = [\n",
    "     ('elliot', 91),\n",
    "     ('neelam', 98),\n",
    "     ('bianca', 81),\n",
    "     ('elliot', 88),\n",
    "]\n",
    "\n",
    "student_grades = defaultdict(list)\n",
    "for name, grade in grades:\n",
    "    student_grades[name].append(grade)\n",
    "student_grades[\"elliot\"]"
   ]
  },
  {
   "cell_type": "markdown",
   "id": "c469f710-60c0-4706-936b-96013a2ea3b0",
   "metadata": {
    "jp-MarkdownHeadingCollapsed": true,
    "tags": []
   },
   "source": [
    "#### Generator Expressions\n"
   ]
  },
  {
   "cell_type": "code",
   "execution_count": 92,
   "id": "5734f853-0bc9-4b2d-8a80-08d6e495f06e",
   "metadata": {},
   "outputs": [],
   "source": [
    "# using a generator allows only one element to exist in a list at a time\n",
    "gen = (i * i for i in range(1, 1001))"
   ]
  },
  {
   "cell_type": "code",
   "execution_count": 93,
   "id": "8236b8d7-d3d0-4bcd-bf74-85d21f187909",
   "metadata": {},
   "outputs": [
    {
     "data": {
      "text/plain": [
       "generator"
      ]
     },
     "execution_count": 93,
     "metadata": {},
     "output_type": "execute_result"
    }
   ],
   "source": [
    "type(gen)"
   ]
  },
  {
   "cell_type": "code",
   "execution_count": 94,
   "id": "8559f371-ea9c-4814-ae44-c46f38c2ff4d",
   "metadata": {},
   "outputs": [
    {
     "data": {
      "text/plain": [
       "333833500"
      ]
     },
     "execution_count": 94,
     "metadata": {},
     "output_type": "execute_result"
    }
   ],
   "source": [
    "sum(gen)"
   ]
  },
  {
   "cell_type": "markdown",
   "id": "0b3ba92b-1e5a-4d49-ac56-59c61c6a40de",
   "metadata": {
    "tags": []
   },
   "source": [
    "#### Sorted\n"
   ]
  },
  {
   "cell_type": "code",
   "execution_count": 11,
   "id": "cf801950-5b4e-4b41-bfc1-bcd32aaf9508",
   "metadata": {},
   "outputs": [
    {
     "data": {
      "text/plain": [
       "[{'type': 'elephant', 'name': 'Devon', 'age': 3},\n",
       " {'type': 'puma', 'name': 'Moe', 'age': 5},\n",
       " {'type': 'penguin', 'name': 'Stephanie', 'age': 8}]"
      ]
     },
     "execution_count": 11,
     "metadata": {},
     "output_type": "execute_result"
    }
   ],
   "source": [
    "animals = [\n",
    "     {'type': 'penguin', 'name': 'Stephanie', 'age': 8},\n",
    "     {'type': 'elephant', 'name': 'Devon', 'age': 3},\n",
    "     {'type': 'puma', 'name': 'Moe', 'age': 5},\n",
    " ]\n",
    "sorted(animals, key=lambda animal: animal['age'], reverse=False)\n"
   ]
  },
  {
   "cell_type": "markdown",
   "id": "56ce7561-449f-4ed6-ac45-c97febf015f7",
   "metadata": {
    "tags": []
   },
   "source": [
    "#### Binary Search Tree \n"
   ]
  },
  {
   "cell_type": "markdown",
   "id": "b2cec474-a0f7-4cd7-a376-4ad266524166",
   "metadata": {
    "tags": []
   },
   "source": [
    "#### Regex\n"
   ]
  },
  {
   "cell_type": "code",
   "execution_count": 12,
   "id": "b5109ecb-57f9-43be-ad3f-b3f8c84b642a",
   "metadata": {},
   "outputs": [
    {
     "data": {
      "text/plain": [
       "10"
      ]
     },
     "execution_count": 12,
     "metadata": {},
     "output_type": "execute_result"
    }
   ],
   "source": [
    "import re\n",
    "reg_str = \"key='foo', age='10',key='bar', age='45', key='goo', age='67'\"\n",
    "ages = re.findall(\"age='(\\d{2})'\",reg_str)\n",
    "min([int(age) for age in ages])"
   ]
  },
  {
   "cell_type": "markdown",
   "id": "0e6d7318-d259-43e2-99c9-9fa2ca6a0fd5",
   "metadata": {
    "tags": []
   },
   "source": [
    "#### Fibonacci\n",
    "\n"
   ]
  },
  {
   "cell_type": "code",
   "execution_count": 56,
   "id": "23e74e16-834a-4c3d-bad3-62173810dcd4",
   "metadata": {},
   "outputs": [
    {
     "data": {
      "text/plain": [
       "[0, 1, 1, 2, 3, 5, 8, 13, 21, 34, 55, 89, 144, 233, 377]"
      ]
     },
     "execution_count": 56,
     "metadata": {},
     "output_type": "execute_result"
    }
   ],
   "source": [
    "def fibonacci_of(n):\n",
    "    if n in {0, 1}:  # Base case\n",
    "        return n\n",
    "    return fibonacci_of(n - 1) + fibonacci_of(n - 2)  # Recursive case\n",
    "\n",
    "[fibonacci_of(n) for n in range(15)]\n",
    "[0, 1, 1, 2, 3, 5, 8, 13, 21, 34, 55, 89, 144, 233, 377]"
   ]
  },
  {
   "cell_type": "markdown",
   "id": "733ddb55-d5fa-4053-b9ab-4955774fece8",
   "metadata": {
    "jp-MarkdownHeadingCollapsed": true,
    "tags": []
   },
   "source": [
    "#### End of week test\n"
   ]
  },
  {
   "cell_type": "markdown",
   "id": "e3c8e22d-477b-4cc7-be4d-7df79df9cfb1",
   "metadata": {
    "jp-MarkdownHeadingCollapsed": true,
    "tags": []
   },
   "source": [
    "# Statistics\n",
    "____\n",
    "\n",
    "review z score and probability\n",
    "review how to read the table\n",
    "\n",
    "Resources\n",
    "* https://medium.com/dataseries/descriptive-statistics-with-python-75e2b1249e8d\n",
    "* https://medium.com/@jakekonovsky/list/reading-list"
   ]
  },
  {
   "cell_type": "markdown",
   "id": "8a3b458e-e50c-4f14-a2b0-b73b88bac83c",
   "metadata": {},
   "source": [
    "### Central Limit Theorm\n",
    "Central Limit Theorem suggests that if you randomly draw a sample of your customers, say 1000 customers, this sample itself might not be normally distributed. But if you now repeat the experiment say 100 times, then the 100 means of those 100 samples (of 1000 customers) will make up a normal distribution."
   ]
  },
  {
   "cell_type": "markdown",
   "id": "a3f93183-3392-4659-a243-560d383dea6a",
   "metadata": {
    "jp-MarkdownHeadingCollapsed": true,
    "tags": []
   },
   "source": [
    "### Skew\n",
    "*  Fisher-Pearson standardized moment coefficient."
   ]
  },
  {
   "cell_type": "code",
   "execution_count": 15,
   "id": "1e752b47-ed2d-4270-9355-05c484ec3cdf",
   "metadata": {},
   "outputs": [
    {
     "data": {
      "text/plain": [
       "0.27877684462588986"
      ]
     },
     "execution_count": 15,
     "metadata": {},
     "output_type": "execute_result"
    }
   ],
   "source": [
    "df.acceleration.skew()"
   ]
  },
  {
   "cell_type": "markdown",
   "id": "bb90bd8b-bbc9-4fd3-9362-60eccd3e54e1",
   "metadata": {
    "jp-MarkdownHeadingCollapsed": true,
    "tags": []
   },
   "source": [
    "### Percentiles"
   ]
  },
  {
   "cell_type": "code",
   "execution_count": 16,
   "id": "4ae5abdd-8dc2-4452-b75b-c2ce1e005c92",
   "metadata": {},
   "outputs": [
    {
     "data": {
      "text/plain": [
       "array([13.825, 15.5  , 17.175])"
      ]
     },
     "execution_count": 16,
     "metadata": {},
     "output_type": "execute_result"
    }
   ],
   "source": [
    "np.percentile(df.acceleration, [25, 50, 75])"
   ]
  },
  {
   "cell_type": "markdown",
   "id": "bb164d1a-5c52-416f-a74f-05ddb87b8e2a",
   "metadata": {
    "jp-MarkdownHeadingCollapsed": true,
    "tags": []
   },
   "source": [
    "### Describe"
   ]
  },
  {
   "cell_type": "code",
   "execution_count": 17,
   "id": "776be64c-234d-4a10-9d91-51f45624a7e6",
   "metadata": {},
   "outputs": [],
   "source": [
    "res = df.acceleration.describe()"
   ]
  },
  {
   "cell_type": "code",
   "execution_count": 18,
   "id": "940f7c94-455e-45f1-9d60-e28356b60671",
   "metadata": {},
   "outputs": [
    {
     "data": {
      "text/plain": [
       "24.8"
      ]
     },
     "execution_count": 18,
     "metadata": {},
     "output_type": "execute_result"
    }
   ],
   "source": [
    "res[\"max\"]"
   ]
  },
  {
   "cell_type": "code",
   "execution_count": 19,
   "id": "366f2b0b-21ce-49fa-82d5-18cecedff132",
   "metadata": {},
   "outputs": [
    {
     "data": {
      "text/plain": [
       "8.0"
      ]
     },
     "execution_count": 19,
     "metadata": {},
     "output_type": "execute_result"
    }
   ],
   "source": [
    "res[\"min\"]"
   ]
  },
  {
   "cell_type": "code",
   "execution_count": 20,
   "id": "dbc82464-7910-4af9-bf79-c97071c9420b",
   "metadata": {},
   "outputs": [
    {
     "data": {
      "text/plain": [
       "2.757688929812676"
      ]
     },
     "execution_count": 20,
     "metadata": {},
     "output_type": "execute_result"
    }
   ],
   "source": [
    "res[\"std\"]"
   ]
  },
  {
   "cell_type": "markdown",
   "id": "c45bcde4-4499-401a-8cd1-3b69aa67cdff",
   "metadata": {
    "tags": []
   },
   "source": [
    "## Measures of Correlation"
   ]
  },
  {
   "cell_type": "markdown",
   "id": "4f700e69-ee3c-4414-b12f-5690a3ff543d",
   "metadata": {
    "tags": []
   },
   "source": [
    "### Covariance \n",
    "* measures the stength and direction of a relationship between a pair of variables"
   ]
  },
  {
   "cell_type": "code",
   "execution_count": 21,
   "id": "914802f8-b0b3-48d9-807f-b39f1d02e1d5",
   "metadata": {},
   "outputs": [
    {
     "data": {
      "text/html": [
       "<div>\n",
       "<style scoped>\n",
       "    .dataframe tbody tr th:only-of-type {\n",
       "        vertical-align: middle;\n",
       "    }\n",
       "\n",
       "    .dataframe tbody tr th {\n",
       "        vertical-align: top;\n",
       "    }\n",
       "\n",
       "    .dataframe thead th {\n",
       "        text-align: right;\n",
       "    }\n",
       "</style>\n",
       "<table border=\"1\" class=\"dataframe\">\n",
       "  <thead>\n",
       "    <tr style=\"text-align: right;\">\n",
       "      <th></th>\n",
       "      <th>mpg</th>\n",
       "      <th>cylinders</th>\n",
       "    </tr>\n",
       "  </thead>\n",
       "  <tbody>\n",
       "    <tr>\n",
       "      <th>mpg</th>\n",
       "      <td>61.089611</td>\n",
       "      <td>-10.308911</td>\n",
       "    </tr>\n",
       "    <tr>\n",
       "      <th>cylinders</th>\n",
       "      <td>-10.308911</td>\n",
       "      <td>2.893415</td>\n",
       "    </tr>\n",
       "  </tbody>\n",
       "</table>\n",
       "</div>"
      ],
      "text/plain": [
       "                 mpg  cylinders\n",
       "mpg        61.089611 -10.308911\n",
       "cylinders -10.308911   2.893415"
      ]
     },
     "execution_count": 21,
     "metadata": {},
     "output_type": "execute_result"
    }
   ],
   "source": [
    "df[[\"mpg\", \"cylinders\"]].cov()"
   ]
  },
  {
   "cell_type": "markdown",
   "id": "524e72e3-f751-43e2-9dd9-51df82622ed7",
   "metadata": {
    "tags": []
   },
   "source": [
    "### Correlation Coefficient /  Pearson product-moment correlation coefficient - (denoted as r)\n",
    "* standardized correlation coeff, 1 is perfect correlation"
   ]
  },
  {
   "cell_type": "code",
   "execution_count": 22,
   "id": "d8516451-07dd-4b14-a2f7-717738419d91",
   "metadata": {},
   "outputs": [
    {
     "data": {
      "text/html": [
       "<div>\n",
       "<style scoped>\n",
       "    .dataframe tbody tr th:only-of-type {\n",
       "        vertical-align: middle;\n",
       "    }\n",
       "\n",
       "    .dataframe tbody tr th {\n",
       "        vertical-align: top;\n",
       "    }\n",
       "\n",
       "    .dataframe thead th {\n",
       "        text-align: right;\n",
       "    }\n",
       "</style>\n",
       "<table border=\"1\" class=\"dataframe\">\n",
       "  <thead>\n",
       "    <tr style=\"text-align: right;\">\n",
       "      <th></th>\n",
       "      <th>mpg</th>\n",
       "      <th>cylinders</th>\n",
       "      <th>displacement</th>\n",
       "      <th>horsepower</th>\n",
       "      <th>weight</th>\n",
       "      <th>acceleration</th>\n",
       "      <th>model_year</th>\n",
       "    </tr>\n",
       "  </thead>\n",
       "  <tbody>\n",
       "    <tr>\n",
       "      <th>mpg</th>\n",
       "      <td>1.000000</td>\n",
       "      <td>-0.775396</td>\n",
       "      <td>-0.804203</td>\n",
       "      <td>-0.778427</td>\n",
       "      <td>-0.831741</td>\n",
       "      <td>0.420289</td>\n",
       "      <td>0.579267</td>\n",
       "    </tr>\n",
       "    <tr>\n",
       "      <th>cylinders</th>\n",
       "      <td>-0.775396</td>\n",
       "      <td>1.000000</td>\n",
       "      <td>0.950721</td>\n",
       "      <td>0.842983</td>\n",
       "      <td>0.896017</td>\n",
       "      <td>-0.505419</td>\n",
       "      <td>-0.348746</td>\n",
       "    </tr>\n",
       "    <tr>\n",
       "      <th>displacement</th>\n",
       "      <td>-0.804203</td>\n",
       "      <td>0.950721</td>\n",
       "      <td>1.000000</td>\n",
       "      <td>0.897257</td>\n",
       "      <td>0.932824</td>\n",
       "      <td>-0.543684</td>\n",
       "      <td>-0.370164</td>\n",
       "    </tr>\n",
       "    <tr>\n",
       "      <th>horsepower</th>\n",
       "      <td>-0.778427</td>\n",
       "      <td>0.842983</td>\n",
       "      <td>0.897257</td>\n",
       "      <td>1.000000</td>\n",
       "      <td>0.864538</td>\n",
       "      <td>-0.689196</td>\n",
       "      <td>-0.416361</td>\n",
       "    </tr>\n",
       "    <tr>\n",
       "      <th>weight</th>\n",
       "      <td>-0.831741</td>\n",
       "      <td>0.896017</td>\n",
       "      <td>0.932824</td>\n",
       "      <td>0.864538</td>\n",
       "      <td>1.000000</td>\n",
       "      <td>-0.417457</td>\n",
       "      <td>-0.306564</td>\n",
       "    </tr>\n",
       "    <tr>\n",
       "      <th>acceleration</th>\n",
       "      <td>0.420289</td>\n",
       "      <td>-0.505419</td>\n",
       "      <td>-0.543684</td>\n",
       "      <td>-0.689196</td>\n",
       "      <td>-0.417457</td>\n",
       "      <td>1.000000</td>\n",
       "      <td>0.288137</td>\n",
       "    </tr>\n",
       "    <tr>\n",
       "      <th>model_year</th>\n",
       "      <td>0.579267</td>\n",
       "      <td>-0.348746</td>\n",
       "      <td>-0.370164</td>\n",
       "      <td>-0.416361</td>\n",
       "      <td>-0.306564</td>\n",
       "      <td>0.288137</td>\n",
       "      <td>1.000000</td>\n",
       "    </tr>\n",
       "  </tbody>\n",
       "</table>\n",
       "</div>"
      ],
      "text/plain": [
       "                   mpg  cylinders  displacement  horsepower    weight  \\\n",
       "mpg           1.000000  -0.775396     -0.804203   -0.778427 -0.831741   \n",
       "cylinders    -0.775396   1.000000      0.950721    0.842983  0.896017   \n",
       "displacement -0.804203   0.950721      1.000000    0.897257  0.932824   \n",
       "horsepower   -0.778427   0.842983      0.897257    1.000000  0.864538   \n",
       "weight       -0.831741   0.896017      0.932824    0.864538  1.000000   \n",
       "acceleration  0.420289  -0.505419     -0.543684   -0.689196 -0.417457   \n",
       "model_year    0.579267  -0.348746     -0.370164   -0.416361 -0.306564   \n",
       "\n",
       "              acceleration  model_year  \n",
       "mpg               0.420289    0.579267  \n",
       "cylinders        -0.505419   -0.348746  \n",
       "displacement     -0.543684   -0.370164  \n",
       "horsepower       -0.689196   -0.416361  \n",
       "weight           -0.417457   -0.306564  \n",
       "acceleration      1.000000    0.288137  \n",
       "model_year        0.288137    1.000000  "
      ]
     },
     "execution_count": 22,
     "metadata": {},
     "output_type": "execute_result"
    }
   ],
   "source": [
    "df.corr()"
   ]
  },
  {
   "cell_type": "markdown",
   "id": "7d884095-8112-44ab-9c9b-6b2bf0d3354a",
   "metadata": {
    "jp-MarkdownHeadingCollapsed": true,
    "tags": []
   },
   "source": [
    "## Visualizing Data"
   ]
  },
  {
   "cell_type": "code",
   "execution_count": 23,
   "id": "b1146846-e8ed-4551-9b47-3780d9bb230f",
   "metadata": {},
   "outputs": [
    {
     "data": {
      "text/plain": [
       "<AxesSubplot:>"
      ]
     },
     "execution_count": 23,
     "metadata": {},
     "output_type": "execute_result"
    },
    {
     "data": {
      "image/png": "[encoded data removed]",
      "text/plain": [
       "<Figure size 1080x576 with 1 Axes>"
      ]
     },
     "metadata": {
      "needs_background": "light"
     },
     "output_type": "display_data"
    }
   ],
   "source": [
    "fig, ax = plt.subplots(figsize=(15,8))\n",
    "sns.boxplot(data=df[[\"mpg\", \"cylinders\"]], orient=\"h\")"
   ]
  },
  {
   "cell_type": "code",
   "execution_count": 24,
   "id": "da3e3da3-d003-4d32-855d-8fd34be78311",
   "metadata": {},
   "outputs": [],
   "source": [
    "ct, *_ = df[\"mpg\"].describe()\n"
   ]
  },
  {
   "cell_type": "code",
   "execution_count": 25,
   "id": "8a26d92d-629b-417b-bda0-7a23f8eaa183",
   "metadata": {},
   "outputs": [
    {
     "data": {
      "text/plain": [
       "count    398.000000\n",
       "mean      23.514573\n",
       "std        7.815984\n",
       "min        9.000000\n",
       "25%       17.500000\n",
       "50%       23.000000\n",
       "75%       29.000000\n",
       "max       46.600000\n",
       "Name: mpg, dtype: float64"
      ]
     },
     "execution_count": 25,
     "metadata": {},
     "output_type": "execute_result"
    }
   ],
   "source": [
    "df.mpg.describe()"
   ]
  },
  {
   "cell_type": "code",
   "execution_count": 26,
   "id": "0e004eab-a102-47f2-9031-d64a33406294",
   "metadata": {},
   "outputs": [
    {
     "data": {
      "text/plain": [
       "13.0"
      ]
     },
     "execution_count": 26,
     "metadata": {},
     "output_type": "execute_result"
    }
   ],
   "source": [
    "df.mpg.mode()[0]"
   ]
  },
  {
   "cell_type": "code",
   "execution_count": 27,
   "id": "89cd6a47-299e-447a-9094-299ffbca9f72",
   "metadata": {},
   "outputs": [],
   "source": [
    "def generate_plot(x):\n",
    "    mean, median, mode = x.mean(), x.median(), x.mode()[0]\n",
    "    f, (ax_box, ax_hist) = plt.subplots(2, sharex=True, gridspec_kw= {\"height_ratios\": (0.2, 1)})\n",
    "    sns.boxplot(x, ax=ax_box)\n",
    "    ax_box.axvline(mean, color='r', linestyle='--')\n",
    "    ax_box.axvline(median, color='g', linestyle='-')\n",
    "    ax_box.axvline(mode, color='b', linestyle='-')\n",
    "    sns.distplot(x, ax=ax_hist)\n",
    "    ax_hist.axvline(mean, color='r', linestyle='--')\n",
    "    ax_hist.axvline(median, color='g', linestyle='-')\n",
    "    ax_hist.axvline(mode, color='b', linestyle='-')\n",
    "    plt.legend({'Mean':mean,'Median':median,'Mode':mode})\n",
    "    ax_box.set(xlabel='')\n",
    "    plt.show()"
   ]
  },
  {
   "cell_type": "code",
   "execution_count": 28,
   "id": "d9a8f28a-6dba-4aa9-94f9-aa8637ed3c34",
   "metadata": {},
   "outputs": [
    {
     "name": "stderr",
     "output_type": "stream",
     "text": [
      "/usr/local/lib/python3.6/site-packages/seaborn/_decorators.py:43: FutureWarning: Pass the following variable as a keyword arg: x. From version 0.12, the only valid positional argument will be `data`, and passing other arguments without an explicit keyword will result in an error or misinterpretation.\n",
      "  FutureWarning\n",
      "/usr/local/lib/python3.6/site-packages/seaborn/distributions.py:2619: FutureWarning: `distplot` is a deprecated function and will be removed in a future version. Please adapt your code to use either `displot` (a figure-level function with similar flexibility) or `histplot` (an axes-level function for histograms).\n",
      "  warnings.warn(msg, FutureWarning)\n"
     ]
    },
    {
     "data": {
      "image/png": "[encoded data removed]",
      "text/plain": [
       "<Figure size 432x288 with 2 Axes>"
      ]
     },
     "metadata": {
      "needs_background": "light"
     },
     "output_type": "display_data"
    }
   ],
   "source": [
    "generate_plot(df.mpg)"
   ]
  },
  {
   "cell_type": "markdown",
   "id": "1cf9b7c7-dab8-40cd-9f0c-c4df95284b65",
   "metadata": {
    "jp-MarkdownHeadingCollapsed": true,
    "tags": []
   },
   "source": [
    "## Hypothesis Testing\n",
    "https://online.stat.psu.edu/stat500/lesson/3/3.3/3.3.3\n",
    "https://medium.com/swlh/hypothesis-testing-using-t-test-using-inferential-statistics-python-4dce44eb4146\n",
    "\n",
    "* if p value < alpha reject null, the smaller the p value the more extreme the number\n",
    "* Z-tests are closely related to t-tests, but t-tests are best performed when the data consists of a small sample size, i.e., less than 30. Also, t-tests assume the standard deviation is unknown, while z-tests assume it is known.\n",
    "* A z-test is used in hypothesis testing to evaluate whether a finding or association is statistically significant or not. In particular, it tests whether two means are the same (the null hypothesis). A z-test can only be used if the population standard deviation is known and the sample size is 30 data points or larger. Otherwise, a t-test should be employed."
   ]
  },
  {
   "cell_type": "code",
   "execution_count": 35,
   "id": "4bee760b-1f44-4ba8-a48c-69c1c07376d7",
   "metadata": {},
   "outputs": [],
   "source": [
    "df = sns.load_dataset(\"dowjones\")\n",
    "df.Date = pd.to_datetime(df.Date)\n",
    "df = df.set_index(\"Date\")\n",
    "df = df.pct_change()"
   ]
  },
  {
   "cell_type": "markdown",
   "id": "0ccfd479-9bbb-409f-9feb-c46458433a07",
   "metadata": {
    "jp-MarkdownHeadingCollapsed": true,
    "tags": []
   },
   "source": [
    "### P value\n",
    "----\n",
    "https://towardsdatascience.com/p-value-basics-with-python-code-ae5316197c52\n",
    "* is the alpha needed to accept the null, the higher the p value the more extreme the Test stat"
   ]
  },
  {
   "cell_type": "markdown",
   "id": "77dad699-1d7c-40fe-8702-e5bc57a9228e",
   "metadata": {
    "jp-MarkdownHeadingCollapsed": true,
    "tags": []
   },
   "source": [
    "### Z Test\n",
    "---\n",
    "* https://towardsdatascience.com/z-test-statistics-formula-python-implementation-3755d67ba0e7\n"
   ]
  },
  {
   "cell_type": "code",
   "execution_count": 38,
   "id": "bde88058-ed53-4f92-9e1b-baac0846f9c2",
   "metadata": {},
   "outputs": [
    {
     "ename": "ModuleNotFoundError",
     "evalue": "No module named 'statsmodels'",
     "output_type": "error",
     "traceback": [
      "\u001b[0;31m---------------------------------------------------------------------------\u001b[0m",
      "\u001b[0;31mModuleNotFoundError\u001b[0m                       Traceback (most recent call last)",
      "\u001b[0;32m<ipython-input-38-6bf105d03322>\u001b[0m in \u001b[0;36m<module>\u001b[0;34m\u001b[0m\n\u001b[0;32m----> 1\u001b[0;31m \u001b[0;32mfrom\u001b[0m \u001b[0mstatsmodels\u001b[0m\u001b[0;34m.\u001b[0m\u001b[0mstats\u001b[0m\u001b[0;34m.\u001b[0m\u001b[0mweightstats\u001b[0m \u001b[0;32mimport\u001b[0m \u001b[0mztest\u001b[0m \u001b[0;32mas\u001b[0m \u001b[0mztest\u001b[0m\u001b[0;34m\u001b[0m\u001b[0;34m\u001b[0m\u001b[0m\n\u001b[0m",
      "\u001b[0;31mModuleNotFoundError\u001b[0m: No module named 'statsmodels'"
     ]
    }
   ],
   "source": [
    "from statsmodels.stats.weightstats import ztest as ztest"
   ]
  },
  {
   "cell_type": "code",
   "execution_count": 36,
   "id": "3a0f7c44-978f-4855-bdb5-9c540cb0ce88",
   "metadata": {},
   "outputs": [
    {
     "name": "stderr",
     "output_type": "stream",
     "text": [
      "/usr/local/lib/python3.6/site-packages/seaborn/_decorators.py:43: FutureWarning: Pass the following variable as a keyword arg: x. From version 0.12, the only valid positional argument will be `data`, and passing other arguments without an explicit keyword will result in an error or misinterpretation.\n",
      "  FutureWarning\n",
      "/usr/local/lib/python3.6/site-packages/seaborn/distributions.py:2619: FutureWarning: `distplot` is a deprecated function and will be removed in a future version. Please adapt your code to use either `displot` (a figure-level function with similar flexibility) or `histplot` (an axes-level function for histograms).\n",
      "  warnings.warn(msg, FutureWarning)\n"
     ]
    },
    {
     "data": {
      "image/png": "[encoded data removed]",
      "text/plain": [
       "<Figure size 432x288 with 2 Axes>"
      ]
     },
     "metadata": {
      "needs_background": "light"
     },
     "output_type": "display_data"
    }
   ],
   "source": [
    "generate_plot(df.Price)"
   ]
  },
  {
   "cell_type": "code",
   "execution_count": 44,
   "id": "34ff179a-2b62-4689-ae7c-897ccdda788e",
   "metadata": {},
   "outputs": [
    {
     "data": {
      "text/plain": [
       "0.0056"
      ]
     },
     "execution_count": 44,
     "metadata": {},
     "output_type": "execute_result"
    },
    {
     "data": {
      "image/png": "[encoded data removed]",
      "text/plain": [
       "<Figure size 432x288 with 1 Axes>"
      ]
     },
     "metadata": {
      "needs_background": "light"
     },
     "output_type": "display_data"
    }
   ],
   "source": [
    "df.plot()\n",
    "round(df.mean()[0],4)"
   ]
  },
  {
   "cell_type": "markdown",
   "id": "d3b1bd46-017b-47e8-b8b2-8c134449c0c7",
   "metadata": {},
   "source": [
    "* test whether the average yearly return is greater 5%\n",
    "* H0 -> average stock return is 5%\n"
   ]
  },
  {
   "cell_type": "code",
   "execution_count": null,
   "id": "b61725ba-438c-497d-bee1-e57f73086968",
   "metadata": {},
   "outputs": [],
   "source": [
    "def z_stat():"
   ]
  },
  {
   "cell_type": "code",
   "execution_count": null,
   "id": "2183bfc8-9bb2-4cc3-87b1-43df79e9d5fa",
   "metadata": {},
   "outputs": [],
   "source": []
  },
  {
   "cell_type": "markdown",
   "id": "390a01c0-161a-4a9b-8d59-845e4db61344",
   "metadata": {
    "jp-MarkdownHeadingCollapsed": true,
    "tags": []
   },
   "source": [
    "### T Test\n",
    "___\n",
    "\n",
    "It is a parametric test which tells you how significant the differences between groups are; In other words, it lets you know if those differences (measured in means/averages) could have happened by chance."
   ]
  },
  {
   "cell_type": "markdown",
   "id": "f633b084-d4eb-4a6e-8751-584359e8a50f",
   "metadata": {
    "jp-MarkdownHeadingCollapsed": true,
    "tags": []
   },
   "source": [
    "#### Independent samples t-test \n",
    "It is used to compare two means from independent groups"
   ]
  },
  {
   "cell_type": "markdown",
   "id": "a24c9683-a020-4fad-b300-38b0a8577302",
   "metadata": {
    "tags": []
   },
   "source": [
    "#### One Sample T Test\n",
    "It is used to compare a sample mean with a known population mean or some other meaningful, fixed value."
   ]
  },
  {
   "cell_type": "markdown",
   "id": "0e9e2c31-0419-4735-b4de-74a98a39f565",
   "metadata": {
    "tags": []
   },
   "source": [
    "* HO -> There is no significant difference between the Average price in 1950 and the population mean\n",
    "* alpha = .05"
   ]
  },
  {
   "cell_type": "code",
   "execution_count": 140,
   "id": "8e4cd31c-5b5a-4be6-8720-a89b348a3b44",
   "metadata": {},
   "outputs": [],
   "source": [
    "from scipy import stats\n",
    "import math\n",
    "import pandas as pd"
   ]
  },
  {
   "cell_type": "code",
   "execution_count": 150,
   "id": "906759a7-1df3-49ef-b702-388ccf4567a2",
   "metadata": {},
   "outputs": [],
   "source": [
    "\n"
   ]
  },
  {
   "cell_type": "code",
   "execution_count": 151,
   "id": "5b33591b-ef88-4dfa-a51f-e329d9e4989b",
   "metadata": {},
   "outputs": [],
   "source": [
    "df_sample = df[df.Date.dt.year==1950]\n",
    "df_population = df"
   ]
  },
  {
   "cell_type": "code",
   "execution_count": 163,
   "id": "7bb97a1c-362b-46b2-8c90-dd3a75edb80e",
   "metadata": {},
   "outputs": [
    {
     "name": "stderr",
     "output_type": "stream",
     "text": [
      "/usr/local/lib/python3.6/site-packages/ipykernel_launcher.py:4: FutureWarning: DataFrame.mean and DataFrame.median with numeric_only=None will include datetime64 and datetime64tz columns in a future version.\n",
      "  after removing the cwd from sys.path.\n",
      "/usr/local/lib/python3.6/site-packages/ipykernel_launcher.py:5: FutureWarning: DataFrame.mean and DataFrame.median with numeric_only=None will include datetime64 and datetime64tz columns in a future version.\n",
      "  \"\"\"\n"
     ]
    }
   ],
   "source": [
    "\n",
    "tails = 2\n",
    "alpha = .05\n",
    "sample_size = len(df_sample)\n",
    "sample_mean = df_sample.mean()[0]\n",
    "population_mean = df.mean()[0]\n",
    "sample_std = df_sample.std()[0]\n",
    "t_stat = (sample_mean - population_mean) / (sample_std/math.sqrt(sample_size))\n",
    "t_stat_critical_value = stats.t.ppf(1-alpha/tails, sample_size - 1)\n",
    "#rej_acp = if \n"
   ]
  },
  {
   "cell_type": "code",
   "execution_count": 165,
   "id": "f30d03c7-4019-4a10-99dd-507db5ba1dfe",
   "metadata": {},
   "outputs": [
    {
     "data": {
      "text/plain": [
       "'With a t stat of -24.11700570792123 and a critical value of 2.200985160082949 for a 2 tailed test'"
      ]
     },
     "execution_count": 165,
     "metadata": {},
     "output_type": "execute_result"
    }
   ],
   "source": [
    "resp = f\"With a t stat of {t_stat} and a critical value of {t_stat_critical_value} for a {tails} tailed test\"\n",
    "resp"
   ]
  },
  {
   "cell_type": "markdown",
   "id": "0014e61b-6c3b-4366-bd34-1883aedbe137",
   "metadata": {},
   "source": [
    "^ there is a significant difference in the average stock price in 1950 and the population mean"
   ]
  }
 ],
 "metadata": {
  "kernelspec": {
   "display_name": "Python 3",
   "language": "python",
   "name": "python3"
  },
  "language_info": {
   "codemirror_mode": {
    "name": "ipython",
    "version": 3
   },
   "file_extension": ".py",
   "mimetype": "text/x-python",
   "name": "python",
   "nbconvert_exporter": "python",
   "pygments_lexer": "ipython3",
   "version": "3.6.15"
  }
 },
 "nbformat": 4,
 "nbformat_minor": 5
}
