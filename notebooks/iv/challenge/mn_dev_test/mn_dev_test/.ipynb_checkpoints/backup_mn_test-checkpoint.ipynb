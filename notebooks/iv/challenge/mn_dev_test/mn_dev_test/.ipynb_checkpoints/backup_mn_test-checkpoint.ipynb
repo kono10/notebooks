{
 "cells": [
  {
   "cell_type": "code",
   "execution_count": 12,
   "id": "3d9b8d33",
   "metadata": {},
   "outputs": [],
   "source": [
    "import pandas as pd\n",
    "import numpy as np\n",
    "import bokeh\n",
    "import os\n",
    "import zipfile\n",
    "from IPython.display import display"
   ]
  },
  {
   "cell_type": "markdown",
   "id": "4c7f2950",
   "metadata": {},
   "source": [
    "<h1>Introduction to the problem sets"
   ]
  },
  {
   "cell_type": "markdown",
   "id": "fefe31ca",
   "metadata": {},
   "source": [
    "<p>\n",
    "    \n",
    "    Hi there,\n",
    "\n",
    "    Thanks for taking an interest in this coding test. There are 6 problem sets:\n",
    "\n",
    "   \n",
    "    1) Calculate futures PNL\n",
    "    2) Run custom summary stats\n",
    "    3) Plot futures PNL vs percentage returns using bokeh\n",
    "    4) Gather and show economic events\n",
    "    5) Load a JSON and create a loop to update settings\n",
    "    6) Create an email function to email us your completed zipped project\n",
    "    \n",
    "    Please complete all 6 tests using python in this ipython/jupyter notebook. \n",
    "    We will compare your results with an internal notebook.\n",
    "\n",
    "    Please unzip the \"mn_test\" directory that was sent to you.\n",
    "    Work in this directory to run the ipython/jupyter notebook titled \"mn_test.ipynb\".\n",
    "\n",
    "    Please enter your name info in the code block below.\n",
    "    \n",
    "    Thanks and good luck!\n",
    "</p>"
   ]
  },
  {
   "cell_type": "code",
   "execution_count": 3,
   "id": "2b555dca",
   "metadata": {},
   "outputs": [],
   "source": [
    "# Example:  PERSON = \"Peter West\"\n",
    "PERSON = \"Peter West\""
   ]
  },
  {
   "cell_type": "code",
   "execution_count": 4,
   "id": "21dfa410",
   "metadata": {},
   "outputs": [
    {
     "data": {
      "text/plain": [
       "'peterwest'"
      ]
     },
     "execution_count": 4,
     "metadata": {},
     "output_type": "execute_result"
    }
   ],
   "source": [
    "PERSON = PERSON.lower().replace(' ', \"\")\n",
    "PERSON"
   ]
  },
  {
   "cell_type": "markdown",
   "id": "d650e931",
   "metadata": {},
   "source": [
    "<h1>1) Calculate futures PNL"
   ]
  },
  {
   "cell_type": "code",
   "execution_count": null,
   "id": "2f835312",
   "metadata": {},
   "outputs": [],
   "source": []
  },
  {
   "cell_type": "code",
   "execution_count": 11,
   "id": "2e17c46f",
   "metadata": {},
   "outputs": [],
   "source": [
    "# your code goes here..."
   ]
  },
  {
   "cell_type": "markdown",
   "id": "58780f22",
   "metadata": {},
   "source": [
    "<h1>2) Run custom summary stats"
   ]
  },
  {
   "cell_type": "markdown",
   "id": "f44d2ef3",
   "metadata": {},
   "source": [
    "We have a summary statistics format that we like to use for daily PNL analysis. \n",
    "\n",
    "First, convert the hourly futures data into daily PNLs. \n",
    "\n",
    "Then use the following summary_stats() function to produce the analysis.\n",
    "\n",
    "Run two groups of summary stats: one for ES and another for NQ. \n",
    "\n",
    "If your column headers don't match what's in the summary_stats() function, please change them to match.\n",
    "\n",
    "Use the Ipython display() function to show the final summary_stats dataframe."
   ]
  },
  {
   "cell_type": "code",
   "execution_count": 5,
   "id": "e369f344",
   "metadata": {},
   "outputs": [],
   "source": [
    "def summary_stats(df_: pd.DataFrame, column_name=\"value\"):\n",
    "    \n",
    "    df_ = df_.dropna(how='all')\n",
    "    df_[\"count\"] = int(df_[\"size\"].count())\n",
    "    df_[\"mean\"] = round(df_.pnl.mean())\n",
    "    df_[\"min\"] = round(df_.pnl.min())\n",
    "    df_[\"25(%)\"] = round(df_.pnl.quantile(q=0.25))\n",
    "    df_[\"50(%)\"] = round(df_.pnl.quantile(q=0.5))\n",
    "    df_[\"75(%)\"] = round(df_.pnl.quantile(q=0.75))\n",
    "    df_[\"max\"] = round(df_.pnl.max())\n",
    "    df_[\"wins\"] = df_[\"pnl\"].apply(lambda x: 1 if x > 0 else 0)\n",
    "    df_[\"win(%)\"] = round(int(len(df_[df_.wins > 0])/df_.shape[0] * 100), 2)\n",
    "    df_[\"mean_unit_pnl\"] = round(np.sum(df_.pnl)/ np.sum(np.absolute(df_[\"size\"])))\n",
    "    try:\n",
    "        df_[\"std_unit_pnl\"] = round(np.std(df_.pnl) / np.sum(np.absolute(df_[\"size\"])))\n",
    "    except:\n",
    "        df_[\"std_unit_pnl\"] = np.nan\n",
    "    df_['average_daily_pnl'] = round(df_.groupby('date').pnl.sum().mean())\n",
    "    df_['total_dates'] = round(len(df_.date.unique()))\n",
    "    try:\n",
    "        df_['std_daily_pnl'] = round(df_.groupby('date').pnl.sum().std())\n",
    "    except:\n",
    "        df_['std_daily_pnl'] = np.nan\n",
    "    try:\n",
    "        sharpe = np.round((252**0.5)*(df_[\"average_daily_pnl\"].values[0] / df_[\"std_daily_pnl\"].values[0]), 3)\n",
    "    except:\n",
    "        sharpe = np.nan\n",
    "    df_[\"sharpe\"] = round(sharpe, 2)\n",
    "    df_[\"total_pnl\"] = round(np.sum(df_.pnl))\n",
    "    df_[\"total_volume\"] = round(np.sum(np.absolute(df_[\"size\"])))\n",
    "    df_final = df_.iloc[0][['count', 'mean', 'min', '25(%)',\n",
    "                            '50(%)', '75(%)', 'max', 'win(%)', 'mean_unit_pnl', 'std_unit_pnl',\n",
    "                            'average_daily_pnl', 'total_dates', 'std_daily_pnl', 'sharpe',\n",
    "                            'total_pnl', 'total_volume']].reset_index()\n",
    "    df_final.columns = ['statistic', column_name]\n",
    "    df_final = df_final.set_index('statistic')\n",
    "    return df_final"
   ]
  },
  {
   "cell_type": "code",
   "execution_count": 6,
   "id": "18c81fbf",
   "metadata": {},
   "outputs": [],
   "source": [
    "# your code goes here..."
   ]
  },
  {
   "cell_type": "markdown",
   "id": "4d6bf3a4",
   "metadata": {},
   "source": [
    "<h1>3) Plot futures PNL vs percentage returns using bokeh"
   ]
  },
  {
   "cell_type": "code",
   "execution_count": null,
   "id": "fafcf87d",
   "metadata": {},
   "outputs": [],
   "source": []
  },
  {
   "cell_type": "code",
   "execution_count": 7,
   "id": "69fbb56e",
   "metadata": {},
   "outputs": [],
   "source": [
    "# your code goes here..."
   ]
  },
  {
   "cell_type": "markdown",
   "id": "cc616cb0",
   "metadata": {},
   "source": [
    "<h1>4) Gather and show economic events"
   ]
  },
  {
   "cell_type": "code",
   "execution_count": null,
   "id": "36542151",
   "metadata": {},
   "outputs": [],
   "source": []
  },
  {
   "cell_type": "code",
   "execution_count": null,
   "id": "918f7975",
   "metadata": {},
   "outputs": [],
   "source": [
    "events_url = 'https://www.forexfactory.com/calendar'"
   ]
  },
  {
   "cell_type": "code",
   "execution_count": 8,
   "id": "aa094694",
   "metadata": {},
   "outputs": [],
   "source": [
    "# your code goes here..."
   ]
  },
  {
   "cell_type": "markdown",
   "id": "d376fff1",
   "metadata": {},
   "source": [
    "<h1>5) Load a JSON and create a loop to update settings"
   ]
  },
  {
   "cell_type": "code",
   "execution_count": null,
   "id": "4b0ca815",
   "metadata": {},
   "outputs": [],
   "source": []
  },
  {
   "cell_type": "code",
   "execution_count": 9,
   "id": "4f0a561a",
   "metadata": {},
   "outputs": [],
   "source": [
    "# your code goes here..."
   ]
  },
  {
   "cell_type": "markdown",
   "id": "103d5be3",
   "metadata": {},
   "source": [
    "<h1>6) Create an email function to email us your completed zipped project"
   ]
  },
  {
   "cell_type": "markdown",
   "id": "20184543",
   "metadata": {},
   "source": [
    "You will likely have to consider additional python packages to send an email and zip the contents into an email attachment.\n",
    "\n",
    "First, zip the mn_test directory and rename it using the ZIP_DIR_NAME variable below"
   ]
  },
  {
   "cell_type": "code",
   "execution_count": 11,
   "id": "2feed670",
   "metadata": {},
   "outputs": [
    {
     "data": {
      "text/plain": [
       "'peterwest_mn_test'"
      ]
     },
     "execution_count": 11,
     "metadata": {},
     "output_type": "execute_result"
    }
   ],
   "source": [
    "ZIP_DIR_NAME = f\"{PERSON}_mn_test\"\n",
    "ZIP_DIR_NAME"
   ]
  },
  {
   "cell_type": "code",
   "execution_count": 10,
   "id": "1f710d76",
   "metadata": {},
   "outputs": [],
   "source": [
    "# your code goes here..."
   ]
  },
  {
   "cell_type": "code",
   "execution_count": null,
   "id": "ed4185c8",
   "metadata": {},
   "outputs": [],
   "source": []
  }
 ],
 "metadata": {
  "kernelspec": {
   "display_name": "Python 3",
   "language": "python",
   "name": "python3"
  },
  "language_info": {
   "codemirror_mode": {
    "name": "ipython",
    "version": 3
   },
   "file_extension": ".py",
   "mimetype": "text/x-python",
   "name": "python",
   "nbconvert_exporter": "python",
   "pygments_lexer": "ipython3",
   "version": "3.8.8"
  }
 },
 "nbformat": 4,
 "nbformat_minor": 5
}
