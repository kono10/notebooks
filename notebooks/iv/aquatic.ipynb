{
 "cells": [
  {
   "cell_type": "markdown",
   "id": "d59d0acc-e72b-4e37-91d8-b0f0e3d3fe2f",
   "metadata": {
    "tags": []
   },
   "source": [
    "# Notes "
   ]
  },
  {
   "cell_type": "markdown",
   "id": "192103a5-9ea6-4a11-930d-6f750e23c9bc",
   "metadata": {},
   "source": [
    "### This role represents a unique opportunity to join a quantitative investment manager at the foundational level of building a world class operation from scratch\n"
   ]
  },
  {
   "cell_type": "markdown",
   "id": "5c2b2f7c-bb03-4a1d-9c02-d4bdc5a748f7",
   "metadata": {
    "tags": []
   },
   "source": [
    "# Company Notes"
   ]
  },
  {
   "cell_type": "markdown",
   "id": "54bfb273-472f-4636-afbe-0185deea8b7d",
   "metadata": {
    "tags": []
   },
   "source": [
    "* recently launced\n",
    "* john graham, used to work at citadel\n",
    "* Aquatic develops systematic investment strategies, enabled by a leading-edge research and development platform. The vision is simple: to build a world class, quantitative trading company with a collaborative team of highly capable researchers and engineers.\n",
    "* 50 employees"
   ]
  },
  {
   "cell_type": "markdown",
   "id": "33394539-b1a2-47a9-8ee5-639b8ce8156a",
   "metadata": {
    "tags": []
   },
   "source": [
    "# Job Description"
   ]
  },
  {
   "cell_type": "markdown",
   "id": "bf658f36-cee4-482e-8c4f-e8aa94391409",
   "metadata": {},
   "source": [
    "* sql\n",
    "    * relational databases\n",
    "* support signal reserach by onboarding new data source\n",
    "* onboard new data sources and turn them into signals suitable for machine learning\n",
    "* respond to data outages\n",
    "* work with researchers to optimize and refactor\n",
    "* accountability\n",
    "* urgency\n",
    "* base salary between 150 - 300 k"
   ]
  },
  {
   "cell_type": "markdown",
   "id": "7f789c9f-0507-408d-91a9-815e08c9bc59",
   "metadata": {
    "tags": []
   },
   "source": [
    "# Interview Detail"
   ]
  },
  {
   "cell_type": "markdown",
   "id": "ba2583ba-3f39-4431-85a6-fbb420fa6865",
   "metadata": {
    "jp-MarkdownHeadingCollapsed": true,
    "tags": []
   },
   "source": [
    "### Ben Rady\n",
    "* author the pragmatic programmers\n",
    "* coinbase\n",
    "* drw for 8 years"
   ]
  },
  {
   "cell_type": "markdown",
   "id": "a110d8c2-1cf1-4927-84ca-d9f4978f281c",
   "metadata": {
    "jp-MarkdownHeadingCollapsed": true,
    "tags": []
   },
   "source": [
    "# Their Questions\n",
    "____"
   ]
  },
  {
   "cell_type": "markdown",
   "id": "f363b452-d7c7-45c2-8905-154502286745",
   "metadata": {
    "jp-MarkdownHeadingCollapsed": true,
    "tags": []
   },
   "source": [
    "#### Walk me through you current position\n"
   ]
  },
  {
   "cell_type": "markdown",
   "id": "ce620b7f-3b57-4625-a2c1-36502877c649",
   "metadata": {
    "tags": []
   },
   "source": [
    "#### Why are you looking to leave"
   ]
  },
  {
   "cell_type": "markdown",
   "id": "a4e52122-91c5-447a-9322-0bd84aebea02",
   "metadata": {},
   "source": [
    "* Enjoy my job and the people I work with\n",
    "* Been at DRW for 7 years, think its important to periodically test the market\n",
    "* Ive heard great things about IMC\n",
    "* Ethos seems to be a bit more employee focused and team focused"
   ]
  },
  {
   "cell_type": "markdown",
   "id": "4e0bfd39-9650-4a15-beda-9ecc85063b19",
   "metadata": {
    "tags": []
   },
   "source": [
    "#### What are you looking for in your next position"
   ]
  },
  {
   "cell_type": "markdown",
   "id": "7a53a69d-8b9b-4023-927b-612f0268e372",
   "metadata": {},
   "source": [
    "* continue to expand my technical skills \n",
    "* the more i can learn about hft and the tech that IMC uses\n",
    "* really interested in expanding my knowledge about that\n",
    "* collaborative environment\n",
    "* silohed at atm\n",
    "* IMC ethos more employee focused, more of an emphasis on fun\n",
    "* Java - took a short online course last year, haven't gotten a chance to use Java in professional"
   ]
  },
  {
   "cell_type": "markdown",
   "id": "4c7b4ce1-4cf5-4113-9d77-9ddf98877d52",
   "metadata": {
    "jp-MarkdownHeadingCollapsed": true,
    "tags": []
   },
   "source": [
    "#### What are some of the biggest challenges you face in your new role\n"
   ]
  },
  {
   "cell_type": "markdown",
   "id": "b0f1f1c6-6448-429e-9fcd-d56a8b126447",
   "metadata": {},
   "source": [
    "\n",
    "* Juggling the interests of traders and researchers\n",
    "    * be head down working on one thing and then theres a fire that needs to be put out\n",
    "    * being flexible is extremely important\n",
    "* Prioritization and conversation is extremely important"
   ]
  },
  {
   "cell_type": "markdown",
   "id": "0002ad06-8ca2-4cb4-b12d-a8ea9aab1c6a",
   "metadata": {
    "jp-MarkdownHeadingCollapsed": true,
    "tags": []
   },
   "source": [
    "#### What do you know about IMC"
   ]
  },
  {
   "cell_type": "markdown",
   "id": "04439257-eb2c-47ed-a9c1-0c0c5890fd1c",
   "metadata": {
    "jp-MarkdownHeadingCollapsed": true,
    "tags": []
   },
   "source": [
    "* drw competitor\n",
    "* involved in crypto\n",
    "* bit larger than drw\n",
    "* market making\n",
    "* international\n",
    "* annual report\n",
    "* e sports team\n",
    "* more employee focused\n"
   ]
  },
  {
   "cell_type": "markdown",
   "id": "8c0efb7c-96a9-470d-9ea1-b1bbd162240e",
   "metadata": {
    "jp-MarkdownHeadingCollapsed": true,
    "tags": []
   },
   "source": [
    "#### 2-3 Challenges you've faced in your career"
   ]
  },
  {
   "cell_type": "markdown",
   "id": "7bcec801-ecaf-4ee1-be4a-af78523bf66b",
   "metadata": {
    "tags": []
   },
   "source": [
    "* went to a small school\n",
    "* don't have a compute science degree\n",
    "* always had a bit of a chip on my shoulder\n",
    "* prove to poeple that I can learn quickly"
   ]
  },
  {
   "cell_type": "markdown",
   "id": "b6941b91-d027-4281-93ae-bec5f26f1fc1",
   "metadata": {
    "tags": []
   },
   "source": [
    "# My Questions\n",
    "___ "
   ]
  },
  {
   "cell_type": "markdown",
   "id": "775e096c-7558-4267-8b4f-89f60861f832",
   "metadata": {},
   "source": [
    "* Can you tell me about background?\n",
    "    * worked at drw, why did you leave?\n",
    "    * what was coin base like?\n",
    "    * pragmatic programmers\n",
    "    * how do you know alex disney / derek passen?\n",
    "* What is it like workign at Aquatic?\n",
    "    * how does it compare to DRW\n",
    "* onboarding new data source and turn them into signls suitable for machine learning\n",
    "    * what does the onboarding of datasource for signal currently look like?\n",
    "    * what type of mahine learning\n",
    "* the description of the job seems pretty specific\n",
    "    * onboard new data sources and turn them into signals suitable for machine learning\n",
    "    * would the data engineer in thise rolebe working in any capacity outisde that role\n",
    "    * no working with traders?\n",
    "* Fast forward one year, looking ack on this hire, what did they have to do to exceed every expectaation.\n",
    "* What traits and characteristics define a successfull employee?\n",
    "* What is the most unexpected thing that you've learned while working here?\n",
    "* What would your interaction be like with this role?\n",
    "* Adhere to rules / code standards?\n",
    "* What is the development infrastructure like?\n",
    "    * how are apps deployed?\n",
    "    * conda?\n",
    "    * how are python libraries released?\n",
    "    * continuous intergration/development?\n",
    "* What is an example of a package / library someone in this role would build?\n",
    "* What data analytics tools do you use?"
   ]
  },
  {
   "cell_type": "markdown",
   "id": "832d09af-eb8b-44db-9d51-b4b52de649ec",
   "metadata": {
    "tags": []
   },
   "source": [
    "# Tell me about yourself\n",
    "___"
   ]
  },
  {
   "cell_type": "markdown",
   "id": "393be96a-65fa-44c7-b8ca-1741dc5b3306",
   "metadata": {
    "tags": []
   },
   "source": [
    "## Summary"
   ]
  },
  {
   "cell_type": "markdown",
   "id": "666540d5-6b5f-4653-bf59-d7a7affed53f",
   "metadata": {},
   "source": [
    "* 7 years\n",
    "* finance and accounting\n",
    "* data analyst\n",
    "* 7 months\n",
    "* senior role\n",
    "* applied for ficc\n",
    "* ~ 10 trade desk\n",
    "* tech\n",
    "    * python, sql, airflow, oracle, linux, git, \n",
    "    * Responsibilities\n",
    "        * make recomendations on adjustments we can make to increase efficiency\n",
    "        * debugging and resolving data issues\n",
    "        * app development\n",
    "        * experience with docker and kubernetes\n",
    "        * data validation\n",
    "* cfa - 2.5, fastest\n",
    "    * work hard\n",
    "    * grind\n",
    "    * likely have a deeper knowledge of finance than your avg data engineer\n",
    "* passionate about the power that data has to inform decisions and analysis\n",
    "* and how python and sql can help us extract information from data\n",
    "\n",
    "Reason Leave\n",
    "\n",
    "* work at a smaller firm\n",
    "* move faster\n",
    "* less beurocracy\n",
    "* less politics\n",
    "* more involvement\n"
   ]
  },
  {
   "cell_type": "markdown",
   "id": "f146fdc4-c34f-4fec-91f5-597be8041d00",
   "metadata": {
    "tags": []
   },
   "source": [
    "### Detail"
   ]
  },
  {
   "cell_type": "markdown",
   "id": "7b9d1a7d-c9e3-4613-88f0-1a27dd020812",
   "metadata": {},
   "source": [
    "* Working at drw over 7 year\n",
    "* Finance and accounting\n",
    "    * Data Analyst\n",
    "        * promoted to a senior role after 7 months\n",
    "    * Responibilities\n",
    "        * reporting - SQL, Tableau\n",
    "        * process automation - vba, excel, sql\n",
    "        * web app development - python (dont got into detail unless asked)\n",
    "            * one of the web apps I created\n",
    "            * displayed income statemetns for all drw groups\n",
    "            * accountants no longer had to manually generate and publish excel spreadsheets\n",
    "            * and the reconciliation and validations of the income statements was also streamlined\n",
    "            * saved team members alot of time\n",
    "* After about 4 years \n",
    "* Ficc (Fixed Income Currencies and Commodities - includes about 10 trade desk)\n",
    "    * Software and Data Engineer \n",
    "    * Technology\n",
    "        * python, sql, Airflow, oracle, linux, proficient with git\n",
    "        * vim and pycharm\n",
    "    * Responsibilities\n",
    "        * etl development, monitoring, management\n",
    "            * Airflow\n",
    "        * make recomendations on adjustments we can make to increase efficiency\n",
    "        * debugging and resolving data issues\n",
    "        * app development\n",
    "        * experience with docker and kubernetes\n",
    "        * data validation\n",
    "            * Checkmate\n",
    "                * system that organizes, aggregates and executes hundreds of checks accorss billions of rows of data on a daily basis\n",
    "                * it includes live monitoring and a web application to view the check data and track the health of the data over time\n",
    "    * Environment\n",
    "        * Traders and Researchers are demanding customers\n",
    "        * Read for anything and be flexible\n",
    "        * Exciting face paced environment where I could learn alot\n",
    "        \n",
    "* other\n",
    "    * CFA\n",
    "        * 2.5 years to finish, passed all on first attempt\n",
    "\n",
    "\n",
    "Wrap Up \n",
    "* To wrap it up ...\n",
    "* passionate about the power that data has to inform decisions and analysis\n",
    "* and how python and sql can help us gain information from data"
   ]
  },
  {
   "cell_type": "markdown",
   "id": "2847a867-485a-4bc2-acd8-148d42376e89",
   "metadata": {
    "tags": []
   },
   "source": [
    "# Keywords\n",
    "___"
   ]
  },
  {
   "cell_type": "markdown",
   "id": "2133461d-500f-4083-8d42-664885a8aa70",
   "metadata": {},
   "source": [
    "* Passion for finance\n",
    "* made mistakes and learned from them\n",
    "* good energ\n",
    "* passionate about their work\n",
    "* interest in HFT"
   ]
  }
 ],
 "metadata": {
  "kernelspec": {
   "display_name": "Python 3",
   "language": "python",
   "name": "python3"
  },
  "language_info": {
   "codemirror_mode": {
    "name": "ipython",
    "version": 3
   },
   "file_extension": ".py",
   "mimetype": "text/x-python",
   "name": "python",
   "nbconvert_exporter": "python",
   "pygments_lexer": "ipython3",
   "version": "3.6.15"
  }
 },
 "nbformat": 4,
 "nbformat_minor": 5
}
