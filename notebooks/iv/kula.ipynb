{
 "cells": [
  {
   "cell_type": "markdown",
   "id": "d59d0acc-e72b-4e37-91d8-b0f0e3d3fe2f",
   "metadata": {},
   "source": [
    "# Notes "
   ]
  },
  {
   "cell_type": "markdown",
   "id": "debe380c-0acc-461a-a268-450b24d28f04",
   "metadata": {},
   "source": [
    "* did a take home assesment\n",
    "    * regex\n",
    "    * sql\n",
    "* should be short behavioral interview\n"
   ]
  },
  {
   "cell_type": "markdown",
   "id": "e7cf822d-cc25-4604-9b66-ee5e559d0a6e",
   "metadata": {
    "tags": []
   },
   "source": [
    "# Company Notes"
   ]
  },
  {
   "cell_type": "markdown",
   "id": "1a819766-724e-43cf-af3e-b7a2924c4f23",
   "metadata": {},
   "source": [
    "* Akuna is a stetegic investor in Kula\n",
    "* starting a proprietary data store\n",
    "* private wealth management\n",
    "* leverages AI/Machine learning techniques"
   ]
  },
  {
   "cell_type": "markdown",
   "id": "6aed7969-ac04-413c-987a-2df690ae6b1a",
   "metadata": {
    "tags": []
   },
   "source": [
    "# Job Description / Notes"
   ]
  },
  {
   "cell_type": "markdown",
   "id": "fd3f6003-e5d8-4b7d-b825-90ea7044fa4a",
   "metadata": {},
   "source": [
    "* Work with engineering, investment, and execution teams.\n",
    "* Emphasis on TDD\n",
    "* Desire to lean and willingness to be challenged\n",
    "* SQL and python\n",
    "* Interest in financial markets\n",
    "* Asynchornous programming\n"
   ]
  },
  {
   "cell_type": "markdown",
   "id": "4ffcdf5e-6ab4-40e5-bc4c-222269d1848f",
   "metadata": {
    "tags": []
   },
   "source": [
    "# Person Interviewing Me - Ryan Hustoft (Data Enginner)"
   ]
  },
  {
   "cell_type": "markdown",
   "id": "7fe2edcb-db90-47be-a8bc-cfde511f558b",
   "metadata": {},
   "source": [
    "* wants as self starter, who can take direction and pivot as neede\n",
    "* sql and python"
   ]
  },
  {
   "cell_type": "markdown",
   "id": "1f4305ca-244f-4dd2-b1fe-fec3549124db",
   "metadata": {
    "tags": []
   },
   "source": [
    "# Questions"
   ]
  },
  {
   "cell_type": "markdown",
   "id": "6c767f5e-a923-40fc-ae87-69de6951c418",
   "metadata": {},
   "source": [
    "\n",
    "* Fast forward one year, looking back on this hire, what did they have to do to exceed every expectaation.\n",
    "* Explain the relationship between kula and akuna? How are the two firms similar and different?\n",
    "* Why is this role open?\n",
    "* What traits and characteristics define a successfull employee?\n",
    "* What is the most unexpected thing that you've learned while working here?\n",
    "* Can you describe what this proprietary data store is home this role will be involved with it?\n",
    "* How is the company leveraging AI and Machine learning?"
   ]
  },
  {
   "cell_type": "markdown",
   "id": "0cd8bb21-e501-4cff-b640-92cab5ca80a3",
   "metadata": {
    "tags": []
   },
   "source": [
    "## Description of My Career"
   ]
  },
  {
   "cell_type": "markdown",
   "id": "0c5dc96c-3d25-4a19-8d50-660e575fe9fa",
   "metadata": {
    "tags": []
   },
   "source": [
    "### Detail"
   ]
  },
  {
   "cell_type": "markdown",
   "id": "057c59fd-a0ae-4c45-b2bf-41419e574c9f",
   "metadata": {},
   "source": [
    "* Working at drw over 7 year\n",
    "* Finance and accounting\n",
    "    * Data Analyst\n",
    "        * promoted to a senior role after 7 months\n",
    "    * General\n",
    "        * Started soaking up any informatiaon I could get, particuarly for python\n",
    "        * python, sql, Tableau\n",
    "        * actively learning python\n",
    "    * Responibilities\n",
    "        * reporting - SQL, Tableau\n",
    "        * process automation - vba, excel, sql\n",
    "        * web app development - python (dont got into detail unless asked)\n",
    "            * one of the web apps I created\n",
    "            * displayed income statemetns for all drw groups\n",
    "            * accountants no longer had to manually generate and publish excel spreadsheets\n",
    "            * and the reconciliation and validations of the income statements was also streamlined\n",
    "            * saved team members alot of time\n",
    "* After about 4 years \n",
    "* Ficc (Fixed Income Currencies and Commodities - includes about 10 trade desk)\n",
    "    * Software and Data Engineer \n",
    "    * Technology\n",
    "        * python, sql, Airflow, oracle, linux, proficient with git\n",
    "    * Responsibilities\n",
    "        * etl development, monitoring, management\n",
    "            * Airflow\n",
    "        * make recomendations on adjustments we can make to increase efficiency\n",
    "        * debugging and resolving data issues\n",
    "        * app development\n",
    "        * data validation\n",
    "            * Checkmate\n",
    "                * system that organizes, aggregates and executes hundreds of checks accorss billions of records daily\n",
    "                * system is set up to execute checks in a distributed fashon or in an adhoc way\n",
    "                * includes live monitoring and a web application that users can click around in and see the results of checks and asses data health\n",
    "                \n",
    "    * Environment\n",
    "        * Demanding\n",
    "        * I work long hours sometimes, but I enjoy whaat I do\n",
    "        * Important to be ready for anything and be flexible\n",
    "        * Exciting face paced environment where I could learn alot\n",
    "* other\n",
    "    * Definetly consider myself a test driven developer\n",
    "        * That will drive alot of the coding decisions to make.\n",
    "        * Ive found usually the worst data is generated by code that has the worst test coverage.\n",
    "        * Not surprising to me that theres a correlataion there.\n",
    "        * Find a bug write a unit test\n",
    "    * Ive made an effort to gain understanding of each part of the development life cycle\n",
    "        * countinuous integration/deployment\n",
    "        * docker, k8s\n",
    "        * run my own appliction on AWS\n",
    "        * I have a raspberry cluster that I want to self host some apps and sites one\n",
    "    * CFA\n",
    "        * completed the exam within the shortest time span possible \n",
    "        * passed all on first attempt\n",
    "\n",
    "Wrap Up \n",
    "* To wrap it up ...\n",
    "* Fascinated by financial markets and how techonology can solve complex probleems in those markets\n",
    "* and how python and sql can help us gain information from data\n",
    "\n",
    "Why want to leave\n",
    "* I really enjory what I do \n",
    "* Happy in my current role\n",
    "* Enjoy my job and the people I work wit\n",
    "* Makes sense after 7 years to see what else is out there\n",
    "* Also interested in working in a closer knit group\n",
    "* Would love to have more exposure AI/ML in a trading environment, that would be fascinating to me"
   ]
  },
  {
   "cell_type": "markdown",
   "id": "5c4d85f8-cc37-4563-a619-ca49ca2a0cbe",
   "metadata": {
    "tags": []
   },
   "source": [
    "# Keywords"
   ]
  },
  {
   "cell_type": "markdown",
   "id": "5dae6fba-f3bc-436c-b192-69aa3db603bd",
   "metadata": {},
   "source": [
    "* self starter\n",
    "* sql\n",
    "* python\n",
    "* take direction\n",
    "* pivot as needed\n",
    "* financial market fascination\n",
    "* full understanding of development life cyclee"
   ]
  },
  {
   "cell_type": "code",
   "execution_count": null,
   "id": "abfab678-cec6-4566-8e5e-98f71fdbbd65",
   "metadata": {},
   "outputs": [],
   "source": []
  },
  {
   "cell_type": "code",
   "execution_count": null,
   "id": "945ccd08-5fdc-474b-aed2-746045efd53d",
   "metadata": {},
   "outputs": [],
   "source": []
  },
  {
   "cell_type": "code",
   "execution_count": null,
   "id": "f188f86c-5d58-4293-bd18-3017dfaf28ff",
   "metadata": {},
   "outputs": [],
   "source": []
  }
 ],
 "metadata": {
  "kernelspec": {
   "display_name": "Python 3 (ipykernel)",
   "language": "python",
   "name": "python3"
  },
  "language_info": {
   "codemirror_mode": {
    "name": "ipython",
    "version": 3
   },
   "file_extension": ".py",
   "mimetype": "text/x-python",
   "name": "python",
   "nbconvert_exporter": "python",
   "pygments_lexer": "ipython3",
   "version": "3.9.13"
  }
 },
 "nbformat": 4,
 "nbformat_minor": 5
}
