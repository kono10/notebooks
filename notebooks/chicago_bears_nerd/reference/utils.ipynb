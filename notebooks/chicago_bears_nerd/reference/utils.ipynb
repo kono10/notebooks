{
 "cells": [
  {
   "cell_type": "code",
   "execution_count": 1,
   "id": "0d9c4bfa-0263-4bc4-b1ad-e848520b3bd5",
   "metadata": {},
   "outputs": [],
   "source": [
    "from bokeh.plotting import figure\n",
    "from bokeh.resources import CDN\n",
    "from bokeh.embed import file_html\n",
    "\n",
    "plot = figure()\n",
    "plot.circle([1,2], [3,4])\n",
    "\n",
    "html = file_html(plot, CDN, \"bokeh_plot\")"
   ]
  },
  {
   "cell_type": "code",
   "execution_count": 2,
   "id": "4ec686fc-0ad2-4644-a083-26a69220dfcd",
   "metadata": {},
   "outputs": [],
   "source": [
    "def _output_plot_file(model):\n",
    "        html = file_html(model,resources=CDN)\n",
    "        with open(\"bokeh.html\", 'w') as f:\n",
    "            f.write(html)"
   ]
  }
 ],
 "metadata": {
  "kernelspec": {
   "display_name": "Python 3 (ipykernel)",
   "language": "python",
   "name": "python3"
  },
  "language_info": {
   "codemirror_mode": {
    "name": "ipython",
    "version": 3
   },
   "file_extension": ".py",
   "mimetype": "text/x-python",
   "name": "python",
   "nbconvert_exporter": "python",
   "pygments_lexer": "ipython3",
   "version": "3.9.13"
  }
 },
 "nbformat": 4,
 "nbformat_minor": 5
}
