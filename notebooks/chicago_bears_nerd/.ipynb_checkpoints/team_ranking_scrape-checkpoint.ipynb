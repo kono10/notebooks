{
 "cells": [
  {
   "cell_type": "code",
   "execution_count": 1,
   "id": "a12fe427-81df-4510-ae9d-ed7a4f8e0040",
   "metadata": {},
   "outputs": [],
   "source": [
    "from bs4 import BeautifulSoup\n",
    "import requests as req\n",
    "from time import sleep\n",
    "import pandas as pd\n",
    "import os\n",
    "import time\n",
    "\n",
    "\n",
    "# configure pandas\n",
    "pd.set_option('display.max_rows', 500)\n",
    "pd.set_option('display.max_columns', 500)\n",
    "pd.set_option('display.width', 1000)\n",
    "\n",
    "headers = {\n",
    "    \"User-Agent\": (\n",
    "        \"Mozilla/5.0 (Windows NT 10.0; Win64; x64) AppleWebKit/537.36 \"\n",
    "        \"(KHTML, like Gecko) Chrome/99.0.4844.51 Safari/537.36\"\n",
    "    )\n",
    "}"
   ]
  },
  {
   "cell_type": "code",
   "execution_count": 2,
   "id": "a1b4d33e-3982-4052-8a5f-4684e544489c",
   "metadata": {},
   "outputs": [],
   "source": [
    "url = \"https://www.teamrankings.com/nfl/stats/\""
   ]
  },
  {
   "cell_type": "code",
   "execution_count": 3,
   "id": "c277103d-33f0-4f1e-a09a-09bd5c4446c2",
   "metadata": {},
   "outputs": [],
   "source": [
    "page = req.get(url, headers=headers).text\n",
    "soup = BeautifulSoup(page, \"html.parser\")"
   ]
  },
  {
   "cell_type": "code",
   "execution_count": 17,
   "id": "f1797fe3-054f-41d1-beee-7aa5d2870645",
   "metadata": {},
   "outputs": [],
   "source": [
    "data_urls = [a[\"href\"] for a in soup.find(attrs={\"class\":\"column large-2\"}).find_all(\"a\") if a[\"href\"] != \"#\"]"
   ]
  },
  {
   "cell_type": "code",
   "execution_count": 18,
   "id": "f0d46278-6e4f-4030-9c5a-3f2df6ece816",
   "metadata": {},
   "outputs": [
    {
     "data": {
      "text/plain": [
       "'/nfl/stat/points-per-game'"
      ]
     },
     "execution_count": 18,
     "metadata": {},
     "output_type": "execute_result"
    }
   ],
   "source": [
    "data_urls[0]"
   ]
  },
  {
   "cell_type": "code",
   "execution_count": 44,
   "id": "8c79ed95-f8a7-4891-b47d-5f9be6d9733c",
   "metadata": {},
   "outputs": [],
   "source": [
    "date = \"2022-09-13\"\n",
    "\n",
    "\n",
    "\n",
    "end_point = \"/nfl/stat/points-per-game\"\n",
    "url = f\"https://www.teamrankings.com{end_point}?date={date}\"\n",
    "page = req.get(url, headers=headers).text\n",
    "soup = BeautifulSoup(page, \"html.parser\")\n",
    "\n",
    "table = soup.find(\"table\")\n",
    "\n",
    "df = pd.read_html(str(table))[0].replace(\"--\",0)\n",
    "df[\"asof\"] = date\n",
    "df.to_csv(\"data/\")"
   ]
  },
  {
   "cell_type": "code",
   "execution_count": null,
   "id": "adf297f2-94fd-4b7c-a44b-df73eafceefb",
   "metadata": {},
   "outputs": [],
   "source": []
  }
 ],
 "metadata": {
  "kernelspec": {
   "display_name": "Python 3 (ipykernel)",
   "language": "python",
   "name": "python3"
  },
  "language_info": {
   "codemirror_mode": {
    "name": "ipython",
    "version": 3
   },
   "file_extension": ".py",
   "mimetype": "text/x-python",
   "name": "python",
   "nbconvert_exporter": "python",
   "pygments_lexer": "ipython3",
   "version": "3.9.13"
  }
 },
 "nbformat": 4,
 "nbformat_minor": 5
}
