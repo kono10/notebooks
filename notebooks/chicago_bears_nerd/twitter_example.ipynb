{
 "cells": [
  {
   "cell_type": "code",
   "execution_count": null,
   "id": "9e8385ee-e1e6-4aa5-b231-51b861e41b02",
   "metadata": {},
   "outputs": [],
   "source": [
    "import tweepy\n",
    "# https://developer.twitter.com/en/docs/authentication/oauth-1-0a/obtaining-user-access-tokens\n",
    "\n",
    "bearer_token = \"AAAAAAAAAAAAAAAAAAAAABAqjgEAAAAAwla9Wk262GLiV5KQjlsvGFgpSrc%3DWWS5eckFpWuq1KKfEJsLaUbCHqi0KNkAD46a71nxAMdlDJIYCO\"\n",
    "client_id = \"NHdkV1FHU2EwU3ZDS0xZbVRkUTM6MTpjaQ\"\n",
    "client_secret = \"DOeSwgrFFoULMBu8l9w6TV4h3JEbjVy59MFY4UiJSBwkdFE1Vc\"\n",
    "\n",
    "# \n",
    "api_key = \"LVcqoNFsXV6yi8nvWNxo01pij\"\n",
    "api_key_secret = \"IkUrpASZEnEbeNKrd5vCa8RiWxn88E3rJbQXUBvpiNRznXZGfW\"\n",
    "bearer_token = \"AAAAAAAAAAAAAAAAAAAAABAqjgEAAAAAPgaLyQ33g6hCxH4wOj196jfhC0w%3DP35yS731xZ1XuT7yTy4AWX0rvAgLd0jgIcxf4xoZAtFQGDMIz0\"\n",
    "access_token = \"1557482363474644992-a3nxXcAIoZL6lpT8g18H7PMnomT5bo\"\n",
    "access_token_secret = \"Vwri2u20TihDpmW3o7H8AC4zezKEDcKJkrA6IBgUkZ5jV\"\n",
    "\n",
    "\n",
    "client = tweepy.Client(\n",
    "    bearer_token = bearer_token,\n",
    "    consumer_key = api_key,\n",
    "    consumer_secret = api_key_secret,\n",
    "    access_token = access_token,\n",
    "    access_token_secret = access_token_secret\n",
    ")\n",
    "\n",
    "tweet = client.create_tweet(text=\"test tweet\")\n",
    "\n",
    "\n",
    "query = 'from:BarackObama -is:retweet'\n",
    "tweets = client.search_recent_tweets(query=query, \n",
    "                                    tweet_fields=['author_id', 'created_at'],\n",
    "                                     max_results=100)\n",
    "pd.DataFrame(tweets.data)"
   ]
  }
 ],
 "metadata": {
  "kernelspec": {
   "display_name": "Python 3",
   "language": "python",
   "name": "python3"
  },
  "language_info": {
   "codemirror_mode": {
    "name": "ipython",
    "version": 3
   },
   "file_extension": ".py",
   "mimetype": "text/x-python",
   "name": "python",
   "nbconvert_exporter": "python",
   "pygments_lexer": "ipython3",
   "version": "3.6.15"
  }
 },
 "nbformat": 4,
 "nbformat_minor": 5
}
