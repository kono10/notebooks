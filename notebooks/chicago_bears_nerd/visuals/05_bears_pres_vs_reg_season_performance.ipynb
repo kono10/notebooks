{
 "cells": [
  {
   "cell_type": "code",
   "execution_count": 1,
   "id": "cb00b626-b870-46f3-a7e5-2c7390ce12d4",
   "metadata": {},
   "outputs": [],
   "source": [
    "import altair as alt\n",
    "import pandas as pd\n",
    "import numpy as np"
   ]
  },
  {
   "cell_type": "code",
   "execution_count": 2,
   "id": "47cda70c-5d6a-4289-8f99-df2105e5743c",
   "metadata": {},
   "outputs": [],
   "source": [
    "df = pd.read_csv(\"../data/season_results.csv\")"
   ]
  },
  {
   "cell_type": "code",
   "execution_count": 3,
   "id": "72f113fb-a35f-479f-aebb-c97bffd10ab8",
   "metadata": {},
   "outputs": [],
   "source": [
    "df[\"regular_season_wins\"] = np.where(df.season_type == \"pre\", np.nan, df.wins)\n",
    "df[\"pre_season_wins\"] = np.where(df.season_type == \"pre\", df.wins, np.nan)\n",
    "df = df[df.year.gt(2005)]"
   ]
  },
  {
   "cell_type": "code",
   "execution_count": 4,
   "id": "5780e7a1-54d7-4215-83ec-5909fc63cf6e",
   "metadata": {},
   "outputs": [],
   "source": [
    "df[\"team_name\"] = np.where(df.team_name == \"Washington Redskins\", \"Washington Football Team\", df.team_name)\n",
    "df[\"team_name\"] = np.where(df.team_name == \"St. Louis Rams\", \"Los Angeles Rams\", df.team_name)\n",
    "df[\"team_name\"] = np.where(df.team_name == \"Oakland Raiders\", \"Las Vegas Raiders\", df.team_name)\n",
    "df[\"team_name\"] = np.where(df.team_name == \"San Diego Chargers\", \"Los Angeles Chargers\", df.team_name)\n",
    "df = df.groupby(\"team_name\", as_index=False).mean()\n",
    "df[\"Is Bears\"] = df.team_name == \"Chicago Bears\""
   ]
  },
  {
   "cell_type": "code",
   "execution_count": 5,
   "id": "030a38a4-4ded-45f4-ae32-4ef3c0164ff2",
   "metadata": {},
   "outputs": [],
   "source": [
    "chart_title = \"Avg PreSeason Wins vs Avg Regular Season Wins Per Season Last 10 Years\"\n",
    "x_cfgs = {\"shorthand\":\"regular_season_wins\", \"title\":\"Avg Regular Season Wins Per Season\"}\n",
    "y_cfgs = {\"shorthand\":\"pre_season_wins\", \"title\":\"Avg Preseason Wins Per Season\"}\n",
    "# background etc.\n",
    "primary_color = \"#0B162A\" \n",
    "# font etc.\n",
    "secondary_color = \"#c83803\"\n",
    "\n",
    "\n",
    "alt.Chart(df, width=1000, height=1000, title=chart_title)\\\n",
    ".mark_circle(size=500, opacity=1)\\\n",
    ".encode(\n",
    "    x=alt.X(**x_cfgs,\n",
    "        scale=alt.Scale(zero=False)\n",
    "    ),\n",
    "    y=alt.Y(**y_cfgs,\n",
    "        scale=alt.Scale(zero=False)\n",
    "    ),\n",
    "    color=alt.Color(\"Is Bears\", scale=alt.Scale(domain=[True, False], range=[secondary_color, \"white\"])),\n",
    "    tooltip=[\n",
    "        alt.Tooltip(\"team_name\", title=\"Team Name\"),\n",
    "        alt.Tooltip(**x_cfgs),\n",
    "        alt.Tooltip(**y_cfgs)\n",
    "    ]\n",
    ")\\\n",
    ".configure(background=primary_color)\\\n",
    ".configure_axis(gridColor=\"grey\", gridDash=[6,4])\\\n",
    ".configure_axisLeft(labelColor=secondary_color, titleColor=secondary_color, labelFontSize=15, titleFontSize=17)\\\n",
    ".configure_axisBottom(labelColor=secondary_color, titleColor=secondary_color,labelFontSize=15, titleFontSize=17)\\\n",
    ".configure_title(color=secondary_color, fontSize=25)\\\n",
    ".configure_legend(labelColor=secondary_color, titleColor=secondary_color, strokeColor='gray', fillColor=primary_color, padding=10,cornerRadius=10,orient='top-right', labelFontSize=15, titleFontSize=15)\n"
   ]
  }
 ],
 "metadata": {
  "kernelspec": {
   "display_name": "Python 3",
   "language": "python",
   "name": "python3"
  },
  "language_info": {
   "codemirror_mode": {
    "name": "ipython",
    "version": 3
   },
   "file_extension": ".py",
   "mimetype": "text/x-python",
   "name": "python",
   "nbconvert_exporter": "python",
   "pygments_lexer": "ipython3",
   "version": "3.6.15"
  }
 },
 "nbformat": 4,
 "nbformat_minor": 5
}
