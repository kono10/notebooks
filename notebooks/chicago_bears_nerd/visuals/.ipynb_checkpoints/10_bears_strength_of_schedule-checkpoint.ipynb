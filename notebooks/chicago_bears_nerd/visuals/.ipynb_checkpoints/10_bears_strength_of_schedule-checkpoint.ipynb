{
 "cells": [
  {
   "cell_type": "code",
   "execution_count": 2,
   "id": "cb00b626-b870-46f3-a7e5-2c7390ce12d4",
   "metadata": {},
   "outputs": [],
   "source": [
    "import altair as alt\n",
    "import pandas as pd\n",
    "import numpy as np\n",
    "import warnings\n",
    "#warnings.simplefilter(action='ignore', category=\"SettingWithCopyWarning\")\n",
    " "
   ]
  },
  {
   "cell_type": "code",
   "execution_count": 258,
   "id": "47cda70c-5d6a-4289-8f99-df2105e5743c",
   "metadata": {},
   "outputs": [],
   "source": [
    "df = pd.read_csv(\"../data/chicago_bears_coaching_history.csv\")\n",
    "df = df.query(\"Year > 1950\")"
   ]
  },
  {
   "cell_type": "code",
   "execution_count": 287,
   "id": "3d686441-b29a-4a14-8375-53b64857c45a",
   "metadata": {},
   "outputs": [],
   "source": [
    "df[\"year_max\"] = df.Year\n",
    "df[\"year_min\"] = df.Year"
   ]
  },
  {
   "cell_type": "code",
   "execution_count": 288,
   "id": "7a4367f1-45e9-4102-827c-bac672a9ff14",
   "metadata": {},
   "outputs": [],
   "source": [
    "df = df[~df.Coach.eq(\"Matt Eberflus\")]\n"
   ]
  },
  {
   "cell_type": "code",
   "execution_count": 289,
   "id": "3a89fb40-1682-407f-8de5-b4edf7af1177",
   "metadata": {},
   "outputs": [],
   "source": [
    "df = df.reset_index()"
   ]
  },
  {
   "cell_type": "code",
   "execution_count": 290,
   "id": "397ffad1-5cc4-4b9d-b639-3a68d64ed7db",
   "metadata": {},
   "outputs": [],
   "source": [
    "df[\"Made Playoffs\"] = ~df.Result.isnull()"
   ]
  },
  {
   "cell_type": "code",
   "execution_count": 330,
   "id": "fa7ea145-c081-4b73-9458-931afe68f698",
   "metadata": {},
   "outputs": [],
   "source": [
    "base = alt.Chart(df, width=1500, height=500, title=chart_title)\n"
   ]
  },
  {
   "cell_type": "code",
   "execution_count": 331,
   "id": "e1b53415-30b4-4b6a-b55a-2243846ca3d2",
   "metadata": {},
   "outputs": [],
   "source": [
    "# have a bar char where bar has two an x start and end date and sort by \n",
    "chart_title = \"\"\n",
    "y_cfgs = {\"shorthand\":\"Coach\", \"title\": \"Coach\"}\n",
    "x_cfgs = {\"shorthand\":\"Year:O\", \"title\":\"Year\"}\n",
    "# background etc.\n",
    "primary_color = \"#0B162A\" \n",
    "# font etc.\n",
    "secondary_color = \"#c83803\"\n"
   ]
  },
  {
   "cell_type": "code",
   "execution_count": 332,
   "id": "83942496-4414-4275-a246-3a983816023a",
   "metadata": {},
   "outputs": [],
   "source": [
    "heat = base.mark_rect()\\\n",
    ".encode(\n",
    "    y=alt.Y(**y_cfgs, sort=alt.EncodingSortField(field='Year', order='descending')),\n",
    "    x=alt.X(**x_cfgs),\n",
    "     color=alt.Color(\"Made Playoffs\", scale=alt.Scale(domain=[True, False], range=[secondary_color, \"white\"])),\n",
    "    tooltip=[alt.Tooltip(\"Coach\", title=\"Coach\"), \"W-L%\", alt.Tooltip(\"year_min:O\", title=\"Year\"), alt.Tooltip(\"W\", title=\"Total Wins\"), alt.Tooltip(\"L\", title=\"Losses\"), alt.Tooltip(\"Result\", title=\"Result\")]\n",
    ").configure(background=primary_color)\\\n",
    ".configure_axis(gridColor=\"grey\", gridDash=[6,4])\\\n",
    ".configure_axisLeft(labelColor=secondary_color, titleColor=secondary_color, labelFontSize=15, titleFontSize=20)\\\n",
    ".configure_axisBottom(labelColor=secondary_color, titleColor=secondary_color,labelFontSize=15, titleFontSize=17)\\\n",
    ".configure_title(color=secondary_color, fontSize=25)\\\n",
    ".configure_legend(labelColor=secondary_color, titleColor=secondary_color, strokeColor='gray', fillColor=primary_color, padding=10,cornerRadius=10,orient='top-left', labelFontSize=15, titleFontSize=15)\n"
   ]
  },
  {
   "cell_type": "code",
   "execution_count": 333,
   "id": "29d6f06d-2d9d-46f8-b47e-697bbfb6b43d",
   "metadata": {},
   "outputs": [
    {
     "data": {
      "text/html": [
       "\n",
       "<div id=\"altair-viz-865bf2f09c044618adfdc65416688b4d\"></div>\n",
       "<script type=\"text/javascript\">\n",
       "  var VEGA_DEBUG = (typeof VEGA_DEBUG == \"undefined\") ? {} : VEGA_DEBUG;\n",
       "  (function(spec, embedOpt){\n",
       "    let outputDiv = document.currentScript.previousElementSibling;\n",
       "    if (outputDiv.id !== \"altair-viz-865bf2f09c044618adfdc65416688b4d\") {\n",
       "      outputDiv = document.getElementById(\"altair-viz-865bf2f09c044618adfdc65416688b4d\");\n",
       "    }\n",
       "    const paths = {\n",
       "      \"vega\": \"https://cdn.jsdelivr.net/npm//vega@5?noext\",\n",
       "      \"vega-lib\": \"https://cdn.jsdelivr.net/npm//vega-lib?noext\",\n",
       "      \"vega-lite\": \"https://cdn.jsdelivr.net/npm//vega-lite@4.17.0?noext\",\n",
       "      \"vega-embed\": \"https://cdn.jsdelivr.net/npm//vega-embed@6?noext\",\n",
       "    };\n",
       "\n",
       "    function maybeLoadScript(lib, version) {\n",
       "      var key = `${lib.replace(\"-\", \"\")}_version`;\n",
       "      return (VEGA_DEBUG[key] == version) ?\n",
       "        Promise.resolve(paths[lib]) :\n",
       "        new Promise(function(resolve, reject) {\n",
       "          var s = document.createElement('script');\n",
       "          document.getElementsByTagName(\"head\")[0].appendChild(s);\n",
       "          s.async = true;\n",
       "          s.onload = () => {\n",
       "            VEGA_DEBUG[key] = version;\n",
       "            return resolve(paths[lib]);\n",
       "          };\n",
       "          s.onerror = () => reject(`Error loading script: ${paths[lib]}`);\n",
       "          s.src = paths[lib];\n",
       "        });\n",
       "    }\n",
       "\n",
       "    function showError(err) {\n",
       "      outputDiv.innerHTML = `<div class=\"error\" style=\"color:red;\">${err}</div>`;\n",
       "      throw err;\n",
       "    }\n",
       "\n",
       "    function displayChart(vegaEmbed) {\n",
       "      vegaEmbed(outputDiv, spec, embedOpt)\n",
       "        .catch(err => showError(`Javascript Error: ${err.message}<br>This usually means there's a typo in your chart specification. See the javascript console for the full traceback.`));\n",
       "    }\n",
       "\n",
       "    if(typeof define === \"function\" && define.amd) {\n",
       "      requirejs.config({paths});\n",
       "      require([\"vega-embed\"], displayChart, err => showError(`Error loading script: ${err.message}`));\n",
       "    } else {\n",
       "      maybeLoadScript(\"vega\", \"5\")\n",
       "        .then(() => maybeLoadScript(\"vega-lite\", \"4.17.0\"))\n",
       "        .then(() => maybeLoadScript(\"vega-embed\", \"6\"))\n",
       "        .catch(showError)\n",
       "        .then(() => displayChart(vegaEmbed));\n",
       "    }\n",
       "  })({\"config\": {\"view\": {\"continuousWidth\": 400, \"continuousHeight\": 300}, \"axis\": {\"gridColor\": \"grey\", \"gridDash\": [6, 4]}, \"axisBottom\": {\"labelColor\": \"#c83803\", \"labelFontSize\": 15, \"titleColor\": \"#c83803\", \"titleFontSize\": 17}, \"axisLeft\": {\"labelColor\": \"#c83803\", \"labelFontSize\": 15, \"titleColor\": \"#c83803\", \"titleFontSize\": 20}, \"background\": \"#0B162A\", \"legend\": {\"cornerRadius\": 10, \"fillColor\": \"#0B162A\", \"labelColor\": \"#c83803\", \"labelFontSize\": 15, \"orient\": \"top-left\", \"padding\": 10, \"strokeColor\": \"gray\", \"titleColor\": \"#c83803\", \"titleFontSize\": 15}, \"title\": {\"color\": \"#c83803\", \"fontSize\": 25}}, \"data\": {\"name\": \"data-98e99584d4c54f6cd344082bd9b408f7\"}, \"mark\": \"rect\", \"encoding\": {\"color\": {\"field\": \"Made Playoffs\", \"scale\": {\"domain\": [true, false], \"range\": [\"#c83803\", \"white\"]}, \"type\": \"nominal\"}, \"tooltip\": [{\"field\": \"Coach\", \"title\": \"Coach\", \"type\": \"nominal\"}, {\"field\": \"W-L%\", \"type\": \"quantitative\"}, {\"field\": \"year_min\", \"title\": \"Year\", \"type\": \"ordinal\"}, {\"field\": \"W\", \"title\": \"Total Wins\", \"type\": \"quantitative\"}, {\"field\": \"L\", \"title\": \"Losses\", \"type\": \"quantitative\"}, {\"field\": \"Result\", \"title\": \"Result\", \"type\": \"nominal\"}], \"x\": {\"field\": \"Year\", \"title\": \"Year\", \"type\": \"ordinal\"}, \"y\": {\"field\": \"Coach\", \"sort\": {\"field\": \"Year\", \"order\": \"descending\"}, \"title\": \"Coach\", \"type\": \"nominal\"}}, \"height\": 500, \"title\": \"Career Winning %\", \"width\": 1500, \"$schema\": \"https://vega.github.io/schema/vega-lite/v4.17.0.json\", \"datasets\": {\"data-98e99584d4c54f6cd344082bd9b408f7\": [{\"level_0\": 0, \"index\": 1, \"Year\": 2021.0, \"Coach\": \"Matt Nagy\", \"G\": 17, \"W\": 6.0, \"L\": 11.0, \"T\": 0.0, \"W-L%\": 0.353, \"G.1\": null, \"W.1\": null, \"L.1\": null, \"Result\": null, \"Offense\": \"Bill Lazor\", \"Defense\": \"Sean Desai\", \"year_max\": 2021.0, \"year_min\": 2021.0, \"Made Playoffs\": false}, {\"level_0\": 1, \"index\": 2, \"Year\": 2020.0, \"Coach\": \"Matt Nagy\", \"G\": 16, \"W\": 8.0, \"L\": 8.0, \"T\": 0.0, \"W-L%\": 0.5, \"G.1\": 1.0, \"W.1\": 0.0, \"L.1\": 1.0, \"Result\": \"Lost WC\", \"Offense\": \"Bill Lazor\", \"Defense\": \"Chuck Pagano\", \"year_max\": 2020.0, \"year_min\": 2020.0, \"Made Playoffs\": true}, {\"level_0\": 2, \"index\": 3, \"Year\": 2019.0, \"Coach\": \"Matt Nagy\", \"G\": 16, \"W\": 8.0, \"L\": 8.0, \"T\": 0.0, \"W-L%\": 0.5, \"G.1\": null, \"W.1\": null, \"L.1\": null, \"Result\": null, \"Offense\": \"Mark Helfrich\", \"Defense\": \"Chuck Pagano\", \"year_max\": 2019.0, \"year_min\": 2019.0, \"Made Playoffs\": false}, {\"level_0\": 3, \"index\": 4, \"Year\": 2018.0, \"Coach\": \"Matt Nagy\", \"G\": 16, \"W\": 12.0, \"L\": 4.0, \"T\": 0.0, \"W-L%\": 0.75, \"G.1\": 1.0, \"W.1\": 0.0, \"L.1\": 1.0, \"Result\": \"Lost WC\", \"Offense\": \"Mark Helfrich\", \"Defense\": \"Vic Fangio\", \"year_max\": 2018.0, \"year_min\": 2018.0, \"Made Playoffs\": true}, {\"level_0\": 4, \"index\": 5, \"Year\": 2017.0, \"Coach\": \"John Fox\", \"G\": 16, \"W\": 5.0, \"L\": 11.0, \"T\": 0.0, \"W-L%\": 0.313, \"G.1\": null, \"W.1\": null, \"L.1\": null, \"Result\": null, \"Offense\": \"Dowell Loggains\", \"Defense\": \"Vic Fangio\", \"year_max\": 2017.0, \"year_min\": 2017.0, \"Made Playoffs\": false}, {\"level_0\": 5, \"index\": 6, \"Year\": 2016.0, \"Coach\": \"John Fox\", \"G\": 16, \"W\": 3.0, \"L\": 13.0, \"T\": 0.0, \"W-L%\": 0.188, \"G.1\": null, \"W.1\": null, \"L.1\": null, \"Result\": null, \"Offense\": \"Dowell Loggains\", \"Defense\": \"Vic Fangio\", \"year_max\": 2016.0, \"year_min\": 2016.0, \"Made Playoffs\": false}, {\"level_0\": 6, \"index\": 7, \"Year\": 2015.0, \"Coach\": \"John Fox\", \"G\": 16, \"W\": 6.0, \"L\": 10.0, \"T\": 0.0, \"W-L%\": 0.375, \"G.1\": null, \"W.1\": null, \"L.1\": null, \"Result\": null, \"Offense\": \"Adam Gase\", \"Defense\": \"Vic Fangio\", \"year_max\": 2015.0, \"year_min\": 2015.0, \"Made Playoffs\": false}, {\"level_0\": 7, \"index\": 8, \"Year\": 2014.0, \"Coach\": \"Marc Trestman\", \"G\": 16, \"W\": 5.0, \"L\": 11.0, \"T\": 0.0, \"W-L%\": 0.313, \"G.1\": 0.0, \"W.1\": 0.0, \"L.1\": 0.0, \"Result\": null, \"Offense\": \"Aaron Kromer\", \"Defense\": \"Mel Tucker\", \"year_max\": 2014.0, \"year_min\": 2014.0, \"Made Playoffs\": false}, {\"level_0\": 8, \"index\": 9, \"Year\": 2013.0, \"Coach\": \"Marc Trestman\", \"G\": 16, \"W\": 8.0, \"L\": 8.0, \"T\": 0.0, \"W-L%\": 0.5, \"G.1\": 0.0, \"W.1\": 0.0, \"L.1\": 0.0, \"Result\": null, \"Offense\": \"Aaron Kromer\", \"Defense\": \"Mel Tucker\", \"year_max\": 2013.0, \"year_min\": 2013.0, \"Made Playoffs\": false}, {\"level_0\": 9, \"index\": 10, \"Year\": 2012.0, \"Coach\": \"Lovie Smith\", \"G\": 16, \"W\": 10.0, \"L\": 6.0, \"T\": 0.0, \"W-L%\": 0.625, \"G.1\": 0.0, \"W.1\": 0.0, \"L.1\": 0.0, \"Result\": null, \"Offense\": \"Mike Tice\", \"Defense\": \"Rod Marinelli\", \"year_max\": 2012.0, \"year_min\": 2012.0, \"Made Playoffs\": false}, {\"level_0\": 10, \"index\": 11, \"Year\": 2011.0, \"Coach\": \"Lovie Smith\", \"G\": 16, \"W\": 8.0, \"L\": 8.0, \"T\": 0.0, \"W-L%\": 0.5, \"G.1\": 0.0, \"W.1\": 0.0, \"L.1\": 0.0, \"Result\": null, \"Offense\": \"Mike Martz\", \"Defense\": \"Rod Marinelli\", \"year_max\": 2011.0, \"year_min\": 2011.0, \"Made Playoffs\": false}, {\"level_0\": 11, \"index\": 12, \"Year\": 2010.0, \"Coach\": \"Lovie Smith\", \"G\": 16, \"W\": 11.0, \"L\": 5.0, \"T\": 0.0, \"W-L%\": 0.688, \"G.1\": 2.0, \"W.1\": 1.0, \"L.1\": 1.0, \"Result\": \"Lost Conf\", \"Offense\": \"Mike Martz\", \"Defense\": \"Rod Marinelli\", \"year_max\": 2010.0, \"year_min\": 2010.0, \"Made Playoffs\": true}, {\"level_0\": 12, \"index\": 13, \"Year\": 2009.0, \"Coach\": \"Lovie Smith\", \"G\": 16, \"W\": 7.0, \"L\": 9.0, \"T\": 0.0, \"W-L%\": 0.438, \"G.1\": 0.0, \"W.1\": 0.0, \"L.1\": 0.0, \"Result\": null, \"Offense\": \"Ron Turner\", \"Defense\": \"Bob Babich\", \"year_max\": 2009.0, \"year_min\": 2009.0, \"Made Playoffs\": false}, {\"level_0\": 13, \"index\": 14, \"Year\": 2008.0, \"Coach\": \"Lovie Smith\", \"G\": 16, \"W\": 9.0, \"L\": 7.0, \"T\": 0.0, \"W-L%\": 0.563, \"G.1\": 0.0, \"W.1\": 0.0, \"L.1\": 0.0, \"Result\": null, \"Offense\": \"Ron Turner\", \"Defense\": \"Bob Babich\", \"year_max\": 2008.0, \"year_min\": 2008.0, \"Made Playoffs\": false}, {\"level_0\": 14, \"index\": 15, \"Year\": 2007.0, \"Coach\": \"Lovie Smith\", \"G\": 16, \"W\": 7.0, \"L\": 9.0, \"T\": 0.0, \"W-L%\": 0.438, \"G.1\": 0.0, \"W.1\": 0.0, \"L.1\": 0.0, \"Result\": null, \"Offense\": \"Ron Turner\", \"Defense\": \"Bob Babich\", \"year_max\": 2007.0, \"year_min\": 2007.0, \"Made Playoffs\": false}, {\"level_0\": 15, \"index\": 16, \"Year\": 2006.0, \"Coach\": \"Lovie Smith\", \"G\": 16, \"W\": 13.0, \"L\": 3.0, \"T\": 0.0, \"W-L%\": 0.813, \"G.1\": 3.0, \"W.1\": 2.0, \"L.1\": 1.0, \"Result\": \"Lost SB\", \"Offense\": \"Ron Turner\", \"Defense\": \"Ron Rivera\", \"year_max\": 2006.0, \"year_min\": 2006.0, \"Made Playoffs\": true}, {\"level_0\": 16, \"index\": 17, \"Year\": 2005.0, \"Coach\": \"Lovie Smith\", \"G\": 16, \"W\": 11.0, \"L\": 5.0, \"T\": 0.0, \"W-L%\": 0.688, \"G.1\": 1.0, \"W.1\": 0.0, \"L.1\": 1.0, \"Result\": \"Lost Div\", \"Offense\": \"Ron Turner\", \"Defense\": \"Ron Rivera\", \"year_max\": 2005.0, \"year_min\": 2005.0, \"Made Playoffs\": true}, {\"level_0\": 17, \"index\": 18, \"Year\": 2004.0, \"Coach\": \"Lovie Smith\", \"G\": 16, \"W\": 5.0, \"L\": 11.0, \"T\": 0.0, \"W-L%\": 0.313, \"G.1\": 0.0, \"W.1\": 0.0, \"L.1\": 0.0, \"Result\": null, \"Offense\": \"Terry Shea\", \"Defense\": \"Ron Rivera\", \"year_max\": 2004.0, \"year_min\": 2004.0, \"Made Playoffs\": false}, {\"level_0\": 18, \"index\": 19, \"Year\": 2003.0, \"Coach\": \"Dick Jauron\", \"G\": 16, \"W\": 7.0, \"L\": 9.0, \"T\": 0.0, \"W-L%\": 0.438, \"G.1\": 0.0, \"W.1\": 0.0, \"L.1\": 0.0, \"Result\": null, \"Offense\": \"John Shoop\", \"Defense\": \"Greg Blache\", \"year_max\": 2003.0, \"year_min\": 2003.0, \"Made Playoffs\": false}, {\"level_0\": 19, \"index\": 20, \"Year\": 2002.0, \"Coach\": \"Dick Jauron\", \"G\": 16, \"W\": 4.0, \"L\": 12.0, \"T\": 0.0, \"W-L%\": 0.25, \"G.1\": 0.0, \"W.1\": 0.0, \"L.1\": 0.0, \"Result\": null, \"Offense\": \"John Shoop\", \"Defense\": \"Greg Blache\", \"year_max\": 2002.0, \"year_min\": 2002.0, \"Made Playoffs\": false}, {\"level_0\": 20, \"index\": 21, \"Year\": 2001.0, \"Coach\": \"Dick Jauron\", \"G\": 16, \"W\": 13.0, \"L\": 3.0, \"T\": 0.0, \"W-L%\": 0.813, \"G.1\": 1.0, \"W.1\": 0.0, \"L.1\": 1.0, \"Result\": \"Lost Div\", \"Offense\": \"John Shoop\", \"Defense\": \"Greg Blache\", \"year_max\": 2001.0, \"year_min\": 2001.0, \"Made Playoffs\": true}, {\"level_0\": 21, \"index\": 22, \"Year\": 2000.0, \"Coach\": \"Dick Jauron\", \"G\": 16, \"W\": 5.0, \"L\": 11.0, \"T\": 0.0, \"W-L%\": 0.313, \"G.1\": 0.0, \"W.1\": 0.0, \"L.1\": 0.0, \"Result\": null, \"Offense\": \"Gary Crowton\", \"Defense\": \"Greg Blache\", \"year_max\": 2000.0, \"year_min\": 2000.0, \"Made Playoffs\": false}, {\"level_0\": 22, \"index\": 23, \"Year\": 1999.0, \"Coach\": \"Dick Jauron\", \"G\": 16, \"W\": 6.0, \"L\": 10.0, \"T\": 0.0, \"W-L%\": 0.375, \"G.1\": 0.0, \"W.1\": 0.0, \"L.1\": 0.0, \"Result\": null, \"Offense\": \"Gary Crowton\", \"Defense\": \"Greg Blache\", \"year_max\": 1999.0, \"year_min\": 1999.0, \"Made Playoffs\": false}, {\"level_0\": 23, \"index\": 24, \"Year\": 1998.0, \"Coach\": \"Dave Wannstedt\", \"G\": 16, \"W\": 4.0, \"L\": 12.0, \"T\": 0.0, \"W-L%\": 0.25, \"G.1\": 0.0, \"W.1\": 0.0, \"L.1\": 0.0, \"Result\": null, \"Offense\": \"Matt Cavanaugh\", \"Defense\": \"Bob Slowik\", \"year_max\": 1998.0, \"year_min\": 1998.0, \"Made Playoffs\": false}, {\"level_0\": 24, \"index\": 25, \"Year\": 1997.0, \"Coach\": \"Dave Wannstedt\", \"G\": 16, \"W\": 4.0, \"L\": 12.0, \"T\": 0.0, \"W-L%\": 0.25, \"G.1\": 0.0, \"W.1\": 0.0, \"L.1\": 0.0, \"Result\": null, \"Offense\": \"Matt Cavanaugh\", \"Defense\": \"Bob Slowik\", \"year_max\": 1997.0, \"year_min\": 1997.0, \"Made Playoffs\": false}, {\"level_0\": 25, \"index\": 26, \"Year\": 1996.0, \"Coach\": \"Dave Wannstedt\", \"G\": 16, \"W\": 7.0, \"L\": 9.0, \"T\": 0.0, \"W-L%\": 0.438, \"G.1\": 0.0, \"W.1\": 0.0, \"L.1\": 0.0, \"Result\": null, \"Offense\": \"Ron Turner\", \"Defense\": \"Bob Slowik\", \"year_max\": 1996.0, \"year_min\": 1996.0, \"Made Playoffs\": false}, {\"level_0\": 26, \"index\": 27, \"Year\": 1995.0, \"Coach\": \"Dave Wannstedt\", \"G\": 16, \"W\": 9.0, \"L\": 7.0, \"T\": 0.0, \"W-L%\": 0.563, \"G.1\": 0.0, \"W.1\": 0.0, \"L.1\": 0.0, \"Result\": null, \"Offense\": \"Ron Turner\", \"Defense\": \"Bob Slowik\", \"year_max\": 1995.0, \"year_min\": 1995.0, \"Made Playoffs\": false}, {\"level_0\": 27, \"index\": 28, \"Year\": 1994.0, \"Coach\": \"Dave Wannstedt\", \"G\": 16, \"W\": 9.0, \"L\": 7.0, \"T\": 0.0, \"W-L%\": 0.563, \"G.1\": 2.0, \"W.1\": 1.0, \"L.1\": 1.0, \"Result\": \"Lost Div\", \"Offense\": \"Ron Turner\", \"Defense\": \"Bob Slowik\", \"year_max\": 1994.0, \"year_min\": 1994.0, \"Made Playoffs\": true}, {\"level_0\": 28, \"index\": 29, \"Year\": 1993.0, \"Coach\": \"Dave Wannstedt\", \"G\": 16, \"W\": 7.0, \"L\": 9.0, \"T\": 0.0, \"W-L%\": 0.438, \"G.1\": 0.0, \"W.1\": 0.0, \"L.1\": 0.0, \"Result\": null, \"Offense\": \"Ron Turner\", \"Defense\": \"Bob Slowik\", \"year_max\": 1993.0, \"year_min\": 1993.0, \"Made Playoffs\": false}, {\"level_0\": 29, \"index\": 30, \"Year\": 1992.0, \"Coach\": \"Mike Ditka\", \"G\": 16, \"W\": 5.0, \"L\": 11.0, \"T\": 0.0, \"W-L%\": 0.313, \"G.1\": 0.0, \"W.1\": 0.0, \"L.1\": 0.0, \"Result\": null, \"Offense\": \"Greg Landry\", \"Defense\": \"Vince Tobin\", \"year_max\": 1992.0, \"year_min\": 1992.0, \"Made Playoffs\": false}, {\"level_0\": 30, \"index\": 31, \"Year\": 1991.0, \"Coach\": \"Mike Ditka\", \"G\": 16, \"W\": 11.0, \"L\": 5.0, \"T\": 0.0, \"W-L%\": 0.688, \"G.1\": 1.0, \"W.1\": 0.0, \"L.1\": 1.0, \"Result\": \"Lost WC\", \"Offense\": \"Greg Landry\", \"Defense\": \"Vince Tobin\", \"year_max\": 1991.0, \"year_min\": 1991.0, \"Made Playoffs\": true}, {\"level_0\": 31, \"index\": 32, \"Year\": 1990.0, \"Coach\": \"Mike Ditka\", \"G\": 16, \"W\": 11.0, \"L\": 5.0, \"T\": 0.0, \"W-L%\": 0.688, \"G.1\": 2.0, \"W.1\": 1.0, \"L.1\": 1.0, \"Result\": \"Lost Div\", \"Offense\": \"Greg Landry\", \"Defense\": \"Vince Tobin\", \"year_max\": 1990.0, \"year_min\": 1990.0, \"Made Playoffs\": true}, {\"level_0\": 32, \"index\": 33, \"Year\": 1989.0, \"Coach\": \"Mike Ditka\", \"G\": 16, \"W\": 6.0, \"L\": 10.0, \"T\": 0.0, \"W-L%\": 0.375, \"G.1\": 0.0, \"W.1\": 0.0, \"L.1\": 0.0, \"Result\": null, \"Offense\": \"Greg Landry\", \"Defense\": \"Vince Tobin\", \"year_max\": 1989.0, \"year_min\": 1989.0, \"Made Playoffs\": false}, {\"level_0\": 33, \"index\": 34, \"Year\": 1988.0, \"Coach\": \"Mike Ditka\", \"G\": 16, \"W\": 12.0, \"L\": 4.0, \"T\": 0.0, \"W-L%\": 0.75, \"G.1\": 2.0, \"W.1\": 1.0, \"L.1\": 1.0, \"Result\": \"Lost Conf\", \"Offense\": \"Ed Hughes\", \"Defense\": \"Vince Tobin\", \"year_max\": 1988.0, \"year_min\": 1988.0, \"Made Playoffs\": true}, {\"level_0\": 34, \"index\": 35, \"Year\": 1987.0, \"Coach\": \"Mike Ditka\", \"G\": 15, \"W\": 11.0, \"L\": 4.0, \"T\": 0.0, \"W-L%\": 0.733, \"G.1\": 1.0, \"W.1\": 0.0, \"L.1\": 1.0, \"Result\": \"Lost Div\", \"Offense\": \"Ed Hughes\", \"Defense\": \"Vince Tobin\", \"year_max\": 1987.0, \"year_min\": 1987.0, \"Made Playoffs\": true}, {\"level_0\": 35, \"index\": 36, \"Year\": 1986.0, \"Coach\": \"Mike Ditka\", \"G\": 16, \"W\": 14.0, \"L\": 2.0, \"T\": 0.0, \"W-L%\": 0.875, \"G.1\": 1.0, \"W.1\": 0.0, \"L.1\": 1.0, \"Result\": \"Lost Div\", \"Offense\": \"Ed Hughes\", \"Defense\": \"Vince Tobin\", \"year_max\": 1986.0, \"year_min\": 1986.0, \"Made Playoffs\": true}, {\"level_0\": 36, \"index\": 37, \"Year\": 1985.0, \"Coach\": \"Mike Ditka\", \"G\": 16, \"W\": 15.0, \"L\": 1.0, \"T\": 0.0, \"W-L%\": 0.938, \"G.1\": 3.0, \"W.1\": 3.0, \"L.1\": 0.0, \"Result\": \"Won SB\", \"Offense\": \"Ed Hughes\", \"Defense\": \"Buddy Ryan\", \"year_max\": 1985.0, \"year_min\": 1985.0, \"Made Playoffs\": true}, {\"level_0\": 37, \"index\": 38, \"Year\": 1984.0, \"Coach\": \"Mike Ditka\", \"G\": 16, \"W\": 10.0, \"L\": 6.0, \"T\": 0.0, \"W-L%\": 0.625, \"G.1\": 2.0, \"W.1\": 1.0, \"L.1\": 1.0, \"Result\": \"Lost Conf\", \"Offense\": \"Ed Hughes\", \"Defense\": \"Buddy Ryan\", \"year_max\": 1984.0, \"year_min\": 1984.0, \"Made Playoffs\": true}, {\"level_0\": 38, \"index\": 39, \"Year\": 1983.0, \"Coach\": \"Mike Ditka\", \"G\": 16, \"W\": 8.0, \"L\": 8.0, \"T\": 0.0, \"W-L%\": 0.5, \"G.1\": 0.0, \"W.1\": 0.0, \"L.1\": 0.0, \"Result\": null, \"Offense\": \"Ed Hughes\", \"Defense\": \"Buddy Ryan\", \"year_max\": 1983.0, \"year_min\": 1983.0, \"Made Playoffs\": false}, {\"level_0\": 39, \"index\": 40, \"Year\": 1982.0, \"Coach\": \"Mike Ditka\", \"G\": 9, \"W\": 3.0, \"L\": 6.0, \"T\": 0.0, \"W-L%\": 0.333, \"G.1\": 0.0, \"W.1\": 0.0, \"L.1\": 0.0, \"Result\": null, \"Offense\": \"Ed Hughes\", \"Defense\": \"Buddy Ryan\", \"year_max\": 1982.0, \"year_min\": 1982.0, \"Made Playoffs\": false}, {\"level_0\": 40, \"index\": 41, \"Year\": 1981.0, \"Coach\": \"Neill Armstrong\", \"G\": 16, \"W\": 6.0, \"L\": 10.0, \"T\": 0.0, \"W-L%\": 0.375, \"G.1\": 0.0, \"W.1\": 0.0, \"L.1\": 0.0, \"Result\": null, \"Offense\": \"Ted Marchibroda\", \"Defense\": \"Buddy Ryan\", \"year_max\": 1981.0, \"year_min\": 1981.0, \"Made Playoffs\": false}, {\"level_0\": 41, \"index\": 42, \"Year\": 1980.0, \"Coach\": \"Neill Armstrong\", \"G\": 16, \"W\": 7.0, \"L\": 9.0, \"T\": 0.0, \"W-L%\": 0.438, \"G.1\": 0.0, \"W.1\": 0.0, \"L.1\": 0.0, \"Result\": null, \"Offense\": \"Ken Meyer\", \"Defense\": \"Buddy Ryan\", \"year_max\": 1980.0, \"year_min\": 1980.0, \"Made Playoffs\": false}, {\"level_0\": 42, \"index\": 43, \"Year\": 1979.0, \"Coach\": \"Neill Armstrong\", \"G\": 16, \"W\": 10.0, \"L\": 6.0, \"T\": 0.0, \"W-L%\": 0.625, \"G.1\": 1.0, \"W.1\": 0.0, \"L.1\": 1.0, \"Result\": \"Lost WC\", \"Offense\": \"Ken Meyer\", \"Defense\": \"Buddy Ryan\", \"year_max\": 1979.0, \"year_min\": 1979.0, \"Made Playoffs\": true}, {\"level_0\": 43, \"index\": 44, \"Year\": 1978.0, \"Coach\": \"Neill Armstrong\", \"G\": 16, \"W\": 7.0, \"L\": 9.0, \"T\": 0.0, \"W-L%\": 0.438, \"G.1\": 0.0, \"W.1\": 0.0, \"L.1\": 0.0, \"Result\": null, \"Offense\": \"Ken Meyer\", \"Defense\": \"Buddy Ryan\", \"year_max\": 1978.0, \"year_min\": 1978.0, \"Made Playoffs\": false}, {\"level_0\": 44, \"index\": 45, \"Year\": 1977.0, \"Coach\": \"Jack Pardee\", \"G\": 14, \"W\": 9.0, \"L\": 5.0, \"T\": 0.0, \"W-L%\": 0.643, \"G.1\": 1.0, \"W.1\": 0.0, \"L.1\": 1.0, \"Result\": \"Lost Div\", \"Offense\": \"Sid Gillman\", \"Defense\": null, \"year_max\": 1977.0, \"year_min\": 1977.0, \"Made Playoffs\": true}, {\"level_0\": 45, \"index\": 46, \"Year\": 1976.0, \"Coach\": \"Jack Pardee\", \"G\": 14, \"W\": 7.0, \"L\": 7.0, \"T\": 0.0, \"W-L%\": 0.5, \"G.1\": 0.0, \"W.1\": 0.0, \"L.1\": 0.0, \"Result\": null, \"Offense\": null, \"Defense\": null, \"year_max\": 1976.0, \"year_min\": 1976.0, \"Made Playoffs\": false}, {\"level_0\": 46, \"index\": 47, \"Year\": 1975.0, \"Coach\": \"Jack Pardee\", \"G\": 14, \"W\": 4.0, \"L\": 10.0, \"T\": 0.0, \"W-L%\": 0.286, \"G.1\": 0.0, \"W.1\": 0.0, \"L.1\": 0.0, \"Result\": null, \"Offense\": null, \"Defense\": null, \"year_max\": 1975.0, \"year_min\": 1975.0, \"Made Playoffs\": false}, {\"level_0\": 47, \"index\": 48, \"Year\": 1974.0, \"Coach\": \"Abe Gibron\", \"G\": 14, \"W\": 4.0, \"L\": 10.0, \"T\": 0.0, \"W-L%\": 0.286, \"G.1\": 0.0, \"W.1\": 0.0, \"L.1\": 0.0, \"Result\": null, \"Offense\": null, \"Defense\": null, \"year_max\": 1974.0, \"year_min\": 1974.0, \"Made Playoffs\": false}, {\"level_0\": 48, \"index\": 49, \"Year\": 1973.0, \"Coach\": \"Abe Gibron\", \"G\": 14, \"W\": 3.0, \"L\": 11.0, \"T\": 0.0, \"W-L%\": 0.214, \"G.1\": 0.0, \"W.1\": 0.0, \"L.1\": 0.0, \"Result\": null, \"Offense\": null, \"Defense\": null, \"year_max\": 1973.0, \"year_min\": 1973.0, \"Made Playoffs\": false}, {\"level_0\": 49, \"index\": 50, \"Year\": 1972.0, \"Coach\": \"Abe Gibron\", \"G\": 14, \"W\": 4.0, \"L\": 9.0, \"T\": 1.0, \"W-L%\": 0.321, \"G.1\": 0.0, \"W.1\": 0.0, \"L.1\": 0.0, \"Result\": null, \"Offense\": null, \"Defense\": null, \"year_max\": 1972.0, \"year_min\": 1972.0, \"Made Playoffs\": false}, {\"level_0\": 50, \"index\": 51, \"Year\": 1971.0, \"Coach\": \"Jim Dooley\", \"G\": 14, \"W\": 6.0, \"L\": 8.0, \"T\": 0.0, \"W-L%\": 0.429, \"G.1\": 0.0, \"W.1\": 0.0, \"L.1\": 0.0, \"Result\": null, \"Offense\": \"Perry Moss\", \"Defense\": null, \"year_max\": 1971.0, \"year_min\": 1971.0, \"Made Playoffs\": false}, {\"level_0\": 51, \"index\": 52, \"Year\": 1970.0, \"Coach\": \"Jim Dooley\", \"G\": 14, \"W\": 6.0, \"L\": 8.0, \"T\": 0.0, \"W-L%\": 0.429, \"G.1\": 0.0, \"W.1\": 0.0, \"L.1\": 0.0, \"Result\": null, \"Offense\": \"Perry Moss\", \"Defense\": null, \"year_max\": 1970.0, \"year_min\": 1970.0, \"Made Playoffs\": false}, {\"level_0\": 52, \"index\": 53, \"Year\": 1969.0, \"Coach\": \"Jim Dooley\", \"G\": 14, \"W\": 1.0, \"L\": 13.0, \"T\": 0.0, \"W-L%\": 0.071, \"G.1\": 0.0, \"W.1\": 0.0, \"L.1\": 0.0, \"Result\": null, \"Offense\": null, \"Defense\": null, \"year_max\": 1969.0, \"year_min\": 1969.0, \"Made Playoffs\": false}, {\"level_0\": 53, \"index\": 54, \"Year\": 1968.0, \"Coach\": \"Jim Dooley\", \"G\": 14, \"W\": 7.0, \"L\": 7.0, \"T\": 0.0, \"W-L%\": 0.5, \"G.1\": 0.0, \"W.1\": 0.0, \"L.1\": 0.0, \"Result\": null, \"Offense\": null, \"Defense\": null, \"year_max\": 1968.0, \"year_min\": 1968.0, \"Made Playoffs\": false}, {\"level_0\": 54, \"index\": 55, \"Year\": 1967.0, \"Coach\": \"George Halas\", \"G\": 14, \"W\": 7.0, \"L\": 6.0, \"T\": 1.0, \"W-L%\": 0.538, \"G.1\": 0.0, \"W.1\": 0.0, \"L.1\": 0.0, \"Result\": null, \"Offense\": null, \"Defense\": \"Jim Dooley\", \"year_max\": 1967.0, \"year_min\": 1967.0, \"Made Playoffs\": false}, {\"level_0\": 55, \"index\": 56, \"Year\": 1966.0, \"Coach\": \"George Halas\", \"G\": 14, \"W\": 5.0, \"L\": 7.0, \"T\": 2.0, \"W-L%\": 0.417, \"G.1\": 0.0, \"W.1\": 0.0, \"L.1\": 0.0, \"Result\": null, \"Offense\": null, \"Defense\": \"Jim Dooley\", \"year_max\": 1966.0, \"year_min\": 1966.0, \"Made Playoffs\": false}, {\"level_0\": 56, \"index\": 57, \"Year\": 1965.0, \"Coach\": \"George Halas\", \"G\": 14, \"W\": 9.0, \"L\": 5.0, \"T\": 0.0, \"W-L%\": 0.643, \"G.1\": 0.0, \"W.1\": 0.0, \"L.1\": 0.0, \"Result\": null, \"Offense\": null, \"Defense\": \"George Allen\", \"year_max\": 1965.0, \"year_min\": 1965.0, \"Made Playoffs\": false}, {\"level_0\": 57, \"index\": 58, \"Year\": 1964.0, \"Coach\": \"George Halas\", \"G\": 14, \"W\": 5.0, \"L\": 9.0, \"T\": 0.0, \"W-L%\": 0.357, \"G.1\": 0.0, \"W.1\": 0.0, \"L.1\": 0.0, \"Result\": null, \"Offense\": null, \"Defense\": \"George Allen\", \"year_max\": 1964.0, \"year_min\": 1964.0, \"Made Playoffs\": false}, {\"level_0\": 58, \"index\": 59, \"Year\": 1963.0, \"Coach\": \"George Halas\", \"G\": 14, \"W\": 11.0, \"L\": 1.0, \"T\": 2.0, \"W-L%\": 0.917, \"G.1\": 1.0, \"W.1\": 1.0, \"L.1\": 0.0, \"Result\": \"Won Champ\", \"Offense\": null, \"Defense\": null, \"year_max\": 1963.0, \"year_min\": 1963.0, \"Made Playoffs\": true}, {\"level_0\": 59, \"index\": 60, \"Year\": 1962.0, \"Coach\": \"George Halas\", \"G\": 14, \"W\": 9.0, \"L\": 5.0, \"T\": 0.0, \"W-L%\": 0.643, \"G.1\": 0.0, \"W.1\": 0.0, \"L.1\": 0.0, \"Result\": null, \"Offense\": null, \"Defense\": \"Clark Shaughnessy\", \"year_max\": 1962.0, \"year_min\": 1962.0, \"Made Playoffs\": false}, {\"level_0\": 60, \"index\": 61, \"Year\": 1961.0, \"Coach\": \"George Halas\", \"G\": 14, \"W\": 8.0, \"L\": 6.0, \"T\": 0.0, \"W-L%\": 0.571, \"G.1\": 0.0, \"W.1\": 0.0, \"L.1\": 0.0, \"Result\": null, \"Offense\": null, \"Defense\": \"Clark Shaughnessy\", \"year_max\": 1961.0, \"year_min\": 1961.0, \"Made Playoffs\": false}, {\"level_0\": 61, \"index\": 62, \"Year\": 1960.0, \"Coach\": \"George Halas\", \"G\": 12, \"W\": 5.0, \"L\": 6.0, \"T\": 1.0, \"W-L%\": 0.455, \"G.1\": 0.0, \"W.1\": 0.0, \"L.1\": 0.0, \"Result\": null, \"Offense\": null, \"Defense\": \"Clark Shaughnessy\", \"year_max\": 1960.0, \"year_min\": 1960.0, \"Made Playoffs\": false}, {\"level_0\": 62, \"index\": 63, \"Year\": 1959.0, \"Coach\": \"George Halas\", \"G\": 12, \"W\": 8.0, \"L\": 4.0, \"T\": 0.0, \"W-L%\": 0.667, \"G.1\": 0.0, \"W.1\": 0.0, \"L.1\": 0.0, \"Result\": null, \"Offense\": null, \"Defense\": \"Clark Shaughnessy\", \"year_max\": 1959.0, \"year_min\": 1959.0, \"Made Playoffs\": false}, {\"level_0\": 63, \"index\": 64, \"Year\": 1958.0, \"Coach\": \"George Halas\", \"G\": 12, \"W\": 8.0, \"L\": 4.0, \"T\": 0.0, \"W-L%\": 0.667, \"G.1\": 0.0, \"W.1\": 0.0, \"L.1\": 0.0, \"Result\": null, \"Offense\": null, \"Defense\": null, \"year_max\": 1958.0, \"year_min\": 1958.0, \"Made Playoffs\": false}, {\"level_0\": 64, \"index\": 65, \"Year\": 1957.0, \"Coach\": \"Paddy Driscoll\", \"G\": 12, \"W\": 5.0, \"L\": 7.0, \"T\": 0.0, \"W-L%\": 0.417, \"G.1\": 0.0, \"W.1\": 0.0, \"L.1\": 0.0, \"Result\": null, \"Offense\": null, \"Defense\": null, \"year_max\": 1957.0, \"year_min\": 1957.0, \"Made Playoffs\": false}, {\"level_0\": 65, \"index\": 66, \"Year\": 1956.0, \"Coach\": \"Paddy Driscoll\", \"G\": 12, \"W\": 9.0, \"L\": 2.0, \"T\": 1.0, \"W-L%\": 0.818, \"G.1\": 1.0, \"W.1\": 0.0, \"L.1\": 1.0, \"Result\": \"Lost Champ\", \"Offense\": null, \"Defense\": null, \"year_max\": 1956.0, \"year_min\": 1956.0, \"Made Playoffs\": true}, {\"level_0\": 66, \"index\": 67, \"Year\": 1955.0, \"Coach\": \"George Halas\", \"G\": 12, \"W\": 8.0, \"L\": 4.0, \"T\": 0.0, \"W-L%\": 0.667, \"G.1\": 0.0, \"W.1\": 0.0, \"L.1\": 0.0, \"Result\": null, \"Offense\": null, \"Defense\": null, \"year_max\": 1955.0, \"year_min\": 1955.0, \"Made Playoffs\": false}, {\"level_0\": 67, \"index\": 68, \"Year\": 1954.0, \"Coach\": \"George Halas\", \"G\": 12, \"W\": 8.0, \"L\": 4.0, \"T\": 0.0, \"W-L%\": 0.667, \"G.1\": 0.0, \"W.1\": 0.0, \"L.1\": 0.0, \"Result\": null, \"Offense\": null, \"Defense\": null, \"year_max\": 1954.0, \"year_min\": 1954.0, \"Made Playoffs\": false}, {\"level_0\": 68, \"index\": 69, \"Year\": 1953.0, \"Coach\": \"George Halas\", \"G\": 12, \"W\": 3.0, \"L\": 8.0, \"T\": 1.0, \"W-L%\": 0.273, \"G.1\": 0.0, \"W.1\": 0.0, \"L.1\": 0.0, \"Result\": null, \"Offense\": null, \"Defense\": null, \"year_max\": 1953.0, \"year_min\": 1953.0, \"Made Playoffs\": false}, {\"level_0\": 69, \"index\": 70, \"Year\": 1952.0, \"Coach\": \"George Halas\", \"G\": 12, \"W\": 5.0, \"L\": 7.0, \"T\": 0.0, \"W-L%\": 0.417, \"G.1\": 0.0, \"W.1\": 0.0, \"L.1\": 0.0, \"Result\": null, \"Offense\": null, \"Defense\": null, \"year_max\": 1952.0, \"year_min\": 1952.0, \"Made Playoffs\": false}, {\"level_0\": 70, \"index\": 71, \"Year\": 1951.0, \"Coach\": \"George Halas\", \"G\": 12, \"W\": 7.0, \"L\": 5.0, \"T\": 0.0, \"W-L%\": 0.583, \"G.1\": 0.0, \"W.1\": 0.0, \"L.1\": 0.0, \"Result\": null, \"Offense\": null, \"Defense\": null, \"year_max\": 1951.0, \"year_min\": 1951.0, \"Made Playoffs\": false}]}}, {\"mode\": \"vega-lite\"});\n",
       "</script>"
      ],
      "text/plain": [
       "alt.Chart(...)"
      ]
     },
     "execution_count": 333,
     "metadata": {},
     "output_type": "execute_result"
    }
   ],
   "source": [
    "heat"
   ]
  },
  {
   "cell_type": "code",
   "execution_count": 314,
   "id": "19cb0f1c-fd32-4a69-9bea-391046405fda",
   "metadata": {},
   "outputs": [],
   "source": [
    "df_agg = df.groupby(\"Coach\", as_index=False).mean()\n",
    "chart_title2 = \"Career Winning %\"\n",
    "y2_cfgs = {\"shorthand\":\"Coach\", \"title\": \"Coach\"}\n",
    "x2_cfgs = {\"shorthand\":\"W-L%\", \"title\":\"Year\"}"
   ]
  },
  {
   "cell_type": "code",
   "execution_count": 334,
   "id": "03e36e4e-de16-4813-9e59-00ebe18223db",
   "metadata": {},
   "outputs": [],
   "source": [
    "bars = base\\\n",
    ".mark_bar(size=20, opacity=1, color=\"white\")\\\n",
    ".encode(\n",
    "    y=alt.Y(**y2_cfgs, sort=alt.EncodingSortField(field=\"W-L%\", order=\"descending\")),\n",
    "    x=alt.X(**x2_cfgs),\n",
    ").resolve_scale(y=\"independent\")\\\n",
    ".configure(background=primary_color)\\\n",
    ".configure_axis(gridColor=\"grey\", gridDash=[6,4])\\\n",
    ".configure_axisLeft(labelColor=secondary_color, titleColor=secondary_color, labelFontSize=15, titleFontSize=20)\\\n",
    ".configure_axisBottom(labelColor=secondary_color, titleColor=secondary_color,labelFontSize=15, titleFontSize=17)\\\n",
    ".configure_title(color=secondary_color, fontSize=25)\\\n",
    ".configure_legend(labelColor=secondary_color, titleColor=secondary_color, strokeColor='gray', fillColor=primary_color, padding=10,cornerRadius=10,orient='top-right', labelFontSize=15, titleFontSize=15)"
   ]
  },
  {
   "cell_type": "code",
   "execution_count": 335,
   "id": "f7ab8669-cc90-4f89-81c6-5e17ab1aa6c5",
   "metadata": {},
   "outputs": [
    {
     "data": {
      "text/html": [
       "\n",
       "<div id=\"altair-viz-02628009b3ad43b7a220c6eb1861aa09\"></div>\n",
       "<script type=\"text/javascript\">\n",
       "  var VEGA_DEBUG = (typeof VEGA_DEBUG == \"undefined\") ? {} : VEGA_DEBUG;\n",
       "  (function(spec, embedOpt){\n",
       "    let outputDiv = document.currentScript.previousElementSibling;\n",
       "    if (outputDiv.id !== \"altair-viz-02628009b3ad43b7a220c6eb1861aa09\") {\n",
       "      outputDiv = document.getElementById(\"altair-viz-02628009b3ad43b7a220c6eb1861aa09\");\n",
       "    }\n",
       "    const paths = {\n",
       "      \"vega\": \"https://cdn.jsdelivr.net/npm//vega@5?noext\",\n",
       "      \"vega-lib\": \"https://cdn.jsdelivr.net/npm//vega-lib?noext\",\n",
       "      \"vega-lite\": \"https://cdn.jsdelivr.net/npm//vega-lite@4.17.0?noext\",\n",
       "      \"vega-embed\": \"https://cdn.jsdelivr.net/npm//vega-embed@6?noext\",\n",
       "    };\n",
       "\n",
       "    function maybeLoadScript(lib, version) {\n",
       "      var key = `${lib.replace(\"-\", \"\")}_version`;\n",
       "      return (VEGA_DEBUG[key] == version) ?\n",
       "        Promise.resolve(paths[lib]) :\n",
       "        new Promise(function(resolve, reject) {\n",
       "          var s = document.createElement('script');\n",
       "          document.getElementsByTagName(\"head\")[0].appendChild(s);\n",
       "          s.async = true;\n",
       "          s.onload = () => {\n",
       "            VEGA_DEBUG[key] = version;\n",
       "            return resolve(paths[lib]);\n",
       "          };\n",
       "          s.onerror = () => reject(`Error loading script: ${paths[lib]}`);\n",
       "          s.src = paths[lib];\n",
       "        });\n",
       "    }\n",
       "\n",
       "    function showError(err) {\n",
       "      outputDiv.innerHTML = `<div class=\"error\" style=\"color:red;\">${err}</div>`;\n",
       "      throw err;\n",
       "    }\n",
       "\n",
       "    function displayChart(vegaEmbed) {\n",
       "      vegaEmbed(outputDiv, spec, embedOpt)\n",
       "        .catch(err => showError(`Javascript Error: ${err.message}<br>This usually means there's a typo in your chart specification. See the javascript console for the full traceback.`));\n",
       "    }\n",
       "\n",
       "    if(typeof define === \"function\" && define.amd) {\n",
       "      requirejs.config({paths});\n",
       "      require([\"vega-embed\"], displayChart, err => showError(`Error loading script: ${err.message}`));\n",
       "    } else {\n",
       "      maybeLoadScript(\"vega\", \"5\")\n",
       "        .then(() => maybeLoadScript(\"vega-lite\", \"4.17.0\"))\n",
       "        .then(() => maybeLoadScript(\"vega-embed\", \"6\"))\n",
       "        .catch(showError)\n",
       "        .then(() => displayChart(vegaEmbed));\n",
       "    }\n",
       "  })({\"config\": {\"view\": {\"continuousWidth\": 400, \"continuousHeight\": 300}, \"axis\": {\"gridColor\": \"grey\", \"gridDash\": [6, 4]}, \"axisBottom\": {\"labelColor\": \"#c83803\", \"labelFontSize\": 15, \"titleColor\": \"#c83803\", \"titleFontSize\": 17}, \"axisLeft\": {\"labelColor\": \"#c83803\", \"labelFontSize\": 15, \"titleColor\": \"#c83803\", \"titleFontSize\": 20}, \"background\": \"#0B162A\", \"legend\": {\"cornerRadius\": 10, \"fillColor\": \"#0B162A\", \"labelColor\": \"#c83803\", \"labelFontSize\": 15, \"orient\": \"top-right\", \"padding\": 10, \"strokeColor\": \"gray\", \"titleColor\": \"#c83803\", \"titleFontSize\": 15}, \"title\": {\"color\": \"#c83803\", \"fontSize\": 25}}, \"data\": {\"name\": \"data-98e99584d4c54f6cd344082bd9b408f7\"}, \"mark\": {\"type\": \"bar\", \"color\": \"white\", \"opacity\": 1, \"size\": 20}, \"encoding\": {\"x\": {\"field\": \"W-L%\", \"title\": \"Year\", \"type\": \"quantitative\"}, \"y\": {\"field\": \"Coach\", \"sort\": {\"field\": \"W-L%\", \"order\": \"descending\"}, \"title\": \"Coach\", \"type\": \"nominal\"}}, \"height\": 500, \"resolve\": {\"scale\": {\"y\": \"independent\"}}, \"title\": \"Career Winning %\", \"width\": 1500, \"$schema\": \"https://vega.github.io/schema/vega-lite/v4.17.0.json\", \"datasets\": {\"data-98e99584d4c54f6cd344082bd9b408f7\": [{\"level_0\": 0, \"index\": 1, \"Year\": 2021.0, \"Coach\": \"Matt Nagy\", \"G\": 17, \"W\": 6.0, \"L\": 11.0, \"T\": 0.0, \"W-L%\": 0.353, \"G.1\": null, \"W.1\": null, \"L.1\": null, \"Result\": null, \"Offense\": \"Bill Lazor\", \"Defense\": \"Sean Desai\", \"year_max\": 2021.0, \"year_min\": 2021.0, \"Made Playoffs\": false}, {\"level_0\": 1, \"index\": 2, \"Year\": 2020.0, \"Coach\": \"Matt Nagy\", \"G\": 16, \"W\": 8.0, \"L\": 8.0, \"T\": 0.0, \"W-L%\": 0.5, \"G.1\": 1.0, \"W.1\": 0.0, \"L.1\": 1.0, \"Result\": \"Lost WC\", \"Offense\": \"Bill Lazor\", \"Defense\": \"Chuck Pagano\", \"year_max\": 2020.0, \"year_min\": 2020.0, \"Made Playoffs\": true}, {\"level_0\": 2, \"index\": 3, \"Year\": 2019.0, \"Coach\": \"Matt Nagy\", \"G\": 16, \"W\": 8.0, \"L\": 8.0, \"T\": 0.0, \"W-L%\": 0.5, \"G.1\": null, \"W.1\": null, \"L.1\": null, \"Result\": null, \"Offense\": \"Mark Helfrich\", \"Defense\": \"Chuck Pagano\", \"year_max\": 2019.0, \"year_min\": 2019.0, \"Made Playoffs\": false}, {\"level_0\": 3, \"index\": 4, \"Year\": 2018.0, \"Coach\": \"Matt Nagy\", \"G\": 16, \"W\": 12.0, \"L\": 4.0, \"T\": 0.0, \"W-L%\": 0.75, \"G.1\": 1.0, \"W.1\": 0.0, \"L.1\": 1.0, \"Result\": \"Lost WC\", \"Offense\": \"Mark Helfrich\", \"Defense\": \"Vic Fangio\", \"year_max\": 2018.0, \"year_min\": 2018.0, \"Made Playoffs\": true}, {\"level_0\": 4, \"index\": 5, \"Year\": 2017.0, \"Coach\": \"John Fox\", \"G\": 16, \"W\": 5.0, \"L\": 11.0, \"T\": 0.0, \"W-L%\": 0.313, \"G.1\": null, \"W.1\": null, \"L.1\": null, \"Result\": null, \"Offense\": \"Dowell Loggains\", \"Defense\": \"Vic Fangio\", \"year_max\": 2017.0, \"year_min\": 2017.0, \"Made Playoffs\": false}, {\"level_0\": 5, \"index\": 6, \"Year\": 2016.0, \"Coach\": \"John Fox\", \"G\": 16, \"W\": 3.0, \"L\": 13.0, \"T\": 0.0, \"W-L%\": 0.188, \"G.1\": null, \"W.1\": null, \"L.1\": null, \"Result\": null, \"Offense\": \"Dowell Loggains\", \"Defense\": \"Vic Fangio\", \"year_max\": 2016.0, \"year_min\": 2016.0, \"Made Playoffs\": false}, {\"level_0\": 6, \"index\": 7, \"Year\": 2015.0, \"Coach\": \"John Fox\", \"G\": 16, \"W\": 6.0, \"L\": 10.0, \"T\": 0.0, \"W-L%\": 0.375, \"G.1\": null, \"W.1\": null, \"L.1\": null, \"Result\": null, \"Offense\": \"Adam Gase\", \"Defense\": \"Vic Fangio\", \"year_max\": 2015.0, \"year_min\": 2015.0, \"Made Playoffs\": false}, {\"level_0\": 7, \"index\": 8, \"Year\": 2014.0, \"Coach\": \"Marc Trestman\", \"G\": 16, \"W\": 5.0, \"L\": 11.0, \"T\": 0.0, \"W-L%\": 0.313, \"G.1\": 0.0, \"W.1\": 0.0, \"L.1\": 0.0, \"Result\": null, \"Offense\": \"Aaron Kromer\", \"Defense\": \"Mel Tucker\", \"year_max\": 2014.0, \"year_min\": 2014.0, \"Made Playoffs\": false}, {\"level_0\": 8, \"index\": 9, \"Year\": 2013.0, \"Coach\": \"Marc Trestman\", \"G\": 16, \"W\": 8.0, \"L\": 8.0, \"T\": 0.0, \"W-L%\": 0.5, \"G.1\": 0.0, \"W.1\": 0.0, \"L.1\": 0.0, \"Result\": null, \"Offense\": \"Aaron Kromer\", \"Defense\": \"Mel Tucker\", \"year_max\": 2013.0, \"year_min\": 2013.0, \"Made Playoffs\": false}, {\"level_0\": 9, \"index\": 10, \"Year\": 2012.0, \"Coach\": \"Lovie Smith\", \"G\": 16, \"W\": 10.0, \"L\": 6.0, \"T\": 0.0, \"W-L%\": 0.625, \"G.1\": 0.0, \"W.1\": 0.0, \"L.1\": 0.0, \"Result\": null, \"Offense\": \"Mike Tice\", \"Defense\": \"Rod Marinelli\", \"year_max\": 2012.0, \"year_min\": 2012.0, \"Made Playoffs\": false}, {\"level_0\": 10, \"index\": 11, \"Year\": 2011.0, \"Coach\": \"Lovie Smith\", \"G\": 16, \"W\": 8.0, \"L\": 8.0, \"T\": 0.0, \"W-L%\": 0.5, \"G.1\": 0.0, \"W.1\": 0.0, \"L.1\": 0.0, \"Result\": null, \"Offense\": \"Mike Martz\", \"Defense\": \"Rod Marinelli\", \"year_max\": 2011.0, \"year_min\": 2011.0, \"Made Playoffs\": false}, {\"level_0\": 11, \"index\": 12, \"Year\": 2010.0, \"Coach\": \"Lovie Smith\", \"G\": 16, \"W\": 11.0, \"L\": 5.0, \"T\": 0.0, \"W-L%\": 0.688, \"G.1\": 2.0, \"W.1\": 1.0, \"L.1\": 1.0, \"Result\": \"Lost Conf\", \"Offense\": \"Mike Martz\", \"Defense\": \"Rod Marinelli\", \"year_max\": 2010.0, \"year_min\": 2010.0, \"Made Playoffs\": true}, {\"level_0\": 12, \"index\": 13, \"Year\": 2009.0, \"Coach\": \"Lovie Smith\", \"G\": 16, \"W\": 7.0, \"L\": 9.0, \"T\": 0.0, \"W-L%\": 0.438, \"G.1\": 0.0, \"W.1\": 0.0, \"L.1\": 0.0, \"Result\": null, \"Offense\": \"Ron Turner\", \"Defense\": \"Bob Babich\", \"year_max\": 2009.0, \"year_min\": 2009.0, \"Made Playoffs\": false}, {\"level_0\": 13, \"index\": 14, \"Year\": 2008.0, \"Coach\": \"Lovie Smith\", \"G\": 16, \"W\": 9.0, \"L\": 7.0, \"T\": 0.0, \"W-L%\": 0.563, \"G.1\": 0.0, \"W.1\": 0.0, \"L.1\": 0.0, \"Result\": null, \"Offense\": \"Ron Turner\", \"Defense\": \"Bob Babich\", \"year_max\": 2008.0, \"year_min\": 2008.0, \"Made Playoffs\": false}, {\"level_0\": 14, \"index\": 15, \"Year\": 2007.0, \"Coach\": \"Lovie Smith\", \"G\": 16, \"W\": 7.0, \"L\": 9.0, \"T\": 0.0, \"W-L%\": 0.438, \"G.1\": 0.0, \"W.1\": 0.0, \"L.1\": 0.0, \"Result\": null, \"Offense\": \"Ron Turner\", \"Defense\": \"Bob Babich\", \"year_max\": 2007.0, \"year_min\": 2007.0, \"Made Playoffs\": false}, {\"level_0\": 15, \"index\": 16, \"Year\": 2006.0, \"Coach\": \"Lovie Smith\", \"G\": 16, \"W\": 13.0, \"L\": 3.0, \"T\": 0.0, \"W-L%\": 0.813, \"G.1\": 3.0, \"W.1\": 2.0, \"L.1\": 1.0, \"Result\": \"Lost SB\", \"Offense\": \"Ron Turner\", \"Defense\": \"Ron Rivera\", \"year_max\": 2006.0, \"year_min\": 2006.0, \"Made Playoffs\": true}, {\"level_0\": 16, \"index\": 17, \"Year\": 2005.0, \"Coach\": \"Lovie Smith\", \"G\": 16, \"W\": 11.0, \"L\": 5.0, \"T\": 0.0, \"W-L%\": 0.688, \"G.1\": 1.0, \"W.1\": 0.0, \"L.1\": 1.0, \"Result\": \"Lost Div\", \"Offense\": \"Ron Turner\", \"Defense\": \"Ron Rivera\", \"year_max\": 2005.0, \"year_min\": 2005.0, \"Made Playoffs\": true}, {\"level_0\": 17, \"index\": 18, \"Year\": 2004.0, \"Coach\": \"Lovie Smith\", \"G\": 16, \"W\": 5.0, \"L\": 11.0, \"T\": 0.0, \"W-L%\": 0.313, \"G.1\": 0.0, \"W.1\": 0.0, \"L.1\": 0.0, \"Result\": null, \"Offense\": \"Terry Shea\", \"Defense\": \"Ron Rivera\", \"year_max\": 2004.0, \"year_min\": 2004.0, \"Made Playoffs\": false}, {\"level_0\": 18, \"index\": 19, \"Year\": 2003.0, \"Coach\": \"Dick Jauron\", \"G\": 16, \"W\": 7.0, \"L\": 9.0, \"T\": 0.0, \"W-L%\": 0.438, \"G.1\": 0.0, \"W.1\": 0.0, \"L.1\": 0.0, \"Result\": null, \"Offense\": \"John Shoop\", \"Defense\": \"Greg Blache\", \"year_max\": 2003.0, \"year_min\": 2003.0, \"Made Playoffs\": false}, {\"level_0\": 19, \"index\": 20, \"Year\": 2002.0, \"Coach\": \"Dick Jauron\", \"G\": 16, \"W\": 4.0, \"L\": 12.0, \"T\": 0.0, \"W-L%\": 0.25, \"G.1\": 0.0, \"W.1\": 0.0, \"L.1\": 0.0, \"Result\": null, \"Offense\": \"John Shoop\", \"Defense\": \"Greg Blache\", \"year_max\": 2002.0, \"year_min\": 2002.0, \"Made Playoffs\": false}, {\"level_0\": 20, \"index\": 21, \"Year\": 2001.0, \"Coach\": \"Dick Jauron\", \"G\": 16, \"W\": 13.0, \"L\": 3.0, \"T\": 0.0, \"W-L%\": 0.813, \"G.1\": 1.0, \"W.1\": 0.0, \"L.1\": 1.0, \"Result\": \"Lost Div\", \"Offense\": \"John Shoop\", \"Defense\": \"Greg Blache\", \"year_max\": 2001.0, \"year_min\": 2001.0, \"Made Playoffs\": true}, {\"level_0\": 21, \"index\": 22, \"Year\": 2000.0, \"Coach\": \"Dick Jauron\", \"G\": 16, \"W\": 5.0, \"L\": 11.0, \"T\": 0.0, \"W-L%\": 0.313, \"G.1\": 0.0, \"W.1\": 0.0, \"L.1\": 0.0, \"Result\": null, \"Offense\": \"Gary Crowton\", \"Defense\": \"Greg Blache\", \"year_max\": 2000.0, \"year_min\": 2000.0, \"Made Playoffs\": false}, {\"level_0\": 22, \"index\": 23, \"Year\": 1999.0, \"Coach\": \"Dick Jauron\", \"G\": 16, \"W\": 6.0, \"L\": 10.0, \"T\": 0.0, \"W-L%\": 0.375, \"G.1\": 0.0, \"W.1\": 0.0, \"L.1\": 0.0, \"Result\": null, \"Offense\": \"Gary Crowton\", \"Defense\": \"Greg Blache\", \"year_max\": 1999.0, \"year_min\": 1999.0, \"Made Playoffs\": false}, {\"level_0\": 23, \"index\": 24, \"Year\": 1998.0, \"Coach\": \"Dave Wannstedt\", \"G\": 16, \"W\": 4.0, \"L\": 12.0, \"T\": 0.0, \"W-L%\": 0.25, \"G.1\": 0.0, \"W.1\": 0.0, \"L.1\": 0.0, \"Result\": null, \"Offense\": \"Matt Cavanaugh\", \"Defense\": \"Bob Slowik\", \"year_max\": 1998.0, \"year_min\": 1998.0, \"Made Playoffs\": false}, {\"level_0\": 24, \"index\": 25, \"Year\": 1997.0, \"Coach\": \"Dave Wannstedt\", \"G\": 16, \"W\": 4.0, \"L\": 12.0, \"T\": 0.0, \"W-L%\": 0.25, \"G.1\": 0.0, \"W.1\": 0.0, \"L.1\": 0.0, \"Result\": null, \"Offense\": \"Matt Cavanaugh\", \"Defense\": \"Bob Slowik\", \"year_max\": 1997.0, \"year_min\": 1997.0, \"Made Playoffs\": false}, {\"level_0\": 25, \"index\": 26, \"Year\": 1996.0, \"Coach\": \"Dave Wannstedt\", \"G\": 16, \"W\": 7.0, \"L\": 9.0, \"T\": 0.0, \"W-L%\": 0.438, \"G.1\": 0.0, \"W.1\": 0.0, \"L.1\": 0.0, \"Result\": null, \"Offense\": \"Ron Turner\", \"Defense\": \"Bob Slowik\", \"year_max\": 1996.0, \"year_min\": 1996.0, \"Made Playoffs\": false}, {\"level_0\": 26, \"index\": 27, \"Year\": 1995.0, \"Coach\": \"Dave Wannstedt\", \"G\": 16, \"W\": 9.0, \"L\": 7.0, \"T\": 0.0, \"W-L%\": 0.563, \"G.1\": 0.0, \"W.1\": 0.0, \"L.1\": 0.0, \"Result\": null, \"Offense\": \"Ron Turner\", \"Defense\": \"Bob Slowik\", \"year_max\": 1995.0, \"year_min\": 1995.0, \"Made Playoffs\": false}, {\"level_0\": 27, \"index\": 28, \"Year\": 1994.0, \"Coach\": \"Dave Wannstedt\", \"G\": 16, \"W\": 9.0, \"L\": 7.0, \"T\": 0.0, \"W-L%\": 0.563, \"G.1\": 2.0, \"W.1\": 1.0, \"L.1\": 1.0, \"Result\": \"Lost Div\", \"Offense\": \"Ron Turner\", \"Defense\": \"Bob Slowik\", \"year_max\": 1994.0, \"year_min\": 1994.0, \"Made Playoffs\": true}, {\"level_0\": 28, \"index\": 29, \"Year\": 1993.0, \"Coach\": \"Dave Wannstedt\", \"G\": 16, \"W\": 7.0, \"L\": 9.0, \"T\": 0.0, \"W-L%\": 0.438, \"G.1\": 0.0, \"W.1\": 0.0, \"L.1\": 0.0, \"Result\": null, \"Offense\": \"Ron Turner\", \"Defense\": \"Bob Slowik\", \"year_max\": 1993.0, \"year_min\": 1993.0, \"Made Playoffs\": false}, {\"level_0\": 29, \"index\": 30, \"Year\": 1992.0, \"Coach\": \"Mike Ditka\", \"G\": 16, \"W\": 5.0, \"L\": 11.0, \"T\": 0.0, \"W-L%\": 0.313, \"G.1\": 0.0, \"W.1\": 0.0, \"L.1\": 0.0, \"Result\": null, \"Offense\": \"Greg Landry\", \"Defense\": \"Vince Tobin\", \"year_max\": 1992.0, \"year_min\": 1992.0, \"Made Playoffs\": false}, {\"level_0\": 30, \"index\": 31, \"Year\": 1991.0, \"Coach\": \"Mike Ditka\", \"G\": 16, \"W\": 11.0, \"L\": 5.0, \"T\": 0.0, \"W-L%\": 0.688, \"G.1\": 1.0, \"W.1\": 0.0, \"L.1\": 1.0, \"Result\": \"Lost WC\", \"Offense\": \"Greg Landry\", \"Defense\": \"Vince Tobin\", \"year_max\": 1991.0, \"year_min\": 1991.0, \"Made Playoffs\": true}, {\"level_0\": 31, \"index\": 32, \"Year\": 1990.0, \"Coach\": \"Mike Ditka\", \"G\": 16, \"W\": 11.0, \"L\": 5.0, \"T\": 0.0, \"W-L%\": 0.688, \"G.1\": 2.0, \"W.1\": 1.0, \"L.1\": 1.0, \"Result\": \"Lost Div\", \"Offense\": \"Greg Landry\", \"Defense\": \"Vince Tobin\", \"year_max\": 1990.0, \"year_min\": 1990.0, \"Made Playoffs\": true}, {\"level_0\": 32, \"index\": 33, \"Year\": 1989.0, \"Coach\": \"Mike Ditka\", \"G\": 16, \"W\": 6.0, \"L\": 10.0, \"T\": 0.0, \"W-L%\": 0.375, \"G.1\": 0.0, \"W.1\": 0.0, \"L.1\": 0.0, \"Result\": null, \"Offense\": \"Greg Landry\", \"Defense\": \"Vince Tobin\", \"year_max\": 1989.0, \"year_min\": 1989.0, \"Made Playoffs\": false}, {\"level_0\": 33, \"index\": 34, \"Year\": 1988.0, \"Coach\": \"Mike Ditka\", \"G\": 16, \"W\": 12.0, \"L\": 4.0, \"T\": 0.0, \"W-L%\": 0.75, \"G.1\": 2.0, \"W.1\": 1.0, \"L.1\": 1.0, \"Result\": \"Lost Conf\", \"Offense\": \"Ed Hughes\", \"Defense\": \"Vince Tobin\", \"year_max\": 1988.0, \"year_min\": 1988.0, \"Made Playoffs\": true}, {\"level_0\": 34, \"index\": 35, \"Year\": 1987.0, \"Coach\": \"Mike Ditka\", \"G\": 15, \"W\": 11.0, \"L\": 4.0, \"T\": 0.0, \"W-L%\": 0.733, \"G.1\": 1.0, \"W.1\": 0.0, \"L.1\": 1.0, \"Result\": \"Lost Div\", \"Offense\": \"Ed Hughes\", \"Defense\": \"Vince Tobin\", \"year_max\": 1987.0, \"year_min\": 1987.0, \"Made Playoffs\": true}, {\"level_0\": 35, \"index\": 36, \"Year\": 1986.0, \"Coach\": \"Mike Ditka\", \"G\": 16, \"W\": 14.0, \"L\": 2.0, \"T\": 0.0, \"W-L%\": 0.875, \"G.1\": 1.0, \"W.1\": 0.0, \"L.1\": 1.0, \"Result\": \"Lost Div\", \"Offense\": \"Ed Hughes\", \"Defense\": \"Vince Tobin\", \"year_max\": 1986.0, \"year_min\": 1986.0, \"Made Playoffs\": true}, {\"level_0\": 36, \"index\": 37, \"Year\": 1985.0, \"Coach\": \"Mike Ditka\", \"G\": 16, \"W\": 15.0, \"L\": 1.0, \"T\": 0.0, \"W-L%\": 0.938, \"G.1\": 3.0, \"W.1\": 3.0, \"L.1\": 0.0, \"Result\": \"Won SB\", \"Offense\": \"Ed Hughes\", \"Defense\": \"Buddy Ryan\", \"year_max\": 1985.0, \"year_min\": 1985.0, \"Made Playoffs\": true}, {\"level_0\": 37, \"index\": 38, \"Year\": 1984.0, \"Coach\": \"Mike Ditka\", \"G\": 16, \"W\": 10.0, \"L\": 6.0, \"T\": 0.0, \"W-L%\": 0.625, \"G.1\": 2.0, \"W.1\": 1.0, \"L.1\": 1.0, \"Result\": \"Lost Conf\", \"Offense\": \"Ed Hughes\", \"Defense\": \"Buddy Ryan\", \"year_max\": 1984.0, \"year_min\": 1984.0, \"Made Playoffs\": true}, {\"level_0\": 38, \"index\": 39, \"Year\": 1983.0, \"Coach\": \"Mike Ditka\", \"G\": 16, \"W\": 8.0, \"L\": 8.0, \"T\": 0.0, \"W-L%\": 0.5, \"G.1\": 0.0, \"W.1\": 0.0, \"L.1\": 0.0, \"Result\": null, \"Offense\": \"Ed Hughes\", \"Defense\": \"Buddy Ryan\", \"year_max\": 1983.0, \"year_min\": 1983.0, \"Made Playoffs\": false}, {\"level_0\": 39, \"index\": 40, \"Year\": 1982.0, \"Coach\": \"Mike Ditka\", \"G\": 9, \"W\": 3.0, \"L\": 6.0, \"T\": 0.0, \"W-L%\": 0.333, \"G.1\": 0.0, \"W.1\": 0.0, \"L.1\": 0.0, \"Result\": null, \"Offense\": \"Ed Hughes\", \"Defense\": \"Buddy Ryan\", \"year_max\": 1982.0, \"year_min\": 1982.0, \"Made Playoffs\": false}, {\"level_0\": 40, \"index\": 41, \"Year\": 1981.0, \"Coach\": \"Neill Armstrong\", \"G\": 16, \"W\": 6.0, \"L\": 10.0, \"T\": 0.0, \"W-L%\": 0.375, \"G.1\": 0.0, \"W.1\": 0.0, \"L.1\": 0.0, \"Result\": null, \"Offense\": \"Ted Marchibroda\", \"Defense\": \"Buddy Ryan\", \"year_max\": 1981.0, \"year_min\": 1981.0, \"Made Playoffs\": false}, {\"level_0\": 41, \"index\": 42, \"Year\": 1980.0, \"Coach\": \"Neill Armstrong\", \"G\": 16, \"W\": 7.0, \"L\": 9.0, \"T\": 0.0, \"W-L%\": 0.438, \"G.1\": 0.0, \"W.1\": 0.0, \"L.1\": 0.0, \"Result\": null, \"Offense\": \"Ken Meyer\", \"Defense\": \"Buddy Ryan\", \"year_max\": 1980.0, \"year_min\": 1980.0, \"Made Playoffs\": false}, {\"level_0\": 42, \"index\": 43, \"Year\": 1979.0, \"Coach\": \"Neill Armstrong\", \"G\": 16, \"W\": 10.0, \"L\": 6.0, \"T\": 0.0, \"W-L%\": 0.625, \"G.1\": 1.0, \"W.1\": 0.0, \"L.1\": 1.0, \"Result\": \"Lost WC\", \"Offense\": \"Ken Meyer\", \"Defense\": \"Buddy Ryan\", \"year_max\": 1979.0, \"year_min\": 1979.0, \"Made Playoffs\": true}, {\"level_0\": 43, \"index\": 44, \"Year\": 1978.0, \"Coach\": \"Neill Armstrong\", \"G\": 16, \"W\": 7.0, \"L\": 9.0, \"T\": 0.0, \"W-L%\": 0.438, \"G.1\": 0.0, \"W.1\": 0.0, \"L.1\": 0.0, \"Result\": null, \"Offense\": \"Ken Meyer\", \"Defense\": \"Buddy Ryan\", \"year_max\": 1978.0, \"year_min\": 1978.0, \"Made Playoffs\": false}, {\"level_0\": 44, \"index\": 45, \"Year\": 1977.0, \"Coach\": \"Jack Pardee\", \"G\": 14, \"W\": 9.0, \"L\": 5.0, \"T\": 0.0, \"W-L%\": 0.643, \"G.1\": 1.0, \"W.1\": 0.0, \"L.1\": 1.0, \"Result\": \"Lost Div\", \"Offense\": \"Sid Gillman\", \"Defense\": null, \"year_max\": 1977.0, \"year_min\": 1977.0, \"Made Playoffs\": true}, {\"level_0\": 45, \"index\": 46, \"Year\": 1976.0, \"Coach\": \"Jack Pardee\", \"G\": 14, \"W\": 7.0, \"L\": 7.0, \"T\": 0.0, \"W-L%\": 0.5, \"G.1\": 0.0, \"W.1\": 0.0, \"L.1\": 0.0, \"Result\": null, \"Offense\": null, \"Defense\": null, \"year_max\": 1976.0, \"year_min\": 1976.0, \"Made Playoffs\": false}, {\"level_0\": 46, \"index\": 47, \"Year\": 1975.0, \"Coach\": \"Jack Pardee\", \"G\": 14, \"W\": 4.0, \"L\": 10.0, \"T\": 0.0, \"W-L%\": 0.286, \"G.1\": 0.0, \"W.1\": 0.0, \"L.1\": 0.0, \"Result\": null, \"Offense\": null, \"Defense\": null, \"year_max\": 1975.0, \"year_min\": 1975.0, \"Made Playoffs\": false}, {\"level_0\": 47, \"index\": 48, \"Year\": 1974.0, \"Coach\": \"Abe Gibron\", \"G\": 14, \"W\": 4.0, \"L\": 10.0, \"T\": 0.0, \"W-L%\": 0.286, \"G.1\": 0.0, \"W.1\": 0.0, \"L.1\": 0.0, \"Result\": null, \"Offense\": null, \"Defense\": null, \"year_max\": 1974.0, \"year_min\": 1974.0, \"Made Playoffs\": false}, {\"level_0\": 48, \"index\": 49, \"Year\": 1973.0, \"Coach\": \"Abe Gibron\", \"G\": 14, \"W\": 3.0, \"L\": 11.0, \"T\": 0.0, \"W-L%\": 0.214, \"G.1\": 0.0, \"W.1\": 0.0, \"L.1\": 0.0, \"Result\": null, \"Offense\": null, \"Defense\": null, \"year_max\": 1973.0, \"year_min\": 1973.0, \"Made Playoffs\": false}, {\"level_0\": 49, \"index\": 50, \"Year\": 1972.0, \"Coach\": \"Abe Gibron\", \"G\": 14, \"W\": 4.0, \"L\": 9.0, \"T\": 1.0, \"W-L%\": 0.321, \"G.1\": 0.0, \"W.1\": 0.0, \"L.1\": 0.0, \"Result\": null, \"Offense\": null, \"Defense\": null, \"year_max\": 1972.0, \"year_min\": 1972.0, \"Made Playoffs\": false}, {\"level_0\": 50, \"index\": 51, \"Year\": 1971.0, \"Coach\": \"Jim Dooley\", \"G\": 14, \"W\": 6.0, \"L\": 8.0, \"T\": 0.0, \"W-L%\": 0.429, \"G.1\": 0.0, \"W.1\": 0.0, \"L.1\": 0.0, \"Result\": null, \"Offense\": \"Perry Moss\", \"Defense\": null, \"year_max\": 1971.0, \"year_min\": 1971.0, \"Made Playoffs\": false}, {\"level_0\": 51, \"index\": 52, \"Year\": 1970.0, \"Coach\": \"Jim Dooley\", \"G\": 14, \"W\": 6.0, \"L\": 8.0, \"T\": 0.0, \"W-L%\": 0.429, \"G.1\": 0.0, \"W.1\": 0.0, \"L.1\": 0.0, \"Result\": null, \"Offense\": \"Perry Moss\", \"Defense\": null, \"year_max\": 1970.0, \"year_min\": 1970.0, \"Made Playoffs\": false}, {\"level_0\": 52, \"index\": 53, \"Year\": 1969.0, \"Coach\": \"Jim Dooley\", \"G\": 14, \"W\": 1.0, \"L\": 13.0, \"T\": 0.0, \"W-L%\": 0.071, \"G.1\": 0.0, \"W.1\": 0.0, \"L.1\": 0.0, \"Result\": null, \"Offense\": null, \"Defense\": null, \"year_max\": 1969.0, \"year_min\": 1969.0, \"Made Playoffs\": false}, {\"level_0\": 53, \"index\": 54, \"Year\": 1968.0, \"Coach\": \"Jim Dooley\", \"G\": 14, \"W\": 7.0, \"L\": 7.0, \"T\": 0.0, \"W-L%\": 0.5, \"G.1\": 0.0, \"W.1\": 0.0, \"L.1\": 0.0, \"Result\": null, \"Offense\": null, \"Defense\": null, \"year_max\": 1968.0, \"year_min\": 1968.0, \"Made Playoffs\": false}, {\"level_0\": 54, \"index\": 55, \"Year\": 1967.0, \"Coach\": \"George Halas\", \"G\": 14, \"W\": 7.0, \"L\": 6.0, \"T\": 1.0, \"W-L%\": 0.538, \"G.1\": 0.0, \"W.1\": 0.0, \"L.1\": 0.0, \"Result\": null, \"Offense\": null, \"Defense\": \"Jim Dooley\", \"year_max\": 1967.0, \"year_min\": 1967.0, \"Made Playoffs\": false}, {\"level_0\": 55, \"index\": 56, \"Year\": 1966.0, \"Coach\": \"George Halas\", \"G\": 14, \"W\": 5.0, \"L\": 7.0, \"T\": 2.0, \"W-L%\": 0.417, \"G.1\": 0.0, \"W.1\": 0.0, \"L.1\": 0.0, \"Result\": null, \"Offense\": null, \"Defense\": \"Jim Dooley\", \"year_max\": 1966.0, \"year_min\": 1966.0, \"Made Playoffs\": false}, {\"level_0\": 56, \"index\": 57, \"Year\": 1965.0, \"Coach\": \"George Halas\", \"G\": 14, \"W\": 9.0, \"L\": 5.0, \"T\": 0.0, \"W-L%\": 0.643, \"G.1\": 0.0, \"W.1\": 0.0, \"L.1\": 0.0, \"Result\": null, \"Offense\": null, \"Defense\": \"George Allen\", \"year_max\": 1965.0, \"year_min\": 1965.0, \"Made Playoffs\": false}, {\"level_0\": 57, \"index\": 58, \"Year\": 1964.0, \"Coach\": \"George Halas\", \"G\": 14, \"W\": 5.0, \"L\": 9.0, \"T\": 0.0, \"W-L%\": 0.357, \"G.1\": 0.0, \"W.1\": 0.0, \"L.1\": 0.0, \"Result\": null, \"Offense\": null, \"Defense\": \"George Allen\", \"year_max\": 1964.0, \"year_min\": 1964.0, \"Made Playoffs\": false}, {\"level_0\": 58, \"index\": 59, \"Year\": 1963.0, \"Coach\": \"George Halas\", \"G\": 14, \"W\": 11.0, \"L\": 1.0, \"T\": 2.0, \"W-L%\": 0.917, \"G.1\": 1.0, \"W.1\": 1.0, \"L.1\": 0.0, \"Result\": \"Won Champ\", \"Offense\": null, \"Defense\": null, \"year_max\": 1963.0, \"year_min\": 1963.0, \"Made Playoffs\": true}, {\"level_0\": 59, \"index\": 60, \"Year\": 1962.0, \"Coach\": \"George Halas\", \"G\": 14, \"W\": 9.0, \"L\": 5.0, \"T\": 0.0, \"W-L%\": 0.643, \"G.1\": 0.0, \"W.1\": 0.0, \"L.1\": 0.0, \"Result\": null, \"Offense\": null, \"Defense\": \"Clark Shaughnessy\", \"year_max\": 1962.0, \"year_min\": 1962.0, \"Made Playoffs\": false}, {\"level_0\": 60, \"index\": 61, \"Year\": 1961.0, \"Coach\": \"George Halas\", \"G\": 14, \"W\": 8.0, \"L\": 6.0, \"T\": 0.0, \"W-L%\": 0.571, \"G.1\": 0.0, \"W.1\": 0.0, \"L.1\": 0.0, \"Result\": null, \"Offense\": null, \"Defense\": \"Clark Shaughnessy\", \"year_max\": 1961.0, \"year_min\": 1961.0, \"Made Playoffs\": false}, {\"level_0\": 61, \"index\": 62, \"Year\": 1960.0, \"Coach\": \"George Halas\", \"G\": 12, \"W\": 5.0, \"L\": 6.0, \"T\": 1.0, \"W-L%\": 0.455, \"G.1\": 0.0, \"W.1\": 0.0, \"L.1\": 0.0, \"Result\": null, \"Offense\": null, \"Defense\": \"Clark Shaughnessy\", \"year_max\": 1960.0, \"year_min\": 1960.0, \"Made Playoffs\": false}, {\"level_0\": 62, \"index\": 63, \"Year\": 1959.0, \"Coach\": \"George Halas\", \"G\": 12, \"W\": 8.0, \"L\": 4.0, \"T\": 0.0, \"W-L%\": 0.667, \"G.1\": 0.0, \"W.1\": 0.0, \"L.1\": 0.0, \"Result\": null, \"Offense\": null, \"Defense\": \"Clark Shaughnessy\", \"year_max\": 1959.0, \"year_min\": 1959.0, \"Made Playoffs\": false}, {\"level_0\": 63, \"index\": 64, \"Year\": 1958.0, \"Coach\": \"George Halas\", \"G\": 12, \"W\": 8.0, \"L\": 4.0, \"T\": 0.0, \"W-L%\": 0.667, \"G.1\": 0.0, \"W.1\": 0.0, \"L.1\": 0.0, \"Result\": null, \"Offense\": null, \"Defense\": null, \"year_max\": 1958.0, \"year_min\": 1958.0, \"Made Playoffs\": false}, {\"level_0\": 64, \"index\": 65, \"Year\": 1957.0, \"Coach\": \"Paddy Driscoll\", \"G\": 12, \"W\": 5.0, \"L\": 7.0, \"T\": 0.0, \"W-L%\": 0.417, \"G.1\": 0.0, \"W.1\": 0.0, \"L.1\": 0.0, \"Result\": null, \"Offense\": null, \"Defense\": null, \"year_max\": 1957.0, \"year_min\": 1957.0, \"Made Playoffs\": false}, {\"level_0\": 65, \"index\": 66, \"Year\": 1956.0, \"Coach\": \"Paddy Driscoll\", \"G\": 12, \"W\": 9.0, \"L\": 2.0, \"T\": 1.0, \"W-L%\": 0.818, \"G.1\": 1.0, \"W.1\": 0.0, \"L.1\": 1.0, \"Result\": \"Lost Champ\", \"Offense\": null, \"Defense\": null, \"year_max\": 1956.0, \"year_min\": 1956.0, \"Made Playoffs\": true}, {\"level_0\": 66, \"index\": 67, \"Year\": 1955.0, \"Coach\": \"George Halas\", \"G\": 12, \"W\": 8.0, \"L\": 4.0, \"T\": 0.0, \"W-L%\": 0.667, \"G.1\": 0.0, \"W.1\": 0.0, \"L.1\": 0.0, \"Result\": null, \"Offense\": null, \"Defense\": null, \"year_max\": 1955.0, \"year_min\": 1955.0, \"Made Playoffs\": false}, {\"level_0\": 67, \"index\": 68, \"Year\": 1954.0, \"Coach\": \"George Halas\", \"G\": 12, \"W\": 8.0, \"L\": 4.0, \"T\": 0.0, \"W-L%\": 0.667, \"G.1\": 0.0, \"W.1\": 0.0, \"L.1\": 0.0, \"Result\": null, \"Offense\": null, \"Defense\": null, \"year_max\": 1954.0, \"year_min\": 1954.0, \"Made Playoffs\": false}, {\"level_0\": 68, \"index\": 69, \"Year\": 1953.0, \"Coach\": \"George Halas\", \"G\": 12, \"W\": 3.0, \"L\": 8.0, \"T\": 1.0, \"W-L%\": 0.273, \"G.1\": 0.0, \"W.1\": 0.0, \"L.1\": 0.0, \"Result\": null, \"Offense\": null, \"Defense\": null, \"year_max\": 1953.0, \"year_min\": 1953.0, \"Made Playoffs\": false}, {\"level_0\": 69, \"index\": 70, \"Year\": 1952.0, \"Coach\": \"George Halas\", \"G\": 12, \"W\": 5.0, \"L\": 7.0, \"T\": 0.0, \"W-L%\": 0.417, \"G.1\": 0.0, \"W.1\": 0.0, \"L.1\": 0.0, \"Result\": null, \"Offense\": null, \"Defense\": null, \"year_max\": 1952.0, \"year_min\": 1952.0, \"Made Playoffs\": false}, {\"level_0\": 70, \"index\": 71, \"Year\": 1951.0, \"Coach\": \"George Halas\", \"G\": 12, \"W\": 7.0, \"L\": 5.0, \"T\": 0.0, \"W-L%\": 0.583, \"G.1\": 0.0, \"W.1\": 0.0, \"L.1\": 0.0, \"Result\": null, \"Offense\": null, \"Defense\": null, \"year_max\": 1951.0, \"year_min\": 1951.0, \"Made Playoffs\": false}]}}, {\"mode\": \"vega-lite\"});\n",
       "</script>"
      ],
      "text/plain": [
       "alt.Chart(...)"
      ]
     },
     "execution_count": 335,
     "metadata": {},
     "output_type": "execute_result"
    }
   ],
   "source": [
    "bars"
   ]
  },
  {
   "cell_type": "code",
   "execution_count": 336,
   "id": "7daaa16d-de3d-42cf-a44c-2cbe875c8384",
   "metadata": {},
   "outputs": [
    {
     "ename": "ValueError",
     "evalue": "Objects with \"config\" attribute cannot be used within HConcatChart. Consider defining the config attribute in the HConcatChart object instead.",
     "output_type": "error",
     "traceback": [
      "\u001b[0;31m---------------------------------------------------------------------------\u001b[0m",
      "\u001b[0;31mValueError\u001b[0m                                Traceback (most recent call last)",
      "Input \u001b[0;32mIn [336]\u001b[0m, in \u001b[0;36m<cell line: 1>\u001b[0;34m()\u001b[0m\n\u001b[0;32m----> 1\u001b[0m \u001b[43mbars\u001b[49m\u001b[43m \u001b[49m\u001b[38;5;241;43m|\u001b[39;49m\u001b[43m \u001b[49m\u001b[43mheat\u001b[49m\n",
      "File \u001b[0;32m~/miniconda3/envs/myenv/lib/python3.9/site-packages/altair/vegalite/v4/api.py:512\u001b[0m, in \u001b[0;36mTopLevelMixin.__or__\u001b[0;34m(self, other)\u001b[0m\n\u001b[1;32m    510\u001b[0m \u001b[38;5;28;01mif\u001b[39;00m \u001b[38;5;129;01mnot\u001b[39;00m \u001b[38;5;28misinstance\u001b[39m(other, TopLevelMixin):\n\u001b[1;32m    511\u001b[0m     \u001b[38;5;28;01mraise\u001b[39;00m \u001b[38;5;167;01mValueError\u001b[39;00m(\u001b[38;5;124m\"\u001b[39m\u001b[38;5;124mOnly Chart objects can be concatenated.\u001b[39m\u001b[38;5;124m\"\u001b[39m)\n\u001b[0;32m--> 512\u001b[0m \u001b[38;5;28;01mreturn\u001b[39;00m \u001b[43mhconcat\u001b[49m\u001b[43m(\u001b[49m\u001b[38;5;28;43mself\u001b[39;49m\u001b[43m,\u001b[49m\u001b[43m \u001b[49m\u001b[43mother\u001b[49m\u001b[43m)\u001b[49m\n",
      "File \u001b[0;32m~/miniconda3/envs/myenv/lib/python3.9/site-packages/altair/vegalite/v4/api.py:2296\u001b[0m, in \u001b[0;36mhconcat\u001b[0;34m(*charts, **kwargs)\u001b[0m\n\u001b[1;32m   2294\u001b[0m \u001b[38;5;28;01mdef\u001b[39;00m \u001b[38;5;21mhconcat\u001b[39m(\u001b[38;5;241m*\u001b[39mcharts, \u001b[38;5;241m*\u001b[39m\u001b[38;5;241m*\u001b[39mkwargs):\n\u001b[1;32m   2295\u001b[0m     \u001b[38;5;124;03m\"\"\"Concatenate charts horizontally\"\"\"\u001b[39;00m\n\u001b[0;32m-> 2296\u001b[0m     \u001b[38;5;28;01mreturn\u001b[39;00m \u001b[43mHConcatChart\u001b[49m\u001b[43m(\u001b[49m\u001b[43mhconcat\u001b[49m\u001b[38;5;241;43m=\u001b[39;49m\u001b[43mcharts\u001b[49m\u001b[43m,\u001b[49m\u001b[43m \u001b[49m\u001b[38;5;241;43m*\u001b[39;49m\u001b[38;5;241;43m*\u001b[39;49m\u001b[43mkwargs\u001b[49m\u001b[43m)\u001b[49m\n",
      "File \u001b[0;32m~/miniconda3/envs/myenv/lib/python3.9/site-packages/altair/vegalite/v4/api.py:2270\u001b[0m, in \u001b[0;36mHConcatChart.__init__\u001b[0;34m(self, data, hconcat, **kwargs)\u001b[0m\n\u001b[1;32m   2267\u001b[0m \u001b[38;5;28;01mdef\u001b[39;00m \u001b[38;5;21m__init__\u001b[39m(\u001b[38;5;28mself\u001b[39m, data\u001b[38;5;241m=\u001b[39mUndefined, hconcat\u001b[38;5;241m=\u001b[39m(), \u001b[38;5;241m*\u001b[39m\u001b[38;5;241m*\u001b[39mkwargs):\n\u001b[1;32m   2268\u001b[0m     \u001b[38;5;66;03m# TODO: move common data to top level?\u001b[39;00m\n\u001b[1;32m   2269\u001b[0m     \u001b[38;5;28;01mfor\u001b[39;00m spec \u001b[38;5;129;01min\u001b[39;00m hconcat:\n\u001b[0;32m-> 2270\u001b[0m         \u001b[43m_check_if_valid_subspec\u001b[49m\u001b[43m(\u001b[49m\u001b[43mspec\u001b[49m\u001b[43m,\u001b[49m\u001b[43m \u001b[49m\u001b[38;5;124;43m\"\u001b[39;49m\u001b[38;5;124;43mHConcatChart\u001b[39;49m\u001b[38;5;124;43m\"\u001b[39;49m\u001b[43m)\u001b[49m\n\u001b[1;32m   2271\u001b[0m     \u001b[38;5;28msuper\u001b[39m(HConcatChart, \u001b[38;5;28mself\u001b[39m)\u001b[38;5;241m.\u001b[39m\u001b[38;5;21m__init__\u001b[39m(data\u001b[38;5;241m=\u001b[39mdata, hconcat\u001b[38;5;241m=\u001b[39m\u001b[38;5;28mlist\u001b[39m(hconcat), \u001b[38;5;241m*\u001b[39m\u001b[38;5;241m*\u001b[39mkwargs)\n\u001b[1;32m   2272\u001b[0m     \u001b[38;5;28mself\u001b[39m\u001b[38;5;241m.\u001b[39mdata, \u001b[38;5;28mself\u001b[39m\u001b[38;5;241m.\u001b[39mhconcat \u001b[38;5;241m=\u001b[39m _combine_subchart_data(\u001b[38;5;28mself\u001b[39m\u001b[38;5;241m.\u001b[39mdata, \u001b[38;5;28mself\u001b[39m\u001b[38;5;241m.\u001b[39mhconcat)\n",
      "File \u001b[0;32m~/miniconda3/envs/myenv/lib/python3.9/site-packages/altair/vegalite/v4/api.py:2081\u001b[0m, in \u001b[0;36m_check_if_valid_subspec\u001b[0;34m(spec, classname)\u001b[0m\n\u001b[1;32m   2079\u001b[0m     val \u001b[38;5;241m=\u001b[39m spec\u001b[38;5;241m.\u001b[39mget(attr, Undefined)\n\u001b[1;32m   2080\u001b[0m \u001b[38;5;28;01mif\u001b[39;00m val \u001b[38;5;129;01mis\u001b[39;00m \u001b[38;5;129;01mnot\u001b[39;00m Undefined:\n\u001b[0;32m-> 2081\u001b[0m     \u001b[38;5;28;01mraise\u001b[39;00m \u001b[38;5;167;01mValueError\u001b[39;00m(err\u001b[38;5;241m.\u001b[39mformat(attr, classname))\n",
      "\u001b[0;31mValueError\u001b[0m: Objects with \"config\" attribute cannot be used within HConcatChart. Consider defining the config attribute in the HConcatChart object instead."
     ]
    }
   ],
   "source": [
    "bars | heat"
   ]
  },
  {
   "cell_type": "code",
   "execution_count": null,
   "id": "f46f27df-84c5-4cbc-8af4-c61a3fc16b83",
   "metadata": {},
   "outputs": [],
   "source": []
  }
 ],
 "metadata": {
  "kernelspec": {
   "display_name": "Python 3 (ipykernel)",
   "language": "python",
   "name": "python3"
  },
  "language_info": {
   "codemirror_mode": {
    "name": "ipython",
    "version": 3
   },
   "file_extension": ".py",
   "mimetype": "text/x-python",
   "name": "python",
   "nbconvert_exporter": "python",
   "pygments_lexer": "ipython3",
   "version": "3.9.13"
  }
 },
 "nbformat": 4,
 "nbformat_minor": 5
}
