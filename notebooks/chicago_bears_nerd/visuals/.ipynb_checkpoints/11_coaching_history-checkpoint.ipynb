{
 "cells": [
  {
   "cell_type": "code",
   "execution_count": 2,
   "id": "cb00b626-b870-46f3-a7e5-2c7390ce12d4",
   "metadata": {},
   "outputs": [],
   "source": [
    "import altair as alt\n",
    "import pandas as pd\n",
    "import numpy as np"
   ]
  },
  {
   "cell_type": "code",
   "execution_count": 3,
   "id": "47cda70c-5d6a-4289-8f99-df2105e5743c",
   "metadata": {},
   "outputs": [],
   "source": [
    "df = pd.read_csv(\"../data/season_results.csv\")"
   ]
  },
  {
   "cell_type": "code",
   "execution_count": 4,
   "id": "72f113fb-a35f-479f-aebb-c97bffd10ab8",
   "metadata": {},
   "outputs": [],
   "source": [
    "df[\"regular_season_wins\"] = np.where(df.season_type == \"pre\", np.nan, df.wins)\n",
    "df[\"pre_season_wins\"] = np.where(df.season_type == \"pre\", df.wins, np.nan)\n",
    "df = df[df.year.gt(2005)]"
   ]
  },
  {
   "cell_type": "code",
   "execution_count": 5,
   "id": "5780e7a1-54d7-4215-83ec-5909fc63cf6e",
   "metadata": {},
   "outputs": [],
   "source": [
    "df[\"team_name\"] = np.where(df.team_name == \"Washington Redskins\", \"Washington Football Team\", df.team_name)\n",
    "df[\"team_name\"] = np.where(df.team_name == \"St. Louis Rams\", \"Los Angeles Rams\", df.team_name)\n",
    "df[\"team_name\"] = np.where(df.team_name == \"Oakland Raiders\", \"Las Vegas Raiders\", df.team_name)\n",
    "df[\"team_name\"] = np.where(df.team_name == \"San Diego Chargers\", \"Los Angeles Chargers\", df.team_name)\n",
    "\n",
    "df = df.groupby(\"team_name\", as_index=False).mean()\n",
    "df[\"Is Bears\"] = df.team_name == \"Chicago Bears\"\n"
   ]
  },
  {
   "cell_type": "code",
   "execution_count": 6,
   "id": "a2933c20-43a2-4f7e-827f-8bda55d4a804",
   "metadata": {},
   "outputs": [],
   "source": [
    "chart_title = \"Avg PreSeason Wins vs Avg Regular Season Wins Per Season Last 10 Years\"\n",
    "x_cfgs = {\"shorthand\":\"regular_season_wins\", \"title\":\"Avg Regular Season Wins Per Season\"}\n",
    "y_cfgs = {\"shorthand\":\"pre_season_wins\", \"title\":\"Avg Preseason Wins Per Season\"}\n",
    "# background etc.\n",
    "primary_color = \"#0B162A\" \n",
    "# font etc.\n",
    "secondary_color = \"#c83803\"\n"
   ]
  },
  {
   "cell_type": "code",
   "execution_count": 8,
   "id": "10ec609e-117b-45b6-863b-ce3af659c345",
   "metadata": {},
   "outputs": [
    {
     "data": {
      "text/html": [
       "\n",
       "<div id=\"altair-viz-7102cf6a58bb43d4b6cbb712a70c49ea\"></div>\n",
       "<script type=\"text/javascript\">\n",
       "  var VEGA_DEBUG = (typeof VEGA_DEBUG == \"undefined\") ? {} : VEGA_DEBUG;\n",
       "  (function(spec, embedOpt){\n",
       "    let outputDiv = document.currentScript.previousElementSibling;\n",
       "    if (outputDiv.id !== \"altair-viz-7102cf6a58bb43d4b6cbb712a70c49ea\") {\n",
       "      outputDiv = document.getElementById(\"altair-viz-7102cf6a58bb43d4b6cbb712a70c49ea\");\n",
       "    }\n",
       "    const paths = {\n",
       "      \"vega\": \"https://cdn.jsdelivr.net/npm//vega@5?noext\",\n",
       "      \"vega-lib\": \"https://cdn.jsdelivr.net/npm//vega-lib?noext\",\n",
       "      \"vega-lite\": \"https://cdn.jsdelivr.net/npm//vega-lite@4.17.0?noext\",\n",
       "      \"vega-embed\": \"https://cdn.jsdelivr.net/npm//vega-embed@6?noext\",\n",
       "    };\n",
       "\n",
       "    function maybeLoadScript(lib, version) {\n",
       "      var key = `${lib.replace(\"-\", \"\")}_version`;\n",
       "      return (VEGA_DEBUG[key] == version) ?\n",
       "        Promise.resolve(paths[lib]) :\n",
       "        new Promise(function(resolve, reject) {\n",
       "          var s = document.createElement('script');\n",
       "          document.getElementsByTagName(\"head\")[0].appendChild(s);\n",
       "          s.async = true;\n",
       "          s.onload = () => {\n",
       "            VEGA_DEBUG[key] = version;\n",
       "            return resolve(paths[lib]);\n",
       "          };\n",
       "          s.onerror = () => reject(`Error loading script: ${paths[lib]}`);\n",
       "          s.src = paths[lib];\n",
       "        });\n",
       "    }\n",
       "\n",
       "    function showError(err) {\n",
       "      outputDiv.innerHTML = `<div class=\"error\" style=\"color:red;\">${err}</div>`;\n",
       "      throw err;\n",
       "    }\n",
       "\n",
       "    function displayChart(vegaEmbed) {\n",
       "      vegaEmbed(outputDiv, spec, embedOpt)\n",
       "        .catch(err => showError(`Javascript Error: ${err.message}<br>This usually means there's a typo in your chart specification. See the javascript console for the full traceback.`));\n",
       "    }\n",
       "\n",
       "    if(typeof define === \"function\" && define.amd) {\n",
       "      requirejs.config({paths});\n",
       "      require([\"vega-embed\"], displayChart, err => showError(`Error loading script: ${err.message}`));\n",
       "    } else {\n",
       "      maybeLoadScript(\"vega\", \"5\")\n",
       "        .then(() => maybeLoadScript(\"vega-lite\", \"4.17.0\"))\n",
       "        .then(() => maybeLoadScript(\"vega-embed\", \"6\"))\n",
       "        .catch(showError)\n",
       "        .then(() => displayChart(vegaEmbed));\n",
       "    }\n",
       "  })({\"config\": {\"view\": {\"continuousWidth\": 400, \"continuousHeight\": 300}, \"axis\": {\"gridColor\": \"grey\", \"gridDash\": [6, 4]}, \"axisBottom\": {\"labelColor\": \"#c83803\", \"labelFontSize\": 15, \"titleColor\": \"#c83803\", \"titleFontSize\": 17}, \"axisLeft\": {\"labelColor\": \"#c83803\", \"labelFontSize\": 15, \"titleColor\": \"#c83803\", \"titleFontSize\": 17}, \"background\": \"#0B162A\", \"legend\": {\"cornerRadius\": 10, \"fillColor\": \"#0B162A\", \"labelColor\": \"#c83803\", \"labelFontSize\": 15, \"orient\": \"top-right\", \"padding\": 10, \"strokeColor\": \"gray\", \"titleColor\": \"#c83803\", \"titleFontSize\": 15}, \"title\": {\"color\": \"#c83803\", \"fontSize\": 25}}, \"data\": {\"name\": \"data-2dc31da812ab0c77a2de497655fe8965\"}, \"mark\": {\"type\": \"circle\", \"opacity\": 1, \"size\": 500}, \"encoding\": {\"color\": {\"field\": \"Is Bears\", \"scale\": {\"domain\": [true, false], \"range\": [\"#c83803\", \"white\"]}, \"type\": \"nominal\"}, \"tooltip\": [{\"field\": \"team_name\", \"title\": \"Team Name\", \"type\": \"nominal\"}, {\"field\": \"regular_season_wins\", \"title\": \"Avg Regular Season Wins Per Season\", \"type\": \"quantitative\"}, {\"field\": \"pre_season_wins\", \"title\": \"Avg Preseason Wins Per Season\", \"type\": \"quantitative\"}], \"x\": {\"field\": \"regular_season_wins\", \"scale\": {\"zero\": false}, \"title\": \"Avg Regular Season Wins Per Season\", \"type\": \"quantitative\"}, \"y\": {\"field\": \"pre_season_wins\", \"scale\": {\"zero\": false}, \"title\": \"Avg Preseason Wins Per Season\", \"type\": \"quantitative\"}}, \"height\": 1000, \"title\": \"Avg PreSeason Wins vs Avg Regular Season Wins Per Season Last 10 Years\", \"width\": 1000, \"$schema\": \"https://vega.github.io/schema/vega-lite/v4.17.0.json\", \"datasets\": {\"data-2dc31da812ab0c77a2de497655fe8965\": [{\"team_name\": \"Arizona Cardinals\", \"Unnamed: 0\": 905.59375, \"year\": 2013.5, \"wins\": 4.6875, \"losses\": 5.15625, \"regular_season_wins\": 7.875, \"pre_season_wins\": 1.5, \"Is Bears\": false}, {\"team_name\": \"Atlanta Falcons\", \"Unnamed: 0\": 901.5, \"year\": 2013.5, \"wins\": 4.71875, \"losses\": 5.1875, \"regular_season_wins\": 8.1875, \"pre_season_wins\": 1.25, \"Is Bears\": false}, {\"team_name\": \"Baltimore Ravens\", \"Unnamed: 0\": 880.84375, \"year\": 2013.5, \"wins\": 6.1875, \"losses\": 3.71875, \"regular_season_wins\": 9.6875, \"pre_season_wins\": 2.6875, \"Is Bears\": false}, {\"team_name\": \"Buffalo Bills\", \"Unnamed: 0\": 877.6875, \"year\": 2013.5, \"wins\": 4.59375, \"losses\": 5.34375, \"regular_season_wins\": 7.625, \"pre_season_wins\": 1.5625, \"Is Bears\": false}, {\"team_name\": \"Carolina Panthers\", \"Unnamed: 0\": 901.34375, \"year\": 2013.5, \"wins\": 4.75, \"losses\": 5.09375, \"regular_season_wins\": 7.6875, \"pre_season_wins\": 1.8125, \"Is Bears\": false}, {\"team_name\": \"Chicago Bears\", \"Unnamed: 0\": 897.5, \"year\": 2013.5, \"wins\": 4.84375, \"losses\": 5.0625, \"regular_season_wins\": 7.875, \"pre_season_wins\": 1.8125, \"Is Bears\": true}, {\"team_name\": \"Cincinnati Bengals\", \"Unnamed: 0\": 881.5625, \"year\": 2013.5, \"wins\": 4.6875, \"losses\": 5.09375, \"regular_season_wins\": 7.5, \"pre_season_wins\": 1.875, \"Is Bears\": false}, {\"team_name\": \"Cleveland Browns\", \"Unnamed: 0\": 882.3125, \"year\": 2013.5, \"wins\": 3.5625, \"losses\": 6.28125, \"regular_season_wins\": 5.25, \"pre_season_wins\": 1.875, \"Is Bears\": false}, {\"team_name\": \"Dallas Cowboys\", \"Unnamed: 0\": 893.25, \"year\": 2013.5, \"wins\": 5.375, \"losses\": 4.5625, \"regular_season_wins\": 9.125, \"pre_season_wins\": 1.625, \"Is Bears\": false}, {\"team_name\": \"Denver Broncos\", \"Unnamed: 0\": 888.96875, \"year\": 2013.5, \"wins\": 5.21875, \"losses\": 4.6875, \"regular_season_wins\": 8.3125, \"pre_season_wins\": 2.125, \"Is Bears\": false}, {\"team_name\": \"Detroit Lions\", \"Unnamed: 0\": 897.75, \"year\": 2013.5, \"wins\": 3.90625, \"losses\": 5.90625, \"regular_season_wins\": 5.75, \"pre_season_wins\": 2.0625, \"Is Bears\": false}, {\"team_name\": \"Green Bay Packers\", \"Unnamed: 0\": 897.1875, \"year\": 2013.5, \"wins\": 6.125, \"losses\": 3.6875, \"regular_season_wins\": 10.375, \"pre_season_wins\": 1.875, \"Is Bears\": false}, {\"team_name\": \"Houston Texans\", \"Unnamed: 0\": 885.03125, \"year\": 2013.5, \"wins\": 4.84375, \"losses\": 5.0, \"regular_season_wins\": 7.5625, \"pre_season_wins\": 2.125, \"Is Bears\": false}, {\"team_name\": \"Indianapolis Colts\", \"Unnamed: 0\": 885.4375, \"year\": 2013.5, \"wins\": 5.4375, \"losses\": 4.46875, \"regular_season_wins\": 9.5625, \"pre_season_wins\": 1.3125, \"Is Bears\": false}, {\"team_name\": \"Jacksonville Jaguars\", \"Unnamed: 0\": 885.96875, \"year\": 2013.5, \"wins\": 3.53125, \"losses\": 6.34375, \"regular_season_wins\": 5.375, \"pre_season_wins\": 1.6875, \"Is Bears\": false}, {\"team_name\": \"Kansas City Chiefs\", \"Unnamed: 0\": 889.4375, \"year\": 2013.5, \"wins\": 5.125, \"losses\": 4.75, \"regular_season_wins\": 8.8125, \"pre_season_wins\": 1.4375, \"Is Bears\": false}, {\"team_name\": \"Las Vegas Raiders\", \"Unnamed: 0\": 889.9375, \"year\": 2013.5, \"wins\": 3.8125, \"losses\": 6.09375, \"regular_season_wins\": 6.0625, \"pre_season_wins\": 1.5625, \"Is Bears\": false}, {\"team_name\": \"Los Angeles Chargers\", \"Unnamed: 0\": 889.65625, \"year\": 2013.5, \"wins\": 5.1875, \"losses\": 4.6875, \"regular_season_wins\": 8.6875, \"pre_season_wins\": 1.6875, \"Is Bears\": false}, {\"team_name\": \"Los Angeles Rams\", \"Unnamed: 0\": 905.875, \"year\": 2013.5, \"wins\": 4.25, \"losses\": 5.59375, \"regular_season_wins\": 6.8125, \"pre_season_wins\": 1.6875, \"Is Bears\": false}, {\"team_name\": \"Miami Dolphins\", \"Unnamed: 0\": 877.53125, \"year\": 2013.5, \"wins\": 4.5625, \"losses\": 5.34375, \"regular_season_wins\": 7.125, \"pre_season_wins\": 2.0, \"Is Bears\": false}, {\"team_name\": \"Minnesota Vikings\", \"Unnamed: 0\": 897.5625, \"year\": 2013.5, \"wins\": 5.21875, \"losses\": 4.59375, \"regular_season_wins\": 8.25, \"pre_season_wins\": 2.1875, \"Is Bears\": false}, {\"team_name\": \"New England Patriots\", \"Unnamed: 0\": 876.8125, \"year\": 2013.5, \"wins\": 6.96875, \"losses\": 2.90625, \"regular_season_wins\": 11.9375, \"pre_season_wins\": 2.0, \"Is Bears\": false}, {\"team_name\": \"New Orleans Saints\", \"Unnamed: 0\": 901.1875, \"year\": 2013.5, \"wins\": 5.875, \"losses\": 4.03125, \"regular_season_wins\": 9.9375, \"pre_season_wins\": 1.8125, \"Is Bears\": false}, {\"team_name\": \"New York Giants\", \"Unnamed: 0\": 893.53125, \"year\": 2013.5, \"wins\": 4.6875, \"losses\": 5.21875, \"regular_season_wins\": 7.375, \"pre_season_wins\": 2.0, \"Is Bears\": false}, {\"team_name\": \"New York Jets\", \"Unnamed: 0\": 877.96875, \"year\": 2013.5, \"wins\": 4.25, \"losses\": 5.59375, \"regular_season_wins\": 6.625, \"pre_season_wins\": 1.875, \"Is Bears\": false}, {\"team_name\": \"Philadelphia Eagles\", \"Unnamed: 0\": 893.3125, \"year\": 2013.5, \"wins\": 5.25, \"losses\": 4.5625, \"regular_season_wins\": 8.625, \"pre_season_wins\": 1.875, \"Is Bears\": false}, {\"team_name\": \"Pittsburgh Steelers\", \"Unnamed: 0\": 881.28125, \"year\": 2013.5, \"wins\": 6.125, \"losses\": 3.78125, \"regular_season_wins\": 10.125, \"pre_season_wins\": 2.125, \"Is Bears\": false}, {\"team_name\": \"San Francisco 49ers\", \"Unnamed: 0\": 905.46875, \"year\": 2013.5, \"wins\": 4.90625, \"losses\": 4.9375, \"regular_season_wins\": 7.6875, \"pre_season_wins\": 2.125, \"Is Bears\": false}, {\"team_name\": \"Seattle Seahawks\", \"Unnamed: 0\": 905.0625, \"year\": 2013.5, \"wins\": 5.78125, \"losses\": 4.0625, \"regular_season_wins\": 9.1875, \"pre_season_wins\": 2.375, \"Is Bears\": false}, {\"team_name\": \"Tampa Bay Buccaneers\", \"Unnamed: 0\": 901.96875, \"year\": 2013.5, \"wins\": 4.21875, \"losses\": 5.65625, \"regular_season_wins\": 6.75, \"pre_season_wins\": 1.6875, \"Is Bears\": false}, {\"team_name\": \"Tennessee Titans\", \"Unnamed: 0\": 885.5625, \"year\": 2013.5, \"wins\": 5.0625, \"losses\": 4.84375, \"regular_season_wins\": 8.1875, \"pre_season_wins\": 1.9375, \"Is Bears\": false}, {\"team_name\": \"Washington Football Team\", \"Unnamed: 0\": 893.90625, \"year\": 2013.5, \"wins\": 4.1875, \"losses\": 5.6875, \"regular_season_wins\": 6.375, \"pre_season_wins\": 2.0, \"Is Bears\": false}]}}, {\"mode\": \"vega-lite\"});\n",
       "</script>"
      ],
      "text/plain": [
       "alt.Chart(...)"
      ]
     },
     "execution_count": 8,
     "metadata": {},
     "output_type": "execute_result"
    }
   ],
   "source": [
    "alt.Chart(df, width=1000, height=1000, title=chart_title)\\\n",
    ".mark_circle(size=500, opacity=1)\\\n",
    ".encode(\n",
    "    x=alt.X(**x_cfgs,\n",
    "        scale=alt.Scale(zero=False)\n",
    "    ),\n",
    "    y=alt.Y(**y_cfgs,\n",
    "        scale=alt.Scale(zero=False)\n",
    "    ),\n",
    "    color=alt.Color(\"Is Bears\", scale=alt.Scale(domain=[True, False], range=[secondary_color, \"white\"])),\n",
    "    tooltip=[\n",
    "        alt.Tooltip(\"team_name\", title=\"Team Name\"),\n",
    "        alt.Tooltip(**x_cfgs),\n",
    "        alt.Tooltip(**y_cfgs)]\n",
    ")\\\n",
    ".configure(background=primary_color)\\\n",
    ".configure_axis(gridColor=\"grey\", gridDash=[6,4])\\\n",
    ".configure_axisLeft(labelColor=secondary_color, titleColor=secondary_color, labelFontSize=15, titleFontSize=17)\\\n",
    ".configure_axisBottom(labelColor=secondary_color, titleColor=secondary_color,labelFontSize=15, titleFontSize=17)\\\n",
    ".configure_title(color=secondary_color, fontSize=25)\\\n",
    ".configure_legend(labelColor=secondary_color, titleColor=secondary_color, strokeColor='gray', fillColor=primary_color, padding=10,cornerRadius=10,orient='top-right', labelFontSize=15, titleFontSize=15)\n"
   ]
  },
  {
   "cell_type": "code",
   "execution_count": null,
   "id": "66835d83-58b9-46c5-8d8d-b2fbafd613ac",
   "metadata": {},
   "outputs": [],
   "source": []
  }
 ],
 "metadata": {
  "kernelspec": {
   "display_name": "Python 3 (ipykernel)",
   "language": "python",
   "name": "python3"
  },
  "language_info": {
   "codemirror_mode": {
    "name": "ipython",
    "version": 3
   },
   "file_extension": ".py",
   "mimetype": "text/x-python",
   "name": "python",
   "nbconvert_exporter": "python",
   "pygments_lexer": "ipython3",
   "version": "3.9.13"
  }
 },
 "nbformat": 4,
 "nbformat_minor": 5
}
