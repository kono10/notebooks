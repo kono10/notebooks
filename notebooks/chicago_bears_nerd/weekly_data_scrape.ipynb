{
 "cells": [
  {
   "cell_type": "code",
   "execution_count": 1,
   "id": "d6efa6cc-a56a-4a6f-a6ab-de9afe17878b",
   "metadata": {},
   "outputs": [],
   "source": [
    "from bs4 import BeautifulSoup\n",
    "import requests as req\n",
    "from time import sleep\n",
    "import pandas as pd\n",
    "import os\n",
    "import time\n",
    "from datetime import datetime as dt\n",
    "from tqdm import tqdm\n",
    "#from tqdm import tqdm\n",
    "\n",
    "\n",
    "# configure pandas\n",
    "pd.set_option('display.max_rows', 500)\n",
    "pd.set_option('display.max_columns', 500)\n",
    "pd.set_option('display.width', 1000)\n",
    "\n",
    "headers = {\n",
    "    \"User-Agent\": (\n",
    "        \"Mozilla/5.0 (Windows NT 10.0; Win64; x64) AppleWebKit/537.36 \"\n",
    "        \"(KHTML, like Gecko) Chrome/99.0.4844.51 Safari/537.36\"\n",
    "    )\n",
    "}"
   ]
  },
  {
   "cell_type": "markdown",
   "id": "06aa6a94-3c0a-4939-9990-f10ae3ce7502",
   "metadata": {
    "tags": []
   },
   "source": [
    "# Historical Odds Data - data not ready until Thursday\n",
    "___"
   ]
  },
  {
   "cell_type": "code",
   "execution_count": 2,
   "id": "86f6e982-f560-4294-960c-93cd873cf29c",
   "metadata": {},
   "outputs": [
    {
     "ename": "ValueError",
     "evalue": "Plan shapes are not aligned",
     "output_type": "error",
     "traceback": [
      "\u001b[0;31m---------------------------------------------------------------------------\u001b[0m",
      "\u001b[0;31mValueError\u001b[0m                                Traceback (most recent call last)",
      "\u001b[0;32m<ipython-input-2-12a2ca33032c>\u001b[0m in \u001b[0;36m<module>\u001b[0;34m\u001b[0m\n\u001b[1;32m     11\u001b[0m     \u001b[0mdf\u001b[0m\u001b[0;34m[\u001b[0m\u001b[0;34m\"week\"\u001b[0m\u001b[0;34m]\u001b[0m \u001b[0;34m=\u001b[0m \u001b[0mi\u001b[0m \u001b[0;34m+\u001b[0m \u001b[0;36m1\u001b[0m\u001b[0;34m\u001b[0m\u001b[0;34m\u001b[0m\u001b[0m\n\u001b[1;32m     12\u001b[0m     \u001b[0mpd_list\u001b[0m\u001b[0;34m.\u001b[0m\u001b[0mappend\u001b[0m\u001b[0;34m(\u001b[0m\u001b[0mdf\u001b[0m\u001b[0;34m)\u001b[0m\u001b[0;34m\u001b[0m\u001b[0;34m\u001b[0m\u001b[0m\n\u001b[0;32m---> 13\u001b[0;31m \u001b[0mdf\u001b[0m \u001b[0;34m=\u001b[0m \u001b[0mpd\u001b[0m\u001b[0;34m.\u001b[0m\u001b[0mconcat\u001b[0m\u001b[0;34m(\u001b[0m\u001b[0mpd_list\u001b[0m\u001b[0;34m)\u001b[0m\u001b[0;34m\u001b[0m\u001b[0;34m\u001b[0m\u001b[0m\n\u001b[0m\u001b[1;32m     14\u001b[0m \u001b[0mprint\u001b[0m\u001b[0;34m(\u001b[0m\u001b[0mdf\u001b[0m\u001b[0;34m.\u001b[0m\u001b[0mhead\u001b[0m\u001b[0;34m(\u001b[0m\u001b[0;34m)\u001b[0m\u001b[0;34m)\u001b[0m\u001b[0;34m\u001b[0m\u001b[0;34m\u001b[0m\u001b[0m\n\u001b[1;32m     15\u001b[0m \u001b[0mdf\u001b[0m\u001b[0;34m.\u001b[0m\u001b[0mto_csv\u001b[0m\u001b[0;34m(\u001b[0m\u001b[0;34m\"data/nfl_weekly_betting_summary.csv\"\u001b[0m\u001b[0;34m)\u001b[0m\u001b[0;34m\u001b[0m\u001b[0;34m\u001b[0m\u001b[0m\n",
      "\u001b[0;32m/usr/local/lib/python3.6/site-packages/pandas/core/reshape/concat.py\u001b[0m in \u001b[0;36mconcat\u001b[0;34m(objs, axis, join, ignore_index, keys, levels, names, verify_integrity, sort, copy)\u001b[0m\n\u001b[1;32m    285\u001b[0m     )\n\u001b[1;32m    286\u001b[0m \u001b[0;34m\u001b[0m\u001b[0m\n\u001b[0;32m--> 287\u001b[0;31m     \u001b[0;32mreturn\u001b[0m \u001b[0mop\u001b[0m\u001b[0;34m.\u001b[0m\u001b[0mget_result\u001b[0m\u001b[0;34m(\u001b[0m\u001b[0;34m)\u001b[0m\u001b[0;34m\u001b[0m\u001b[0;34m\u001b[0m\u001b[0m\n\u001b[0m\u001b[1;32m    288\u001b[0m \u001b[0;34m\u001b[0m\u001b[0m\n\u001b[1;32m    289\u001b[0m \u001b[0;34m\u001b[0m\u001b[0m\n",
      "\u001b[0;32m/usr/local/lib/python3.6/site-packages/pandas/core/reshape/concat.py\u001b[0m in \u001b[0;36mget_result\u001b[0;34m(self)\u001b[0m\n\u001b[1;32m    501\u001b[0m \u001b[0;34m\u001b[0m\u001b[0m\n\u001b[1;32m    502\u001b[0m             new_data = concatenate_block_managers(\n\u001b[0;32m--> 503\u001b[0;31m                 \u001b[0mmgrs_indexers\u001b[0m\u001b[0;34m,\u001b[0m \u001b[0mself\u001b[0m\u001b[0;34m.\u001b[0m\u001b[0mnew_axes\u001b[0m\u001b[0;34m,\u001b[0m \u001b[0mconcat_axis\u001b[0m\u001b[0;34m=\u001b[0m\u001b[0mself\u001b[0m\u001b[0;34m.\u001b[0m\u001b[0mbm_axis\u001b[0m\u001b[0;34m,\u001b[0m \u001b[0mcopy\u001b[0m\u001b[0;34m=\u001b[0m\u001b[0mself\u001b[0m\u001b[0;34m.\u001b[0m\u001b[0mcopy\u001b[0m\u001b[0;34m,\u001b[0m\u001b[0;34m\u001b[0m\u001b[0;34m\u001b[0m\u001b[0m\n\u001b[0m\u001b[1;32m    504\u001b[0m             )\n\u001b[1;32m    505\u001b[0m             \u001b[0;32mif\u001b[0m \u001b[0;32mnot\u001b[0m \u001b[0mself\u001b[0m\u001b[0;34m.\u001b[0m\u001b[0mcopy\u001b[0m\u001b[0;34m:\u001b[0m\u001b[0;34m\u001b[0m\u001b[0;34m\u001b[0m\u001b[0m\n",
      "\u001b[0;32m/usr/local/lib/python3.6/site-packages/pandas/core/internals/concat.py\u001b[0m in \u001b[0;36mconcatenate_block_managers\u001b[0;34m(mgrs_indexers, axes, concat_axis, copy)\u001b[0m\n\u001b[1;32m     52\u001b[0m     \u001b[0mblocks\u001b[0m \u001b[0;34m=\u001b[0m \u001b[0;34m[\u001b[0m\u001b[0;34m]\u001b[0m\u001b[0;34m\u001b[0m\u001b[0;34m\u001b[0m\u001b[0m\n\u001b[1;32m     53\u001b[0m \u001b[0;34m\u001b[0m\u001b[0m\n\u001b[0;32m---> 54\u001b[0;31m     \u001b[0;32mfor\u001b[0m \u001b[0mplacement\u001b[0m\u001b[0;34m,\u001b[0m \u001b[0mjoin_units\u001b[0m \u001b[0;32min\u001b[0m \u001b[0mconcat_plan\u001b[0m\u001b[0;34m:\u001b[0m\u001b[0;34m\u001b[0m\u001b[0;34m\u001b[0m\u001b[0m\n\u001b[0m\u001b[1;32m     55\u001b[0m \u001b[0;34m\u001b[0m\u001b[0m\n\u001b[1;32m     56\u001b[0m         \u001b[0;32mif\u001b[0m \u001b[0mlen\u001b[0m\u001b[0;34m(\u001b[0m\u001b[0mjoin_units\u001b[0m\u001b[0;34m)\u001b[0m \u001b[0;34m==\u001b[0m \u001b[0;36m1\u001b[0m \u001b[0;32mand\u001b[0m \u001b[0;32mnot\u001b[0m \u001b[0mjoin_units\u001b[0m\u001b[0;34m[\u001b[0m\u001b[0;36m0\u001b[0m\u001b[0;34m]\u001b[0m\u001b[0;34m.\u001b[0m\u001b[0mindexers\u001b[0m\u001b[0;34m:\u001b[0m\u001b[0;34m\u001b[0m\u001b[0;34m\u001b[0m\u001b[0m\n",
      "\u001b[0;32m/usr/local/lib/python3.6/site-packages/pandas/core/internals/concat.py\u001b[0m in \u001b[0;36m_combine_concat_plans\u001b[0;34m(plans, concat_axis)\u001b[0m\n\u001b[1;32m    559\u001b[0m         \u001b[0;32mwhile\u001b[0m \u001b[0mnum_ended\u001b[0m\u001b[0;34m[\u001b[0m\u001b[0;36m0\u001b[0m\u001b[0;34m]\u001b[0m \u001b[0;34m!=\u001b[0m \u001b[0mlen\u001b[0m\u001b[0;34m(\u001b[0m\u001b[0mnext_items\u001b[0m\u001b[0;34m)\u001b[0m\u001b[0;34m:\u001b[0m\u001b[0;34m\u001b[0m\u001b[0;34m\u001b[0m\u001b[0m\n\u001b[1;32m    560\u001b[0m             \u001b[0;32mif\u001b[0m \u001b[0mnum_ended\u001b[0m\u001b[0;34m[\u001b[0m\u001b[0;36m0\u001b[0m\u001b[0;34m]\u001b[0m \u001b[0;34m>\u001b[0m \u001b[0;36m0\u001b[0m\u001b[0;34m:\u001b[0m\u001b[0;34m\u001b[0m\u001b[0;34m\u001b[0m\u001b[0m\n\u001b[0;32m--> 561\u001b[0;31m                 \u001b[0;32mraise\u001b[0m \u001b[0mValueError\u001b[0m\u001b[0;34m(\u001b[0m\u001b[0;34m\"Plan shapes are not aligned\"\u001b[0m\u001b[0;34m)\u001b[0m\u001b[0;34m\u001b[0m\u001b[0;34m\u001b[0m\u001b[0m\n\u001b[0m\u001b[1;32m    562\u001b[0m \u001b[0;34m\u001b[0m\u001b[0m\n\u001b[1;32m    563\u001b[0m             \u001b[0mplacements\u001b[0m\u001b[0;34m,\u001b[0m \u001b[0munits\u001b[0m \u001b[0;34m=\u001b[0m \u001b[0mzip\u001b[0m\u001b[0;34m(\u001b[0m\u001b[0;34m*\u001b[0m\u001b[0mnext_items\u001b[0m\u001b[0;34m)\u001b[0m\u001b[0;34m\u001b[0m\u001b[0;34m\u001b[0m\u001b[0m\n",
      "\u001b[0;31mValueError\u001b[0m: Plan shapes are not aligned"
     ]
    }
   ],
   "source": [
    "url = f\"https://www.sportsoddshistory.com/nfl-game-season/?y=2022\"\n",
    "page = req.get(url, headers=headers).text\n",
    "soup = BeautifulSoup(page, \"html.parser\")\n",
    "tables = soup.find_all(\"table\", attrs={\"class\":\"soh1\"})\n",
    "pd_list = []\n",
    "for i, table in enumerate(tables[2:]):\n",
    "    df = pd.read_html(str(table))\n",
    "    df = df[0]\n",
    "    df.columns = df.iloc[-2]\n",
    "    df = df.iloc[:-2,: ]\n",
    "    df[\"week\"] = i + 1\n",
    "    pd_list.append(df)\n",
    "df = pd.concat(pd_list)\n",
    "print(df.head())\n",
    "df.to_csv(\"data/nfl_weekly_betting_summary.csv\")"
   ]
  },
  {
   "cell_type": "markdown",
   "id": "5ee8131c-d6a1-4395-8ae7-72b5a7e33413",
   "metadata": {
    "tags": []
   },
   "source": [
    "# Ranking Data\n",
    "____"
   ]
  },
  {
   "cell_type": "markdown",
   "id": "250e7682-5aaa-4773-bb71-0a7185fd38fa",
   "metadata": {},
   "source": [
    "## Team Stats"
   ]
  },
  {
   "cell_type": "code",
   "execution_count": 3,
   "id": "9e956b70-34b0-4c48-9bf7-c46363ce46f9",
   "metadata": {},
   "outputs": [
    {
     "name": "stderr",
     "output_type": "stream",
     "text": [
      "data/team_ranks/_nfl_stat_opponent_penalties_per_play_20230209.csv: 100%|██████████| 226/226 [02:36<00:00,  1.44it/s]                     "
     ]
    },
    {
     "name": "stdout",
     "output_type": "stream",
     "text": [
      "   Rank       Team  2022  Last 3  Last 1  Home  Away  2021        asof                                    url\n",
      "0     1  Tennessee  0.05    0.03    0.03  0.05  0.06  0.05  2023-02-09  /nfl/stat/opponent-penalties-per-play\n",
      "1     2   Carolina  0.05    0.04    0.02  0.05  0.05  0.05  2023-02-09  /nfl/stat/opponent-penalties-per-play\n",
      "2     3  NY Giants  0.05    0.03    0.04  0.05  0.05  0.05  2023-02-09  /nfl/stat/opponent-penalties-per-play\n",
      "3     4     Denver  0.05    0.03    0.04  0.06  0.04  0.05  2023-02-09  /nfl/stat/opponent-penalties-per-play\n",
      "4     5  Minnesota  0.05    0.03    0.04  0.05  0.05  0.04  2023-02-09  /nfl/stat/opponent-penalties-per-play\n"
     ]
    },
    {
     "name": "stderr",
     "output_type": "stream",
     "text": [
      "\n"
     ]
    }
   ],
   "source": [
    "date = \"2023-02-09\"\n",
    "url = \"https://www.teamrankings.com/nfl/stats/\"\n",
    "page = req.get(url, headers=headers).text\n",
    "soup = BeautifulSoup(page, \"html.parser\")\n",
    "pbar = tqdm([a[\"href\"] for a in soup.find(attrs={\"class\":\"column large-2\"}).find_all(\"a\") if a[\"href\"] != \"#\"])\n",
    "\n",
    "for end_point in pbar:\n",
    "    time.sleep(.25)\n",
    "    url = f\"https://www.teamrankings.com{end_point}?date={date}\"\n",
    "    page = req.get(url, headers=headers).text\n",
    "    soup = BeautifulSoup(page, \"html.parser\")\n",
    "    table = soup.find(\"table\")\n",
    "    df = pd.read_html(str(table))[0].replace(\"--\",0)\n",
    "    df[\"asof\"] = date\n",
    "    df[\"url\"] = end_point\n",
    "    file_name = end_point.replace('/', '_').replace(\"-\",\"_\") + \"_\" + date.replace(\"-\", \"\")\n",
    "    full_file_path = f\"data/team_ranks/{file_name}.csv\"\n",
    "    df.to_csv(full_file_path)\n",
    "    pbar.set_description(full_file_path)\n",
    "print(df.head())"
   ]
  },
  {
   "cell_type": "markdown",
   "id": "f68d3a70-5d25-442b-96a2-c1e40b8eef13",
   "metadata": {},
   "source": [
    "## Player Stats"
   ]
  },
  {
   "cell_type": "code",
   "execution_count": 4,
   "id": "6b789641-50b5-4f5b-a049-b164f0b50564",
   "metadata": {
    "tags": []
   },
   "outputs": [
    {
     "name": "stderr",
     "output_type": "stream",
     "text": [
      "data/team_ranks/_nfl_player_stat_scoring_total_points_20230209.csv: 100%|██████████| 112/112 [01:27<00:00,  1.27it/s]                   "
     ]
    },
    {
     "name": "stdout",
     "output_type": "stream",
     "text": [
      "   Rank         Player                 Team Pos  Value                       asof                                    url\n",
      "0     1   Robbie Gould  San Francisco 49ers   K    160 2023-02-09 11:53:33.344206  /nfl/player-stat/scoring-total-points\n",
      "1     2    Jason Myers     Seattle Seahawks   K    148 2023-02-09 11:53:33.344206  /nfl/player-stat/scoring-total-points\n",
      "2     3  Justin Tucker     Baltimore Ravens   K    147 2023-02-09 11:53:33.344206  /nfl/player-stat/scoring-total-points\n",
      "3     4    Brett Maher       Dallas Cowboys   K    144 2023-02-09 11:53:33.344206  /nfl/player-stat/scoring-total-points\n",
      "4     5     Tyler Bass        Buffalo Bills   K    143 2023-02-09 11:53:33.344206  /nfl/player-stat/scoring-total-points\n"
     ]
    },
    {
     "name": "stderr",
     "output_type": "stream",
     "text": [
      "\n"
     ]
    }
   ],
   "source": [
    "url = \"https://www.teamrankings.com/nfl/stats/\"\n",
    "page = req.get(url, headers=headers).text\n",
    "soup = BeautifulSoup(page, \"html.parser\")\n",
    "\n",
    "pbar = tqdm([a[\"href\"] for a in soup.find_all(attrs={\"class\":\"column large-2\"})[-1].find_all(\"a\") if a[\"href\"] != \"#\"])\n",
    "\n",
    "for end_point in pbar:\n",
    "    time.sleep(.25)\n",
    "    url = f\"https://www.teamrankings.com{end_point}?season_id=20\"\n",
    "    page = req.get(url, headers=headers).text\n",
    "    soup = BeautifulSoup(page, \"html.parser\")\n",
    "    table = soup.find(\"table\")\n",
    "    df = pd.read_html(str(table))[0].replace(\"--\",0)\n",
    "    df[\"asof\"] = dt.now()\n",
    "    df[\"url\"] = end_point\n",
    "    file_name = end_point.replace('/', '_').replace(\"-\",\"_\") + \"_\" + pd.to_datetime(date).strftime(\"%Y%m%d\").replace(\"-\", \"\")\n",
    "    full_file_path = f\"data/team_ranks/{file_name}.csv\"\n",
    "    df.to_csv(full_file_path)\n",
    "    pbar.set_description(full_file_path)\n",
    "print(df.head())"
   ]
  },
  {
   "cell_type": "markdown",
   "id": "1a5a25a2-ce03-44de-873e-c14c5f05f430",
   "metadata": {},
   "source": [
    "## Team Schedules\n"
   ]
  },
  {
   "cell_type": "code",
   "execution_count": 5,
   "id": "0d7c4e34-2805-40f7-9173-f95a320da162",
   "metadata": {},
   "outputs": [
    {
     "name": "stderr",
     "output_type": "stream",
     "text": [
      "data/team_ranks/_nfl_team_washington_commanders__20230209.csv: 100%|██████████| 32/32 [00:20<00:00,  1.58it/s]"
     ]
    },
    {
     "name": "stdout",
     "output_type": "stream",
     "text": [
      "    Date      Opponent   Result Location  W/L  Div  Spread    Total  Money                       asof                               url\n",
      "0  09/11  Jacksonville  W 28-22     Home  1-0  0-0    -3.0  Ov 43.0   -157 2023-02-09 11:53:53.948050  /nfl/team/washington-commanders/\n",
      "1  09/18       Detroit  L 27-36     Away  1-1  0-0  (Pick)  Ov 48.0   -115 2023-02-09 11:53:53.948050  /nfl/team/washington-commanders/\n",
      "2  09/25  Philadelphia   L 8-24     Home  1-2  0-1    +5.5  Un 47.5    200 2023-02-09 11:53:53.948050  /nfl/team/washington-commanders/\n",
      "3  10/02        Dallas  L 10-25     Away  1-3  0-2    +3.0  Un 41.0    140 2023-02-09 11:53:53.948050  /nfl/team/washington-commanders/\n",
      "4  10/09     Tennessee  L 17-21     Home  1-4  0-2    +0.5  Un 43.0   -110 2023-02-09 11:53:53.948050  /nfl/team/washington-commanders/\n"
     ]
    },
    {
     "name": "stderr",
     "output_type": "stream",
     "text": [
      "\n"
     ]
    }
   ],
   "source": [
    "url = \"https://www.teamrankings.com/nfl/\"\n",
    "page = req.get(url, headers=headers).text\n",
    "soup = BeautifulSoup(page, \"html.parser\")\n",
    "\n",
    "pbar = tqdm([li.find(\"a\")[\"href\"] for li in soup.find(\"div\", attrs={\"data-section\":\"nfl\"}).find_all(attrs={\"class\":\"teams-group\"})[0].find_all(\"li\")])\n",
    "\n",
    "for end_point in pbar:\n",
    "    time.sleep(.25)\n",
    "    url = f\"https://www.teamrankings.com{end_point}\"\n",
    "    page = req.get(url, headers=headers).text\n",
    "    soup = BeautifulSoup(page, \"html.parser\")\n",
    "    table = soup.find(\"table\", attrs={\"class\":\"tr-table datatable scrollable\"})\n",
    "    df = pd.read_html(str(table), displayed_only=False)[0].replace(\"--\",0)\n",
    "    df[\"asof\"] = dt.now()\n",
    "    df[\"url\"] = end_point\n",
    "    file_name = end_point.replace('/', '_').replace(\"-\",\"_\") + \"_\" + pd.to_datetime(date).strftime(\"%Y%m%d\").replace(\"-\", \"\")    \n",
    "    \n",
    "    full_file_path = f\"data/team_ranks/{file_name}.csv\"\n",
    "    df.to_csv(full_file_path)\n",
    "    pbar.set_description(full_file_path)\n",
    "\n",
    "print(df.head())"
   ]
  },
  {
   "cell_type": "code",
   "execution_count": 6,
   "id": "988bc88a-fc6b-4b64-9a76-e8d07dc4d885",
   "metadata": {},
   "outputs": [
    {
     "data": {
      "text/html": [
       "<div>\n",
       "<style scoped>\n",
       "    .dataframe tbody tr th:only-of-type {\n",
       "        vertical-align: middle;\n",
       "    }\n",
       "\n",
       "    .dataframe tbody tr th {\n",
       "        vertical-align: top;\n",
       "    }\n",
       "\n",
       "    .dataframe thead th {\n",
       "        text-align: right;\n",
       "    }\n",
       "</style>\n",
       "<table border=\"1\" class=\"dataframe\">\n",
       "  <thead>\n",
       "    <tr style=\"text-align: right;\">\n",
       "      <th></th>\n",
       "      <th>teams</th>\n",
       "      <th>time</th>\n",
       "      <th>location</th>\n",
       "      <th>home</th>\n",
       "      <th>away</th>\n",
       "    </tr>\n",
       "  </thead>\n",
       "  <tbody>\n",
       "    <tr>\n",
       "      <th>0</th>\n",
       "      <td>Tennessee @ Green Bay</td>\n",
       "      <td>8:15 PM</td>\n",
       "      <td>Lambeau Field</td>\n",
       "      <td>Green Bay</td>\n",
       "      <td>Tennessee</td>\n",
       "    </tr>\n",
       "    <tr>\n",
       "      <th>1</th>\n",
       "      <td>Detroit @ NY Giants</td>\n",
       "      <td>1:00 PM</td>\n",
       "      <td>MetLife Stadium</td>\n",
       "      <td>NY Giants</td>\n",
       "      <td>Detroit</td>\n",
       "    </tr>\n",
       "    <tr>\n",
       "      <th>2</th>\n",
       "      <td>LA Rams @ New Orleans</td>\n",
       "      <td>1:00 PM</td>\n",
       "      <td>Caesars Superdome</td>\n",
       "      <td>New Orleans</td>\n",
       "      <td>LA Rams</td>\n",
       "    </tr>\n",
       "    <tr>\n",
       "      <th>3</th>\n",
       "      <td>NY Jets @ New England</td>\n",
       "      <td>1:00 PM</td>\n",
       "      <td>Gillette Stadium</td>\n",
       "      <td>New England</td>\n",
       "      <td>NY Jets</td>\n",
       "    </tr>\n",
       "    <tr>\n",
       "      <th>4</th>\n",
       "      <td>Philadelphia @ Indianapolis</td>\n",
       "      <td>1:00 PM</td>\n",
       "      <td>Lucas Oil Stadium</td>\n",
       "      <td>Indianapolis</td>\n",
       "      <td>Philadelphia</td>\n",
       "    </tr>\n",
       "    <tr>\n",
       "      <th>5</th>\n",
       "      <td>Washington @ Houston</td>\n",
       "      <td>1:00 PM</td>\n",
       "      <td>NRG Stadium</td>\n",
       "      <td>Houston</td>\n",
       "      <td>Washington</td>\n",
       "    </tr>\n",
       "    <tr>\n",
       "      <th>6</th>\n",
       "      <td>Cleveland vs. Buffalo</td>\n",
       "      <td>1:00 PM</td>\n",
       "      <td>Ford Field</td>\n",
       "      <td>None</td>\n",
       "      <td>Cleveland vs. Buffalo</td>\n",
       "    </tr>\n",
       "    <tr>\n",
       "      <th>7</th>\n",
       "      <td>Carolina @ Baltimore</td>\n",
       "      <td>1:00 PM</td>\n",
       "      <td>M&amp;T Bank Stadium</td>\n",
       "      <td>Baltimore</td>\n",
       "      <td>Carolina</td>\n",
       "    </tr>\n",
       "    <tr>\n",
       "      <th>8</th>\n",
       "      <td>Chicago @ Atlanta</td>\n",
       "      <td>1:00 PM</td>\n",
       "      <td>Mercedes-Benz Stadium</td>\n",
       "      <td>Atlanta</td>\n",
       "      <td>Chicago</td>\n",
       "    </tr>\n",
       "    <tr>\n",
       "      <th>9</th>\n",
       "      <td>Las Vegas @ Denver</td>\n",
       "      <td>4:05 PM</td>\n",
       "      <td>Empower Field at Mile High</td>\n",
       "      <td>Denver</td>\n",
       "      <td>Las Vegas</td>\n",
       "    </tr>\n",
       "    <tr>\n",
       "      <th>10</th>\n",
       "      <td>Dallas @ Minnesota</td>\n",
       "      <td>4:25 PM</td>\n",
       "      <td>U.S. Bank Stadium</td>\n",
       "      <td>Minnesota</td>\n",
       "      <td>Dallas</td>\n",
       "    </tr>\n",
       "    <tr>\n",
       "      <th>11</th>\n",
       "      <td>Cincinnati @ Pittsburgh</td>\n",
       "      <td>4:25 PM</td>\n",
       "      <td>Acrisure Stadium</td>\n",
       "      <td>Pittsburgh</td>\n",
       "      <td>Cincinnati</td>\n",
       "    </tr>\n",
       "    <tr>\n",
       "      <th>12</th>\n",
       "      <td>Kansas City @ LA Chargers</td>\n",
       "      <td>8:20 PM</td>\n",
       "      <td>SoFi Stadium</td>\n",
       "      <td>LA Chargers</td>\n",
       "      <td>Kansas City</td>\n",
       "    </tr>\n",
       "    <tr>\n",
       "      <th>13</th>\n",
       "      <td>San Francisco vs. Arizona</td>\n",
       "      <td>8:15 PM</td>\n",
       "      <td>Estadio Azteca</td>\n",
       "      <td>None</td>\n",
       "      <td>San Francisco vs. Arizona</td>\n",
       "    </tr>\n",
       "  </tbody>\n",
       "</table>\n",
       "</div>"
      ],
      "text/plain": [
       "                          teams     time                    location           home                       away\n",
       "0         Tennessee @ Green Bay  8:15 PM               Lambeau Field      Green Bay                  Tennessee\n",
       "1           Detroit @ NY Giants  1:00 PM             MetLife Stadium      NY Giants                    Detroit\n",
       "2         LA Rams @ New Orleans  1:00 PM           Caesars Superdome    New Orleans                    LA Rams\n",
       "3         NY Jets @ New England  1:00 PM            Gillette Stadium    New England                    NY Jets\n",
       "4   Philadelphia @ Indianapolis  1:00 PM           Lucas Oil Stadium   Indianapolis               Philadelphia\n",
       "5          Washington @ Houston  1:00 PM                 NRG Stadium        Houston                 Washington\n",
       "6         Cleveland vs. Buffalo  1:00 PM                  Ford Field           None      Cleveland vs. Buffalo\n",
       "7          Carolina @ Baltimore  1:00 PM            M&T Bank Stadium      Baltimore                   Carolina\n",
       "8             Chicago @ Atlanta  1:00 PM       Mercedes-Benz Stadium        Atlanta                    Chicago\n",
       "9            Las Vegas @ Denver  4:05 PM  Empower Field at Mile High         Denver                  Las Vegas\n",
       "10           Dallas @ Minnesota  4:25 PM           U.S. Bank Stadium      Minnesota                     Dallas\n",
       "11      Cincinnati @ Pittsburgh  4:25 PM            Acrisure Stadium     Pittsburgh                 Cincinnati\n",
       "12    Kansas City @ LA Chargers  8:20 PM                SoFi Stadium    LA Chargers                Kansas City\n",
       "13    San Francisco vs. Arizona  8:15 PM              Estadio Azteca           None  San Francisco vs. Arizona"
      ]
     },
     "execution_count": 6,
     "metadata": {},
     "output_type": "execute_result"
    }
   ],
   "source": [
    "url = \"https://www.teamrankings.com/nfl/schedules/season/?week=557\"\n",
    "page = req.get(url, headers=headers).text\n",
    "soup = BeautifulSoup(page, \"html.parser\")\n",
    "table = soup.find(\"table\")\n",
    "df = pd.read_html(str(table), displayed_only=False)[0]\n",
    "df.columns = [\"teams\", \"time\", \"location\"]\n",
    "\n",
    "\n",
    "# 557 == week 11\n",
    "url = \"https://www.teamrankings.com/nfl/schedules/season/?week=557\"\n",
    "page = req.get(url, headers=headers).text\n",
    "soup = BeautifulSoup(page, \"html.parser\")\n",
    "table = soup.find(\"table\")\n",
    "df_schedule = pd.read_html(str(table), displayed_only=False)[0]\n",
    "df_schedule.columns = [\"teams\", \"time\", \"location\"]\n",
    "df_schedule[\"home\"] = df_schedule.teams.str.split(\"@\", expand=True)[1].str.strip(\"\")\n",
    "df_schedule[\"away\"] = df_schedule.teams.str.split(\"@\", expand=True)[0].str.strip()\n",
    "df_schedule\n"
   ]
  }
 ],
 "metadata": {
  "kernelspec": {
   "display_name": "Python 3",
   "language": "python",
   "name": "python3"
  },
  "language_info": {
   "codemirror_mode": {
    "name": "ipython",
    "version": 3
   },
   "file_extension": ".py",
   "mimetype": "text/x-python",
   "name": "python",
   "nbconvert_exporter": "python",
   "pygments_lexer": "ipython3",
   "version": "3.6.15"
  }
 },
 "nbformat": 4,
 "nbformat_minor": 5
}
