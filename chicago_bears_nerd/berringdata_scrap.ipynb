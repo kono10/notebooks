{
 "cells": [
  {
   "cell_type": "code",
   "execution_count": 3,
   "id": "393e4e65-3c6f-4030-a98a-b4e8030c7f24",
   "metadata": {},
   "outputs": [],
   "source": [
    "from bs4 import BeautifulSoup\n",
    "import requests as req\n",
    "from time import sleep\n",
    "import pandas as pd\n",
    "#from tqdm import tqdm\n",
    "\n",
    "\n",
    "# configure pandas\n",
    "pd.set_option('display.max_rows', 500)\n",
    "pd.set_option('display.max_columns', 500)\n",
    "pd.set_option('display.width', 1000)\n"
   ]
  },
  {
   "cell_type": "code",
   "execution_count": 100,
   "id": "68ec8291-9ddc-49cb-a640-533ac19504da",
   "metadata": {},
   "outputs": [
    {
     "data": {
      "text/plain": [
       "['arizona-cardinals',\n",
       " 'atlanta-falcons',\n",
       " 'baltimore-ravens',\n",
       " 'buffalo-bills',\n",
       " 'carolina-panthers',\n",
       " 'chicago-bears',\n",
       " 'cincinnati-bengals',\n",
       " 'cleveland-browns',\n",
       " 'dallas-cowboys',\n",
       " 'denver-broncos',\n",
       " 'detroit-lions',\n",
       " 'green-bay-packers',\n",
       " 'houston-texans',\n",
       " 'indianapolis-colts',\n",
       " 'jacksonville-jaguars',\n",
       " 'kansas-city-chiefs',\n",
       " 'las-vegas-raiders',\n",
       " 'los-angeles-chargers',\n",
       " 'los-angeles-rams',\n",
       " 'miami-dolphins',\n",
       " 'minnesota-vikings',\n",
       " 'new-england-patriots',\n",
       " 'new-orleans-saints',\n",
       " 'new-york-giants',\n",
       " 'new-york-jets',\n",
       " 'philadelphia-eagles',\n",
       " 'pittsburgh-steelers',\n",
       " 'san-francisco-49ers',\n",
       " 'seattle-seahawks',\n",
       " 'tampa-bay-buccaneers',\n",
       " 'tennessee-titans',\n",
       " 'washington-commanders']"
      ]
     },
     "execution_count": 100,
     "metadata": {},
     "output_type": "execute_result"
    }
   ],
   "source": [
    "page = req.get(\"https://www.spotrac.com/nfl/chicago-bears/contracts/\").text\n",
    "soup = BeautifulSoup(page, \"html.parser\")\n",
    "data = []\n",
    "selects = soup.find('select', attrs={\"class\":\"team-select\"})\n",
    "option_list = selects.find_all(\"option\")\n",
    "team_names = [o['value'] for o in option_list if o['value'] != \"all\"]\n",
    "team_names"
   ]
  }
 ],
 "metadata": {
  "kernelspec": {
   "display_name": "Python [conda env:myenv] *",
   "language": "python",
   "name": "conda-env-myenv-py"
  },
  "language_info": {
   "codemirror_mode": {
    "name": "ipython",
    "version": 3
   },
   "file_extension": ".py",
   "mimetype": "text/x-python",
   "name": "python",
   "nbconvert_exporter": "python",
   "pygments_lexer": "ipython3",
   "version": "3.9.13"
  }
 },
 "nbformat": 4,
 "nbformat_minor": 5
}
