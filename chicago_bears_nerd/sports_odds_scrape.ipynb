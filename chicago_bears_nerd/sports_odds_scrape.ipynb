{
 "cells": [
  {
   "cell_type": "code",
   "execution_count": 88,
   "id": "17da4dda-fc3b-48a4-ba81-b7bd610accb7",
   "metadata": {},
   "outputs": [],
   "source": [
    "from bs4 import BeautifulSoup\n",
    "import requests as req\n",
    "from time import sleep\n",
    "import pandas as pd\n",
    "import os\n",
    "import time\n",
    "#from tqdm import tqdm\n",
    "\n",
    "\n",
    "# configure pandas\n",
    "pd.set_option('display.max_rows', 500)\n",
    "pd.set_option('display.max_columns', 500)\n",
    "pd.set_option('display.width', 1000)"
   ]
  },
  {
   "cell_type": "code",
   "execution_count": 3,
   "id": "6a00a33d-2d4f-4c03-a71f-f0e5da3bcdef",
   "metadata": {},
   "outputs": [],
   "source": [
    "headers = {\n",
    "    \"User-Agent\": (\n",
    "        \"Mozilla/5.0 (Windows NT 10.0; Win64; x64) AppleWebKit/537.36 \"\n",
    "        \"(KHTML, like Gecko) Chrome/99.0.4844.51 Safari/537.36\"\n",
    "    )\n",
    "}"
   ]
  },
  {
   "cell_type": "code",
   "execution_count": null,
   "id": "3817638f-763c-4e65-8c02-890153699a70",
   "metadata": {},
   "outputs": [],
   "source": []
  },
  {
   "cell_type": "code",
   "execution_count": 3,
   "id": "e5f49c3f-68b4-4110-b4fe-d127bdc59950",
   "metadata": {},
   "outputs": [],
   "source": [
    "url = \"https://www.sportsoddshistory.com/nfl-game-team/?tm=CHI\""
   ]
  },
  {
   "cell_type": "code",
   "execution_count": 57,
   "id": "de145bb4-821d-4960-b1c7-7847e55c058b",
   "metadata": {},
   "outputs": [],
   "source": [
    "url = \"https://www.sportsoddshistory.com/nfl-game-odds/\"\n",
    "page = req.get(url, headers=headers).text\n",
    "soup = BeautifulSoup(page, \"html.parser\")"
   ]
  },
  {
   "cell_type": "code",
   "execution_count": 78,
   "id": "8362d793-46e1-4c20-814e-c6c881ae8216",
   "metadata": {},
   "outputs": [
    {
     "data": {
      "text/plain": [
       "'BUF'"
      ]
     },
     "execution_count": 78,
     "metadata": {},
     "output_type": "execute_result"
    }
   ],
   "source": [
    "soup.find(\"table\").find_all(\"td\")[0].find(\"a\")[\"href\"].split(\"?tm=\")[-1]\n"
   ]
  },
  {
   "cell_type": "code",
   "execution_count": 84,
   "id": "006c0065-680b-403e-a164-be58f3faa425",
   "metadata": {},
   "outputs": [],
   "source": [
    "team_map = {i.find(\"a\")[\"href\"].split(\"?tm=\")[-1]:i.find(\"a\").text.strip() for i in soup.find(\"table\").find_all(\"td\")}"
   ]
  },
  {
   "cell_type": "code",
   "execution_count": 34,
   "id": "b157b3b0-946c-49a1-8b27-ad30717a6254",
   "metadata": {},
   "outputs": [],
   "source": [
    "table_html = soup.find_all('table', attrs={\"class\":\"soh1\"})"
   ]
  },
  {
   "cell_type": "code",
   "execution_count": 95,
   "id": "91e76a04-b045-4a60-9057-3039ad52abfd",
   "metadata": {},
   "outputs": [
    {
     "name": "stdout",
     "output_type": "stream",
     "text": [
      "BUF\n",
      "BAL\n",
      "HOU\n",
      "DEN\n",
      "MIA\n",
      "CIN\n",
      "IND\n",
      "KCC\n",
      "NEP\n",
      "CLE\n",
      "JAC\n",
      "LVR\n",
      "NYJ\n",
      "PIT\n",
      "TEN\n",
      "LAC\n",
      "DAL\n",
      "CHI\n",
      "ATL\n",
      "ARZ\n",
      "NYG\n",
      "DET\n",
      "CAR\n",
      "LAR\n",
      "PHI\n",
      "GBP\n",
      "NOS\n",
      "SFF\n",
      "WAS\n",
      "MIN\n",
      "TBB\n",
      "SEA\n"
     ]
    }
   ],
   "source": [
    "for tm in team_map:\n",
    "    time.sleep(1)\n",
    "    print(tm)\n",
    "    url = f\"https://www.sportsoddshistory.com/nfl-game-team/?tm={tm}\"\n",
    "    page = req.get(url, headers=headers).text\n",
    "    soup = BeautifulSoup(page, \"html.parser\")\n",
    "    table_html = soup.find_all('table', attrs={\"class\":\"soh1\"})\n",
    "    df_summary = pd.read_html(str(table_html[0]))[0]\n",
    "    df_summary.columns = [\"year\", \"total_su\", \"total_ats\", \"fav_su\", \"fav_ats\", \"home_su\", \"home_ats\", \"home_fav_su\", \"home_fav_ats\", \"home_dog_su\", \"home_dog_ats\", \"under_overs\"]\n",
    "    \n",
    "    df_summary[df_summary.year != 'Year'].to_csv(f\"data/spread_history/{tm.lower()}_spread_summary.csv\")"
   ]
  },
  {
   "cell_type": "code",
   "execution_count": 97,
   "id": "22bb2a1a-824c-495d-8dd2-1343f2944643",
   "metadata": {},
   "outputs": [],
   "source": [
    "#url = \"https://www.sportsoddshistory.com/nfl-game-team/?tm=CHI\"\n",
    "url = \"https://www.sportsoddshistory.com/nfl-game-team/?tm=CHI&d=2020#2022\"\n",
    "\n",
    "#url = \"https://www.sportsoddshistory.com/nfl-game-team/?tm=CHI&d=2010#2019\"\n",
    "page = req.get(url, headers=headers).text\n",
    "soup = BeautifulSoup(page, \"html.parser\")"
   ]
  },
  {
   "cell_type": "code",
   "execution_count": 190,
   "id": "41bfe682-8e8a-4ef1-b2c2-1be9e46e4140",
   "metadata": {},
   "outputs": [],
   "source": [
    "tables = soup.find_all(\"table\", attrs={\"class\":\"soh1\"})"
   ]
  },
  {
   "cell_type": "code",
   "execution_count": 215,
   "id": "11b9f1bd-27e7-4bd2-93d7-382994caf3b6",
   "metadata": {},
   "outputs": [],
   "source": [
    "df = pd.read_html(str(tables[1]))"
   ]
  },
  {
   "cell_type": "code",
   "execution_count": 216,
   "id": "2eca8d11-93f9-4ef0-a8ee-fbe6c0cec6f3",
   "metadata": {},
   "outputs": [],
   "source": [
    "df[0].columns = df[0].iloc[-1]"
   ]
  },
  {
   "cell_type": "code",
   "execution_count": 217,
   "id": "25d2e06d-414e-49e8-a150-110b8115bd13",
   "metadata": {},
   "outputs": [],
   "source": [
    "df = df[0].iloc[:-1]"
   ]
  },
  {
   "cell_type": "code",
   "execution_count": 222,
   "id": "bb4b8eed-a221-455c-9f0d-1b4e2336a80a",
   "metadata": {},
   "outputs": [],
   "source": [
    "df[[\"result_ats\",\"spread\"]] = df.Spread.str.split(\" \", expand=True)\n",
    "df[\"result\"] = df.Score.str.split(\" \", expand=True)[0]\n",
    "df[[\"bears_pts\",\"opp_pts\"]] = df.Score.str.split(\" \", expand=True)[1].str.split(\"-\", expand=True)\n",
    "df[\"num_spread\"] = pd.to_numeric(df.spread)\n",
    "h"
   ]
  },
  {
   "cell_type": "code",
   "execution_count": 181,
   "id": "ba0e2a04-8f3d-4415-b9fc-f1b39ddcff6c",
   "metadata": {},
   "outputs": [],
   "source": [
    "df.to_csv(\"2021_chi_games_spread.csv\")"
   ]
  },
  {
   "cell_type": "code",
   "execution_count": 122,
   "id": "0e1b2efd-b935-4c92-9ae8-06477b33c5fd",
   "metadata": {},
   "outputs": [],
   "source": [
    "header = [h.text.strip() for h in tables[2].find_all(\"th\")][:10]\n",
    "\n"
   ]
  },
  {
   "cell_type": "code",
   "execution_count": 223,
   "id": "bb6d95a0-d54e-4474-94be-74e7d62ddc00",
   "metadata": {},
   "outputs": [],
   "source": [
    "#tables[2]\n"
   ]
  },
  {
   "cell_type": "code",
   "execution_count": 232,
   "id": "113a577a-8c9c-4485-a606-19a679db3c8a",
   "metadata": {},
   "outputs": [],
   "source": [
    "import requests"
   ]
  },
  {
   "cell_type": "code",
   "execution_count": 237,
   "id": "f42b69c1-db7d-4d69-885c-3a986368e17d",
   "metadata": {},
   "outputs": [
    {
     "name": "stdout",
     "output_type": "stream",
     "text": [
      "https://loodibee.com/wp-content/uploads/nfl-buffalo-bills-team-logo-2.png\n",
      "https://loodibee.com/wp-content/uploads/nfl-baltimore-ravens-team-logo-2.png\n",
      "https://loodibee.com/wp-content/uploads/nfl-houston-texans-team-logo-2.png\n",
      "https://loodibee.com/wp-content/uploads/nfl-denver-broncos-team-logo-2.png\n",
      "https://loodibee.com/wp-content/uploads/nfl-miami-dolphins-team-logo-2.png\n",
      "https://loodibee.com/wp-content/uploads/nfl-cincinnati-bengals-team-logo-2.png\n",
      "https://loodibee.com/wp-content/uploads/nfl-indianapolis-colts-team-logo-2.png\n",
      "https://loodibee.com/wp-content/uploads/nfl-kansas-city-chiefs-team-logo-2.png\n",
      "https://loodibee.com/wp-content/uploads/nfl-new-england-patriots-team-logo-2.png\n",
      "https://loodibee.com/wp-content/uploads/nfl-cleveland-browns-team-logo-2.png\n",
      "https://loodibee.com/wp-content/uploads/nfl-jacksonville-jaguars-team-logo-2.png\n",
      "https://loodibee.com/wp-content/uploads/nfl-las-vegas-raiders-team-logo-2.png\n",
      "https://loodibee.com/wp-content/uploads/nfl-new-york-jets-team-logo-2.png\n",
      "https://loodibee.com/wp-content/uploads/nfl-pittsburgh-steelers-team-logo-2.png\n",
      "https://loodibee.com/wp-content/uploads/nfl-tennessee-titans-team-logo-2.png\n",
      "https://loodibee.com/wp-content/uploads/nfl-los-angeles-chargers-team-logo-2.png\n",
      "https://loodibee.com/wp-content/uploads/nfl-dallas-cowboys-team-logo-2.png\n",
      "https://loodibee.com/wp-content/uploads/nfl-chicago-bears-team-logo-2.png\n",
      "https://loodibee.com/wp-content/uploads/nfl-atlanta-falcons-team-logo-2.png\n",
      "https://loodibee.com/wp-content/uploads/nfl-arizona-cardinals-team-logo-2.png\n",
      "https://loodibee.com/wp-content/uploads/nfl-new-york-giants-team-logo-2.png\n",
      "https://loodibee.com/wp-content/uploads/nfl-detroit-lions-team-logo-2.png\n",
      "https://loodibee.com/wp-content/uploads/nfl-carolina-panthers-team-logo-2.png\n",
      "https://loodibee.com/wp-content/uploads/nfl-los-angeles-rams-team-logo-2.png\n",
      "https://loodibee.com/wp-content/uploads/nfl-philadelphia-eagles-team-logo-2.png\n",
      "https://loodibee.com/wp-content/uploads/nfl-green-bay-packers-team-logo-2.png\n",
      "https://loodibee.com/wp-content/uploads/nfl-new-orleans-saints-team-logo-2.png\n",
      "https://loodibee.com/wp-content/uploads/nfl-san-francisco-49ers-team-logo-2.png\n",
      "https://loodibee.com/wp-content/uploads/nfl-washington-football-team-team-logo-2.png\n",
      "https://loodibee.com/wp-content/uploads/nfl-minnesota-vikings-team-logo-2.png\n",
      "https://loodibee.com/wp-content/uploads/nfl-tampa-bay-buccaneers-team-logo-2.png\n",
      "https://loodibee.com/wp-content/uploads/nfl-seattle-seahawks-team-logo-2.png\n"
     ]
    }
   ],
   "source": [
    "url = f\"https://loodibee.com/wp-content/uploads/nfl-chicago-bears-team-logo-2.png\"\n",
    "for _, tm in team_map.items():\n",
    "    team_name = tm.lower().replace(\" \",\"-\")\n",
    "    url = f\"https://loodibee.com/wp-content/uploads/nfl-{team_name}-team-logo-2.png\"\n",
    "    print(url)\n",
    "    r = requests.get(url, allow_redirects=True)\n",
    "    open(f\"{team_name}.png\", 'wb').write(r.content)\n",
    "\n"
   ]
  },
  {
   "cell_type": "code",
   "execution_count": null,
   "id": "75e2903e-3996-405c-bd65-f518d499c345",
   "metadata": {},
   "outputs": [],
   "source": []
  }
 ],
 "metadata": {
  "kernelspec": {
   "display_name": "Python [conda env:myenv] *",
   "language": "python",
   "name": "conda-env-myenv-py"
  },
  "language_info": {
   "codemirror_mode": {
    "name": "ipython",
    "version": 3
   },
   "file_extension": ".py",
   "mimetype": "text/x-python",
   "name": "python",
   "nbconvert_exporter": "python",
   "pygments_lexer": "ipython3",
   "version": "3.9.13"
  }
 },
 "nbformat": 4,
 "nbformat_minor": 5
}
