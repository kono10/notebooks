{
 "cells": [
  {
   "cell_type": "code",
   "execution_count": 1,
   "id": "a12fe427-81df-4510-ae9d-ed7a4f8e0040",
   "metadata": {},
   "outputs": [],
   "source": [
    "from bs4 import BeautifulSoup\n",
    "import requests as req\n",
    "from time import sleep\n",
    "import pandas as pd\n",
    "import os\n",
    "import time\n",
    "\n",
    "\n",
    "# configure pandas\n",
    "pd.set_option('display.max_rows', 500)\n",
    "pd.set_option('display.max_columns', 500)\n",
    "pd.set_option('display.width', 1000)\n",
    "\n",
    "headers = {\n",
    "    \"User-Agent\": (\n",
    "        \"Mozilla/5.0 (Windows NT 10.0; Win64; x64) AppleWebKit/537.36 \"\n",
    "        \"(KHTML, like Gecko) Chrome/99.0.4844.51 Safari/537.36\"\n",
    "    )\n",
    "}"
   ]
  },
  {
   "cell_type": "code",
   "execution_count": 2,
   "id": "a1b4d33e-3982-4052-8a5f-4684e544489c",
   "metadata": {},
   "outputs": [],
   "source": [
    "url = \"https://www.teamrankings.com/nfl/stats/\""
   ]
  },
  {
   "cell_type": "code",
   "execution_count": 3,
   "id": "c277103d-33f0-4f1e-a09a-09bd5c4446c2",
   "metadata": {},
   "outputs": [],
   "source": [
    "page = req.get(url, headers=headers).text\n",
    "soup = BeautifulSoup(page, \"html.parser\")"
   ]
  },
  {
   "cell_type": "code",
   "execution_count": 4,
   "id": "f1797fe3-054f-41d1-beee-7aa5d2870645",
   "metadata": {},
   "outputs": [],
   "source": [
    "end_points = [a[\"href\"] for a in soup.find(attrs={\"class\":\"column large-2\"}).find_all(\"a\") if a[\"href\"] != \"#\"]"
   ]
  },
  {
   "cell_type": "markdown",
   "id": "5dffd06e-196a-4e1d-8bdb-1f57030652d6",
   "metadata": {
    "tags": []
   },
   "source": [
    "# Team Stats\n",
    "------"
   ]
  },
  {
   "cell_type": "code",
   "execution_count": 5,
   "id": "8c79ed95-f8a7-4891-b47d-5f9be6d9733c",
   "metadata": {
    "tags": []
   },
   "outputs": [],
   "source": [
    "date = \"2022-10-25\"\n",
    "for end_point in end_points:\n",
    "    time.sleep(1)\n",
    "    url = f\"https://www.teamrankings.com{end_point}?date={date}\"\n",
    "    page = req.get(url, headers=headers).text\n",
    "    soup = BeautifulSoup(page, \"html.parser\")\n",
    "    table = soup.find(\"table\")\n",
    "    df = pd.read_html(str(table))[0].replace(\"--\",0)\n",
    "    df[\"asof\"] = date\n",
    "    df[\"url\"] = end_point\n",
    "    file_name = end_point.replace('/', '_').replace(\"-\",\"_\") + \"_\" + date.replace(\"-\", \"\")\n",
    "    break\n",
    "    print(f\"File Name: {file_name}\")\n",
    "    df.to_csv(f\"data/team_ranks/{file_name}.csv\")"
   ]
  },
  {
   "cell_type": "markdown",
   "id": "6e985722-cee4-4de0-90ba-869dc17d6c42",
   "metadata": {
    "tags": []
   },
   "source": [
    "# Player Stats\n",
    "___"
   ]
  },
  {
   "cell_type": "code",
   "execution_count": 6,
   "id": "30814878-19f5-4335-a93b-f9f8f87722d3",
   "metadata": {},
   "outputs": [],
   "source": [
    "url = \"https://www.teamrankings.com/nfl/stats/\"\n",
    "page = req.get(url, headers=headers).text\n",
    "soup = BeautifulSoup(page, \"html.parser\")\n"
   ]
  },
  {
   "cell_type": "code",
   "execution_count": 7,
   "id": "0b1bd039-07cc-4c34-b007-bb1842d4693c",
   "metadata": {},
   "outputs": [],
   "source": [
    "end_points = [a[\"href\"] for a in soup.find_all(attrs={\"class\":\"column large-2\"})[-1].find_all(\"a\") if a[\"href\"] != \"#\"]"
   ]
  },
  {
   "cell_type": "code",
   "execution_count": 8,
   "id": "2814a28b-9343-4a27-9235-40a3fe756d55",
   "metadata": {},
   "outputs": [],
   "source": [
    "from datetime import datetime as dt"
   ]
  },
  {
   "cell_type": "code",
   "execution_count": 9,
   "id": "be2d517c-2685-4478-a572-537d23e1fd61",
   "metadata": {
    "tags": []
   },
   "outputs": [
    {
     "name": "stdout",
     "output_type": "stream",
     "text": [
      "File Name: _nfl_player_stat_games_played_20221025\n",
      "File Name: _nfl_player_stat_games_started_20221025\n",
      "File Name: _nfl_player_stat_quarterback_wins_20221025\n",
      "File Name: _nfl_player_stat_quarterback_losses_20221025\n",
      "File Name: _nfl_player_stat_quarterback_ties_20221025\n",
      "File Name: _nfl_player_stat_quarterback_winning_percentage_20221025\n",
      "File Name: _nfl_player_stat_passing_plays_completed_20221025\n",
      "File Name: _nfl_player_stat_passing_plays_attempted_20221025\n",
      "File Name: _nfl_player_stat_passing_gross_yards_20221025\n",
      "File Name: _nfl_player_stat_passing_touchdowns_20221025\n",
      "File Name: _nfl_player_stat_touchdown_percentage_20221025\n",
      "File Name: _nfl_player_stat_passing_plays_intercepted_20221025\n",
      "File Name: _nfl_player_stat_interception_percentage_20221025\n",
      "File Name: _nfl_player_stat_games_with_an_interception_20221025\n",
      "File Name: _nfl_player_stat_percent_of_games_with_an_interception_20221025\n",
      "File Name: _nfl_player_stat_completion_percentage_20221025\n",
      "File Name: _nfl_player_stat_gross_yards_per_passing_attempt_20221025\n",
      "File Name: _nfl_player_stat_passing_longest_yards_20221025\n",
      "File Name: _nfl_player_stat_passing_plays_sacked_20221025\n",
      "File Name: _nfl_player_stat_passing_sacked_yards_20221025\n",
      "File Name: _nfl_player_stat_passing_net_yards_20221025\n",
      "File Name: _nfl_player_stat_net_yards_per_passing_play_20221025\n",
      "File Name: _nfl_player_stat_qb_rating_nfl_20221025\n",
      "File Name: _nfl_player_stat_passing_2pt_conversions_succeeded_20221025\n",
      "File Name: _nfl_player_stat_rushing_and_receiving_yards_20221025\n",
      "File Name: _nfl_player_stat_rushing_plays_20221025\n",
      "File Name: _nfl_player_stat_rushing_net_yards_20221025\n",
      "File Name: _nfl_player_stat_rushing_yards_per_attempt_20221025\n",
      "File Name: _nfl_player_stat_rushing_touchdowns_20221025\n",
      "File Name: _nfl_player_stat_rushing_longest_yards_20221025\n",
      "File Name: _nfl_player_stat_rushing_2pt_conversions_succeeded_20221025\n",
      "File Name: _nfl_player_stat_rushing_and_receiving_yards_20221025\n",
      "File Name: _nfl_player_stat_rushing_and_receiving_touchdowns_20221025\n",
      "File Name: _nfl_player_stat_receiving_receptions_20221025\n",
      "File Name: _nfl_player_stat_receiving_yards_20221025\n",
      "File Name: _nfl_player_stat_receiving_yards_per_catch_20221025\n",
      "File Name: _nfl_player_stat_receiving_touchdowns_20221025\n",
      "File Name: _nfl_player_stat_receiving_longest_yards_20221025\n",
      "File Name: _nfl_player_stat_receiving_targeted_20221025\n",
      "File Name: _nfl_player_stat_receiving_catch_rate_20221025\n",
      "File Name: _nfl_player_stat_receiving_2pt_conversions_succeeded_20221025\n",
      "File Name: _nfl_player_stat_kickoff_returns_20221025\n",
      "File Name: _nfl_player_stat_kickoff_return_yards_20221025\n",
      "File Name: _nfl_player_stat_kickoff_return_yards_per_return_20221025\n",
      "File Name: _nfl_player_stat_kickoff_return_touchdowns_20221025\n",
      "File Name: _nfl_player_stat_kickoff_return_longest_yards_20221025\n",
      "File Name: _nfl_player_stat_kickoff_return_faircatches_20221025\n",
      "File Name: _nfl_player_stat_punt_returns_20221025\n",
      "File Name: _nfl_player_stat_punt_return_yards_20221025\n",
      "File Name: _nfl_player_stat_punt_return_yards_per_return_20221025\n",
      "File Name: _nfl_player_stat_punt_return_touchdowns_20221025\n",
      "File Name: _nfl_player_stat_punt_return_longest_yards_20221025\n",
      "File Name: _nfl_player_stat_punt_return_faircatches_20221025\n",
      "File Name: _nfl_player_stat_fumbles_20221025\n",
      "File Name: _nfl_player_stat_fumbles_lost_20221025\n",
      "File Name: _nfl_player_stat_defense_miscellaneous_fumble_recoveries_20221025\n",
      "File Name: _nfl_player_stat_field_goals_succeeded_20221025\n",
      "File Name: _nfl_player_stat_field_goals_attempted_20221025\n",
      "File Name: _nfl_player_stat_field_goal_percentage_20221025\n",
      "File Name: _nfl_player_stat_field_goals_succeeded_longest_yards_20221025\n",
      "File Name: _nfl_player_stat_extra_point_kicks_succeeded_20221025\n",
      "File Name: _nfl_player_stat_extra_point_kicks_attempted_20221025\n",
      "File Name: _nfl_player_stat_extra_point_percentage_20221025\n",
      "File Name: _nfl_player_stat_field_goals_succeeded_0_to_19_20221025\n",
      "File Name: _nfl_player_stat_field_goals_attempted_0_to_19_20221025\n",
      "File Name: _nfl_player_stat_field_goal_percentage_0_to_19_20221025\n",
      "File Name: _nfl_player_stat_field_goals_succeeded_20_to_29_20221025\n",
      "File Name: _nfl_player_stat_field_goals_attempted_20_to_29_20221025\n",
      "File Name: _nfl_player_stat_field_goal_percentage_20_to_29_20221025\n",
      "File Name: _nfl_player_stat_field_goals_succeeded_30_to_39_20221025\n",
      "File Name: _nfl_player_stat_field_goals_attempted_30_to_39_20221025\n",
      "File Name: _nfl_player_stat_field_goal_percentage_30_to_39_20221025\n",
      "File Name: _nfl_player_stat_field_goals_succeeded_40_to_49_20221025\n",
      "File Name: _nfl_player_stat_field_goals_attempted_40_to_49_20221025\n",
      "File Name: _nfl_player_stat_field_goal_percentage_40_to_49_20221025\n",
      "File Name: _nfl_player_stat_field_goals_succeeded_50_plus_20221025\n",
      "File Name: _nfl_player_stat_field_goals_attempted_50_plus_20221025\n",
      "File Name: _nfl_player_stat_field_goal_percentage_50_plus_20221025\n",
      "File Name: _nfl_player_stat_kicking_points_20221025\n",
      "File Name: _nfl_player_stat_punting_plays_20221025\n",
      "File Name: _nfl_player_stat_punting_gross_yards_20221025\n",
      "File Name: _nfl_player_stat_punting_yards_per_punt_20221025\n",
      "File Name: _nfl_player_stat_punting_longest_yards_20221025\n",
      "File Name: _nfl_player_stat_punting_inside_twenty_20221025\n",
      "File Name: _nfl_player_stat_punting_inside_twenty_percentage_20221025\n",
      "File Name: _nfl_player_stat_punting_touchbacks_20221025\n",
      "File Name: _nfl_player_stat_punting_touchback_percentage_20221025\n",
      "File Name: _nfl_player_stat_defense_total_tackles_20221025\n",
      "File Name: _nfl_player_stat_defense_solo_tackles_20221025\n",
      "File Name: _nfl_player_stat_defense_assisted_tackles_20221025\n",
      "File Name: _nfl_player_stat_defense_sacks_20221025\n",
      "File Name: _nfl_player_stat_defense_sack_yards_20221025\n",
      "File Name: _nfl_player_stat_defense_tackles_for_loss_20221025\n",
      "File Name: _nfl_player_stat_defense_pass_defenses_20221025\n",
      "File Name: _nfl_player_stat_defense_interceptions_20221025\n",
      "File Name: _nfl_player_stat_defense_interception_yards_20221025\n",
      "File Name: _nfl_player_stat_interceptions_returned_touchdowns_20221025\n",
      "File Name: _nfl_player_stat_defense_forced_fumbles_20221025\n",
      "File Name: _nfl_player_stat_defense_fumble_recoveries_20221025\n",
      "File Name: _nfl_player_stat_fumbles_recovered_touchdowns_20221025\n",
      "File Name: _nfl_player_stat_fumbles_recovered_lost_by_opposition_20221025\n",
      "File Name: _nfl_player_stat_defense_special_teams_total_tackles_20221025\n",
      "File Name: _nfl_player_stat_defense_special_teams_solo_tackles_20221025\n",
      "File Name: _nfl_player_stat_defense_special_teams_assisted_tackles_20221025\n",
      "File Name: _nfl_player_stat_defense_special_teams_fumble_recoveries_20221025\n",
      "File Name: _nfl_player_stat_total_touchdowns_20221025\n",
      "File Name: _nfl_player_stat_games_with_a_touchdown_20221025\n",
      "File Name: _nfl_player_stat_percent_of_games_with_a_touchdown_20221025\n",
      "File Name: _nfl_player_stat_scoring_two_point_conversions_20221025\n",
      "File Name: _nfl_player_stat_scoring_field_goals_20221025\n",
      "File Name: _nfl_player_stat_scoring_extra_points_20221025\n",
      "File Name: _nfl_player_stat_scoring_total_points_20221025\n"
     ]
    }
   ],
   "source": [
    "for end_point in end_points:\n",
    "    time.sleep(1)\n",
    "    url = f\"https://www.teamrankings.com{end_point}?season_id=20\"\n",
    "    page = req.get(url, headers=headers).text\n",
    "    soup = BeautifulSoup(page, \"html.parser\")\n",
    "    table = soup.find(\"table\")\n",
    "    df = pd.read_html(str(table))[0].replace(\"--\",0)\n",
    "    df[\"asof\"] = dt.now()\n",
    "    df[\"url\"] = end_point\n",
    "    file_name = end_point.replace('/', '_').replace(\"-\",\"_\") + \"_\" + dt.now().strftime(\"%Y%m%d\").replace(\"-\", \"\")\n",
    "    print(f\"File Name: {file_name}\")\n",
    "    df.to_csv(f\"data/team_ranks/{file_name}.csv\")"
   ]
  },
  {
   "cell_type": "markdown",
   "id": "9019b145-1695-4cfc-8393-c2fd60a5fd68",
   "metadata": {},
   "source": [
    "# Team Stat Summary\n",
    "___"
   ]
  },
  {
   "cell_type": "code",
   "execution_count": 10,
   "id": "55e906e9-969c-4aaa-839d-ff2fec2aeb08",
   "metadata": {},
   "outputs": [],
   "source": [
    "url = \"https://www.teamrankings.com/nfl/\""
   ]
  },
  {
   "cell_type": "code",
   "execution_count": 11,
   "id": "d4bcde3e-0b44-42c4-a76c-0a2cb05eb6f3",
   "metadata": {},
   "outputs": [],
   "source": [
    "page = req.get(url, headers=headers).text\n",
    "soup = BeautifulSoup(page, \"html.parser\")"
   ]
  },
  {
   "cell_type": "code",
   "execution_count": 12,
   "id": "3be25171-572e-4dc2-9a41-1ff9381c96b0",
   "metadata": {},
   "outputs": [],
   "source": [
    "end_points = [li.find(\"a\")[\"href\"] for li in soup.find(\"div\", attrs={\"data-section\":\"nfl\"}).find_all(attrs={\"class\":\"teams-group\"})[0].find_all(\"li\")]"
   ]
  },
  {
   "cell_type": "code",
   "execution_count": 13,
   "id": "2e46617f-3b83-4af8-957b-b19ffefa5eb0",
   "metadata": {},
   "outputs": [
    {
     "name": "stdout",
     "output_type": "stream",
     "text": [
      "File Name: _nfl_team_arizona_cardinals__20221025\n",
      "File Name: _nfl_team_atlanta_falcons__20221025\n",
      "File Name: _nfl_team_baltimore_ravens__20221025\n",
      "File Name: _nfl_team_buffalo_bills__20221025\n",
      "File Name: _nfl_team_carolina_panthers__20221025\n",
      "File Name: _nfl_team_chicago_bears__20221025\n",
      "File Name: _nfl_team_cincinnati_bengals__20221025\n",
      "File Name: _nfl_team_cleveland_browns__20221025\n",
      "File Name: _nfl_team_dallas_cowboys__20221025\n",
      "File Name: _nfl_team_denver_broncos__20221025\n",
      "File Name: _nfl_team_detroit_lions__20221025\n",
      "File Name: _nfl_team_green_bay_packers__20221025\n",
      "File Name: _nfl_team_houston_texans__20221025\n",
      "File Name: _nfl_team_indianapolis_colts__20221025\n",
      "File Name: _nfl_team_jacksonville_jaguars__20221025\n",
      "File Name: _nfl_team_kansas_city_chiefs__20221025\n",
      "File Name: _nfl_team_miami_dolphins__20221025\n",
      "File Name: _nfl_team_las_vegas_raiders__20221025\n",
      "File Name: _nfl_team_los_angeles_chargers__20221025\n",
      "File Name: _nfl_team_los_angeles_rams__20221025\n",
      "File Name: _nfl_team_minnesota_vikings__20221025\n",
      "File Name: _nfl_team_new_england_patriots__20221025\n",
      "File Name: _nfl_team_new_orleans_saints__20221025\n",
      "File Name: _nfl_team_new_york_giants__20221025\n",
      "File Name: _nfl_team_new_york_jets__20221025\n",
      "File Name: _nfl_team_philadelphia_eagles__20221025\n",
      "File Name: _nfl_team_pittsburgh_steelers__20221025\n",
      "File Name: _nfl_team_san_francisco_49ers__20221025\n",
      "File Name: _nfl_team_seattle_seahawks__20221025\n",
      "File Name: _nfl_team_tampa_bay_buccaneers__20221025\n",
      "File Name: _nfl_team_tennessee_titans__20221025\n",
      "File Name: _nfl_team_washington_commanders__20221025\n"
     ]
    }
   ],
   "source": [
    "for end_point in end_points:\n",
    "    time.sleep(1)\n",
    "    url = f\"https://www.teamrankings.com{end_point}\"\n",
    "    page = req.get(url, headers=headers).text\n",
    "    soup = BeautifulSoup(page, \"html.parser\")\n",
    "    table = soup.find(\"table\", attrs={\"class\":\"tr-table datatable scrollable\"})\n",
    "    df = pd.read_html(str(table), displayed_only=False)[0].replace(\"--\",0)\n",
    "    df[\"asof\"] = dt.now()\n",
    "    df[\"url\"] = end_point\n",
    "    file_name = end_point.replace('/', '_').replace(\"-\",\"_\") + \"_\" + dt.now().strftime(\"%Y%m%d\").replace(\"-\", \"\")\n",
    "    print(f\"File Name: {file_name}\")\n",
    "    df.to_csv(f\"data/team_ranks/{file_name}.csv\")"
   ]
  }
 ],
 "metadata": {
  "kernelspec": {
   "display_name": "Python 3 (ipykernel)",
   "language": "python",
   "name": "python3"
  },
  "language_info": {
   "codemirror_mode": {
    "name": "ipython",
    "version": 3
   },
   "file_extension": ".py",
   "mimetype": "text/x-python",
   "name": "python",
   "nbconvert_exporter": "python",
   "pygments_lexer": "ipython3",
   "version": "3.9.13"
  }
 },
 "nbformat": 4,
 "nbformat_minor": 5
}
