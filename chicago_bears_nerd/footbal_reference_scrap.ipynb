{
 "cells": [
  {
   "cell_type": "code",
   "execution_count": 5,
   "id": "834d2e5a-49b0-4f8e-b507-10370b295bdf",
   "metadata": {},
   "outputs": [],
   "source": [
    "import requests as req\n",
    "from bs4 import BeautifulSoup\n"
   ]
  },
  {
   "cell_type": "code",
   "execution_count": 6,
   "id": "74ced745-5198-415c-89e0-1772ca0aa050",
   "metadata": {},
   "outputs": [],
   "source": [
    "headers = {\n",
    "    \"User-Agent\": (\n",
    "        \"Mozilla/5.0 (Windows NT 10.0; Win64; x64) AppleWebKit/537.36 \"\n",
    "        \"(KHTML, like Gecko) Chrome/99.0.4844.51 Safari/537.36\"\n",
    "    )\n",
    "}\n",
    "url = \"https://www.pro-football-reference.com/boxscores/\"\n"
   ]
  },
  {
   "cell_type": "code",
   "execution_count": 8,
   "id": "f1872d28-e038-44f8-9b1b-00244fdef35e",
   "metadata": {},
   "outputs": [],
   "source": [
    "# weekly_schedule\n",
    "#https://www.pro-football-reference.com/years/2022/games.htm\n"
   ]
  },
  {
   "cell_type": "code",
   "execution_count": 7,
   "id": "df5c8496-536f-42bf-8dd9-acda95c1d751",
   "metadata": {},
   "outputs": [],
   "source": [
    "page = req.get(url, headers=headers).text\n",
    "soup = BeautifulSoup(page, \"html.parser\")\n",
    "data = []\n"
   ]
  },
  {
   "cell_type": "code",
   "execution_count": null,
   "id": "5ed16686-c73e-4fb7-835a-78bc5ca5b5c1",
   "metadata": {},
   "outputs": [],
   "source": [
    "soup.find(\"\")"
   ]
  }
 ],
 "metadata": {
  "kernelspec": {
   "display_name": "Python 3 (ipykernel)",
   "language": "python",
   "name": "python3"
  },
  "language_info": {
   "codemirror_mode": {
    "name": "ipython",
    "version": 3
   },
   "file_extension": ".py",
   "mimetype": "text/x-python",
   "name": "python",
   "nbconvert_exporter": "python",
   "pygments_lexer": "ipython3",
   "version": "3.9.13"
  }
 },
 "nbformat": 4,
 "nbformat_minor": 5
}
