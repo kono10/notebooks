{
 "cells": [
  {
   "cell_type": "code",
   "execution_count": 1,
   "id": "cb00b626-b870-46f3-a7e5-2c7390ce12d4",
   "metadata": {},
   "outputs": [],
   "source": [
    "import altair as alt\n",
    "import pandas as pd\n",
    "import numpy as np\n",
    "import warnings\n",
    "#warnings.simplefilter(action='ignore', category=\"SettingWithCopyWarning\")\n",
    " "
   ]
  },
  {
   "cell_type": "code",
   "execution_count": 2,
   "id": "c5d99cad-0fed-46e9-889d-3656242bba04",
   "metadata": {},
   "outputs": [],
   "source": [
    "df = pd.read_csv(\"../data/chicago_bears_coaching_history.csv\")\n",
    "df = df.query(\"Year >= 1950\")\n",
    "\n",
    "df = df[~df.Coach.eq(\"Matt Eberflus\")]\n",
    "df = df.reset_index()\n",
    "df[\"Made Playoffs\"] = ~df.Result.isnull()\n",
    "df_agg = df.groupby(\"Coach\", as_index=False).agg({\"W\":\"sum\", \"L\":\"sum\", \"W-L%\":\"mean\"}).round(2)"
   ]
  },
  {
   "cell_type": "code",
   "execution_count": 3,
   "id": "e1b53415-30b4-4b6a-b55a-2243846ca3d2",
   "metadata": {},
   "outputs": [],
   "source": [
    "# have a bar char where bar has two an x start and end date and sort by \n",
    "#chart_title = \"\"\n",
    "selector = alt.selection_multi(fields=['Coach'])\n",
    "\n",
    "\n",
    "y_cfgs = {\"shorthand\":\"Coach\", \"title\": \"\"}\n",
    "x_cfgs = {\"shorthand\":\"Year:O\", \"title\":\"Year\"}\n",
    "# background etc.\n",
    "primary_color = \"#0B162A\" \n",
    "# font etc.\n",
    "secondary_color = \"#c83803\"\n"
   ]
  },
  {
   "cell_type": "code",
   "execution_count": 4,
   "id": "83942496-4414-4275-a246-3a983816023a",
   "metadata": {},
   "outputs": [],
   "source": [
    "heat = alt.Chart(df, width=1200, height=800, title=\"Chicago Bears Coaching History\").mark_rect()\\\n",
    ".encode(\n",
    "    y=alt.Y(**y_cfgs, sort=alt.EncodingSortField(field='Year', order='descending')),\n",
    "    x=alt.X(**x_cfgs),\n",
    "     color=alt.Color(\"Made Playoffs\", scale=alt.Scale(domain=[True, False], range=[secondary_color, \"white\"])),\n",
    "    tooltip=[\n",
    "        alt.Tooltip(\"Coach\", title=\"Coach\"), \n",
    "        \"W-L%\", \n",
    "        alt.Tooltip(\"Year\", title=\"Year\"), \n",
    "        alt.Tooltip(\"W\", title=\"Total Wins\"), \n",
    "        alt.Tooltip(\"L\", title=\"Losses\"), \n",
    "        alt.Tooltip(\"Result\", title=\"Result\"),\n",
    "        alt.Tooltip(\"Offense\", title=\"Off. Coord.\"),\n",
    "        alt.Tooltip(\"Defense\", title=\"Def. Coord.\"),\n",
    "\n",
    "        ]\n",
    ").transform_filter(\n",
    "    selector\n",
    ")"
   ]
  },
  {
   "cell_type": "code",
   "execution_count": 5,
   "id": "15ec1a29-4209-469b-81e2-cb0177b02016",
   "metadata": {},
   "outputs": [],
   "source": [
    "chart_title2 = \"Career Winning %\"\n",
    "y2_cfgs = {\"shorthand\":\"Coach\", \"title\": \"Coach\"}\n",
    "x2_cfgs = {\"shorthand\":\"W-L%\", \"title\":\"W-L%\"}\n",
    "\n",
    "bars = alt.Chart(df_agg, width=400, height=800, title=\"Career Winning%\")\\\n",
    ".mark_bar(size=30, opacity=1, color=\"white\")\\\n",
    ".encode(\n",
    "    y=alt.Y(**y2_cfgs, sort=alt.EncodingSortField(field=\"W-L%\", order=\"descending\")),\n",
    "    x=alt.X(**x2_cfgs),\n",
    "    tooltip=[alt.Tooltip(\"Coach\", title=\"Coach\"),alt.Tooltip(\"W\", title=\"Total Wins\"), alt.Tooltip(\"L\", title=\"Total Losses\"), alt.Tooltip(\"W-L%\", title=\"W-L%\")]\n",
    ").add_selection(selector).resolve_scale(y=\"independent\")"
   ]
  },
  {
   "cell_type": "code",
   "execution_count": 6,
   "id": "7daaa16d-de3d-42cf-a44c-2cbe875c8384",
   "metadata": {},
   "outputs": [
    {
     "data": {
      "text/html": [
       "\n",
       "<div id=\"altair-viz-57e3d0022dd044b39cf49c30684bc381\"></div>\n",
       "<script type=\"text/javascript\">\n",
       "  (function(spec, embedOpt){\n",
       "    let outputDiv = document.currentScript.previousElementSibling;\n",
       "    if (outputDiv.id !== \"altair-viz-57e3d0022dd044b39cf49c30684bc381\") {\n",
       "      outputDiv = document.getElementById(\"altair-viz-57e3d0022dd044b39cf49c30684bc381\");\n",
       "    }\n",
       "    const paths = {\n",
       "      \"vega\": \"https://cdn.jsdelivr.net/npm//vega@5?noext\",\n",
       "      \"vega-lib\": \"https://cdn.jsdelivr.net/npm//vega-lib?noext\",\n",
       "      \"vega-lite\": \"https://cdn.jsdelivr.net/npm//vega-lite@4.8.1?noext\",\n",
       "      \"vega-embed\": \"https://cdn.jsdelivr.net/npm//vega-embed@6?noext\",\n",
       "    };\n",
       "\n",
       "    function loadScript(lib) {\n",
       "      return new Promise(function(resolve, reject) {\n",
       "        var s = document.createElement('script');\n",
       "        s.src = paths[lib];\n",
       "        s.async = true;\n",
       "        s.onload = () => resolve(paths[lib]);\n",
       "        s.onerror = () => reject(`Error loading script: ${paths[lib]}`);\n",
       "        document.getElementsByTagName(\"head\")[0].appendChild(s);\n",
       "      });\n",
       "    }\n",
       "\n",
       "    function showError(err) {\n",
       "      outputDiv.innerHTML = `<div class=\"error\" style=\"color:red;\">${err}</div>`;\n",
       "      throw err;\n",
       "    }\n",
       "\n",
       "    function displayChart(vegaEmbed) {\n",
       "      vegaEmbed(outputDiv, spec, embedOpt)\n",
       "        .catch(err => showError(`Javascript Error: ${err.message}<br>This usually means there's a typo in your chart specification. See the javascript console for the full traceback.`));\n",
       "    }\n",
       "\n",
       "    if(typeof define === \"function\" && define.amd) {\n",
       "      requirejs.config({paths});\n",
       "      require([\"vega-embed\"], displayChart, err => showError(`Error loading script: ${err.message}`));\n",
       "    } else if (typeof vegaEmbed === \"function\") {\n",
       "      displayChart(vegaEmbed);\n",
       "    } else {\n",
       "      loadScript(\"vega\")\n",
       "        .then(() => loadScript(\"vega-lite\"))\n",
       "        .then(() => loadScript(\"vega-embed\"))\n",
       "        .catch(showError)\n",
       "        .then(() => displayChart(vegaEmbed));\n",
       "    }\n",
       "  })({\"config\": {\"view\": {\"continuousWidth\": 400, \"continuousHeight\": 300}, \"axis\": {\"gridColor\": \"grey\", \"gridDash\": [6, 4]}, \"axisBottom\": {\"labelColor\": \"#c83803\", \"labelFontSize\": 15, \"titleColor\": \"#c83803\", \"titleFontSize\": 17}, \"axisLeft\": {\"labelColor\": \"#c83803\", \"labelFontSize\": 17, \"titleColor\": \"#c83803\", \"titleFontSize\": 20}, \"background\": \"#0B162A\", \"legend\": {\"cornerRadius\": 10, \"fillColor\": \"#0B162A\", \"labelColor\": \"#c83803\", \"labelFontSize\": 17, \"padding\": 10, \"strokeColor\": \"gray\", \"titleColor\": \"#c83803\", \"titleFontSize\": 17}, \"title\": {\"color\": \"#c83803\", \"fontSize\": 17}}, \"hconcat\": [{\"data\": {\"name\": \"data-f4d146561bba45e94a9c9029c2251e67\"}, \"mark\": {\"type\": \"bar\", \"color\": \"white\", \"opacity\": 1, \"size\": 30}, \"encoding\": {\"tooltip\": [{\"type\": \"nominal\", \"field\": \"Coach\", \"title\": \"Coach\"}, {\"type\": \"quantitative\", \"field\": \"W\", \"title\": \"Total Wins\"}, {\"type\": \"quantitative\", \"field\": \"L\", \"title\": \"Total Losses\"}, {\"type\": \"quantitative\", \"field\": \"W-L%\", \"title\": \"W-L%\"}], \"x\": {\"type\": \"quantitative\", \"field\": \"W-L%\", \"title\": \"W-L%\"}, \"y\": {\"type\": \"nominal\", \"field\": \"Coach\", \"sort\": {\"field\": \"W-L%\", \"order\": \"descending\"}, \"title\": \"Coach\"}}, \"height\": 800, \"resolve\": {\"scale\": {\"y\": \"independent\"}}, \"selection\": {\"selector001\": {\"type\": \"multi\", \"fields\": [\"Coach\"]}}, \"title\": \"Career Winning%\", \"width\": 400}, {\"data\": {\"name\": \"data-929add7c6d7b3bf8e40de6d6ca261507\"}, \"mark\": \"rect\", \"encoding\": {\"color\": {\"type\": \"nominal\", \"field\": \"Made Playoffs\", \"scale\": {\"domain\": [true, false], \"range\": [\"#c83803\", \"white\"]}}, \"tooltip\": [{\"type\": \"nominal\", \"field\": \"Coach\", \"title\": \"Coach\"}, {\"type\": \"quantitative\", \"field\": \"W-L%\"}, {\"type\": \"quantitative\", \"field\": \"Year\", \"title\": \"Year\"}, {\"type\": \"quantitative\", \"field\": \"W\", \"title\": \"Total Wins\"}, {\"type\": \"quantitative\", \"field\": \"L\", \"title\": \"Losses\"}, {\"type\": \"nominal\", \"field\": \"Result\", \"title\": \"Result\"}, {\"type\": \"nominal\", \"field\": \"Offense\", \"title\": \"Off. Coord.\"}, {\"type\": \"nominal\", \"field\": \"Defense\", \"title\": \"Def. Coord.\"}], \"x\": {\"type\": \"ordinal\", \"field\": \"Year\", \"title\": \"Year\"}, \"y\": {\"type\": \"nominal\", \"field\": \"Coach\", \"sort\": {\"field\": \"Year\", \"order\": \"descending\"}, \"title\": \"\"}}, \"height\": 800, \"title\": \"Chicago Bears Coaching History\", \"transform\": [{\"filter\": {\"selection\": \"selector001\"}}], \"width\": 1200}], \"$schema\": \"https://vega.github.io/schema/vega-lite/v4.8.1.json\", \"datasets\": {\"data-f4d146561bba45e94a9c9029c2251e67\": [{\"Coach\": \"Abe Gibron\", \"W\": 11.0, \"L\": 30.0, \"W-L%\": 0.27}, {\"Coach\": \"Dave Wannstedt\", \"W\": 40.0, \"L\": 56.0, \"W-L%\": 0.42}, {\"Coach\": \"Dick Jauron\", \"W\": 35.0, \"L\": 45.0, \"W-L%\": 0.44}, {\"Coach\": \"George Halas\", \"W\": 115.0, \"L\": 84.0, \"W-L%\": 0.58}, {\"Coach\": \"Jack Pardee\", \"W\": 20.0, \"L\": 22.0, \"W-L%\": 0.48}, {\"Coach\": \"Jim Dooley\", \"W\": 20.0, \"L\": 36.0, \"W-L%\": 0.36}, {\"Coach\": \"John Fox\", \"W\": 14.0, \"L\": 34.0, \"W-L%\": 0.29}, {\"Coach\": \"Lovie Smith\", \"W\": 81.0, \"L\": 63.0, \"W-L%\": 0.56}, {\"Coach\": \"Marc Trestman\", \"W\": 13.0, \"L\": 19.0, \"W-L%\": 0.41}, {\"Coach\": \"Matt Nagy\", \"W\": 34.0, \"L\": 31.0, \"W-L%\": 0.53}, {\"Coach\": \"Mike Ditka\", \"W\": 106.0, \"L\": 62.0, \"W-L%\": 0.62}, {\"Coach\": \"Neill Armstrong\", \"W\": 30.0, \"L\": 34.0, \"W-L%\": 0.47}, {\"Coach\": \"Paddy Driscoll\", \"W\": 14.0, \"L\": 9.0, \"W-L%\": 0.62}], \"data-929add7c6d7b3bf8e40de6d6ca261507\": [{\"index\": 1, \"Year\": 2021.0, \"Coach\": \"Matt Nagy\", \"G\": 17, \"W\": 6.0, \"L\": 11.0, \"T\": 0.0, \"W-L%\": 0.353, \"G.1\": null, \"W.1\": null, \"L.1\": null, \"Result\": null, \"Offense\": \"Bill Lazor\", \"Defense\": \"Sean Desai\", \"Made Playoffs\": false}, {\"index\": 2, \"Year\": 2020.0, \"Coach\": \"Matt Nagy\", \"G\": 16, \"W\": 8.0, \"L\": 8.0, \"T\": 0.0, \"W-L%\": 0.5, \"G.1\": 1.0, \"W.1\": 0.0, \"L.1\": 1.0, \"Result\": \"Lost WC\", \"Offense\": \"Bill Lazor\", \"Defense\": \"Chuck Pagano\", \"Made Playoffs\": true}, {\"index\": 3, \"Year\": 2019.0, \"Coach\": \"Matt Nagy\", \"G\": 16, \"W\": 8.0, \"L\": 8.0, \"T\": 0.0, \"W-L%\": 0.5, \"G.1\": null, \"W.1\": null, \"L.1\": null, \"Result\": null, \"Offense\": \"Mark Helfrich\", \"Defense\": \"Chuck Pagano\", \"Made Playoffs\": false}, {\"index\": 4, \"Year\": 2018.0, \"Coach\": \"Matt Nagy\", \"G\": 16, \"W\": 12.0, \"L\": 4.0, \"T\": 0.0, \"W-L%\": 0.75, \"G.1\": 1.0, \"W.1\": 0.0, \"L.1\": 1.0, \"Result\": \"Lost WC\", \"Offense\": \"Mark Helfrich\", \"Defense\": \"Vic Fangio\", \"Made Playoffs\": true}, {\"index\": 5, \"Year\": 2017.0, \"Coach\": \"John Fox\", \"G\": 16, \"W\": 5.0, \"L\": 11.0, \"T\": 0.0, \"W-L%\": 0.313, \"G.1\": null, \"W.1\": null, \"L.1\": null, \"Result\": null, \"Offense\": \"Dowell Loggains\", \"Defense\": \"Vic Fangio\", \"Made Playoffs\": false}, {\"index\": 6, \"Year\": 2016.0, \"Coach\": \"John Fox\", \"G\": 16, \"W\": 3.0, \"L\": 13.0, \"T\": 0.0, \"W-L%\": 0.188, \"G.1\": null, \"W.1\": null, \"L.1\": null, \"Result\": null, \"Offense\": \"Dowell Loggains\", \"Defense\": \"Vic Fangio\", \"Made Playoffs\": false}, {\"index\": 7, \"Year\": 2015.0, \"Coach\": \"John Fox\", \"G\": 16, \"W\": 6.0, \"L\": 10.0, \"T\": 0.0, \"W-L%\": 0.375, \"G.1\": null, \"W.1\": null, \"L.1\": null, \"Result\": null, \"Offense\": \"Adam Gase\", \"Defense\": \"Vic Fangio\", \"Made Playoffs\": false}, {\"index\": 8, \"Year\": 2014.0, \"Coach\": \"Marc Trestman\", \"G\": 16, \"W\": 5.0, \"L\": 11.0, \"T\": 0.0, \"W-L%\": 0.313, \"G.1\": 0.0, \"W.1\": 0.0, \"L.1\": 0.0, \"Result\": null, \"Offense\": \"Aaron Kromer\", \"Defense\": \"Mel Tucker\", \"Made Playoffs\": false}, {\"index\": 9, \"Year\": 2013.0, \"Coach\": \"Marc Trestman\", \"G\": 16, \"W\": 8.0, \"L\": 8.0, \"T\": 0.0, \"W-L%\": 0.5, \"G.1\": 0.0, \"W.1\": 0.0, \"L.1\": 0.0, \"Result\": null, \"Offense\": \"Aaron Kromer\", \"Defense\": \"Mel Tucker\", \"Made Playoffs\": false}, {\"index\": 10, \"Year\": 2012.0, \"Coach\": \"Lovie Smith\", \"G\": 16, \"W\": 10.0, \"L\": 6.0, \"T\": 0.0, \"W-L%\": 0.625, \"G.1\": 0.0, \"W.1\": 0.0, \"L.1\": 0.0, \"Result\": null, \"Offense\": \"Mike Tice\", \"Defense\": \"Rod Marinelli\", \"Made Playoffs\": false}, {\"index\": 11, \"Year\": 2011.0, \"Coach\": \"Lovie Smith\", \"G\": 16, \"W\": 8.0, \"L\": 8.0, \"T\": 0.0, \"W-L%\": 0.5, \"G.1\": 0.0, \"W.1\": 0.0, \"L.1\": 0.0, \"Result\": null, \"Offense\": \"Mike Martz\", \"Defense\": \"Rod Marinelli\", \"Made Playoffs\": false}, {\"index\": 12, \"Year\": 2010.0, \"Coach\": \"Lovie Smith\", \"G\": 16, \"W\": 11.0, \"L\": 5.0, \"T\": 0.0, \"W-L%\": 0.688, \"G.1\": 2.0, \"W.1\": 1.0, \"L.1\": 1.0, \"Result\": \"Lost Conf\", \"Offense\": \"Mike Martz\", \"Defense\": \"Rod Marinelli\", \"Made Playoffs\": true}, {\"index\": 13, \"Year\": 2009.0, \"Coach\": \"Lovie Smith\", \"G\": 16, \"W\": 7.0, \"L\": 9.0, \"T\": 0.0, \"W-L%\": 0.43799999999999994, \"G.1\": 0.0, \"W.1\": 0.0, \"L.1\": 0.0, \"Result\": null, \"Offense\": \"Ron Turner\", \"Defense\": \"Bob Babich\", \"Made Playoffs\": false}, {\"index\": 14, \"Year\": 2008.0, \"Coach\": \"Lovie Smith\", \"G\": 16, \"W\": 9.0, \"L\": 7.0, \"T\": 0.0, \"W-L%\": 0.563, \"G.1\": 0.0, \"W.1\": 0.0, \"L.1\": 0.0, \"Result\": null, \"Offense\": \"Ron Turner\", \"Defense\": \"Bob Babich\", \"Made Playoffs\": false}, {\"index\": 15, \"Year\": 2007.0, \"Coach\": \"Lovie Smith\", \"G\": 16, \"W\": 7.0, \"L\": 9.0, \"T\": 0.0, \"W-L%\": 0.43799999999999994, \"G.1\": 0.0, \"W.1\": 0.0, \"L.1\": 0.0, \"Result\": null, \"Offense\": \"Ron Turner\", \"Defense\": \"Bob Babich\", \"Made Playoffs\": false}, {\"index\": 16, \"Year\": 2006.0, \"Coach\": \"Lovie Smith\", \"G\": 16, \"W\": 13.0, \"L\": 3.0, \"T\": 0.0, \"W-L%\": 0.813, \"G.1\": 3.0, \"W.1\": 2.0, \"L.1\": 1.0, \"Result\": \"Lost SB\", \"Offense\": \"Ron Turner\", \"Defense\": \"Ron Rivera\", \"Made Playoffs\": true}, {\"index\": 17, \"Year\": 2005.0, \"Coach\": \"Lovie Smith\", \"G\": 16, \"W\": 11.0, \"L\": 5.0, \"T\": 0.0, \"W-L%\": 0.688, \"G.1\": 1.0, \"W.1\": 0.0, \"L.1\": 1.0, \"Result\": \"Lost Div\", \"Offense\": \"Ron Turner\", \"Defense\": \"Ron Rivera\", \"Made Playoffs\": true}, {\"index\": 18, \"Year\": 2004.0, \"Coach\": \"Lovie Smith\", \"G\": 16, \"W\": 5.0, \"L\": 11.0, \"T\": 0.0, \"W-L%\": 0.313, \"G.1\": 0.0, \"W.1\": 0.0, \"L.1\": 0.0, \"Result\": null, \"Offense\": \"Terry Shea\", \"Defense\": \"Ron Rivera\", \"Made Playoffs\": false}, {\"index\": 19, \"Year\": 2003.0, \"Coach\": \"Dick Jauron\", \"G\": 16, \"W\": 7.0, \"L\": 9.0, \"T\": 0.0, \"W-L%\": 0.43799999999999994, \"G.1\": 0.0, \"W.1\": 0.0, \"L.1\": 0.0, \"Result\": null, \"Offense\": \"John Shoop\", \"Defense\": \"Greg Blache\", \"Made Playoffs\": false}, {\"index\": 20, \"Year\": 2002.0, \"Coach\": \"Dick Jauron\", \"G\": 16, \"W\": 4.0, \"L\": 12.0, \"T\": 0.0, \"W-L%\": 0.25, \"G.1\": 0.0, \"W.1\": 0.0, \"L.1\": 0.0, \"Result\": null, \"Offense\": \"John Shoop\", \"Defense\": \"Greg Blache\", \"Made Playoffs\": false}, {\"index\": 21, \"Year\": 2001.0, \"Coach\": \"Dick Jauron\", \"G\": 16, \"W\": 13.0, \"L\": 3.0, \"T\": 0.0, \"W-L%\": 0.813, \"G.1\": 1.0, \"W.1\": 0.0, \"L.1\": 1.0, \"Result\": \"Lost Div\", \"Offense\": \"John Shoop\", \"Defense\": \"Greg Blache\", \"Made Playoffs\": true}, {\"index\": 22, \"Year\": 2000.0, \"Coach\": \"Dick Jauron\", \"G\": 16, \"W\": 5.0, \"L\": 11.0, \"T\": 0.0, \"W-L%\": 0.313, \"G.1\": 0.0, \"W.1\": 0.0, \"L.1\": 0.0, \"Result\": null, \"Offense\": \"Gary Crowton\", \"Defense\": \"Greg Blache\", \"Made Playoffs\": false}, {\"index\": 23, \"Year\": 1999.0, \"Coach\": \"Dick Jauron\", \"G\": 16, \"W\": 6.0, \"L\": 10.0, \"T\": 0.0, \"W-L%\": 0.375, \"G.1\": 0.0, \"W.1\": 0.0, \"L.1\": 0.0, \"Result\": null, \"Offense\": \"Gary Crowton\", \"Defense\": \"Greg Blache\", \"Made Playoffs\": false}, {\"index\": 24, \"Year\": 1998.0, \"Coach\": \"Dave Wannstedt\", \"G\": 16, \"W\": 4.0, \"L\": 12.0, \"T\": 0.0, \"W-L%\": 0.25, \"G.1\": 0.0, \"W.1\": 0.0, \"L.1\": 0.0, \"Result\": null, \"Offense\": \"Matt Cavanaugh\", \"Defense\": \"Bob Slowik\", \"Made Playoffs\": false}, {\"index\": 25, \"Year\": 1997.0, \"Coach\": \"Dave Wannstedt\", \"G\": 16, \"W\": 4.0, \"L\": 12.0, \"T\": 0.0, \"W-L%\": 0.25, \"G.1\": 0.0, \"W.1\": 0.0, \"L.1\": 0.0, \"Result\": null, \"Offense\": \"Matt Cavanaugh\", \"Defense\": \"Bob Slowik\", \"Made Playoffs\": false}, {\"index\": 26, \"Year\": 1996.0, \"Coach\": \"Dave Wannstedt\", \"G\": 16, \"W\": 7.0, \"L\": 9.0, \"T\": 0.0, \"W-L%\": 0.43799999999999994, \"G.1\": 0.0, \"W.1\": 0.0, \"L.1\": 0.0, \"Result\": null, \"Offense\": \"Ron Turner\", \"Defense\": \"Bob Slowik\", \"Made Playoffs\": false}, {\"index\": 27, \"Year\": 1995.0, \"Coach\": \"Dave Wannstedt\", \"G\": 16, \"W\": 9.0, \"L\": 7.0, \"T\": 0.0, \"W-L%\": 0.563, \"G.1\": 0.0, \"W.1\": 0.0, \"L.1\": 0.0, \"Result\": null, \"Offense\": \"Ron Turner\", \"Defense\": \"Bob Slowik\", \"Made Playoffs\": false}, {\"index\": 28, \"Year\": 1994.0, \"Coach\": \"Dave Wannstedt\", \"G\": 16, \"W\": 9.0, \"L\": 7.0, \"T\": 0.0, \"W-L%\": 0.563, \"G.1\": 2.0, \"W.1\": 1.0, \"L.1\": 1.0, \"Result\": \"Lost Div\", \"Offense\": \"Ron Turner\", \"Defense\": \"Bob Slowik\", \"Made Playoffs\": true}, {\"index\": 29, \"Year\": 1993.0, \"Coach\": \"Dave Wannstedt\", \"G\": 16, \"W\": 7.0, \"L\": 9.0, \"T\": 0.0, \"W-L%\": 0.43799999999999994, \"G.1\": 0.0, \"W.1\": 0.0, \"L.1\": 0.0, \"Result\": null, \"Offense\": \"Ron Turner\", \"Defense\": \"Bob Slowik\", \"Made Playoffs\": false}, {\"index\": 30, \"Year\": 1992.0, \"Coach\": \"Mike Ditka\", \"G\": 16, \"W\": 5.0, \"L\": 11.0, \"T\": 0.0, \"W-L%\": 0.313, \"G.1\": 0.0, \"W.1\": 0.0, \"L.1\": 0.0, \"Result\": null, \"Offense\": \"Greg Landry\", \"Defense\": \"Vince Tobin\", \"Made Playoffs\": false}, {\"index\": 31, \"Year\": 1991.0, \"Coach\": \"Mike Ditka\", \"G\": 16, \"W\": 11.0, \"L\": 5.0, \"T\": 0.0, \"W-L%\": 0.688, \"G.1\": 1.0, \"W.1\": 0.0, \"L.1\": 1.0, \"Result\": \"Lost WC\", \"Offense\": \"Greg Landry\", \"Defense\": \"Vince Tobin\", \"Made Playoffs\": true}, {\"index\": 32, \"Year\": 1990.0, \"Coach\": \"Mike Ditka\", \"G\": 16, \"W\": 11.0, \"L\": 5.0, \"T\": 0.0, \"W-L%\": 0.688, \"G.1\": 2.0, \"W.1\": 1.0, \"L.1\": 1.0, \"Result\": \"Lost Div\", \"Offense\": \"Greg Landry\", \"Defense\": \"Vince Tobin\", \"Made Playoffs\": true}, {\"index\": 33, \"Year\": 1989.0, \"Coach\": \"Mike Ditka\", \"G\": 16, \"W\": 6.0, \"L\": 10.0, \"T\": 0.0, \"W-L%\": 0.375, \"G.1\": 0.0, \"W.1\": 0.0, \"L.1\": 0.0, \"Result\": null, \"Offense\": \"Greg Landry\", \"Defense\": \"Vince Tobin\", \"Made Playoffs\": false}, {\"index\": 34, \"Year\": 1988.0, \"Coach\": \"Mike Ditka\", \"G\": 16, \"W\": 12.0, \"L\": 4.0, \"T\": 0.0, \"W-L%\": 0.75, \"G.1\": 2.0, \"W.1\": 1.0, \"L.1\": 1.0, \"Result\": \"Lost Conf\", \"Offense\": \"Ed Hughes\", \"Defense\": \"Vince Tobin\", \"Made Playoffs\": true}, {\"index\": 35, \"Year\": 1987.0, \"Coach\": \"Mike Ditka\", \"G\": 15, \"W\": 11.0, \"L\": 4.0, \"T\": 0.0, \"W-L%\": 0.733, \"G.1\": 1.0, \"W.1\": 0.0, \"L.1\": 1.0, \"Result\": \"Lost Div\", \"Offense\": \"Ed Hughes\", \"Defense\": \"Vince Tobin\", \"Made Playoffs\": true}, {\"index\": 36, \"Year\": 1986.0, \"Coach\": \"Mike Ditka\", \"G\": 16, \"W\": 14.0, \"L\": 2.0, \"T\": 0.0, \"W-L%\": 0.875, \"G.1\": 1.0, \"W.1\": 0.0, \"L.1\": 1.0, \"Result\": \"Lost Div\", \"Offense\": \"Ed Hughes\", \"Defense\": \"Vince Tobin\", \"Made Playoffs\": true}, {\"index\": 37, \"Year\": 1985.0, \"Coach\": \"Mike Ditka\", \"G\": 16, \"W\": 15.0, \"L\": 1.0, \"T\": 0.0, \"W-L%\": 0.938, \"G.1\": 3.0, \"W.1\": 3.0, \"L.1\": 0.0, \"Result\": \"Won SB\", \"Offense\": \"Ed Hughes\", \"Defense\": \"Buddy Ryan\", \"Made Playoffs\": true}, {\"index\": 38, \"Year\": 1984.0, \"Coach\": \"Mike Ditka\", \"G\": 16, \"W\": 10.0, \"L\": 6.0, \"T\": 0.0, \"W-L%\": 0.625, \"G.1\": 2.0, \"W.1\": 1.0, \"L.1\": 1.0, \"Result\": \"Lost Conf\", \"Offense\": \"Ed Hughes\", \"Defense\": \"Buddy Ryan\", \"Made Playoffs\": true}, {\"index\": 39, \"Year\": 1983.0, \"Coach\": \"Mike Ditka\", \"G\": 16, \"W\": 8.0, \"L\": 8.0, \"T\": 0.0, \"W-L%\": 0.5, \"G.1\": 0.0, \"W.1\": 0.0, \"L.1\": 0.0, \"Result\": null, \"Offense\": \"Ed Hughes\", \"Defense\": \"Buddy Ryan\", \"Made Playoffs\": false}, {\"index\": 40, \"Year\": 1982.0, \"Coach\": \"Mike Ditka\", \"G\": 9, \"W\": 3.0, \"L\": 6.0, \"T\": 0.0, \"W-L%\": 0.33299999999999996, \"G.1\": 0.0, \"W.1\": 0.0, \"L.1\": 0.0, \"Result\": null, \"Offense\": \"Ed Hughes\", \"Defense\": \"Buddy Ryan\", \"Made Playoffs\": false}, {\"index\": 41, \"Year\": 1981.0, \"Coach\": \"Neill Armstrong\", \"G\": 16, \"W\": 6.0, \"L\": 10.0, \"T\": 0.0, \"W-L%\": 0.375, \"G.1\": 0.0, \"W.1\": 0.0, \"L.1\": 0.0, \"Result\": null, \"Offense\": \"Ted Marchibroda\", \"Defense\": \"Buddy Ryan\", \"Made Playoffs\": false}, {\"index\": 42, \"Year\": 1980.0, \"Coach\": \"Neill Armstrong\", \"G\": 16, \"W\": 7.0, \"L\": 9.0, \"T\": 0.0, \"W-L%\": 0.43799999999999994, \"G.1\": 0.0, \"W.1\": 0.0, \"L.1\": 0.0, \"Result\": null, \"Offense\": \"Ken Meyer\", \"Defense\": \"Buddy Ryan\", \"Made Playoffs\": false}, {\"index\": 43, \"Year\": 1979.0, \"Coach\": \"Neill Armstrong\", \"G\": 16, \"W\": 10.0, \"L\": 6.0, \"T\": 0.0, \"W-L%\": 0.625, \"G.1\": 1.0, \"W.1\": 0.0, \"L.1\": 1.0, \"Result\": \"Lost WC\", \"Offense\": \"Ken Meyer\", \"Defense\": \"Buddy Ryan\", \"Made Playoffs\": true}, {\"index\": 44, \"Year\": 1978.0, \"Coach\": \"Neill Armstrong\", \"G\": 16, \"W\": 7.0, \"L\": 9.0, \"T\": 0.0, \"W-L%\": 0.43799999999999994, \"G.1\": 0.0, \"W.1\": 0.0, \"L.1\": 0.0, \"Result\": null, \"Offense\": \"Ken Meyer\", \"Defense\": \"Buddy Ryan\", \"Made Playoffs\": false}, {\"index\": 45, \"Year\": 1977.0, \"Coach\": \"Jack Pardee\", \"G\": 14, \"W\": 9.0, \"L\": 5.0, \"T\": 0.0, \"W-L%\": 0.643, \"G.1\": 1.0, \"W.1\": 0.0, \"L.1\": 1.0, \"Result\": \"Lost Div\", \"Offense\": \"Sid Gillman\", \"Defense\": null, \"Made Playoffs\": true}, {\"index\": 46, \"Year\": 1976.0, \"Coach\": \"Jack Pardee\", \"G\": 14, \"W\": 7.0, \"L\": 7.0, \"T\": 0.0, \"W-L%\": 0.5, \"G.1\": 0.0, \"W.1\": 0.0, \"L.1\": 0.0, \"Result\": null, \"Offense\": null, \"Defense\": null, \"Made Playoffs\": false}, {\"index\": 47, \"Year\": 1975.0, \"Coach\": \"Jack Pardee\", \"G\": 14, \"W\": 4.0, \"L\": 10.0, \"T\": 0.0, \"W-L%\": 0.28600000000000003, \"G.1\": 0.0, \"W.1\": 0.0, \"L.1\": 0.0, \"Result\": null, \"Offense\": null, \"Defense\": null, \"Made Playoffs\": false}, {\"index\": 48, \"Year\": 1974.0, \"Coach\": \"Abe Gibron\", \"G\": 14, \"W\": 4.0, \"L\": 10.0, \"T\": 0.0, \"W-L%\": 0.28600000000000003, \"G.1\": 0.0, \"W.1\": 0.0, \"L.1\": 0.0, \"Result\": null, \"Offense\": null, \"Defense\": null, \"Made Playoffs\": false}, {\"index\": 49, \"Year\": 1973.0, \"Coach\": \"Abe Gibron\", \"G\": 14, \"W\": 3.0, \"L\": 11.0, \"T\": 0.0, \"W-L%\": 0.214, \"G.1\": 0.0, \"W.1\": 0.0, \"L.1\": 0.0, \"Result\": null, \"Offense\": null, \"Defense\": null, \"Made Playoffs\": false}, {\"index\": 50, \"Year\": 1972.0, \"Coach\": \"Abe Gibron\", \"G\": 14, \"W\": 4.0, \"L\": 9.0, \"T\": 1.0, \"W-L%\": 0.321, \"G.1\": 0.0, \"W.1\": 0.0, \"L.1\": 0.0, \"Result\": null, \"Offense\": null, \"Defense\": null, \"Made Playoffs\": false}, {\"index\": 51, \"Year\": 1971.0, \"Coach\": \"Jim Dooley\", \"G\": 14, \"W\": 6.0, \"L\": 8.0, \"T\": 0.0, \"W-L%\": 0.429, \"G.1\": 0.0, \"W.1\": 0.0, \"L.1\": 0.0, \"Result\": null, \"Offense\": \"Perry Moss\", \"Defense\": null, \"Made Playoffs\": false}, {\"index\": 52, \"Year\": 1970.0, \"Coach\": \"Jim Dooley\", \"G\": 14, \"W\": 6.0, \"L\": 8.0, \"T\": 0.0, \"W-L%\": 0.429, \"G.1\": 0.0, \"W.1\": 0.0, \"L.1\": 0.0, \"Result\": null, \"Offense\": \"Perry Moss\", \"Defense\": null, \"Made Playoffs\": false}, {\"index\": 53, \"Year\": 1969.0, \"Coach\": \"Jim Dooley\", \"G\": 14, \"W\": 1.0, \"L\": 13.0, \"T\": 0.0, \"W-L%\": 0.071, \"G.1\": 0.0, \"W.1\": 0.0, \"L.1\": 0.0, \"Result\": null, \"Offense\": null, \"Defense\": null, \"Made Playoffs\": false}, {\"index\": 54, \"Year\": 1968.0, \"Coach\": \"Jim Dooley\", \"G\": 14, \"W\": 7.0, \"L\": 7.0, \"T\": 0.0, \"W-L%\": 0.5, \"G.1\": 0.0, \"W.1\": 0.0, \"L.1\": 0.0, \"Result\": null, \"Offense\": null, \"Defense\": null, \"Made Playoffs\": false}, {\"index\": 55, \"Year\": 1967.0, \"Coach\": \"George Halas\", \"G\": 14, \"W\": 7.0, \"L\": 6.0, \"T\": 1.0, \"W-L%\": 0.5379999999999999, \"G.1\": 0.0, \"W.1\": 0.0, \"L.1\": 0.0, \"Result\": null, \"Offense\": null, \"Defense\": \"Jim Dooley\", \"Made Playoffs\": false}, {\"index\": 56, \"Year\": 1966.0, \"Coach\": \"George Halas\", \"G\": 14, \"W\": 5.0, \"L\": 7.0, \"T\": 2.0, \"W-L%\": 0.41700000000000004, \"G.1\": 0.0, \"W.1\": 0.0, \"L.1\": 0.0, \"Result\": null, \"Offense\": null, \"Defense\": \"Jim Dooley\", \"Made Playoffs\": false}, {\"index\": 57, \"Year\": 1965.0, \"Coach\": \"George Halas\", \"G\": 14, \"W\": 9.0, \"L\": 5.0, \"T\": 0.0, \"W-L%\": 0.643, \"G.1\": 0.0, \"W.1\": 0.0, \"L.1\": 0.0, \"Result\": null, \"Offense\": null, \"Defense\": \"George Allen\", \"Made Playoffs\": false}, {\"index\": 58, \"Year\": 1964.0, \"Coach\": \"George Halas\", \"G\": 14, \"W\": 5.0, \"L\": 9.0, \"T\": 0.0, \"W-L%\": 0.35700000000000004, \"G.1\": 0.0, \"W.1\": 0.0, \"L.1\": 0.0, \"Result\": null, \"Offense\": null, \"Defense\": \"George Allen\", \"Made Playoffs\": false}, {\"index\": 59, \"Year\": 1963.0, \"Coach\": \"George Halas\", \"G\": 14, \"W\": 11.0, \"L\": 1.0, \"T\": 2.0, \"W-L%\": 0.917, \"G.1\": 1.0, \"W.1\": 1.0, \"L.1\": 0.0, \"Result\": \"Won Champ\", \"Offense\": null, \"Defense\": null, \"Made Playoffs\": true}, {\"index\": 60, \"Year\": 1962.0, \"Coach\": \"George Halas\", \"G\": 14, \"W\": 9.0, \"L\": 5.0, \"T\": 0.0, \"W-L%\": 0.643, \"G.1\": 0.0, \"W.1\": 0.0, \"L.1\": 0.0, \"Result\": null, \"Offense\": null, \"Defense\": \"Clark Shaughnessy\", \"Made Playoffs\": false}, {\"index\": 61, \"Year\": 1961.0, \"Coach\": \"George Halas\", \"G\": 14, \"W\": 8.0, \"L\": 6.0, \"T\": 0.0, \"W-L%\": 0.5710000000000001, \"G.1\": 0.0, \"W.1\": 0.0, \"L.1\": 0.0, \"Result\": null, \"Offense\": null, \"Defense\": \"Clark Shaughnessy\", \"Made Playoffs\": false}, {\"index\": 62, \"Year\": 1960.0, \"Coach\": \"George Halas\", \"G\": 12, \"W\": 5.0, \"L\": 6.0, \"T\": 1.0, \"W-L%\": 0.455, \"G.1\": 0.0, \"W.1\": 0.0, \"L.1\": 0.0, \"Result\": null, \"Offense\": null, \"Defense\": \"Clark Shaughnessy\", \"Made Playoffs\": false}, {\"index\": 63, \"Year\": 1959.0, \"Coach\": \"George Halas\", \"G\": 12, \"W\": 8.0, \"L\": 4.0, \"T\": 0.0, \"W-L%\": 0.667, \"G.1\": 0.0, \"W.1\": 0.0, \"L.1\": 0.0, \"Result\": null, \"Offense\": null, \"Defense\": \"Clark Shaughnessy\", \"Made Playoffs\": false}, {\"index\": 64, \"Year\": 1958.0, \"Coach\": \"George Halas\", \"G\": 12, \"W\": 8.0, \"L\": 4.0, \"T\": 0.0, \"W-L%\": 0.667, \"G.1\": 0.0, \"W.1\": 0.0, \"L.1\": 0.0, \"Result\": null, \"Offense\": null, \"Defense\": null, \"Made Playoffs\": false}, {\"index\": 65, \"Year\": 1957.0, \"Coach\": \"Paddy Driscoll\", \"G\": 12, \"W\": 5.0, \"L\": 7.0, \"T\": 0.0, \"W-L%\": 0.41700000000000004, \"G.1\": 0.0, \"W.1\": 0.0, \"L.1\": 0.0, \"Result\": null, \"Offense\": null, \"Defense\": null, \"Made Playoffs\": false}, {\"index\": 66, \"Year\": 1956.0, \"Coach\": \"Paddy Driscoll\", \"G\": 12, \"W\": 9.0, \"L\": 2.0, \"T\": 1.0, \"W-L%\": 0.818, \"G.1\": 1.0, \"W.1\": 0.0, \"L.1\": 1.0, \"Result\": \"Lost Champ\", \"Offense\": null, \"Defense\": null, \"Made Playoffs\": true}, {\"index\": 67, \"Year\": 1955.0, \"Coach\": \"George Halas\", \"G\": 12, \"W\": 8.0, \"L\": 4.0, \"T\": 0.0, \"W-L%\": 0.667, \"G.1\": 0.0, \"W.1\": 0.0, \"L.1\": 0.0, \"Result\": null, \"Offense\": null, \"Defense\": null, \"Made Playoffs\": false}, {\"index\": 68, \"Year\": 1954.0, \"Coach\": \"George Halas\", \"G\": 12, \"W\": 8.0, \"L\": 4.0, \"T\": 0.0, \"W-L%\": 0.667, \"G.1\": 0.0, \"W.1\": 0.0, \"L.1\": 0.0, \"Result\": null, \"Offense\": null, \"Defense\": null, \"Made Playoffs\": false}, {\"index\": 69, \"Year\": 1953.0, \"Coach\": \"George Halas\", \"G\": 12, \"W\": 3.0, \"L\": 8.0, \"T\": 1.0, \"W-L%\": 0.273, \"G.1\": 0.0, \"W.1\": 0.0, \"L.1\": 0.0, \"Result\": null, \"Offense\": null, \"Defense\": null, \"Made Playoffs\": false}, {\"index\": 70, \"Year\": 1952.0, \"Coach\": \"George Halas\", \"G\": 12, \"W\": 5.0, \"L\": 7.0, \"T\": 0.0, \"W-L%\": 0.41700000000000004, \"G.1\": 0.0, \"W.1\": 0.0, \"L.1\": 0.0, \"Result\": null, \"Offense\": null, \"Defense\": null, \"Made Playoffs\": false}, {\"index\": 71, \"Year\": 1951.0, \"Coach\": \"George Halas\", \"G\": 12, \"W\": 7.0, \"L\": 5.0, \"T\": 0.0, \"W-L%\": 0.583, \"G.1\": 0.0, \"W.1\": 0.0, \"L.1\": 0.0, \"Result\": null, \"Offense\": null, \"Defense\": null, \"Made Playoffs\": false}, {\"index\": 72, \"Year\": 1950.0, \"Coach\": \"George Halas\", \"G\": 12, \"W\": 9.0, \"L\": 3.0, \"T\": 0.0, \"W-L%\": 0.75, \"G.1\": 1.0, \"W.1\": 0.0, \"L.1\": 1.0, \"Result\": \"Lost Div\", \"Offense\": null, \"Defense\": null, \"Made Playoffs\": true}]}}, {\"mode\": \"vega-lite\"});\n",
       "</script>"
      ],
      "text/plain": [
       "alt.HConcatChart(...)"
      ]
     },
     "execution_count": 6,
     "metadata": {},
     "output_type": "execute_result"
    }
   ],
   "source": [
    "(bars | heat).configure(background=primary_color)\\\n",
    ".configure_axis(gridColor=\"grey\", gridDash=[6,4])\\\n",
    ".configure_axisLeft(labelColor=secondary_color, titleColor=secondary_color, labelFontSize=17, titleFontSize=20)\\\n",
    ".configure_axisBottom(labelColor=secondary_color, titleColor=secondary_color,labelFontSize=15, titleFontSize=17)\\\n",
    ".configure_legend(labelColor=secondary_color, titleColor=secondary_color, strokeColor='gray', fillColor=primary_color, padding=10,cornerRadius=10, labelFontSize=17, titleFontSize=17)\\\n",
    ".configure_title(color=secondary_color, fontSize=17)"
   ]
  },
  {
   "cell_type": "code",
   "execution_count": null,
   "id": "b6707f66-1dd1-4b83-9e59-c4072d4e0bb2",
   "metadata": {},
   "outputs": [],
   "source": []
  }
 ],
 "metadata": {
  "kernelspec": {
   "display_name": "Python 3",
   "language": "python",
   "name": "python3"
  },
  "language_info": {
   "codemirror_mode": {
    "name": "ipython",
    "version": 3
   },
   "file_extension": ".py",
   "mimetype": "text/x-python",
   "name": "python",
   "nbconvert_exporter": "python",
   "pygments_lexer": "ipython3",
   "version": "3.6.13"
  }
 },
 "nbformat": 4,
 "nbformat_minor": 5
}
