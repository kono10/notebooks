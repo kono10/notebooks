{
 "cells": [
  {
   "cell_type": "code",
   "execution_count": 1,
   "id": "bbc2f928-279d-4e13-a924-615e6e62c923",
   "metadata": {},
   "outputs": [],
   "source": [
    "import os\n",
    "import glob\n",
    "import altair as alt\n",
    "import pandas as pd\n",
    "import numpy as np\n",
    "import warnings\n",
    "from plotly.subplots import make_subplots\n",
    "import plotly.graph_objects as go\n",
    "\n",
    "pd.set_option('display.max_rows', 500)"
   ]
  },
  {
   "cell_type": "code",
   "execution_count": 2,
   "id": "f13f96ad-a01b-4d1e-9f8a-3644f00cc17b",
   "metadata": {},
   "outputs": [],
   "source": [
    "week = 4\n",
    "team = \"Chicago Bears\"\n",
    "team_city = \"Chicago\"\n",
    "team_underscore = \"_\".join(team.lower().split(\" \"))\n",
    "\n",
    "team_opp = \"New York Giants\"\n",
    "team_opp_alt = \"NY Giants\"\n",
    "team_city_opp = \"New York\"\n",
    "team_opp_underscore = \"_\".join(team_opp.lower().split(\" \"))\n",
    "\n",
    "team_date = \"20220927\"\n",
    "player_date = \"20220927\"\n",
    "nfl_date = \"20220927\"\n",
    "\n",
    "# bears\n",
    "# background etc.\n",
    "primary_color = \"#0B162A\" \n",
    "secondary_color = \"#C83803\"\n",
    "\n",
    "opp_primary_color = \"#0B2265\"\n",
    "opp_secondary_color = \"#A71930\""
   ]
  },
  {
   "cell_type": "code",
   "execution_count": 3,
   "id": "ba28624f-b14c-4470-8083-af938dfacb7a",
   "metadata": {
    "tags": []
   },
   "outputs": [],
   "source": [
    "cols = [\"Date\", \"Opponent\", \"Result\", \"W/L\", \"Div\", \"Spread\", \"Total\", \"Money\"]\n",
    "df_schedule = pd.read_csv(f\"../data/team_ranks/_nfl_team_{team_underscore}__{team_date}.csv\")\n",
    "df_schedule[\"Opponent\"] = np.where(df_schedule.Location.eq(\"Away\"), \"@\" + df_schedule.Opponent, df_schedule.Opponent)\n",
    "record_str = df_schedule[~df_schedule.Div.isnull()].iloc[-1][\"W/L\"]"
   ]
  },
  {
   "cell_type": "code",
   "execution_count": 4,
   "id": "ad8164e8-3cb9-4c34-84f8-7e103d7add66",
   "metadata": {
    "tags": []
   },
   "outputs": [],
   "source": [
    "df_schedule = df_schedule.fillna(\"\")\n",
    "df_schedule = df_schedule.head(n=7)[cols]\n",
    "\n",
    "df_schedule_opp = pd.read_csv(f\"../data/team_ranks/_nfl_team_{team_opp_underscore}__{team_date}.csv\")\n",
    "df_schedule_opp[\"Opponent\"] = np.where(df_schedule_opp.Location.eq(\"Away\"), \"@\" + df_schedule_opp.Opponent, df_schedule_opp.Opponent)\n",
    "record_opp_str = df_schedule_opp[~df_schedule_opp.Div.isnull()].iloc[-1][\"W/L\"]\n",
    "\n",
    "df_schedule_opp = df_schedule_opp.fillna(\"\")\n",
    "df_schedule_opp = df_schedule_opp.head(n=7)[cols]"
   ]
  },
  {
   "cell_type": "code",
   "execution_count": 5,
   "id": "08417ad9-0f77-41e0-8eae-fe50251c8fd8",
   "metadata": {
    "tags": []
   },
   "outputs": [
    {
     "name": "stdout",
     "output_type": "stream",
     "text": [
      "../data/team_ranks/_nfl_player_stat_games_played_20220927.csv\n",
      "../data/team_ranks/_nfl_player_stat_games_started_20220927.csv\n",
      "../data/team_ranks/_nfl_player_stat_quarterback_wins_20220927.csv\n",
      "../data/team_ranks/_nfl_player_stat_quarterback_losses_20220927.csv\n",
      "../data/team_ranks/_nfl_player_stat_quarterback_ties_20220927.csv\n",
      "../data/team_ranks/_nfl_player_stat_quarterback_winning_percentage_20220927.csv\n",
      "../data/team_ranks/_nfl_player_stat_passing_plays_completed_20220927.csv\n",
      "../data/team_ranks/_nfl_player_stat_passing_plays_attempted_20220927.csv\n",
      "../data/team_ranks/_nfl_player_stat_passing_gross_yards_20220927.csv\n",
      "../data/team_ranks/_nfl_player_stat_passing_touchdowns_20220927.csv\n",
      "../data/team_ranks/_nfl_player_stat_touchdown_percentage_20220927.csv\n",
      "../data/team_ranks/_nfl_player_stat_passing_plays_intercepted_20220927.csv\n",
      "../data/team_ranks/_nfl_player_stat_interception_percentage_20220927.csv\n",
      "../data/team_ranks/_nfl_player_stat_games_with_an_interception_20220927.csv\n",
      "../data/team_ranks/_nfl_player_stat_percent_of_games_with_an_interception_20220927.csv\n",
      "../data/team_ranks/_nfl_player_stat_completion_percentage_20220927.csv\n",
      "../data/team_ranks/_nfl_player_stat_gross_yards_per_passing_attempt_20220927.csv\n",
      "../data/team_ranks/_nfl_player_stat_passing_longest_yards_20220927.csv\n",
      "../data/team_ranks/_nfl_player_stat_passing_plays_sacked_20220927.csv\n",
      "../data/team_ranks/_nfl_player_stat_passing_sacked_yards_20220927.csv\n",
      "../data/team_ranks/_nfl_player_stat_passing_net_yards_20220927.csv\n",
      "../data/team_ranks/_nfl_player_stat_net_yards_per_passing_play_20220927.csv\n",
      "../data/team_ranks/_nfl_player_stat_qb_rating_nfl_20220927.csv\n",
      "../data/team_ranks/_nfl_player_stat_passing_2pt_conversions_succeeded_20220927.csv\n",
      "../data/team_ranks/_nfl_player_stat_rushing_and_receiving_yards_20220927.csv\n",
      "../data/team_ranks/_nfl_player_stat_rushing_plays_20220927.csv\n",
      "../data/team_ranks/_nfl_player_stat_rushing_net_yards_20220927.csv\n",
      "../data/team_ranks/_nfl_player_stat_rushing_yards_per_attempt_20220927.csv\n",
      "../data/team_ranks/_nfl_player_stat_rushing_touchdowns_20220927.csv\n",
      "../data/team_ranks/_nfl_player_stat_rushing_longest_yards_20220927.csv\n",
      "../data/team_ranks/_nfl_player_stat_rushing_2pt_conversions_succeeded_20220927.csv\n",
      "../data/team_ranks/_nfl_player_stat_rushing_and_receiving_touchdowns_20220927.csv\n",
      "../data/team_ranks/_nfl_player_stat_receiving_receptions_20220927.csv\n",
      "../data/team_ranks/_nfl_player_stat_receiving_yards_20220927.csv\n",
      "../data/team_ranks/_nfl_player_stat_receiving_yards_per_catch_20220927.csv\n",
      "../data/team_ranks/_nfl_player_stat_receiving_touchdowns_20220927.csv\n",
      "../data/team_ranks/_nfl_player_stat_receiving_longest_yards_20220927.csv\n",
      "../data/team_ranks/_nfl_player_stat_receiving_targeted_20220927.csv\n",
      "../data/team_ranks/_nfl_player_stat_receiving_catch_rate_20220927.csv\n",
      "../data/team_ranks/_nfl_player_stat_receiving_2pt_conversions_succeeded_20220927.csv\n",
      "../data/team_ranks/_nfl_player_stat_kickoff_returns_20220927.csv\n",
      "../data/team_ranks/_nfl_player_stat_kickoff_return_yards_20220927.csv\n",
      "../data/team_ranks/_nfl_player_stat_kickoff_return_yards_per_return_20220927.csv\n",
      "../data/team_ranks/_nfl_player_stat_kickoff_return_touchdowns_20220927.csv\n",
      "../data/team_ranks/_nfl_player_stat_kickoff_return_longest_yards_20220927.csv\n",
      "../data/team_ranks/_nfl_player_stat_kickoff_return_faircatches_20220927.csv\n",
      "../data/team_ranks/_nfl_player_stat_punt_returns_20220927.csv\n",
      "../data/team_ranks/_nfl_player_stat_punt_return_yards_20220927.csv\n",
      "../data/team_ranks/_nfl_player_stat_punt_return_yards_per_return_20220927.csv\n",
      "../data/team_ranks/_nfl_player_stat_punt_return_touchdowns_20220927.csv\n",
      "../data/team_ranks/_nfl_player_stat_punt_return_longest_yards_20220927.csv\n",
      "../data/team_ranks/_nfl_player_stat_punt_return_faircatches_20220927.csv\n",
      "../data/team_ranks/_nfl_player_stat_fumbles_20220927.csv\n",
      "../data/team_ranks/_nfl_player_stat_fumbles_lost_20220927.csv\n",
      "../data/team_ranks/_nfl_player_stat_defense_miscellaneous_fumble_recoveries_20220927.csv\n",
      "../data/team_ranks/_nfl_player_stat_field_goals_succeeded_20220927.csv\n",
      "../data/team_ranks/_nfl_player_stat_field_goals_attempted_20220927.csv\n",
      "../data/team_ranks/_nfl_player_stat_field_goal_percentage_20220927.csv\n",
      "../data/team_ranks/_nfl_player_stat_field_goals_succeeded_longest_yards_20220927.csv\n",
      "../data/team_ranks/_nfl_player_stat_extra_point_kicks_succeeded_20220927.csv\n",
      "../data/team_ranks/_nfl_player_stat_extra_point_kicks_attempted_20220927.csv\n",
      "../data/team_ranks/_nfl_player_stat_extra_point_percentage_20220927.csv\n",
      "../data/team_ranks/_nfl_player_stat_field_goals_succeeded_0_to_19_20220927.csv\n",
      "../data/team_ranks/_nfl_player_stat_field_goals_attempted_0_to_19_20220927.csv\n",
      "../data/team_ranks/_nfl_player_stat_field_goal_percentage_0_to_19_20220927.csv\n",
      "../data/team_ranks/_nfl_player_stat_field_goals_succeeded_20_to_29_20220927.csv\n",
      "../data/team_ranks/_nfl_player_stat_field_goals_attempted_20_to_29_20220927.csv\n",
      "../data/team_ranks/_nfl_player_stat_field_goal_percentage_20_to_29_20220927.csv\n",
      "../data/team_ranks/_nfl_player_stat_field_goals_succeeded_30_to_39_20220927.csv\n",
      "../data/team_ranks/_nfl_player_stat_field_goals_attempted_30_to_39_20220927.csv\n",
      "../data/team_ranks/_nfl_player_stat_field_goal_percentage_30_to_39_20220927.csv\n",
      "../data/team_ranks/_nfl_player_stat_field_goals_succeeded_40_to_49_20220927.csv\n",
      "../data/team_ranks/_nfl_player_stat_field_goals_attempted_40_to_49_20220927.csv\n",
      "../data/team_ranks/_nfl_player_stat_field_goal_percentage_40_to_49_20220927.csv\n",
      "../data/team_ranks/_nfl_player_stat_field_goals_succeeded_50_plus_20220927.csv\n",
      "../data/team_ranks/_nfl_player_stat_field_goals_attempted_50_plus_20220927.csv\n",
      "../data/team_ranks/_nfl_player_stat_field_goal_percentage_50_plus_20220927.csv\n",
      "../data/team_ranks/_nfl_player_stat_kicking_points_20220927.csv\n",
      "../data/team_ranks/_nfl_player_stat_punting_plays_20220927.csv\n",
      "../data/team_ranks/_nfl_player_stat_punting_gross_yards_20220927.csv\n",
      "../data/team_ranks/_nfl_player_stat_punting_yards_per_punt_20220927.csv\n",
      "../data/team_ranks/_nfl_player_stat_punting_longest_yards_20220927.csv\n",
      "../data/team_ranks/_nfl_player_stat_punting_inside_twenty_20220927.csv\n",
      "../data/team_ranks/_nfl_player_stat_punting_inside_twenty_percentage_20220927.csv\n",
      "../data/team_ranks/_nfl_player_stat_punting_touchbacks_20220927.csv\n",
      "../data/team_ranks/_nfl_player_stat_punting_touchback_percentage_20220927.csv\n",
      "../data/team_ranks/_nfl_player_stat_defense_total_tackles_20220927.csv\n",
      "../data/team_ranks/_nfl_player_stat_defense_solo_tackles_20220927.csv\n",
      "../data/team_ranks/_nfl_player_stat_defense_assisted_tackles_20220927.csv\n",
      "../data/team_ranks/_nfl_player_stat_defense_sacks_20220927.csv\n",
      "../data/team_ranks/_nfl_player_stat_defense_sack_yards_20220927.csv\n",
      "../data/team_ranks/_nfl_player_stat_defense_tackles_for_loss_20220927.csv\n",
      "../data/team_ranks/_nfl_player_stat_defense_pass_defenses_20220927.csv\n",
      "../data/team_ranks/_nfl_player_stat_defense_interceptions_20220927.csv\n",
      "../data/team_ranks/_nfl_player_stat_defense_interception_yards_20220927.csv\n",
      "../data/team_ranks/_nfl_player_stat_interceptions_returned_touchdowns_20220927.csv\n",
      "../data/team_ranks/_nfl_player_stat_defense_forced_fumbles_20220927.csv\n",
      "../data/team_ranks/_nfl_player_stat_defense_fumble_recoveries_20220927.csv\n",
      "../data/team_ranks/_nfl_player_stat_fumbles_recovered_touchdowns_20220927.csv\n",
      "../data/team_ranks/_nfl_player_stat_fumbles_recovered_lost_by_opposition_20220927.csv\n",
      "../data/team_ranks/_nfl_player_stat_defense_special_teams_total_tackles_20220927.csv\n",
      "../data/team_ranks/_nfl_player_stat_defense_special_teams_solo_tackles_20220927.csv\n",
      "../data/team_ranks/_nfl_player_stat_defense_special_teams_assisted_tackles_20220927.csv\n",
      "../data/team_ranks/_nfl_player_stat_defense_special_teams_fumble_recoveries_20220927.csv\n",
      "../data/team_ranks/_nfl_player_stat_total_touchdowns_20220927.csv\n",
      "../data/team_ranks/_nfl_player_stat_games_with_a_touchdown_20220927.csv\n",
      "../data/team_ranks/_nfl_player_stat_percent_of_games_with_a_touchdown_20220927.csv\n",
      "../data/team_ranks/_nfl_player_stat_scoring_two_point_conversions_20220927.csv\n",
      "../data/team_ranks/_nfl_player_stat_scoring_field_goals_20220927.csv\n",
      "../data/team_ranks/_nfl_player_stat_scoring_extra_points_20220927.csv\n",
      "../data/team_ranks/_nfl_player_stat_scoring_total_points_20220927.csv\n"
     ]
    }
   ],
   "source": [
    "file_path = f\"../data/team_ranks/_nfl_player_stat_*{team_date}.csv\"\n",
    "file_paths = glob.glob(os.path.join(file_path))\n",
    "\n",
    "pds = list()\n",
    "for file_path in file_paths:\n",
    "    print(file_path)\n",
    "    df = pd.read_csv(file_path)\n",
    "    pds.append(df)\n",
    "_df_player = pd.concat(pds)"
   ]
  },
  {
   "cell_type": "code",
   "execution_count": 6,
   "id": "0e7cca8c-38f5-4ca0-bc81-44e64ad15b5c",
   "metadata": {},
   "outputs": [],
   "source": [
    "cols = [\"Player\", \"Pos\", \"Rank\", \"Stat\", \"Value\"]\n",
    "\n",
    "player_stats_list = [\"passing-gross-yards\", \"passing-touchdowns\", \"rushing-net-yards\", \"rushing-touchdowns\", \"defense-total-tackles\", \"defense-sacks\"]\n",
    "_df_player[\"_stat\"] = _df_player.url.str.split(\"/\", expand=True)[3]\n",
    "_df_player[\"Stat\"] = _df_player._stat.str.split(\"-\").str.join(\" \").str.title()\n",
    "_df_player = _df_player[_df_player._stat.isin(player_stats_list)]\n",
    "_df_player[\"Stat\"] = _df_player.Stat.str.replace(\"Per Game\", \"Pg\").str.replace(\"Opponent\", \"Opp\")\\\n",
    ".str.replace(\"Offensive\", \"Off\")\\\n",
    ".str.replace(\"Defensive\", \"Def\")\\\n",
    ".str.replace(\"Touchdowns\", \"Td\")\\\n",
    ".str.replace(\"Rushing\", \"Run\")\\\n",
    ".str.replace(\"Passing\", \"Pass\")\\\n",
    ".str.replace(\"Total\", \"\")\\\n",
    ".str.replace(\"Defense\", \"\")\\\n",
    ".str.replace(\"Gross\", \"\")\\\n",
    ".str.replace(\"Net\", \"\")\n",
    "_df_player[\"Value\"] = pd.to_numeric(_df_player.Value)\n",
    "_df_player = _df_player[_df_player.Value.gt(0)]\n",
    "\n",
    "df_player = _df_player[_df_player.Team.eq(team)][cols]\n",
    "df_player_opp = _df_player[_df_player.Team.eq(team_opp)][cols]"
   ]
  },
  {
   "cell_type": "code",
   "execution_count": 7,
   "id": "1c392e2c-a9dd-4fb9-999f-4308f2b6b6bd",
   "metadata": {
    "tags": []
   },
   "outputs": [
    {
     "name": "stdout",
     "output_type": "stream",
     "text": [
      "../data/team_ranks/_nfl_stat_points_per_game_20220927.csv\n",
      "../data/team_ranks/_nfl_stat_average_scoring_margin_20220927.csv\n",
      "../data/team_ranks/_nfl_stat_yards_per_point_20220927.csv\n",
      "../data/team_ranks/_nfl_stat_yards_per_point_margin_20220927.csv\n",
      "../data/team_ranks/_nfl_stat_points_per_play_20220927.csv\n",
      "../data/team_ranks/_nfl_stat_points_per_play_margin_20220927.csv\n",
      "../data/team_ranks/_nfl_stat_touchdowns_per_game_20220927.csv\n",
      "../data/team_ranks/_nfl_stat_red_zone_scoring_attempts_per_game_20220927.csv\n",
      "../data/team_ranks/_nfl_stat_red_zone_scores_per_game_20220927.csv\n",
      "../data/team_ranks/_nfl_stat_red_zone_scoring_pct_20220927.csv\n",
      "../data/team_ranks/_nfl_stat_extra_point_attempts_per_game_20220927.csv\n",
      "../data/team_ranks/_nfl_stat_extra_points_made_per_game_20220927.csv\n",
      "../data/team_ranks/_nfl_stat_two_point_conversion_attempts_per_game_20220927.csv\n",
      "../data/team_ranks/_nfl_stat_two_point_conversions_per_game_20220927.csv\n",
      "../data/team_ranks/_nfl_stat_points_per_field_goal_attempt_20220927.csv\n",
      "../data/team_ranks/_nfl_stat_extra_point_conversion_pct_20220927.csv\n",
      "../data/team_ranks/_nfl_stat_two_point_conversion_pct_20220927.csv\n",
      "../data/team_ranks/_nfl_stat_offensive_touchdowns_per_game_20220927.csv\n",
      "../data/team_ranks/_nfl_stat_defensive_touchdowns_per_game_20220927.csv\n",
      "../data/team_ranks/_nfl_stat_special_teams_touchdowns_per_game_20220927.csv\n",
      "../data/team_ranks/_nfl_stat_offensive_points_per_game_20220927.csv\n",
      "../data/team_ranks/_nfl_stat_defensive_points_per_game_20220927.csv\n",
      "../data/team_ranks/_nfl_stat_special_teams_points_per_game_20220927.csv\n",
      "../data/team_ranks/_nfl_stat_offensive_point_share_pct_20220927.csv\n",
      "../data/team_ranks/_nfl_stat_1st_quarter_points_per_game_20220927.csv\n",
      "../data/team_ranks/_nfl_stat_2nd_quarter_points_per_game_20220927.csv\n",
      "../data/team_ranks/_nfl_stat_3rd_quarter_points_per_game_20220927.csv\n",
      "../data/team_ranks/_nfl_stat_4th_quarter_points_per_game_20220927.csv\n",
      "../data/team_ranks/_nfl_stat_overtime_points_per_game_20220927.csv\n",
      "../data/team_ranks/_nfl_stat_1st_half_points_per_game_20220927.csv\n",
      "../data/team_ranks/_nfl_stat_2nd_half_points_per_game_20220927.csv\n",
      "../data/team_ranks/_nfl_stat_1st_quarter_time_of_possession_share_pct_20220927.csv\n",
      "../data/team_ranks/_nfl_stat_2nd_quarter_time_of_possession_share_pct_20220927.csv\n",
      "../data/team_ranks/_nfl_stat_3rd_quarter_time_of_possession_share_pct_20220927.csv\n",
      "../data/team_ranks/_nfl_stat_4th_quarter_time_of_possession_share_pct_20220927.csv\n",
      "../data/team_ranks/_nfl_stat_1st_half_time_of_possession_share_pct_20220927.csv\n",
      "../data/team_ranks/_nfl_stat_2nd_half_time_of_possession_share_pct_20220927.csv\n",
      "../data/team_ranks/_nfl_stat_yards_per_game_20220927.csv\n",
      "../data/team_ranks/_nfl_stat_plays_per_game_20220927.csv\n",
      "../data/team_ranks/_nfl_stat_yards_per_play_20220927.csv\n",
      "../data/team_ranks/_nfl_stat_first_downs_per_game_20220927.csv\n",
      "../data/team_ranks/_nfl_stat_third_downs_per_game_20220927.csv\n",
      "../data/team_ranks/_nfl_stat_third_down_conversions_per_game_20220927.csv\n",
      "../data/team_ranks/_nfl_stat_fourth_downs_per_game_20220927.csv\n",
      "../data/team_ranks/_nfl_stat_fourth_down_conversions_per_game_20220927.csv\n",
      "../data/team_ranks/_nfl_stat_average_time_of_possession_net_of_ot_20220927.csv\n",
      "../data/team_ranks/_nfl_stat_time_of_possession_pct_net_of_ot_20220927.csv\n",
      "../data/team_ranks/_nfl_stat_seconds_per_play_20220927.csv\n",
      "../data/team_ranks/_nfl_stat_first_downs_per_play_20220927.csv\n",
      "../data/team_ranks/_nfl_stat_third_down_conversion_pct_20220927.csv\n",
      "../data/team_ranks/_nfl_stat_fourth_down_conversion_pct_20220927.csv\n",
      "../data/team_ranks/_nfl_stat_punts_per_play_20220927.csv\n",
      "../data/team_ranks/_nfl_stat_punts_per_offensive_score_20220927.csv\n",
      "../data/team_ranks/_nfl_stat_opponent_tackles_per_game_20220927.csv\n",
      "../data/team_ranks/_nfl_stat_opponent_solo_tackles_per_game_20220927.csv\n",
      "../data/team_ranks/_nfl_stat_opponent_assisted_tackles_per_game_20220927.csv\n",
      "../data/team_ranks/_nfl_stat_rushing_attempts_per_game_20220927.csv\n",
      "../data/team_ranks/_nfl_stat_rushing_yards_per_game_20220927.csv\n",
      "../data/team_ranks/_nfl_stat_rushing_first_downs_per_game_20220927.csv\n",
      "../data/team_ranks/_nfl_stat_rushing_touchdowns_per_game_20220927.csv\n",
      "../data/team_ranks/_nfl_stat_yards_per_rush_attempt_20220927.csv\n",
      "../data/team_ranks/_nfl_stat_rushing_play_pct_20220927.csv\n",
      "../data/team_ranks/_nfl_stat_rushing_touchdown_pct_20220927.csv\n",
      "../data/team_ranks/_nfl_stat_rushing_first_down_pct_20220927.csv\n",
      "../data/team_ranks/_nfl_stat_rushing_yards_pct_20220927.csv\n",
      "../data/team_ranks/_nfl_stat_pass_attempts_per_game_20220927.csv\n",
      "../data/team_ranks/_nfl_stat_completions_per_game_20220927.csv\n",
      "../data/team_ranks/_nfl_stat_incompletions_per_game_20220927.csv\n",
      "../data/team_ranks/_nfl_stat_completion_pct_20220927.csv\n",
      "../data/team_ranks/_nfl_stat_passing_yards_per_game_20220927.csv\n",
      "../data/team_ranks/_nfl_stat_gross_passing_yards_per_game_20220927.csv\n",
      "../data/team_ranks/_nfl_stat_yards_per_pass_attempt_20220927.csv\n",
      "../data/team_ranks/_nfl_stat_yards_per_completion_20220927.csv\n",
      "../data/team_ranks/_nfl_stat_passing_touchdowns_per_game_20220927.csv\n",
      "../data/team_ranks/_nfl_stat_passing_touchdown_pct_20220927.csv\n",
      "../data/team_ranks/_nfl_stat_qb_sacked_per_game_20220927.csv\n",
      "../data/team_ranks/_nfl_stat_qb_sacked_pct_20220927.csv\n",
      "../data/team_ranks/_nfl_stat_passing_first_downs_per_game_20220927.csv\n",
      "../data/team_ranks/_nfl_stat_passing_first_down_pct_20220927.csv\n",
      "../data/team_ranks/_nfl_stat_average_team_passer_rating_20220927.csv\n",
      "../data/team_ranks/_nfl_stat_passing_play_pct_20220927.csv\n",
      "../data/team_ranks/_nfl_stat_passing_yards_pct_20220927.csv\n",
      "../data/team_ranks/_nfl_stat_other_touchdowns_per_game_20220927.csv\n",
      "../data/team_ranks/_nfl_stat_field_goal_attempts_per_game_20220927.csv\n",
      "../data/team_ranks/_nfl_stat_field_goals_made_per_game_20220927.csv\n",
      "../data/team_ranks/_nfl_stat_field_goals_got_blocked_per_game_20220927.csv\n",
      "../data/team_ranks/_nfl_stat_kicking_points_per_game_20220927.csv\n",
      "../data/team_ranks/_nfl_stat_punt_attempts_per_game_20220927.csv\n",
      "../data/team_ranks/_nfl_stat_punts_got_blocked_per_game_20220927.csv\n",
      "../data/team_ranks/_nfl_stat_gross_punt_yards_per_game_20220927.csv\n",
      "../data/team_ranks/_nfl_stat_net_punt_yards_per_game_20220927.csv\n",
      "../data/team_ranks/_nfl_stat_kickoffs_per_game_20220927.csv\n",
      "../data/team_ranks/_nfl_stat_touchbacks_per_game_20220927.csv\n",
      "../data/team_ranks/_nfl_stat_kickoff_touchback_pct_20220927.csv\n",
      "../data/team_ranks/_nfl_stat_field_goal_conversion_pct_20220927.csv\n",
      "../data/team_ranks/_nfl_stat_field_goal_got_blocked_pct_20220927.csv\n",
      "../data/team_ranks/_nfl_stat_field_goal_conversion_pct_net_of_blocks_20220927.csv\n",
      "../data/team_ranks/_nfl_stat_punt_blocked_pct_20220927.csv\n",
      "../data/team_ranks/_nfl_stat_net_yards_per_punt_attempt_20220927.csv\n",
      "../data/team_ranks/_nfl_stat_gross_yards_per_successful_punt_20220927.csv\n",
      "../data/team_ranks/_nfl_stat_net_yards_per_successful_punt_20220927.csv\n",
      "../data/team_ranks/_nfl_stat_opponent_points_per_game_20220927.csv\n",
      "../data/team_ranks/_nfl_stat_opp_yards_per_point_20220927.csv\n",
      "../data/team_ranks/_nfl_stat_opponent_points_per_play_20220927.csv\n",
      "../data/team_ranks/_nfl_stat_opponent_touchdowns_per_game_20220927.csv\n",
      "../data/team_ranks/_nfl_stat_opponent_red_zone_scoring_attempts_per_game_20220927.csv\n",
      "../data/team_ranks/_nfl_stat_opponent_red_zone_scores_per_game_20220927.csv\n",
      "../data/team_ranks/_nfl_stat_opponent_red_zone_scoring_pct_20220927.csv\n",
      "../data/team_ranks/_nfl_stat_opponent_yards_per_completion_20220927.csv\n",
      "../data/team_ranks/_nfl_stat_opponent_extra_point_attempts_per_game_20220927.csv\n",
      "../data/team_ranks/_nfl_stat_opponent_extra_points_made_per_game_20220927.csv\n",
      "../data/team_ranks/_nfl_stat_opponent_two_point_conversion_attempts_per_game_20220927.csv\n",
      "../data/team_ranks/_nfl_stat_opponent_two_point_conversions_per_game_20220927.csv\n",
      "../data/team_ranks/_nfl_stat_opponent_points_per_field_goal_attempt_20220927.csv\n",
      "../data/team_ranks/_nfl_stat_opponent_extra_point_conversion_pct_20220927.csv\n",
      "../data/team_ranks/_nfl_stat_opponent_two_point_conversion_pct_20220927.csv\n",
      "../data/team_ranks/_nfl_stat_opponent_offensive_touchdowns_per_game_20220927.csv\n",
      "../data/team_ranks/_nfl_stat_opponent_defensive_touchdowns_per_game_20220927.csv\n",
      "../data/team_ranks/_nfl_stat_opponent_special_teams_touchdowns_per_game_20220927.csv\n",
      "../data/team_ranks/_nfl_stat_opponent_offensive_points_per_game_20220927.csv\n",
      "../data/team_ranks/_nfl_stat_opponent_defensive_points_per_game_20220927.csv\n",
      "../data/team_ranks/_nfl_stat_opponent_special_teams_points_per_game_20220927.csv\n",
      "../data/team_ranks/_nfl_stat_opponent_offensive_point_share_pct_20220927.csv\n",
      "../data/team_ranks/_nfl_stat_opp_1st_quarter_points_per_game_20220927.csv\n",
      "../data/team_ranks/_nfl_stat_opp_2nd_quarter_points_per_game_20220927.csv\n",
      "../data/team_ranks/_nfl_stat_opp_3rd_quarter_points_per_game_20220927.csv\n",
      "../data/team_ranks/_nfl_stat_opp_4th_quarter_points_per_game_20220927.csv\n",
      "../data/team_ranks/_nfl_stat_opp_overtime_points_per_game_20220927.csv\n",
      "../data/team_ranks/_nfl_stat_opponent_1st_half_points_per_game_20220927.csv\n",
      "../data/team_ranks/_nfl_stat_opponent_2nd_half_points_per_game_20220927.csv\n",
      "../data/team_ranks/_nfl_stat_opponent_yards_per_game_20220927.csv\n",
      "../data/team_ranks/_nfl_stat_opponent_plays_per_game_20220927.csv\n",
      "../data/team_ranks/_nfl_stat_opponent_yards_per_play_20220927.csv\n",
      "../data/team_ranks/_nfl_stat_opponent_first_downs_per_game_20220927.csv\n",
      "../data/team_ranks/_nfl_stat_opponent_third_downs_per_game_20220927.csv\n",
      "../data/team_ranks/_nfl_stat_opponent_third_down_conversions_per_game_20220927.csv\n",
      "../data/team_ranks/_nfl_stat_opponent_fourth_downs_per_game_20220927.csv\n",
      "../data/team_ranks/_nfl_stat_opponent_fourth_down_conversions_per_game_20220927.csv\n",
      "../data/team_ranks/_nfl_stat_opponent_average_time_of_possession_net_of_ot_20220927.csv\n",
      "../data/team_ranks/_nfl_stat_opponent_time_of_possession_pct_net_of_ot_20220927.csv\n",
      "../data/team_ranks/_nfl_stat_opponent_seconds_per_play_20220927.csv\n",
      "../data/team_ranks/_nfl_stat_opponent_first_downs_per_play_20220927.csv\n",
      "../data/team_ranks/_nfl_stat_opponent_third_down_conversion_pct_20220927.csv\n",
      "../data/team_ranks/_nfl_stat_opponent_fourth_down_conversion_pct_20220927.csv\n",
      "../data/team_ranks/_nfl_stat_opponent_punts_per_play_20220927.csv\n",
      "../data/team_ranks/_nfl_stat_opponent_punts_per_offensive_score_20220927.csv\n",
      "../data/team_ranks/_nfl_stat_tackles_per_game_20220927.csv\n",
      "../data/team_ranks/_nfl_stat_solo_tackles_per_game_20220927.csv\n",
      "../data/team_ranks/_nfl_stat_assisted_tackles_per_game_20220927.csv\n",
      "../data/team_ranks/_nfl_stat_opponent_rushing_attempts_per_game_20220927.csv\n",
      "../data/team_ranks/_nfl_stat_opponent_rushing_yards_per_game_20220927.csv\n",
      "../data/team_ranks/_nfl_stat_opponent_rushing_first_downs_per_game_20220927.csv\n",
      "../data/team_ranks/_nfl_stat_opponent_rushing_touchdowns_per_game_20220927.csv\n",
      "../data/team_ranks/_nfl_stat_opponent_yards_per_rush_attempt_20220927.csv\n",
      "../data/team_ranks/_nfl_stat_opponent_rushing_play_pct_20220927.csv\n",
      "../data/team_ranks/_nfl_stat_opponent_rushing_touchdown_pct_20220927.csv\n",
      "../data/team_ranks/_nfl_stat_opponent_rushing_first_down_pct_20220927.csv\n",
      "../data/team_ranks/_nfl_stat_opponent_rushing_yards_pct_20220927.csv\n",
      "../data/team_ranks/_nfl_stat_opponent_pass_attempts_per_game_20220927.csv\n",
      "../data/team_ranks/_nfl_stat_opponent_completions_per_game_20220927.csv\n",
      "../data/team_ranks/_nfl_stat_opponent_incompletions_per_game_20220927.csv\n",
      "../data/team_ranks/_nfl_stat_opponent_completion_pct_20220927.csv\n",
      "../data/team_ranks/_nfl_stat_opponent_passing_yards_per_game_20220927.csv\n",
      "../data/team_ranks/_nfl_stat_opponent_gross_passing_yards_per_game_20220927.csv\n",
      "../data/team_ranks/_nfl_stat_opponent_yards_per_pass_attempt_20220927.csv\n",
      "../data/team_ranks/_nfl_stat_opponent_passing_first_downs_per_game_20220927.csv\n",
      "../data/team_ranks/_nfl_stat_opponent_passing_touchdowns_per_game_20220927.csv\n",
      "../data/team_ranks/_nfl_stat_opponent_passing_touchdown_pct_20220927.csv\n",
      "../data/team_ranks/_nfl_stat_opponent_average_team_passer_rating_20220927.csv\n",
      "../data/team_ranks/_nfl_stat_sack_pct_20220927.csv\n",
      "../data/team_ranks/_nfl_stat_opponent_passing_play_pct_20220927.csv\n",
      "../data/team_ranks/_nfl_stat_opponent_passing_yards_pct_20220927.csv\n",
      "../data/team_ranks/_nfl_stat_sacks_per_game_20220927.csv\n",
      "../data/team_ranks/_nfl_stat_opponent_passing_first_down_pct_20220927.csv\n",
      "../data/team_ranks/_nfl_stat_opponent_other_touchdowns_per_game_20220927.csv\n",
      "../data/team_ranks/_nfl_stat_opponent_field_goal_attempts_per_game_20220927.csv\n",
      "../data/team_ranks/_nfl_stat_opponent_field_goals_made_per_game_20220927.csv\n",
      "../data/team_ranks/_nfl_stat_field_goals_blocked_per_game_20220927.csv\n",
      "../data/team_ranks/_nfl_stat_opponent_kicking_points_per_game_20220927.csv\n",
      "../data/team_ranks/_nfl_stat_opponent_punt_attempts_per_game_20220927.csv\n",
      "../data/team_ranks/_nfl_stat_punts_blocked_per_game_20220927.csv\n",
      "../data/team_ranks/_nfl_stat_opponent_gross_punt_yards_per_game_20220927.csv\n",
      "../data/team_ranks/_nfl_stat_opponent_net_punt_yards_per_game_20220927.csv\n",
      "../data/team_ranks/_nfl_stat_opponent_kickoffs_per_game_20220927.csv\n",
      "../data/team_ranks/_nfl_stat_opponent_touchbacks_per_game_20220927.csv\n",
      "../data/team_ranks/_nfl_stat_opponent_kickoff_touchback_pct_20220927.csv\n",
      "../data/team_ranks/_nfl_stat_opponent_field_goal_conversion_pct_20220927.csv\n",
      "../data/team_ranks/_nfl_stat_block_field_goal_pct_20220927.csv\n",
      "../data/team_ranks/_nfl_stat_opponent_field_goal_conversion_pct_net_of_blocks_20220927.csv\n",
      "../data/team_ranks/_nfl_stat_block_punt_pct_20220927.csv\n",
      "../data/team_ranks/_nfl_stat_opponent_net_yards_per_punt_attempt_20220927.csv\n",
      "../data/team_ranks/_nfl_stat_opponent_gross_yards_per_successful_punt_20220927.csv\n",
      "../data/team_ranks/_nfl_stat_opponent_net_yards_per_successful_punt_20220927.csv\n",
      "../data/team_ranks/_nfl_stat_interceptions_thrown_per_game_20220927.csv\n",
      "../data/team_ranks/_nfl_stat_percent_of_games_with_an_interception_thrown_20220927.csv\n",
      "../data/team_ranks/_nfl_stat_fumbles_per_game_20220927.csv\n",
      "../data/team_ranks/_nfl_stat_fumbles_lost_per_game_20220927.csv\n",
      "../data/team_ranks/_nfl_stat_fumbles_not_lost_per_game_20220927.csv\n",
      "../data/team_ranks/_nfl_stat_safeties_per_game_20220927.csv\n",
      "../data/team_ranks/_nfl_stat_giveaways_per_game_20220927.csv\n",
      "../data/team_ranks/_nfl_stat_turnover_margin_per_game_20220927.csv\n",
      "../data/team_ranks/_nfl_stat_interceptions_per_game_20220927.csv\n",
      "../data/team_ranks/_nfl_stat_percent_of_games_with_an_interception_20220927.csv\n",
      "../data/team_ranks/_nfl_stat_opponent_fumbles_per_game_20220927.csv\n",
      "../data/team_ranks/_nfl_stat_opponent_fumbles_lost_per_game_20220927.csv\n",
      "../data/team_ranks/_nfl_stat_opponent_fumbles_not_lost_per_game_20220927.csv\n",
      "../data/team_ranks/_nfl_stat_opponent_safeties_per_game_20220927.csv\n",
      "../data/team_ranks/_nfl_stat_takeaways_per_game_20220927.csv\n",
      "../data/team_ranks/_nfl_stat_pass_intercepted_pct_20220927.csv\n",
      "../data/team_ranks/_nfl_stat_fumble_recovery_pct_20220927.csv\n",
      "../data/team_ranks/_nfl_stat_giveaway_fumble_recovery_pct_20220927.csv\n",
      "../data/team_ranks/_nfl_stat_takeaway_fumble_recovery_pct_20220927.csv\n",
      "../data/team_ranks/_nfl_stat_interception_pct_20220927.csv\n",
      "../data/team_ranks/_nfl_stat_opponent_fumble_recovery_pct_20220927.csv\n",
      "../data/team_ranks/_nfl_stat_opponent_giveaway_fumble_recovery_pct_20220927.csv\n",
      "../data/team_ranks/_nfl_stat_opponent_takeaway_fumble_recovery_pct_20220927.csv\n",
      "../data/team_ranks/_nfl_stat_penalties_per_game_20220927.csv\n",
      "../data/team_ranks/_nfl_stat_penalty_yards_per_game_20220927.csv\n",
      "../data/team_ranks/_nfl_stat_penalty_first_downs_per_game_20220927.csv\n",
      "../data/team_ranks/_nfl_stat_opponent_penalties_per_game_20220927.csv\n",
      "../data/team_ranks/_nfl_stat_opponent_penalty_yards_per_game_20220927.csv\n",
      "../data/team_ranks/_nfl_stat_opponent_penalty_first_downs_per_game_20220927.csv\n",
      "../data/team_ranks/_nfl_stat_penalty_yards_per_penalty_20220927.csv\n",
      "../data/team_ranks/_nfl_stat_penalties_per_play_20220927.csv\n",
      "../data/team_ranks/_nfl_stat_opponent_penalty_yards_per_penalty_20220927.csv\n",
      "../data/team_ranks/_nfl_stat_opponent_penalties_per_play_20220927.csv\n"
     ]
    }
   ],
   "source": [
    "file_path = f\"../data/team_ranks/_nfl_stat*{nfl_date}.csv\"\n",
    "file_paths = glob.glob(os.path.join(file_path))\n",
    "pds = list()\n",
    "for file_path in file_paths:\n",
    "    print(file_path)\n",
    "    df = pd.read_csv(file_path)\n",
    "    pds.append(df)\n",
    "df = pd.concat(pds)"
   ]
  },
  {
   "cell_type": "code",
   "execution_count": 8,
   "id": "444e0146-8d20-41bb-b5a0-e4ab97f1c046",
   "metadata": {},
   "outputs": [],
   "source": [
    "def_stats = {\n",
    "    \"opponent-points-per-game\":.6,\n",
    "    \"opponent-points-per-play\":1,\n",
    "    \"opponent-1st-half-points-per-game\":1.5,\n",
    "    \"opponent-2nd-half-points-per-game\":1.6,\n",
    "    \"opponent-rushing-touchdowns-per-game\":1.7,\n",
    "    \"opponent-passing-touchdowns-per-game\":1.8,\n",
    "    \"opponent-yards-per-game\":1.85,\n",
    "    \"opponent-yards-per-play\":1.9,\n",
    "    \"opponent-rushing-yards-per-game\":2,\n",
    "    \"opponent-yards-per-rush-attempt\":2.1,\n",
    "    \"opponent-passing-yards-per-game\":2.6,\n",
    "    \"opponent-yards-per-pass-attempt\":3,\n",
    "    \"defensive-points-per-game\":4,\n",
    "    \"sacks-per-game\":10,\n",
    "    \"interceptions-per-game\":11,\n",
    "    \"opponent-fumbles-per-game\":12,\n",
    "    }\n"
   ]
  },
  {
   "cell_type": "code",
   "execution_count": 9,
   "id": "9b94bc13-b2bc-48cb-8b5c-2f52c72529e5",
   "metadata": {},
   "outputs": [],
   "source": [
    "stats = {\n",
    "    \"points-per-game\":2,\n",
    "    \"points-per-play\":3.5,\n",
    "    \"1st-half-points-per-game\":3.9,\n",
    "    \"2nd-half-points-per-game\":4,\n",
    "    \"rushing-touchdowns-per-game\":4.1,\n",
    "    \"passing-touchdowns-per-game\":4.2,\n",
    "    \"yards-per-game\":4.5,\n",
    "    \"yards-per-play\":4.8,\n",
    "    \"rushing-yards-per-game\":4.9,\n",
    "    \"yards-per-rush-attempt\":5,\n",
    "    \"rushing-play-pct\":5.5,\n",
    "    \"passing-yards-per-game\":5.6,\n",
    "    \"yards-per-pass-attempt\":6,\n",
    "    \"passing-play-pct\":7,\n",
    "    \"qb-sacked-per-game\":10,\n",
    "    \"interceptions-thrown-per-game\":11,\n",
    "    \"fumble-per-game\":12,\n",
    "    \"penalties-per-game\":13\n",
    "    }"
   ]
  },
  {
   "cell_type": "code",
   "execution_count": 10,
   "id": "dffdfc59-aa18-4e3e-9138-3c6c2957f4c3",
   "metadata": {},
   "outputs": [],
   "source": [
    "df[\"_stat\"] = df.url.str.split(\"/\", expand=True)[3]\n",
    "df[\"Stat\"] = df._stat.str.split(\"-\").str.join(\" \").str.title()\n",
    "df[\"Stat\"] = df.Stat.str.replace(\"Per Game\", \"Pg\").str.replace(\"Opponent\", \"Opp\")\\\n",
    ".str.replace(\"Offensive\", \"Off\")\\\n",
    ".str.replace(\"Defensive\", \"Def\")\\\n",
    ".str.replace(\"Touchdowns\", \"Td\")\\\n",
    ".str.replace(\"Rushing\", \"Run\")\\\n",
    ".str.replace(\"Passing\", \"Pass\")\\\n",
    ".str.replace(\"Interceptions\", \"Int\")"
   ]
  },
  {
   "cell_type": "code",
   "execution_count": 15,
   "id": "216608ac-de00-4ce0-901d-c70db17f7c29",
   "metadata": {},
   "outputs": [],
   "source": [
    "def generate_off_def_df(dft, gstats=stats):\n",
    "    dft[\"_order\"] = dft._stat.map(gstats)\n",
    "    dfp = dft[dft._stat.isin(gstats)]\n",
    "    dfp_opp = dfp[dfp.Team.eq(team_opp_alt)].sort_values(\"_order\")\n",
    "    dfp = dfp[dfp.Team.eq(team_city)].sort_values(\"_order\")\n",
    "    return dfp, dfp_opp\n",
    "\n",
    "def generate_spider(df, primarycolor, plot_name, custom_data_columns=[\"2021\", \"2022\"]):\n",
    "    return go.Scatterpolar(\n",
    "    r=df.Rank.tolist(),\n",
    "    theta=df.Stat.tolist(),\n",
    "    fill='toself',\n",
    "    customdata=df[custom_data_columns],\n",
    "    hovertemplate = \"Stat: %{theta} <br> Rank: %{r} <br> 2022: %{customdata[0]} <br> 2021: %{customdata[1]} <extra></extra>\",\n",
    "    hoverlabel=dict(bgcolor=primarycolor, font_size=16, font_color=\"#A5ACAF\"),\n",
    "    name=plot_name,\n",
    "    marker=dict(color=primarycolor, size=10,line=dict(width=2))\n",
    ")\n",
    "\n",
    "def generate_table(df, header_color, background_color, sel_cols=[\"Stat\", \"Rank\", \"2022\", \"2021\"]):\n",
    "    return go.Table(\n",
    "        header=dict(values=df[sel_cols].columns, fill_color=header_color, font_color=\"white\"), \n",
    "        columnwidth=[.40, .2, .2, .2],\n",
    "        cells=dict(values=df[sel_cols].T.values, fill_color=background_color, font_color=\"white\", height=35, align=[\"left\", \"center\"])\n",
    "    )\n"
   ]
  },
  {
   "cell_type": "code",
   "execution_count": 16,
   "id": "4b55cb00-94bf-45d1-bea0-e681130153a8",
   "metadata": {},
   "outputs": [],
   "source": [
    "df_plot_def, df_plot_opp_def = generate_off_def_df(df, def_stats)"
   ]
  },
  {
   "cell_type": "code",
   "execution_count": 17,
   "id": "6b49502f-fcca-4aaf-a420-b2324e1cab97",
   "metadata": {},
   "outputs": [],
   "source": [
    "df_plot, df_plot_opp = generate_off_def_df(df, stats)\n",
    "\n"
   ]
  },
  {
   "cell_type": "code",
   "execution_count": 22,
   "id": "8350af31-1cd4-464c-b577-10a10e97033a",
   "metadata": {},
   "outputs": [
    {
     "data": {
      "application/vnd.plotly.v1+json": {
       "config": {
        "plotlyServerURL": "https://plot.ly"
       },
       "data": [
        {
         "customdata": [
          [
           18.3,
           17.3
          ],
          [
           0.289,
           0.327
          ],
          [
           9.6,
           6.7
          ],
          [
           8.6,
           10.7
          ],
          [
           0.8,
           1.3
          ],
          [
           0.9,
           0.7
          ],
          [
           307.4,
           265
          ],
          [
           4.9,
           5
          ],
          [
           118.7,
           186.7
          ],
          [
           4.2,
           5.4
          ],
          [
           "44.19%",
           "65.41%"
          ],
          [
           188.6,
           78.3
          ],
          [
           6.7,
           6.6
          ],
          [
           "55.81%",
           "34.59%"
          ],
          [
           3.4,
           3.3
          ],
          [
           1.2,
           1.3
          ],
          [
           6.2,
           5.3
          ]
         ],
         "fill": "toself",
         "hoverlabel": {
          "bgcolor": "#C83803",
          "font": {
           "color": "#A5ACAF",
           "size": 16
          }
         },
         "hovertemplate": "Stat: %{theta} <br> Rank: %{r} <br> 2022: %{customdata[0]} <br> 2021: %{customdata[1]} <extra></extra>",
         "marker": {
          "color": "#C83803",
          "line": {
           "width": 2
          },
          "size": 10
         },
         "name": "Chicago Bears",
         "r": [
          20,
          13,
          26,
          16,
          4,
          27,
          32,
          24,
          2,
          5,
          1,
          32,
          21,
          32,
          27,
          26,
          11
         ],
         "theta": [
          "Points Pg",
          "Points Per Play",
          "1St Half Points Pg",
          "2Nd Half Points Pg",
          "Run Td Pg",
          "Pass Td Pg",
          "Yards Pg",
          "Yards Per Play",
          "Run Yards Pg",
          "Yards Per Rush Attempt",
          "Run Play Pct",
          "Pass Yards Pg",
          "Yards Per Pass Attempt",
          "Pass Play Pct",
          "Qb Sacked Pg",
          "Int Thrown Pg",
          "Penalties Pg"
         ],
         "type": "scatterpolar",
         "visible": true
        },
        {
         "customdata": [
          [
           15.2,
           18.7
          ],
          [
           0.246,
           0.287
          ],
          [
           5.9,
           3
          ],
          [
           8.9,
           15.7
          ],
          [
           0.5,
           0.7
          ],
          [
           0.9,
           1
          ],
          [
           287.3,
           331.7
          ],
          [
           4.7,
           5.1
          ],
          [
           99.3,
           169.3
          ],
          [
           4,
           5.6
          ],
          [
           "39.90%",
           "46.15%"
          ],
          [
           188,
           162.3
          ],
          [
           5.8,
           6.1
          ],
          [
           "60.10%",
           "53.85%"
          ],
          [
           2.2,
           4.3
          ],
          [
           1.2,
           0.7
          ],
          [
           5.2,
           8
          ]
         ],
         "fill": "toself",
         "hoverlabel": {
          "bgcolor": "#0B2265",
          "font": {
           "color": "#A5ACAF",
           "size": 16
          }
         },
         "hovertemplate": "Stat: %{theta} <br> Rank: %{r} <br> 2022: %{customdata[0]} <br> 2021: %{customdata[1]} <extra></extra>",
         "marker": {
          "color": "#0B2265",
          "line": {
           "width": 2
          },
          "size": 10
         },
         "name": "New York Giants",
         "r": [
          18,
          19,
          32,
          4,
          12,
          19,
          21,
          22,
          4,
          2,
          7,
          30,
          29,
          26,
          30,
          11,
          30
         ],
         "theta": [
          "Points Pg",
          "Points Per Play",
          "1St Half Points Pg",
          "2Nd Half Points Pg",
          "Run Td Pg",
          "Pass Td Pg",
          "Yards Pg",
          "Yards Per Play",
          "Run Yards Pg",
          "Yards Per Rush Attempt",
          "Run Play Pct",
          "Pass Yards Pg",
          "Yards Per Pass Attempt",
          "Pass Play Pct",
          "Qb Sacked Pg",
          "Int Thrown Pg",
          "Penalties Pg"
         ],
         "type": "scatterpolar",
         "visible": true
        },
        {
         "customdata": [
          [
           23.9,
           19
          ],
          [
           0.403,
           0.3
          ],
          [
           10.7,
           15
          ],
          [
           13.2,
           4
          ],
          [
           0.8,
           1
          ],
          [
           1.8,
           1
          ],
          [
           316.7,
           358
          ],
          [
           5.3,
           5.7
          ],
          [
           125.1,
           157
          ],
          [
           4.4,
           4.8
          ],
          [
           191.6,
           201
          ],
          [
           6.8,
           7.1
          ],
          [
           0.9,
           0
          ],
          [
           2.9,
           2
          ],
          [
           0.5,
           1
          ],
          [
           1.2,
           2.7
          ]
         ],
         "fill": "toself",
         "hoverlabel": {
          "bgcolor": "#C83803",
          "font": {
           "color": "#A5ACAF",
           "size": 16
          }
         },
         "hovertemplate": "Stat: %{theta} <br> Rank: %{r} <br> 2022: %{customdata[0]} <br> 2021: %{customdata[1]} <extra></extra>",
         "marker": {
          "color": "#C83803",
          "line": {
           "width": 2
          },
          "size": 10
         },
         "name": "Chicago Bears",
         "r": [
          11,
          14,
          28,
          5,
          21,
          8,
          20,
          19,
          30,
          19,
          9,
          22,
          14,
          22,
          9,
          2
         ],
         "theta": [
          "Opp Points Pg",
          "Opp Points Per Play",
          "Opp 1St Half Points Pg",
          "Opp 2Nd Half Points Pg",
          "Opp Run Td Pg",
          "Opp Pass Td Pg",
          "Opp Yards Pg",
          "Opp Yards Per Play",
          "Opp Run Yards Pg",
          "Opp Yards Per Rush Attempt",
          "Opp Pass Yards Pg",
          "Opp Yards Per Pass Attempt",
          "Def Points Pg",
          "Sacks Pg",
          "Int Pg",
          "Opp Fumbles Pg"
         ],
         "type": "scatterpolar",
         "visible": false
        },
        {
         "customdata": [
          [
           24.5,
           19.7
          ],
          [
           0.366,
           0.337
          ],
          [
           12.4,
           8.3
          ],
          [
           12.1,
           11.3
          ],
          [
           0.9,
           0.3
          ],
          [
           1.6,
           1.3
          ],
          [
           354.8,
           341.7
          ],
          [
           5.3,
           5.9
          ],
          [
           129,
           138.3
          ],
          [
           4.5,
           5.3
          ],
          [
           225.8,
           203.3
          ],
          [
           6.3,
           6.6
          ],
          [
           0.5,
           0
          ],
          [
           2,
           1
          ],
          [
           0.9,
           0
          ],
          [
           1,
           1.7
          ]
         ],
         "fill": "toself",
         "hoverlabel": {
          "bgcolor": "#0B2265",
          "font": {
           "color": "#A5ACAF",
           "size": 16
          }
         },
         "hovertemplate": "Stat: %{theta} <br> Rank: %{r} <br> 2022: %{customdata[0]} <br> 2021: %{customdata[1]} <extra></extra>",
         "marker": {
          "color": "#0B2265",
          "line": {
           "width": 2
          },
          "size": 10
         },
         "name": "New York Giants",
         "r": [
          12,
          18,
          10,
          17,
          4,
          15,
          16,
          24,
          25,
          28,
          10,
          15,
          14,
          30,
          30,
          9
         ],
         "theta": [
          "Opp Points Pg",
          "Opp Points Per Play",
          "Opp 1St Half Points Pg",
          "Opp 2Nd Half Points Pg",
          "Opp Run Td Pg",
          "Opp Pass Td Pg",
          "Opp Yards Pg",
          "Opp Yards Per Play",
          "Opp Run Yards Pg",
          "Opp Yards Per Rush Attempt",
          "Opp Pass Yards Pg",
          "Opp Yards Per Pass Attempt",
          "Def Points Pg",
          "Sacks Pg",
          "Int Pg",
          "Opp Fumbles Pg"
         ],
         "type": "scatterpolar",
         "visible": false
        },
        {
         "cells": {
          "align": [
           "left",
           "center"
          ],
          "fill": {
           "color": "#0B162A"
          },
          "font": {
           "color": "white"
          },
          "height": 35,
          "values": [
           [
            "Points Pg",
            "Points Per Play",
            "1St Half Points Pg",
            "2Nd Half Points Pg",
            "Run Td Pg",
            "Pass Td Pg",
            "Yards Pg",
            "Yards Per Play",
            "Run Yards Pg",
            "Yards Per Rush Attempt",
            "Run Play Pct",
            "Pass Yards Pg",
            "Yards Per Pass Attempt",
            "Pass Play Pct",
            "Qb Sacked Pg",
            "Int Thrown Pg",
            "Penalties Pg"
           ],
           [
            20,
            13,
            26,
            16,
            4,
            27,
            32,
            24,
            2,
            5,
            1,
            32,
            21,
            32,
            27,
            26,
            11
           ],
           [
            17.3,
            0.327,
            6.7,
            10.7,
            1.3,
            0.7,
            265,
            5,
            186.7,
            5.4,
            "65.41%",
            78.3,
            6.6,
            "34.59%",
            3.3,
            1.3,
            5.3
           ],
           [
            18.3,
            0.289,
            9.6,
            8.6,
            0.8,
            0.9,
            307.4,
            4.9,
            118.7,
            4.2,
            "44.19%",
            188.6,
            6.7,
            "55.81%",
            3.4,
            1.2,
            6.2
           ]
          ]
         },
         "columnwidth": [
          0.4,
          0.2,
          0.2,
          0.2
         ],
         "domain": {
          "x": [
           0,
           0.49
          ],
          "y": [
           0,
           0.49
          ]
         },
         "header": {
          "fill": {
           "color": "#C83803"
          },
          "font": {
           "color": "white"
          },
          "values": [
           "Stat",
           "Rank",
           "2022",
           "2021"
          ]
         },
         "type": "table",
         "visible": true
        },
        {
         "cells": {
          "align": [
           "left",
           "center"
          ],
          "fill": {
           "color": "#0B2265"
          },
          "font": {
           "color": "white"
          },
          "height": 35,
          "values": [
           [
            "Points Pg",
            "Points Per Play",
            "1St Half Points Pg",
            "2Nd Half Points Pg",
            "Run Td Pg",
            "Pass Td Pg",
            "Yards Pg",
            "Yards Per Play",
            "Run Yards Pg",
            "Yards Per Rush Attempt",
            "Run Play Pct",
            "Pass Yards Pg",
            "Yards Per Pass Attempt",
            "Pass Play Pct",
            "Qb Sacked Pg",
            "Int Thrown Pg",
            "Penalties Pg"
           ],
           [
            18,
            19,
            32,
            4,
            12,
            19,
            21,
            22,
            4,
            2,
            7,
            30,
            29,
            26,
            30,
            11,
            30
           ],
           [
            18.7,
            0.287,
            3,
            15.7,
            0.7,
            1,
            331.7,
            5.1,
            169.3,
            5.6,
            "46.15%",
            162.3,
            6.1,
            "53.85%",
            4.3,
            0.7,
            8
           ],
           [
            15.2,
            0.246,
            5.9,
            8.9,
            0.5,
            0.9,
            287.3,
            4.7,
            99.3,
            4,
            "39.90%",
            188,
            5.8,
            "60.10%",
            2.2,
            1.2,
            5.2
           ]
          ]
         },
         "columnwidth": [
          0.4,
          0.2,
          0.2,
          0.2
         ],
         "domain": {
          "x": [
           0.51,
           1
          ],
          "y": [
           0,
           0.49
          ]
         },
         "header": {
          "fill": {
           "color": "#A71930"
          },
          "font": {
           "color": "white"
          },
          "values": [
           "Stat",
           "Rank",
           "2022",
           "2021"
          ]
         },
         "type": "table",
         "visible": true
        },
        {
         "cells": {
          "align": [
           "left",
           "center"
          ],
          "fill": {
           "color": "#0B162A"
          },
          "font": {
           "color": "white"
          },
          "height": 35,
          "values": [
           [
            "Opp Points Pg",
            "Opp Points Per Play",
            "Opp 1St Half Points Pg",
            "Opp 2Nd Half Points Pg",
            "Opp Run Td Pg",
            "Opp Pass Td Pg",
            "Opp Yards Pg",
            "Opp Yards Per Play",
            "Opp Run Yards Pg",
            "Opp Yards Per Rush Attempt",
            "Opp Pass Yards Pg",
            "Opp Yards Per Pass Attempt",
            "Def Points Pg",
            "Sacks Pg",
            "Int Pg",
            "Opp Fumbles Pg"
           ],
           [
            11,
            14,
            28,
            5,
            21,
            8,
            20,
            19,
            30,
            19,
            9,
            22,
            14,
            22,
            9,
            2
           ],
           [
            19,
            0.3,
            15,
            4,
            1,
            1,
            358,
            5.7,
            157,
            4.8,
            201,
            7.1,
            0,
            2,
            1,
            2.7
           ],
           [
            23.9,
            0.403,
            10.7,
            13.2,
            0.8,
            1.8,
            316.7,
            5.3,
            125.1,
            4.4,
            191.6,
            6.8,
            0.9,
            2.9,
            0.5,
            1.2
           ]
          ]
         },
         "columnwidth": [
          0.4,
          0.2,
          0.2,
          0.2
         ],
         "domain": {
          "x": [
           0,
           0.49
          ],
          "y": [
           0,
           0.49
          ]
         },
         "header": {
          "fill": {
           "color": "#C83803"
          },
          "font": {
           "color": "white"
          },
          "values": [
           "Stat",
           "Rank",
           "2022",
           "2021"
          ]
         },
         "type": "table",
         "visible": false
        },
        {
         "cells": {
          "align": [
           "left",
           "center"
          ],
          "fill": {
           "color": "#0B2265"
          },
          "font": {
           "color": "white"
          },
          "height": 35,
          "values": [
           [
            "Opp Points Pg",
            "Opp Points Per Play",
            "Opp 1St Half Points Pg",
            "Opp 2Nd Half Points Pg",
            "Opp Run Td Pg",
            "Opp Pass Td Pg",
            "Opp Yards Pg",
            "Opp Yards Per Play",
            "Opp Run Yards Pg",
            "Opp Yards Per Rush Attempt",
            "Opp Pass Yards Pg",
            "Opp Yards Per Pass Attempt",
            "Def Points Pg",
            "Sacks Pg",
            "Int Pg",
            "Opp Fumbles Pg"
           ],
           [
            12,
            18,
            10,
            17,
            4,
            15,
            16,
            24,
            25,
            28,
            10,
            15,
            14,
            30,
            30,
            9
           ],
           [
            19.7,
            0.337,
            8.3,
            11.3,
            0.3,
            1.3,
            341.7,
            5.9,
            138.3,
            5.3,
            203.3,
            6.6,
            0,
            1,
            0,
            1.7
           ],
           [
            24.5,
            0.366,
            12.4,
            12.1,
            0.9,
            1.6,
            354.8,
            5.3,
            129,
            4.5,
            225.8,
            6.3,
            0.5,
            2,
            0.9,
            1
           ]
          ]
         },
         "columnwidth": [
          0.4,
          0.2,
          0.2,
          0.2
         ],
         "domain": {
          "x": [
           0.51,
           1
          ],
          "y": [
           0,
           0.49
          ]
         },
         "header": {
          "fill": {
           "color": "#A71930"
          },
          "font": {
           "color": "white"
          },
          "values": [
           "Stat",
           "Rank",
           "2022",
           "2021"
          ]
         },
         "type": "table",
         "visible": false
        }
       ],
       "layout": {
        "autosize": true,
        "polar": {
         "angularaxis": {
          "type": "category"
         },
         "domain": {
          "x": [
           0,
           1
          ],
          "y": [
           0.51,
           1
          ]
         },
         "radialaxis": {
          "autorange": true,
          "range": [
           0,
           33.02748522989982
          ],
          "type": "linear"
         }
        },
        "template": {
         "data": {
          "bar": [
           {
            "error_x": {
             "color": "#2a3f5f"
            },
            "error_y": {
             "color": "#2a3f5f"
            },
            "marker": {
             "line": {
              "color": "#E5ECF6",
              "width": 0.5
             },
             "pattern": {
              "fillmode": "overlay",
              "size": 10,
              "solidity": 0.2
             }
            },
            "type": "bar"
           }
          ],
          "barpolar": [
           {
            "marker": {
             "line": {
              "color": "#E5ECF6",
              "width": 0.5
             },
             "pattern": {
              "fillmode": "overlay",
              "size": 10,
              "solidity": 0.2
             }
            },
            "type": "barpolar"
           }
          ],
          "carpet": [
           {
            "aaxis": {
             "endlinecolor": "#2a3f5f",
             "gridcolor": "white",
             "linecolor": "white",
             "minorgridcolor": "white",
             "startlinecolor": "#2a3f5f"
            },
            "baxis": {
             "endlinecolor": "#2a3f5f",
             "gridcolor": "white",
             "linecolor": "white",
             "minorgridcolor": "white",
             "startlinecolor": "#2a3f5f"
            },
            "type": "carpet"
           }
          ],
          "choropleth": [
           {
            "colorbar": {
             "outlinewidth": 0,
             "ticks": ""
            },
            "type": "choropleth"
           }
          ],
          "contour": [
           {
            "colorbar": {
             "outlinewidth": 0,
             "ticks": ""
            },
            "colorscale": [
             [
              0,
              "#0d0887"
             ],
             [
              0.1111111111111111,
              "#46039f"
             ],
             [
              0.2222222222222222,
              "#7201a8"
             ],
             [
              0.3333333333333333,
              "#9c179e"
             ],
             [
              0.4444444444444444,
              "#bd3786"
             ],
             [
              0.5555555555555556,
              "#d8576b"
             ],
             [
              0.6666666666666666,
              "#ed7953"
             ],
             [
              0.7777777777777778,
              "#fb9f3a"
             ],
             [
              0.8888888888888888,
              "#fdca26"
             ],
             [
              1,
              "#f0f921"
             ]
            ],
            "type": "contour"
           }
          ],
          "contourcarpet": [
           {
            "colorbar": {
             "outlinewidth": 0,
             "ticks": ""
            },
            "type": "contourcarpet"
           }
          ],
          "heatmap": [
           {
            "colorbar": {
             "outlinewidth": 0,
             "ticks": ""
            },
            "colorscale": [
             [
              0,
              "#0d0887"
             ],
             [
              0.1111111111111111,
              "#46039f"
             ],
             [
              0.2222222222222222,
              "#7201a8"
             ],
             [
              0.3333333333333333,
              "#9c179e"
             ],
             [
              0.4444444444444444,
              "#bd3786"
             ],
             [
              0.5555555555555556,
              "#d8576b"
             ],
             [
              0.6666666666666666,
              "#ed7953"
             ],
             [
              0.7777777777777778,
              "#fb9f3a"
             ],
             [
              0.8888888888888888,
              "#fdca26"
             ],
             [
              1,
              "#f0f921"
             ]
            ],
            "type": "heatmap"
           }
          ],
          "heatmapgl": [
           {
            "colorbar": {
             "outlinewidth": 0,
             "ticks": ""
            },
            "colorscale": [
             [
              0,
              "#0d0887"
             ],
             [
              0.1111111111111111,
              "#46039f"
             ],
             [
              0.2222222222222222,
              "#7201a8"
             ],
             [
              0.3333333333333333,
              "#9c179e"
             ],
             [
              0.4444444444444444,
              "#bd3786"
             ],
             [
              0.5555555555555556,
              "#d8576b"
             ],
             [
              0.6666666666666666,
              "#ed7953"
             ],
             [
              0.7777777777777778,
              "#fb9f3a"
             ],
             [
              0.8888888888888888,
              "#fdca26"
             ],
             [
              1,
              "#f0f921"
             ]
            ],
            "type": "heatmapgl"
           }
          ],
          "histogram": [
           {
            "marker": {
             "pattern": {
              "fillmode": "overlay",
              "size": 10,
              "solidity": 0.2
             }
            },
            "type": "histogram"
           }
          ],
          "histogram2d": [
           {
            "colorbar": {
             "outlinewidth": 0,
             "ticks": ""
            },
            "colorscale": [
             [
              0,
              "#0d0887"
             ],
             [
              0.1111111111111111,
              "#46039f"
             ],
             [
              0.2222222222222222,
              "#7201a8"
             ],
             [
              0.3333333333333333,
              "#9c179e"
             ],
             [
              0.4444444444444444,
              "#bd3786"
             ],
             [
              0.5555555555555556,
              "#d8576b"
             ],
             [
              0.6666666666666666,
              "#ed7953"
             ],
             [
              0.7777777777777778,
              "#fb9f3a"
             ],
             [
              0.8888888888888888,
              "#fdca26"
             ],
             [
              1,
              "#f0f921"
             ]
            ],
            "type": "histogram2d"
           }
          ],
          "histogram2dcontour": [
           {
            "colorbar": {
             "outlinewidth": 0,
             "ticks": ""
            },
            "colorscale": [
             [
              0,
              "#0d0887"
             ],
             [
              0.1111111111111111,
              "#46039f"
             ],
             [
              0.2222222222222222,
              "#7201a8"
             ],
             [
              0.3333333333333333,
              "#9c179e"
             ],
             [
              0.4444444444444444,
              "#bd3786"
             ],
             [
              0.5555555555555556,
              "#d8576b"
             ],
             [
              0.6666666666666666,
              "#ed7953"
             ],
             [
              0.7777777777777778,
              "#fb9f3a"
             ],
             [
              0.8888888888888888,
              "#fdca26"
             ],
             [
              1,
              "#f0f921"
             ]
            ],
            "type": "histogram2dcontour"
           }
          ],
          "mesh3d": [
           {
            "colorbar": {
             "outlinewidth": 0,
             "ticks": ""
            },
            "type": "mesh3d"
           }
          ],
          "parcoords": [
           {
            "line": {
             "colorbar": {
              "outlinewidth": 0,
              "ticks": ""
             }
            },
            "type": "parcoords"
           }
          ],
          "pie": [
           {
            "automargin": true,
            "type": "pie"
           }
          ],
          "scatter": [
           {
            "fillpattern": {
             "fillmode": "overlay",
             "size": 10,
             "solidity": 0.2
            },
            "type": "scatter"
           }
          ],
          "scatter3d": [
           {
            "line": {
             "colorbar": {
              "outlinewidth": 0,
              "ticks": ""
             }
            },
            "marker": {
             "colorbar": {
              "outlinewidth": 0,
              "ticks": ""
             }
            },
            "type": "scatter3d"
           }
          ],
          "scattercarpet": [
           {
            "marker": {
             "colorbar": {
              "outlinewidth": 0,
              "ticks": ""
             }
            },
            "type": "scattercarpet"
           }
          ],
          "scattergeo": [
           {
            "marker": {
             "colorbar": {
              "outlinewidth": 0,
              "ticks": ""
             }
            },
            "type": "scattergeo"
           }
          ],
          "scattergl": [
           {
            "marker": {
             "colorbar": {
              "outlinewidth": 0,
              "ticks": ""
             }
            },
            "type": "scattergl"
           }
          ],
          "scattermapbox": [
           {
            "marker": {
             "colorbar": {
              "outlinewidth": 0,
              "ticks": ""
             }
            },
            "type": "scattermapbox"
           }
          ],
          "scatterpolar": [
           {
            "marker": {
             "colorbar": {
              "outlinewidth": 0,
              "ticks": ""
             }
            },
            "type": "scatterpolar"
           }
          ],
          "scatterpolargl": [
           {
            "marker": {
             "colorbar": {
              "outlinewidth": 0,
              "ticks": ""
             }
            },
            "type": "scatterpolargl"
           }
          ],
          "scatterternary": [
           {
            "marker": {
             "colorbar": {
              "outlinewidth": 0,
              "ticks": ""
             }
            },
            "type": "scatterternary"
           }
          ],
          "surface": [
           {
            "colorbar": {
             "outlinewidth": 0,
             "ticks": ""
            },
            "colorscale": [
             [
              0,
              "#0d0887"
             ],
             [
              0.1111111111111111,
              "#46039f"
             ],
             [
              0.2222222222222222,
              "#7201a8"
             ],
             [
              0.3333333333333333,
              "#9c179e"
             ],
             [
              0.4444444444444444,
              "#bd3786"
             ],
             [
              0.5555555555555556,
              "#d8576b"
             ],
             [
              0.6666666666666666,
              "#ed7953"
             ],
             [
              0.7777777777777778,
              "#fb9f3a"
             ],
             [
              0.8888888888888888,
              "#fdca26"
             ],
             [
              1,
              "#f0f921"
             ]
            ],
            "type": "surface"
           }
          ],
          "table": [
           {
            "cells": {
             "fill": {
              "color": "#EBF0F8"
             },
             "line": {
              "color": "white"
             }
            },
            "header": {
             "fill": {
              "color": "#C8D4E3"
             },
             "line": {
              "color": "white"
             }
            },
            "type": "table"
           }
          ]
         },
         "layout": {
          "annotationdefaults": {
           "arrowcolor": "#2a3f5f",
           "arrowhead": 0,
           "arrowwidth": 1
          },
          "autotypenumbers": "strict",
          "coloraxis": {
           "colorbar": {
            "outlinewidth": 0,
            "ticks": ""
           }
          },
          "colorscale": {
           "diverging": [
            [
             0,
             "#8e0152"
            ],
            [
             0.1,
             "#c51b7d"
            ],
            [
             0.2,
             "#de77ae"
            ],
            [
             0.3,
             "#f1b6da"
            ],
            [
             0.4,
             "#fde0ef"
            ],
            [
             0.5,
             "#f7f7f7"
            ],
            [
             0.6,
             "#e6f5d0"
            ],
            [
             0.7,
             "#b8e186"
            ],
            [
             0.8,
             "#7fbc41"
            ],
            [
             0.9,
             "#4d9221"
            ],
            [
             1,
             "#276419"
            ]
           ],
           "sequential": [
            [
             0,
             "#0d0887"
            ],
            [
             0.1111111111111111,
             "#46039f"
            ],
            [
             0.2222222222222222,
             "#7201a8"
            ],
            [
             0.3333333333333333,
             "#9c179e"
            ],
            [
             0.4444444444444444,
             "#bd3786"
            ],
            [
             0.5555555555555556,
             "#d8576b"
            ],
            [
             0.6666666666666666,
             "#ed7953"
            ],
            [
             0.7777777777777778,
             "#fb9f3a"
            ],
            [
             0.8888888888888888,
             "#fdca26"
            ],
            [
             1,
             "#f0f921"
            ]
           ],
           "sequentialminus": [
            [
             0,
             "#0d0887"
            ],
            [
             0.1111111111111111,
             "#46039f"
            ],
            [
             0.2222222222222222,
             "#7201a8"
            ],
            [
             0.3333333333333333,
             "#9c179e"
            ],
            [
             0.4444444444444444,
             "#bd3786"
            ],
            [
             0.5555555555555556,
             "#d8576b"
            ],
            [
             0.6666666666666666,
             "#ed7953"
            ],
            [
             0.7777777777777778,
             "#fb9f3a"
            ],
            [
             0.8888888888888888,
             "#fdca26"
            ],
            [
             1,
             "#f0f921"
            ]
           ]
          },
          "colorway": [
           "#636efa",
           "#EF553B",
           "#00cc96",
           "#ab63fa",
           "#FFA15A",
           "#19d3f3",
           "#FF6692",
           "#B6E880",
           "#FF97FF",
           "#FECB52"
          ],
          "font": {
           "color": "#2a3f5f"
          },
          "geo": {
           "bgcolor": "white",
           "lakecolor": "white",
           "landcolor": "#E5ECF6",
           "showlakes": true,
           "showland": true,
           "subunitcolor": "white"
          },
          "hoverlabel": {
           "align": "left"
          },
          "hovermode": "closest",
          "mapbox": {
           "style": "light"
          },
          "paper_bgcolor": "white",
          "plot_bgcolor": "#E5ECF6",
          "polar": {
           "angularaxis": {
            "gridcolor": "white",
            "linecolor": "white",
            "ticks": ""
           },
           "bgcolor": "#E5ECF6",
           "radialaxis": {
            "gridcolor": "white",
            "linecolor": "white",
            "ticks": ""
           }
          },
          "scene": {
           "xaxis": {
            "backgroundcolor": "#E5ECF6",
            "gridcolor": "white",
            "gridwidth": 2,
            "linecolor": "white",
            "showbackground": true,
            "ticks": "",
            "zerolinecolor": "white"
           },
           "yaxis": {
            "backgroundcolor": "#E5ECF6",
            "gridcolor": "white",
            "gridwidth": 2,
            "linecolor": "white",
            "showbackground": true,
            "ticks": "",
            "zerolinecolor": "white"
           },
           "zaxis": {
            "backgroundcolor": "#E5ECF6",
            "gridcolor": "white",
            "gridwidth": 2,
            "linecolor": "white",
            "showbackground": true,
            "ticks": "",
            "zerolinecolor": "white"
           }
          },
          "shapedefaults": {
           "line": {
            "color": "#2a3f5f"
           }
          },
          "ternary": {
           "aaxis": {
            "gridcolor": "white",
            "linecolor": "white",
            "ticks": ""
           },
           "baxis": {
            "gridcolor": "white",
            "linecolor": "white",
            "ticks": ""
           },
           "bgcolor": "#E5ECF6",
           "caxis": {
            "gridcolor": "white",
            "linecolor": "white",
            "ticks": ""
           }
          },
          "title": {
           "x": 0.05
          },
          "xaxis": {
           "automargin": true,
           "gridcolor": "white",
           "linecolor": "white",
           "ticks": "",
           "title": {
            "standoff": 15
           },
           "zerolinecolor": "white",
           "zerolinewidth": 2
          },
          "yaxis": {
           "automargin": true,
           "gridcolor": "white",
           "linecolor": "white",
           "ticks": "",
           "title": {
            "standoff": 15
           },
           "zerolinecolor": "white",
           "zerolinewidth": 2
          }
         }
        },
        "updatemenus": [
         {
          "active": 0,
          "buttons": [
           {
            "args": [
             {
              "visible": [
               true,
               true,
               false,
               false,
               true,
               true,
               false,
               false
              ]
             }
            ],
            "label": "Offense",
            "method": "update",
            "visible": true
           },
           {
            "args": [
             {
              "visible": [
               false,
               false,
               true,
               true,
               false,
               false,
               true,
               true
              ]
             }
            ],
            "label": "Defense",
            "method": "update",
            "visible": true
           }
          ],
          "direction": "down",
          "showactive": false
         }
        ],
        "xaxis": {
         "anchor": "y",
         "domain": [
          0.51,
          1
         ]
        },
        "yaxis": {
         "anchor": "x",
         "domain": [
          0.51,
          1
         ]
        }
       }
      },
      "image/png": "[encoded data removed]",
      "text/html": [
       "<div>                            <div id=\"0d90c467-f8e4-46a2-9fa0-d74dbe5b9aea\" class=\"plotly-graph-div\" style=\"height:1000px; width:100%;\"></div>            <script type=\"text/javascript\">                require([\"plotly\"], function(Plotly) {                    window.PLOTLYENV=window.PLOTLYENV || {};                                    if (document.getElementById(\"0d90c467-f8e4-46a2-9fa0-d74dbe5b9aea\")) {                    Plotly.newPlot(                        \"0d90c467-f8e4-46a2-9fa0-d74dbe5b9aea\",                        [{\"customdata\":[[18.3,17.3],[0.289,0.327],[9.6,6.7],[8.6,10.7],[0.8,1.3],[0.9,0.7],[307.4,265.0],[4.9,5.0],[118.7,186.7],[4.2,5.4],[\"44.19%\",\"65.41%\"],[188.6,78.3],[6.7,6.6],[\"55.81%\",\"34.59%\"],[3.4,3.3],[1.2,1.3],[6.2,5.3]],\"fill\":\"toself\",\"hoverlabel\":{\"bgcolor\":\"#C83803\",\"font\":{\"color\":\"#A5ACAF\",\"size\":16}},\"hovertemplate\":\"Stat: %{theta} <br> Rank: %{r} <br> 2022: %{customdata[0]} <br> 2021: %{customdata[1]} <extra></extra>\",\"marker\":{\"color\":\"#C83803\",\"line\":{\"width\":2},\"size\":10},\"name\":\"Chicago Bears\",\"r\":[20,13,26,16,4,27,32,24,2,5,1,32,21,32,27,26,11],\"theta\":[\"Points Pg\",\"Points Per Play\",\"1St Half Points Pg\",\"2Nd Half Points Pg\",\"Run Td Pg\",\"Pass Td Pg\",\"Yards Pg\",\"Yards Per Play\",\"Run Yards Pg\",\"Yards Per Rush Attempt\",\"Run Play Pct\",\"Pass Yards Pg\",\"Yards Per Pass Attempt\",\"Pass Play Pct\",\"Qb Sacked Pg\",\"Int Thrown Pg\",\"Penalties Pg\"],\"type\":\"scatterpolar\"},{\"customdata\":[[15.2,18.7],[0.246,0.287],[5.9,3.0],[8.9,15.7],[0.5,0.7],[0.9,1.0],[287.3,331.7],[4.7,5.1],[99.3,169.3],[4.0,5.6],[\"39.90%\",\"46.15%\"],[188.0,162.3],[5.8,6.1],[\"60.10%\",\"53.85%\"],[2.2,4.3],[1.2,0.7],[5.2,8.0]],\"fill\":\"toself\",\"hoverlabel\":{\"bgcolor\":\"#0B2265\",\"font\":{\"color\":\"#A5ACAF\",\"size\":16}},\"hovertemplate\":\"Stat: %{theta} <br> Rank: %{r} <br> 2022: %{customdata[0]} <br> 2021: %{customdata[1]} <extra></extra>\",\"marker\":{\"color\":\"#0B2265\",\"line\":{\"width\":2},\"size\":10},\"name\":\"New York Giants\",\"r\":[18,19,32,4,12,19,21,22,4,2,7,30,29,26,30,11,30],\"theta\":[\"Points Pg\",\"Points Per Play\",\"1St Half Points Pg\",\"2Nd Half Points Pg\",\"Run Td Pg\",\"Pass Td Pg\",\"Yards Pg\",\"Yards Per Play\",\"Run Yards Pg\",\"Yards Per Rush Attempt\",\"Run Play Pct\",\"Pass Yards Pg\",\"Yards Per Pass Attempt\",\"Pass Play Pct\",\"Qb Sacked Pg\",\"Int Thrown Pg\",\"Penalties Pg\"],\"type\":\"scatterpolar\"},{\"customdata\":[[23.9,19.0],[0.403,0.3],[10.7,15.0],[13.2,4.0],[0.8,1.0],[1.8,1.0],[316.7,358.0],[5.3,5.7],[125.1,157.0],[4.4,4.8],[191.6,201.0],[6.8,7.1],[0.9,0.0],[2.9,2.0],[0.5,1.0],[1.2,2.7]],\"fill\":\"toself\",\"hoverlabel\":{\"bgcolor\":\"#C83803\",\"font\":{\"color\":\"#A5ACAF\",\"size\":16}},\"hovertemplate\":\"Stat: %{theta} <br> Rank: %{r} <br> 2022: %{customdata[0]} <br> 2021: %{customdata[1]} <extra></extra>\",\"marker\":{\"color\":\"#C83803\",\"line\":{\"width\":2},\"size\":10},\"name\":\"Chicago Bears\",\"r\":[11,14,28,5,21,8,20,19,30,19,9,22,14,22,9,2],\"theta\":[\"Opp Points Pg\",\"Opp Points Per Play\",\"Opp 1St Half Points Pg\",\"Opp 2Nd Half Points Pg\",\"Opp Run Td Pg\",\"Opp Pass Td Pg\",\"Opp Yards Pg\",\"Opp Yards Per Play\",\"Opp Run Yards Pg\",\"Opp Yards Per Rush Attempt\",\"Opp Pass Yards Pg\",\"Opp Yards Per Pass Attempt\",\"Def Points Pg\",\"Sacks Pg\",\"Int Pg\",\"Opp Fumbles Pg\"],\"type\":\"scatterpolar\"},{\"customdata\":[[24.5,19.7],[0.366,0.337],[12.4,8.3],[12.1,11.3],[0.9,0.3],[1.6,1.3],[354.8,341.7],[5.3,5.9],[129.0,138.3],[4.5,5.3],[225.8,203.3],[6.3,6.6],[0.5,0.0],[2.0,1.0],[0.9,0.0],[1.0,1.7]],\"fill\":\"toself\",\"hoverlabel\":{\"bgcolor\":\"#0B2265\",\"font\":{\"color\":\"#A5ACAF\",\"size\":16}},\"hovertemplate\":\"Stat: %{theta} <br> Rank: %{r} <br> 2022: %{customdata[0]} <br> 2021: %{customdata[1]} <extra></extra>\",\"marker\":{\"color\":\"#0B2265\",\"line\":{\"width\":2},\"size\":10},\"name\":\"New York Giants\",\"r\":[12,18,10,17,4,15,16,24,25,28,10,15,14,30,30,9],\"theta\":[\"Opp Points Pg\",\"Opp Points Per Play\",\"Opp 1St Half Points Pg\",\"Opp 2Nd Half Points Pg\",\"Opp Run Td Pg\",\"Opp Pass Td Pg\",\"Opp Yards Pg\",\"Opp Yards Per Play\",\"Opp Run Yards Pg\",\"Opp Yards Per Rush Attempt\",\"Opp Pass Yards Pg\",\"Opp Yards Per Pass Attempt\",\"Def Points Pg\",\"Sacks Pg\",\"Int Pg\",\"Opp Fumbles Pg\"],\"type\":\"scatterpolar\"},{\"cells\":{\"align\":[\"left\",\"center\"],\"fill\":{\"color\":\"#0B162A\"},\"font\":{\"color\":\"white\"},\"height\":35,\"values\":[[\"Points Pg\",\"Points Per Play\",\"1St Half Points Pg\",\"2Nd Half Points Pg\",\"Run Td Pg\",\"Pass Td Pg\",\"Yards Pg\",\"Yards Per Play\",\"Run Yards Pg\",\"Yards Per Rush Attempt\",\"Run Play Pct\",\"Pass Yards Pg\",\"Yards Per Pass Attempt\",\"Pass Play Pct\",\"Qb Sacked Pg\",\"Int Thrown Pg\",\"Penalties Pg\"],[20,13,26,16,4,27,32,24,2,5,1,32,21,32,27,26,11],[17.3,0.327,6.7,10.7,1.3,0.7,265.0,5.0,186.7,5.4,\"65.41%\",78.3,6.6,\"34.59%\",3.3,1.3,5.3],[18.3,0.289,9.6,8.6,0.8,0.9,307.4,4.9,118.7,4.2,\"44.19%\",188.6,6.7,\"55.81%\",3.4,1.2,6.2]]},\"columnwidth\":[0.4,0.2,0.2,0.2],\"header\":{\"fill\":{\"color\":\"#C83803\"},\"font\":{\"color\":\"white\"},\"values\":[\"Stat\",\"Rank\",\"2022\",\"2021\"]},\"type\":\"table\",\"domain\":{\"x\":[0.0,0.49],\"y\":[0.0,0.49]}},{\"cells\":{\"align\":[\"left\",\"center\"],\"fill\":{\"color\":\"#0B2265\"},\"font\":{\"color\":\"white\"},\"height\":35,\"values\":[[\"Points Pg\",\"Points Per Play\",\"1St Half Points Pg\",\"2Nd Half Points Pg\",\"Run Td Pg\",\"Pass Td Pg\",\"Yards Pg\",\"Yards Per Play\",\"Run Yards Pg\",\"Yards Per Rush Attempt\",\"Run Play Pct\",\"Pass Yards Pg\",\"Yards Per Pass Attempt\",\"Pass Play Pct\",\"Qb Sacked Pg\",\"Int Thrown Pg\",\"Penalties Pg\"],[18,19,32,4,12,19,21,22,4,2,7,30,29,26,30,11,30],[18.7,0.287,3.0,15.7,0.7,1.0,331.7,5.1,169.3,5.6,\"46.15%\",162.3,6.1,\"53.85%\",4.3,0.7,8.0],[15.2,0.246,5.9,8.9,0.5,0.9,287.3,4.7,99.3,4.0,\"39.90%\",188.0,5.8,\"60.10%\",2.2,1.2,5.2]]},\"columnwidth\":[0.4,0.2,0.2,0.2],\"header\":{\"fill\":{\"color\":\"#A71930\"},\"font\":{\"color\":\"white\"},\"values\":[\"Stat\",\"Rank\",\"2022\",\"2021\"]},\"type\":\"table\",\"domain\":{\"x\":[0.51,1.0],\"y\":[0.0,0.49]}},{\"cells\":{\"align\":[\"left\",\"center\"],\"fill\":{\"color\":\"#0B162A\"},\"font\":{\"color\":\"white\"},\"height\":35,\"values\":[[\"Opp Points Pg\",\"Opp Points Per Play\",\"Opp 1St Half Points Pg\",\"Opp 2Nd Half Points Pg\",\"Opp Run Td Pg\",\"Opp Pass Td Pg\",\"Opp Yards Pg\",\"Opp Yards Per Play\",\"Opp Run Yards Pg\",\"Opp Yards Per Rush Attempt\",\"Opp Pass Yards Pg\",\"Opp Yards Per Pass Attempt\",\"Def Points Pg\",\"Sacks Pg\",\"Int Pg\",\"Opp Fumbles Pg\"],[11,14,28,5,21,8,20,19,30,19,9,22,14,22,9,2],[19.0,0.3,15.0,4.0,1.0,1.0,358.0,5.7,157.0,4.8,201.0,7.1,0.0,2.0,1.0,2.7],[23.9,0.403,10.7,13.2,0.8,1.8,316.7,5.3,125.1,4.4,191.6,6.8,0.9,2.9,0.5,1.2]]},\"columnwidth\":[0.4,0.2,0.2,0.2],\"header\":{\"fill\":{\"color\":\"#C83803\"},\"font\":{\"color\":\"white\"},\"values\":[\"Stat\",\"Rank\",\"2022\",\"2021\"]},\"type\":\"table\",\"domain\":{\"x\":[0.0,0.49],\"y\":[0.0,0.49]}},{\"cells\":{\"align\":[\"left\",\"center\"],\"fill\":{\"color\":\"#0B2265\"},\"font\":{\"color\":\"white\"},\"height\":35,\"values\":[[\"Opp Points Pg\",\"Opp Points Per Play\",\"Opp 1St Half Points Pg\",\"Opp 2Nd Half Points Pg\",\"Opp Run Td Pg\",\"Opp Pass Td Pg\",\"Opp Yards Pg\",\"Opp Yards Per Play\",\"Opp Run Yards Pg\",\"Opp Yards Per Rush Attempt\",\"Opp Pass Yards Pg\",\"Opp Yards Per Pass Attempt\",\"Def Points Pg\",\"Sacks Pg\",\"Int Pg\",\"Opp Fumbles Pg\"],[12,18,10,17,4,15,16,24,25,28,10,15,14,30,30,9],[19.7,0.337,8.3,11.3,0.3,1.3,341.7,5.9,138.3,5.3,203.3,6.6,0.0,1.0,0.0,1.7],[24.5,0.366,12.4,12.1,0.9,1.6,354.8,5.3,129.0,4.5,225.8,6.3,0.5,2.0,0.9,1.0]]},\"columnwidth\":[0.4,0.2,0.2,0.2],\"header\":{\"fill\":{\"color\":\"#A71930\"},\"font\":{\"color\":\"white\"},\"values\":[\"Stat\",\"Rank\",\"2022\",\"2021\"]},\"type\":\"table\",\"domain\":{\"x\":[0.51,1.0],\"y\":[0.0,0.49]}}],                        {\"template\":{\"data\":{\"histogram2dcontour\":[{\"type\":\"histogram2dcontour\",\"colorbar\":{\"outlinewidth\":0,\"ticks\":\"\"},\"colorscale\":[[0.0,\"#0d0887\"],[0.1111111111111111,\"#46039f\"],[0.2222222222222222,\"#7201a8\"],[0.3333333333333333,\"#9c179e\"],[0.4444444444444444,\"#bd3786\"],[0.5555555555555556,\"#d8576b\"],[0.6666666666666666,\"#ed7953\"],[0.7777777777777778,\"#fb9f3a\"],[0.8888888888888888,\"#fdca26\"],[1.0,\"#f0f921\"]]}],\"choropleth\":[{\"type\":\"choropleth\",\"colorbar\":{\"outlinewidth\":0,\"ticks\":\"\"}}],\"histogram2d\":[{\"type\":\"histogram2d\",\"colorbar\":{\"outlinewidth\":0,\"ticks\":\"\"},\"colorscale\":[[0.0,\"#0d0887\"],[0.1111111111111111,\"#46039f\"],[0.2222222222222222,\"#7201a8\"],[0.3333333333333333,\"#9c179e\"],[0.4444444444444444,\"#bd3786\"],[0.5555555555555556,\"#d8576b\"],[0.6666666666666666,\"#ed7953\"],[0.7777777777777778,\"#fb9f3a\"],[0.8888888888888888,\"#fdca26\"],[1.0,\"#f0f921\"]]}],\"heatmap\":[{\"type\":\"heatmap\",\"colorbar\":{\"outlinewidth\":0,\"ticks\":\"\"},\"colorscale\":[[0.0,\"#0d0887\"],[0.1111111111111111,\"#46039f\"],[0.2222222222222222,\"#7201a8\"],[0.3333333333333333,\"#9c179e\"],[0.4444444444444444,\"#bd3786\"],[0.5555555555555556,\"#d8576b\"],[0.6666666666666666,\"#ed7953\"],[0.7777777777777778,\"#fb9f3a\"],[0.8888888888888888,\"#fdca26\"],[1.0,\"#f0f921\"]]}],\"heatmapgl\":[{\"type\":\"heatmapgl\",\"colorbar\":{\"outlinewidth\":0,\"ticks\":\"\"},\"colorscale\":[[0.0,\"#0d0887\"],[0.1111111111111111,\"#46039f\"],[0.2222222222222222,\"#7201a8\"],[0.3333333333333333,\"#9c179e\"],[0.4444444444444444,\"#bd3786\"],[0.5555555555555556,\"#d8576b\"],[0.6666666666666666,\"#ed7953\"],[0.7777777777777778,\"#fb9f3a\"],[0.8888888888888888,\"#fdca26\"],[1.0,\"#f0f921\"]]}],\"contourcarpet\":[{\"type\":\"contourcarpet\",\"colorbar\":{\"outlinewidth\":0,\"ticks\":\"\"}}],\"contour\":[{\"type\":\"contour\",\"colorbar\":{\"outlinewidth\":0,\"ticks\":\"\"},\"colorscale\":[[0.0,\"#0d0887\"],[0.1111111111111111,\"#46039f\"],[0.2222222222222222,\"#7201a8\"],[0.3333333333333333,\"#9c179e\"],[0.4444444444444444,\"#bd3786\"],[0.5555555555555556,\"#d8576b\"],[0.6666666666666666,\"#ed7953\"],[0.7777777777777778,\"#fb9f3a\"],[0.8888888888888888,\"#fdca26\"],[1.0,\"#f0f921\"]]}],\"surface\":[{\"type\":\"surface\",\"colorbar\":{\"outlinewidth\":0,\"ticks\":\"\"},\"colorscale\":[[0.0,\"#0d0887\"],[0.1111111111111111,\"#46039f\"],[0.2222222222222222,\"#7201a8\"],[0.3333333333333333,\"#9c179e\"],[0.4444444444444444,\"#bd3786\"],[0.5555555555555556,\"#d8576b\"],[0.6666666666666666,\"#ed7953\"],[0.7777777777777778,\"#fb9f3a\"],[0.8888888888888888,\"#fdca26\"],[1.0,\"#f0f921\"]]}],\"mesh3d\":[{\"type\":\"mesh3d\",\"colorbar\":{\"outlinewidth\":0,\"ticks\":\"\"}}],\"scatter\":[{\"fillpattern\":{\"fillmode\":\"overlay\",\"size\":10,\"solidity\":0.2},\"type\":\"scatter\"}],\"parcoords\":[{\"type\":\"parcoords\",\"line\":{\"colorbar\":{\"outlinewidth\":0,\"ticks\":\"\"}}}],\"scatterpolargl\":[{\"type\":\"scatterpolargl\",\"marker\":{\"colorbar\":{\"outlinewidth\":0,\"ticks\":\"\"}}}],\"bar\":[{\"error_x\":{\"color\":\"#2a3f5f\"},\"error_y\":{\"color\":\"#2a3f5f\"},\"marker\":{\"line\":{\"color\":\"#E5ECF6\",\"width\":0.5},\"pattern\":{\"fillmode\":\"overlay\",\"size\":10,\"solidity\":0.2}},\"type\":\"bar\"}],\"scattergeo\":[{\"type\":\"scattergeo\",\"marker\":{\"colorbar\":{\"outlinewidth\":0,\"ticks\":\"\"}}}],\"scatterpolar\":[{\"type\":\"scatterpolar\",\"marker\":{\"colorbar\":{\"outlinewidth\":0,\"ticks\":\"\"}}}],\"histogram\":[{\"marker\":{\"pattern\":{\"fillmode\":\"overlay\",\"size\":10,\"solidity\":0.2}},\"type\":\"histogram\"}],\"scattergl\":[{\"type\":\"scattergl\",\"marker\":{\"colorbar\":{\"outlinewidth\":0,\"ticks\":\"\"}}}],\"scatter3d\":[{\"type\":\"scatter3d\",\"line\":{\"colorbar\":{\"outlinewidth\":0,\"ticks\":\"\"}},\"marker\":{\"colorbar\":{\"outlinewidth\":0,\"ticks\":\"\"}}}],\"scattermapbox\":[{\"type\":\"scattermapbox\",\"marker\":{\"colorbar\":{\"outlinewidth\":0,\"ticks\":\"\"}}}],\"scatterternary\":[{\"type\":\"scatterternary\",\"marker\":{\"colorbar\":{\"outlinewidth\":0,\"ticks\":\"\"}}}],\"scattercarpet\":[{\"type\":\"scattercarpet\",\"marker\":{\"colorbar\":{\"outlinewidth\":0,\"ticks\":\"\"}}}],\"carpet\":[{\"aaxis\":{\"endlinecolor\":\"#2a3f5f\",\"gridcolor\":\"white\",\"linecolor\":\"white\",\"minorgridcolor\":\"white\",\"startlinecolor\":\"#2a3f5f\"},\"baxis\":{\"endlinecolor\":\"#2a3f5f\",\"gridcolor\":\"white\",\"linecolor\":\"white\",\"minorgridcolor\":\"white\",\"startlinecolor\":\"#2a3f5f\"},\"type\":\"carpet\"}],\"table\":[{\"cells\":{\"fill\":{\"color\":\"#EBF0F8\"},\"line\":{\"color\":\"white\"}},\"header\":{\"fill\":{\"color\":\"#C8D4E3\"},\"line\":{\"color\":\"white\"}},\"type\":\"table\"}],\"barpolar\":[{\"marker\":{\"line\":{\"color\":\"#E5ECF6\",\"width\":0.5},\"pattern\":{\"fillmode\":\"overlay\",\"size\":10,\"solidity\":0.2}},\"type\":\"barpolar\"}],\"pie\":[{\"automargin\":true,\"type\":\"pie\"}]},\"layout\":{\"autotypenumbers\":\"strict\",\"colorway\":[\"#636efa\",\"#EF553B\",\"#00cc96\",\"#ab63fa\",\"#FFA15A\",\"#19d3f3\",\"#FF6692\",\"#B6E880\",\"#FF97FF\",\"#FECB52\"],\"font\":{\"color\":\"#2a3f5f\"},\"hovermode\":\"closest\",\"hoverlabel\":{\"align\":\"left\"},\"paper_bgcolor\":\"white\",\"plot_bgcolor\":\"#E5ECF6\",\"polar\":{\"bgcolor\":\"#E5ECF6\",\"angularaxis\":{\"gridcolor\":\"white\",\"linecolor\":\"white\",\"ticks\":\"\"},\"radialaxis\":{\"gridcolor\":\"white\",\"linecolor\":\"white\",\"ticks\":\"\"}},\"ternary\":{\"bgcolor\":\"#E5ECF6\",\"aaxis\":{\"gridcolor\":\"white\",\"linecolor\":\"white\",\"ticks\":\"\"},\"baxis\":{\"gridcolor\":\"white\",\"linecolor\":\"white\",\"ticks\":\"\"},\"caxis\":{\"gridcolor\":\"white\",\"linecolor\":\"white\",\"ticks\":\"\"}},\"coloraxis\":{\"colorbar\":{\"outlinewidth\":0,\"ticks\":\"\"}},\"colorscale\":{\"sequential\":[[0.0,\"#0d0887\"],[0.1111111111111111,\"#46039f\"],[0.2222222222222222,\"#7201a8\"],[0.3333333333333333,\"#9c179e\"],[0.4444444444444444,\"#bd3786\"],[0.5555555555555556,\"#d8576b\"],[0.6666666666666666,\"#ed7953\"],[0.7777777777777778,\"#fb9f3a\"],[0.8888888888888888,\"#fdca26\"],[1.0,\"#f0f921\"]],\"sequentialminus\":[[0.0,\"#0d0887\"],[0.1111111111111111,\"#46039f\"],[0.2222222222222222,\"#7201a8\"],[0.3333333333333333,\"#9c179e\"],[0.4444444444444444,\"#bd3786\"],[0.5555555555555556,\"#d8576b\"],[0.6666666666666666,\"#ed7953\"],[0.7777777777777778,\"#fb9f3a\"],[0.8888888888888888,\"#fdca26\"],[1.0,\"#f0f921\"]],\"diverging\":[[0,\"#8e0152\"],[0.1,\"#c51b7d\"],[0.2,\"#de77ae\"],[0.3,\"#f1b6da\"],[0.4,\"#fde0ef\"],[0.5,\"#f7f7f7\"],[0.6,\"#e6f5d0\"],[0.7,\"#b8e186\"],[0.8,\"#7fbc41\"],[0.9,\"#4d9221\"],[1,\"#276419\"]]},\"xaxis\":{\"gridcolor\":\"white\",\"linecolor\":\"white\",\"ticks\":\"\",\"title\":{\"standoff\":15},\"zerolinecolor\":\"white\",\"automargin\":true,\"zerolinewidth\":2},\"yaxis\":{\"gridcolor\":\"white\",\"linecolor\":\"white\",\"ticks\":\"\",\"title\":{\"standoff\":15},\"zerolinecolor\":\"white\",\"automargin\":true,\"zerolinewidth\":2},\"scene\":{\"xaxis\":{\"backgroundcolor\":\"#E5ECF6\",\"gridcolor\":\"white\",\"linecolor\":\"white\",\"showbackground\":true,\"ticks\":\"\",\"zerolinecolor\":\"white\",\"gridwidth\":2},\"yaxis\":{\"backgroundcolor\":\"#E5ECF6\",\"gridcolor\":\"white\",\"linecolor\":\"white\",\"showbackground\":true,\"ticks\":\"\",\"zerolinecolor\":\"white\",\"gridwidth\":2},\"zaxis\":{\"backgroundcolor\":\"#E5ECF6\",\"gridcolor\":\"white\",\"linecolor\":\"white\",\"showbackground\":true,\"ticks\":\"\",\"zerolinecolor\":\"white\",\"gridwidth\":2}},\"shapedefaults\":{\"line\":{\"color\":\"#2a3f5f\"}},\"annotationdefaults\":{\"arrowcolor\":\"#2a3f5f\",\"arrowhead\":0,\"arrowwidth\":1},\"geo\":{\"bgcolor\":\"white\",\"landcolor\":\"#E5ECF6\",\"subunitcolor\":\"white\",\"showland\":true,\"showlakes\":true,\"lakecolor\":\"white\"},\"title\":{\"x\":0.05},\"mapbox\":{\"style\":\"light\"}}},\"polar\":{\"domain\":{\"x\":[0.0,1.0],\"y\":[0.51,1.0]}},\"xaxis\":{\"anchor\":\"y\",\"domain\":[0.51,1.0]},\"yaxis\":{\"anchor\":\"x\",\"domain\":[0.51,1.0]},\"updatemenus\":[{\"buttons\":[{\"args\":[{\"visible\":[true,true,false,false,true,true,false,false]}],\"label\":\"Offense\",\"method\":\"update\",\"visible\":true},{\"args\":[{\"visible\":[false,false,true,true,false,false,true,true]}],\"label\":\"Defense\",\"method\":\"update\",\"visible\":true}],\"direction\":\"down\",\"showactive\":false}],\"height\":1000},                        {\"responsive\": true}                    ).then(function(){\n",
       "                            \n",
       "var gd = document.getElementById('0d90c467-f8e4-46a2-9fa0-d74dbe5b9aea');\n",
       "var x = new MutationObserver(function (mutations, observer) {{\n",
       "        var display = window.getComputedStyle(gd).display;\n",
       "        if (!display || display === 'none') {{\n",
       "            console.log([gd, 'removed!']);\n",
       "            Plotly.purge(gd);\n",
       "            observer.disconnect();\n",
       "        }}\n",
       "}});\n",
       "\n",
       "// Listen for the removal of the full notebook cells\n",
       "var notebookContainer = gd.closest('#notebook-container');\n",
       "if (notebookContainer) {{\n",
       "    x.observe(notebookContainer, {childList: true});\n",
       "}}\n",
       "\n",
       "// Listen for the clearing of the current output cell\n",
       "var outputEl = gd.closest('.output');\n",
       "if (outputEl) {{\n",
       "    x.observe(outputEl, {childList: true});\n",
       "}}\n",
       "\n",
       "                        })                };                });            </script>        </div>"
      ]
     },
     "metadata": {},
     "output_type": "display_data"
    }
   ],
   "source": [
    "import plotly.figure_factory as ff\n",
    "import plotly.graph_objects as go\n",
    "import plotly.express as px\n",
    "import pandas as pd\n",
    "\n",
    "\n",
    "fig = make_subplots(rows=2, cols=2, horizontal_spacing=.02, vertical_spacing=.02,\n",
    "                    specs=[\n",
    "                        [{\"colspan\": 2, \"type\":\"scatterpolar\"}, {}],\n",
    "                        [{\"type\":\"table\"}, {\"type\":\"table\"}]\n",
    "                    ]\n",
    "                   )\n",
    "\n",
    "scat = generate_spider(df_plot, primarycolor=secondary_color, plot_name=team)\n",
    "scat_opp = generate_spider(df_plot_opp, primarycolor=opp_primary_color, plot_name=team_opp)\n",
    "scat_def = generate_spider(df_plot_def, primarycolor=secondary_color, plot_name=team)\n",
    "scat_opp_def = generate_spider(df_plot_opp_def, primarycolor=opp_primary_color, plot_name=team_opp)\n",
    "\n",
    "table = generate_table(df_plot, header_color=secondary_color, background_color=primary_color)\n",
    "table_opp = generate_table(df_plot_opp,  header_color=opp_secondary_color, background_color=opp_primary_color)\n",
    "table_def = generate_table(df_plot_def,  header_color=secondary_color, background_color=primary_color)\n",
    "table_opp_def = generate_table(df_plot_opp_def,  header_color=opp_secondary_color, background_color=opp_primary_color)\n",
    "\n",
    "fig.add_trace(scat)\n",
    "fig.add_trace(scat_opp)\n",
    "\n",
    "fig.add_trace(scat_def)\n",
    "fig.add_trace(scat_opp_def)\n",
    "\n",
    "fig.add_trace(table, row=2, col=1)\n",
    "fig.add_trace(table_opp, row=2, col=2)\n",
    "\n",
    "fig.add_trace(table_def, row=2, col=1)\n",
    "fig.add_trace(table_opp_def, row=2, col=2)\n",
    "\n",
    "updatemenus = [{'buttons': [{'method': 'update',\n",
    "  'label': 'Offense',\n",
    "  'visible': True,\n",
    "  'args': [{'visible': [True, True, False, False, True, True, False, False]}\n",
    "          ]},\n",
    " {'method': 'update',\n",
    "  'label': 'Defense',\n",
    "  'visible': True,\n",
    "  'args': [{'visible': [False, False, True, True, False, False, True, True]}]}],\n",
    "                'direction': 'down','showactive': False}]\n",
    "fig.update_layout(\n",
    "    updatemenus=updatemenus,\n",
    "    height=1000\n",
    ")\n",
    "\n",
    "fig.show()"
   ]
  },
  {
   "cell_type": "code",
   "execution_count": null,
   "id": "059bca84-5c55-46db-92bb-804e17acb122",
   "metadata": {},
   "outputs": [],
   "source": []
  }
 ],
 "metadata": {
  "kernelspec": {
   "display_name": "Python 3 (ipykernel)",
   "language": "python",
   "name": "python3"
  },
  "language_info": {
   "codemirror_mode": {
    "name": "ipython",
    "version": 3
   },
   "file_extension": ".py",
   "mimetype": "text/x-python",
   "name": "python",
   "nbconvert_exporter": "python",
   "pygments_lexer": "ipython3",
   "version": "3.9.13"
  }
 },
 "nbformat": 4,
 "nbformat_minor": 5
}
