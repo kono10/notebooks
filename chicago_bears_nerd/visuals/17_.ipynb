{
 "cells": [
  {
   "cell_type": "code",
   "execution_count": 2,
   "id": "2d2e421e-190c-4b44-9c43-3b04aabaefd4",
   "metadata": {},
   "outputs": [],
   "source": [
    "##### https://stackoverflow.com/questions/59077118/plotly-how-to-update-one-specific-trace-using-updatemenus\n",
    "\n",
    "# https://plotly.com/python/reference/layout/updatemenus/#layout-updatemenus-buttons-method\n",
    "\n",
    "# https://plotly.com/python/dropdowns/\n",
    "\n",
    "# https://community.plotly.com/t/restyling-all-subplots/36328/4"
   ]
  },
  {
   "cell_type": "code",
   "execution_count": 3,
   "id": "26a308c1-6412-4612-a7d3-34b5bf58804d",
   "metadata": {},
   "outputs": [],
   "source": [
    "# heat map for rankings? all teams across the top "
   ]
  },
  {
   "cell_type": "code",
   "execution_count": 1,
   "id": "a2920fb7-c7a0-429a-8491-2d598a8cfa32",
   "metadata": {},
   "outputs": [],
   "source": [
    "# https://stackoverflow.com/questions/59077118/plotly-how-to-update-one-specific-trace-using-updatemenus\n"
   ]
  },
  {
   "cell_type": "code",
   "execution_count": null,
   "id": "320daf52-c62b-4d8e-8c36-d35097e0aa97",
   "metadata": {},
   "outputs": [],
   "source": []
  }
 ],
 "metadata": {
  "kernelspec": {
   "display_name": "Python 3",
   "language": "python",
   "name": "python3"
  },
  "language_info": {
   "codemirror_mode": {
    "name": "ipython",
    "version": 3
   },
   "file_extension": ".py",
   "mimetype": "text/x-python",
   "name": "python",
   "nbconvert_exporter": "python",
   "pygments_lexer": "ipython3",
   "version": "3.6.13"
  }
 },
 "nbformat": 4,
 "nbformat_minor": 5
}
