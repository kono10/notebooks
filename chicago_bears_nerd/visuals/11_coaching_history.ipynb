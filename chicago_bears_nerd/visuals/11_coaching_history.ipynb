{
 "cells": [
  {
   "cell_type": "code",
   "execution_count": 6,
   "id": "cb00b626-b870-46f3-a7e5-2c7390ce12d4",
   "metadata": {},
   "outputs": [],
   "source": [
    "import altair as alt\n",
    "import pandas as pd\n",
    "import numpy as np\n",
    "pd.set_option('display.max_columns', None)\n"
   ]
  },
  {
   "cell_type": "code",
   "execution_count": 42,
   "id": "47cda70c-5d6a-4289-8f99-df2105e5743c",
   "metadata": {},
   "outputs": [],
   "source": [
    "df = pd.read_csv(\"../data/nfl_coaching_history.csv\")\n",
    "df_bears = pd.read_csv(\"../data/chicago_bears_coaching_history.csv\")\n"
   ]
  },
  {
   "cell_type": "code",
   "execution_count": 43,
   "id": "865d779f-ec81-4670-9d07-4f761149fda4",
   "metadata": {},
   "outputs": [
    {
     "name": "stderr",
     "output_type": "stream",
     "text": [
      "/tmp/ipykernel_2515176/4273934665.py:2: FutureWarning: The default value of regex will change from True to False in a future version. In addition, single character regular expressions will *not* be treated as literal strings when regex=True.\n",
      "  df[\"Coach\"] = df.Coach.str.replace(\"+\", \"\")\n"
     ]
    }
   ],
   "source": [
    "df = df.rename({\"W-L%â–¼\":\"WL%\"},axis=1)\n",
    "df[\"Coach\"] = df.Coach.str.replace(\"+\", \"\")"
   ]
  },
  {
   "cell_type": "code",
   "execution_count": 44,
   "id": "d9f8a170-f83b-490c-b029-4f63714f741c",
   "metadata": {},
   "outputs": [],
   "source": [
    "bears_coach_name_list = df_bears.Coach.unique().tolist()"
   ]
  },
  {
   "cell_type": "code",
   "execution_count": 45,
   "id": "da0d3b95-255d-485a-82b9-9bdddc36fc79",
   "metadata": {},
   "outputs": [],
   "source": [
    "df[\"Is Bears\"] = df.Coach.isin(bears_coach_name_list)"
   ]
  },
  {
   "cell_type": "code",
   "execution_count": 66,
   "id": "321ad0e6-ec1b-40ec-9207-8fe00e8a7618",
   "metadata": {},
   "outputs": [
    {
     "data": {
      "text/html": [
       "<div>\n",
       "<style scoped>\n",
       "    .dataframe tbody tr th:only-of-type {\n",
       "        vertical-align: middle;\n",
       "    }\n",
       "\n",
       "    .dataframe tbody tr th {\n",
       "        vertical-align: top;\n",
       "    }\n",
       "\n",
       "    .dataframe thead th {\n",
       "        text-align: right;\n",
       "    }\n",
       "</style>\n",
       "<table border=\"1\" class=\"dataframe\">\n",
       "  <thead>\n",
       "    <tr style=\"text-align: right;\">\n",
       "      <th></th>\n",
       "      <th>Rk</th>\n",
       "      <th>Yrs</th>\n",
       "      <th>From</th>\n",
       "      <th>To</th>\n",
       "      <th>G</th>\n",
       "      <th>W</th>\n",
       "      <th>L</th>\n",
       "      <th>T</th>\n",
       "      <th>WL%</th>\n",
       "      <th>G &gt; .500</th>\n",
       "      <th>Yr plyf</th>\n",
       "      <th>G plyf</th>\n",
       "      <th>W plyf</th>\n",
       "      <th>L plyf</th>\n",
       "      <th>W-L%</th>\n",
       "      <th>AvRk</th>\n",
       "      <th>BstRk</th>\n",
       "      <th>Chmp</th>\n",
       "      <th>SBwl</th>\n",
       "      <th>Conf</th>\n",
       "    </tr>\n",
       "    <tr>\n",
       "      <th>Is Bears</th>\n",
       "      <th></th>\n",
       "      <th></th>\n",
       "      <th></th>\n",
       "      <th></th>\n",
       "      <th></th>\n",
       "      <th></th>\n",
       "      <th></th>\n",
       "      <th></th>\n",
       "      <th></th>\n",
       "      <th></th>\n",
       "      <th></th>\n",
       "      <th></th>\n",
       "      <th></th>\n",
       "      <th></th>\n",
       "      <th></th>\n",
       "      <th></th>\n",
       "      <th></th>\n",
       "      <th></th>\n",
       "      <th></th>\n",
       "      <th></th>\n",
       "    </tr>\n",
       "  </thead>\n",
       "  <tbody>\n",
       "    <tr>\n",
       "      <th>False</th>\n",
       "      <td>96.472222</td>\n",
       "      <td>9.611111</td>\n",
       "      <td>1983.205556</td>\n",
       "      <td>1993.727778</td>\n",
       "      <td>137.866667</td>\n",
       "      <td>72.150000</td>\n",
       "      <td>63.822222</td>\n",
       "      <td>1.894444</td>\n",
       "      <td>0.498456</td>\n",
       "      <td>8.327778</td>\n",
       "      <td>3.522222</td>\n",
       "      <td>6.127778</td>\n",
       "      <td>3.094444</td>\n",
       "      <td>3.033333</td>\n",
       "      <td>0.410864</td>\n",
       "      <td>2.904444</td>\n",
       "      <td>1.488889</td>\n",
       "      <td>0.584337</td>\n",
       "      <td>0.327273</td>\n",
       "      <td>0.622754</td>\n",
       "    </tr>\n",
       "    <tr>\n",
       "      <th>True</th>\n",
       "      <td>88.272727</td>\n",
       "      <td>11.909091</td>\n",
       "      <td>1978.090909</td>\n",
       "      <td>1994.727273</td>\n",
       "      <td>168.909091</td>\n",
       "      <td>91.363636</td>\n",
       "      <td>74.272727</td>\n",
       "      <td>3.272727</td>\n",
       "      <td>0.518273</td>\n",
       "      <td>17.090909</td>\n",
       "      <td>3.454545</td>\n",
       "      <td>5.272727</td>\n",
       "      <td>2.363636</td>\n",
       "      <td>2.909091</td>\n",
       "      <td>0.276700</td>\n",
       "      <td>2.963636</td>\n",
       "      <td>1.181818</td>\n",
       "      <td>0.636364</td>\n",
       "      <td>0.090909</td>\n",
       "      <td>0.363636</td>\n",
       "    </tr>\n",
       "  </tbody>\n",
       "</table>\n",
       "</div>"
      ],
      "text/plain": [
       "                 Rk        Yrs         From           To           G  \\\n",
       "Is Bears                                                               \n",
       "False     96.472222   9.611111  1983.205556  1993.727778  137.866667   \n",
       "True      88.272727  11.909091  1978.090909  1994.727273  168.909091   \n",
       "\n",
       "                  W          L         T       WL%   G > .500   Yr plyf  \\\n",
       "Is Bears                                                                  \n",
       "False     72.150000  63.822222  1.894444  0.498456   8.327778  3.522222   \n",
       "True      91.363636  74.272727  3.272727  0.518273  17.090909  3.454545   \n",
       "\n",
       "            G plyf    W plyf    L plyf      W-L%      AvRk     BstRk  \\\n",
       "Is Bears                                                               \n",
       "False     6.127778  3.094444  3.033333  0.410864  2.904444  1.488889   \n",
       "True      5.272727  2.363636  2.909091  0.276700  2.963636  1.181818   \n",
       "\n",
       "              Chmp      SBwl      Conf  \n",
       "Is Bears                                \n",
       "False     0.584337  0.327273  0.622754  \n",
       "True      0.636364  0.090909  0.363636  "
      ]
     },
     "execution_count": 66,
     "metadata": {},
     "output_type": "execute_result"
    }
   ],
   "source": [
    "df.groupby(\"Is Bears\").mean()"
   ]
  },
  {
   "cell_type": "code",
   "execution_count": 50,
   "id": "a2933c20-43a2-4f7e-827f-8bda55d4a804",
   "metadata": {
    "tags": []
   },
   "outputs": [],
   "source": [
    "chart_title = \"Nfl Coaching Win%\"\n",
    "x_cfgs = {\"shorthand\":\"WL%\", \"title\":\"WL%\"}\n",
    "y_cfgs = {\"shorthand\":\"G\", \"title\":\"Total Games Coached\"}\n",
    "# background etc.\n",
    "primary_color = \"#0B162A\" \n",
    "# font etc.\n",
    "secondary_color = \"#c83803\"\n"
   ]
  },
  {
   "cell_type": "code",
   "execution_count": 65,
   "id": "10ec609e-117b-45b6-863b-ce3af659c345",
   "metadata": {},
   "outputs": [],
   "source": [
    "alt.Chart(df, width=1000, height=1000, title=chart_title)\\\n",
    ".mark_circle(size=500, opacity=.7)\\\n",
    ".encode(\n",
    "    x=alt.X(**x_cfgs,\n",
    "        scale=alt.Scale(zero=False)\n",
    "    ),\n",
    "    y=alt.Y(**y_cfgs,\n",
    "        scale=alt.Scale(zero=False)\n",
    "    ),\n",
    "    color=alt.Color(\"Is Bears\", scale=alt.Scale(domain=[True, False], range=[secondary_color, \"white\"])),\n",
    "    tooltip=[\n",
    "        \"Coach\",\n",
    "        alt.Tooltip(**x_cfgs),\n",
    "        alt.Tooltip(**y_cfgs),\n",
    "        'G > .500',\n",
    "        'Chmp',\n",
    "        'SBwl',\n",
    "        'Conf',\n",
    "        'G plyf',\n",
    "        'W plyf',\n",
    "        'Yrs',\n",
    "        'From',\n",
    "        'To',\n",
    "    ]\n",
    ")\\\n",
    ".configure(background=primary_color)\\\n",
    ".configure_axis(gridColor=\"grey\", gridDash=[6,4])\\\n",
    ".configure_axisLeft(labelColor=secondary_color, titleColor=secondary_color, labelFontSize=15, titleFontSize=17)\\\n",
    ".configure_axisBottom(labelColor=secondary_color, titleColor=secondary_color,labelFontSize=15, titleFontSize=17)\\\n",
    ".configure_title(color=secondary_color, fontSize=25)\\\n",
    ".configure_legend(labelColor=secondary_color, titleColor=secondary_color, strokeColor='gray', fillColor=primary_color, padding=10,cornerRadius=10,orient='top-right', labelFontSize=15, titleFontSize=15).save(\"chart.json\")\n"
   ]
  }
 ],
 "metadata": {
  "kernelspec": {
   "display_name": "Python 3 (ipykernel)",
   "language": "python",
   "name": "python3"
  },
  "language_info": {
   "codemirror_mode": {
    "name": "ipython",
    "version": 3
   },
   "file_extension": ".py",
   "mimetype": "text/x-python",
   "name": "python",
   "nbconvert_exporter": "python",
   "pygments_lexer": "ipython3",
   "version": "3.9.13"
  }
 },
 "nbformat": 4,
 "nbformat_minor": 5
}
