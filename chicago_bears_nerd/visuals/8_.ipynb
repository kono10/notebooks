{
 "cells": [
  {
   "cell_type": "code",
   "execution_count": 1,
   "id": "bbc2f928-279d-4e13-a924-615e6e62c923",
   "metadata": {},
   "outputs": [],
   "source": [
    "import altair as alt\n",
    "import pandas as pd\n",
    "import numpy as np\n",
    "import warnings"
   ]
  },
  {
   "cell_type": "code",
   "execution_count": 6,
   "id": "192eb854-655e-4fbf-8548-e6920fc31be0",
   "metadata": {},
   "outputs": [],
   "source": [
    "df_summary = pd.read_csv(\"../data/spread_history/chi_spread_summary.csv\")"
   ]
  },
  {
   "cell_type": "code",
   "execution_count": 102,
   "id": "5e75aab2-654f-46be-ab92-b0f08c35c388",
   "metadata": {},
   "outputs": [],
   "source": [
    "df = pd.read_csv(\"../data/spread_history/2021_chi_games_spread.csv\")\n",
    "df[[\"result_ats\",\"spread\"]] = df.Spread.str.split(\" \", expand=True)\n",
    "df[\"result\"] = df.Score.str.split(\" \", expand=True)[0]\n",
    "df[[\"bears_pts\",\"opp_pts\"]] = df.Score.str.split(\" \", expand=True)[1].str.split(\"-\", expand=True)\n",
    "df[\"num_spread\"] = pd.to_numeric(df.spread)\n",
    "df['score_diff'] = pd.to_numeric(df.opp_pts) - pd.to_numeric(df.bears_pts)\n",
    "df[\"_opp\"] = df.Opponent.str.lower().str.replace(\" \", \"-\")\n",
    "df[\"url\"] = \"https://loodibee.com/wp-content/uploads/nfl-\" + df._opp + \"-team-logo-2.png\"\n",
    "df[\"url\"] = \"https://github.com/kono10/notebooks/blob/main/chicago_bears_nerd/los-angeles-rams.png\"\n",
    "df[\"url\"] = \"https://raw.githubusercontent.com/kono10/notebooks/main/chicago_bears_nerd/los-angeles-rams.png\""
   ]
  },
  {
   "cell_type": "code",
   "execution_count": 95,
   "id": "973259e6-3738-4ec2-b682-13a526b2ddd7",
   "metadata": {},
   "outputs": [],
   "source": [
    "chart_title = \"Score Differential vs Spread\"\n",
    "x_cfgs = {\"shorthand\":\"num_spread\", \"title\":\"Spread\"}\n",
    "y_cfgs = {\"shorthand\":\"score_diff\", \"title\":\"Score Diff\"}\n",
    "# background etc.\n",
    "primary_color = \"#0B162A\" \n",
    "# font etc.\n",
    "secondary_color = \"#c83803\"\n",
    "axisLeftKwargs = dict(labelColor=secondary_color, titleColor=secondary_color, labelFontSize=15, titleFontSize=17)\n",
    "axisBottomKwargs = dict(labelColor=secondary_color, titleColor=secondary_color,labelFontSize=15, titleFontSize=17)\n",
    "legendKwargs = dict(labelColor=secondary_color, titleColor=secondary_color, strokeColor='gray', fillColor=primary_color, padding=10,cornerRadius=10,orient='top-right', labelFontSize=15, titleFontSize=15)"
   ]
  },
  {
   "cell_type": "code",
   "execution_count": 114,
   "id": "26ca6579-0462-4de7-ab19-5f1c072728fc",
   "metadata": {},
   "outputs": [
    {
     "data": {
      "text/html": [
       "\n",
       "<div id=\"altair-viz-a7d3c14fb76a4e62b485b6938487db46\"></div>\n",
       "<script type=\"text/javascript\">\n",
       "  var VEGA_DEBUG = (typeof VEGA_DEBUG == \"undefined\") ? {} : VEGA_DEBUG;\n",
       "  (function(spec, embedOpt){\n",
       "    let outputDiv = document.currentScript.previousElementSibling;\n",
       "    if (outputDiv.id !== \"altair-viz-a7d3c14fb76a4e62b485b6938487db46\") {\n",
       "      outputDiv = document.getElementById(\"altair-viz-a7d3c14fb76a4e62b485b6938487db46\");\n",
       "    }\n",
       "    const paths = {\n",
       "      \"vega\": \"https://cdn.jsdelivr.net/npm//vega@5?noext\",\n",
       "      \"vega-lib\": \"https://cdn.jsdelivr.net/npm//vega-lib?noext\",\n",
       "      \"vega-lite\": \"https://cdn.jsdelivr.net/npm//vega-lite@4.17.0?noext\",\n",
       "      \"vega-embed\": \"https://cdn.jsdelivr.net/npm//vega-embed@6?noext\",\n",
       "    };\n",
       "\n",
       "    function maybeLoadScript(lib, version) {\n",
       "      var key = `${lib.replace(\"-\", \"\")}_version`;\n",
       "      return (VEGA_DEBUG[key] == version) ?\n",
       "        Promise.resolve(paths[lib]) :\n",
       "        new Promise(function(resolve, reject) {\n",
       "          var s = document.createElement('script');\n",
       "          document.getElementsByTagName(\"head\")[0].appendChild(s);\n",
       "          s.async = true;\n",
       "          s.onload = () => {\n",
       "            VEGA_DEBUG[key] = version;\n",
       "            return resolve(paths[lib]);\n",
       "          };\n",
       "          s.onerror = () => reject(`Error loading script: ${paths[lib]}`);\n",
       "          s.src = paths[lib];\n",
       "        });\n",
       "    }\n",
       "\n",
       "    function showError(err) {\n",
       "      outputDiv.innerHTML = `<div class=\"error\" style=\"color:red;\">${err}</div>`;\n",
       "      throw err;\n",
       "    }\n",
       "\n",
       "    function displayChart(vegaEmbed) {\n",
       "      vegaEmbed(outputDiv, spec, embedOpt)\n",
       "        .catch(err => showError(`Javascript Error: ${err.message}<br>This usually means there's a typo in your chart specification. See the javascript console for the full traceback.`));\n",
       "    }\n",
       "\n",
       "    if(typeof define === \"function\" && define.amd) {\n",
       "      requirejs.config({paths});\n",
       "      require([\"vega-embed\"], displayChart, err => showError(`Error loading script: ${err.message}`));\n",
       "    } else {\n",
       "      maybeLoadScript(\"vega\", \"5\")\n",
       "        .then(() => maybeLoadScript(\"vega-lite\", \"4.17.0\"))\n",
       "        .then(() => maybeLoadScript(\"vega-embed\", \"6\"))\n",
       "        .catch(showError)\n",
       "        .then(() => displayChart(vegaEmbed));\n",
       "    }\n",
       "  })({\"config\": {\"view\": {\"continuousWidth\": 400, \"continuousHeight\": 300}, \"axis\": {\"gridColor\": \"grey\", \"gridDash\": [6, 4]}, \"axisBottom\": {\"labelColor\": \"#c83803\", \"labelFontSize\": 15, \"titleColor\": \"#c83803\", \"titleFontSize\": 17}, \"axisLeft\": {\"labelColor\": \"#c83803\", \"labelFontSize\": 15, \"titleColor\": \"#c83803\", \"titleFontSize\": 17}, \"background\": \"#0B162A\", \"legend\": {\"cornerRadius\": 10, \"fillColor\": \"#0B162A\", \"labelColor\": \"#c83803\", \"labelFontSize\": 15, \"orient\": \"top-right\", \"padding\": 10, \"strokeColor\": \"gray\", \"titleColor\": \"#c83803\", \"titleFontSize\": 15}, \"title\": {\"color\": \"#c83803\", \"fontSize\": 25}}, \"data\": {\"name\": \"data-7d2936ccb1eb6c9ae2360c208e643b57\"}, \"mark\": {\"type\": \"image\", \"height\": 50, \"width\": 50}, \"encoding\": {\"tooltip\": [{\"field\": \"num_spread\", \"title\": \"Spread\", \"type\": \"quantitative\"}, {\"field\": \"score_diff\", \"title\": \"Score Diff\", \"type\": \"quantitative\"}], \"url\": {\"field\": \"url\", \"type\": \"nominal\"}, \"x\": {\"field\": \"num_spread\", \"scale\": {\"zero\": false}, \"title\": \"Spread\", \"type\": \"quantitative\"}, \"y\": {\"field\": \"score_diff\", \"scale\": {\"zero\": false}, \"title\": \"Score Diff\", \"type\": \"quantitative\"}}, \"height\": 1000, \"title\": \"Score Differential vs Spread\", \"width\": 1000, \"$schema\": \"https://vega.github.io/schema/vega-lite/v4.17.0.json\", \"datasets\": {\"data-7d2936ccb1eb6c9ae2360c208e643b57\": [{\"Unnamed: 0\": 0, \"Week #\": 1, \"Day\": \"Sun\", \"Date\": \"Sep 12, 2021\", \"Time (ET)\": \"8:20\", \"Unnamed: 5\": \"@\", \"Opponent\": \"Los Angeles Rams\", \"Score\": \"L 14-34\", \"Spread\": \"L +8\", \"Total\": \"O 46.5\", \"Notes\": null, \"result_ats\": \"L\", \"spread\": \"+8\", \"result\": \"L\", \"bears_pts\": \"14\", \"opp_pts\": \"34\", \"num_spread\": 8.0, \"score_diff\": 20, \"_opp\": \"los-angeles-rams\", \"url\": \"https://raw.githubusercontent.com/kono10/notebooks/main/chicago_bears_nerd/los-angeles-rams.png\"}, {\"Unnamed: 0\": 1, \"Week #\": 2, \"Day\": \"Sun\", \"Date\": \"Sep 19, 2021\", \"Time (ET)\": \"1:00\", \"Unnamed: 5\": null, \"Opponent\": \"Cincinnati Bengals\", \"Score\": \"W 20-17\", \"Spread\": \"W -1.5\", \"Total\": \"U 44.5\", \"Notes\": null, \"result_ats\": \"W\", \"spread\": \"-1.5\", \"result\": \"W\", \"bears_pts\": \"20\", \"opp_pts\": \"17\", \"num_spread\": -1.5, \"score_diff\": -3, \"_opp\": \"cincinnati-bengals\", \"url\": \"https://raw.githubusercontent.com/kono10/notebooks/main/chicago_bears_nerd/los-angeles-rams.png\"}, {\"Unnamed: 0\": 2, \"Week #\": 3, \"Day\": \"Sun\", \"Date\": \"Sep 26, 2021\", \"Time (ET)\": \"1:00\", \"Unnamed: 5\": \"@\", \"Opponent\": \"Cleveland Browns\", \"Score\": \"L 6-26\", \"Spread\": \"L +7.5\", \"Total\": \"U 44.5\", \"Notes\": null, \"result_ats\": \"L\", \"spread\": \"+7.5\", \"result\": \"L\", \"bears_pts\": \"6\", \"opp_pts\": \"26\", \"num_spread\": 7.5, \"score_diff\": 20, \"_opp\": \"cleveland-browns\", \"url\": \"https://raw.githubusercontent.com/kono10/notebooks/main/chicago_bears_nerd/los-angeles-rams.png\"}, {\"Unnamed: 0\": 3, \"Week #\": 4, \"Day\": \"Sun\", \"Date\": \"Oct 3, 2021\", \"Time (ET)\": \"1:00\", \"Unnamed: 5\": null, \"Opponent\": \"Detroit Lions\", \"Score\": \"W 24-14\", \"Spread\": \"W -3\", \"Total\": \"U 41.5\", \"Notes\": null, \"result_ats\": \"W\", \"spread\": \"-3\", \"result\": \"W\", \"bears_pts\": \"24\", \"opp_pts\": \"14\", \"num_spread\": -3.0, \"score_diff\": -10, \"_opp\": \"detroit-lions\", \"url\": \"https://raw.githubusercontent.com/kono10/notebooks/main/chicago_bears_nerd/los-angeles-rams.png\"}, {\"Unnamed: 0\": 4, \"Week #\": 5, \"Day\": \"Sun\", \"Date\": \"Oct 10, 2021\", \"Time (ET)\": \"4:04\", \"Unnamed: 5\": \"@\", \"Opponent\": \"Las Vegas Raiders\", \"Score\": \"W 20-9\", \"Spread\": \"W +5.5\", \"Total\": \"U 45.5\", \"Notes\": null, \"result_ats\": \"W\", \"spread\": \"+5.5\", \"result\": \"W\", \"bears_pts\": \"20\", \"opp_pts\": \"9\", \"num_spread\": 5.5, \"score_diff\": -11, \"_opp\": \"las-vegas-raiders\", \"url\": \"https://raw.githubusercontent.com/kono10/notebooks/main/chicago_bears_nerd/los-angeles-rams.png\"}, {\"Unnamed: 0\": 5, \"Week #\": 6, \"Day\": \"Sun\", \"Date\": \"Oct 17, 2021\", \"Time (ET)\": \"1:00\", \"Unnamed: 5\": null, \"Opponent\": \"Green Bay Packers\", \"Score\": \"L 14-24\", \"Spread\": \"L +6\", \"Total\": \"U 44\", \"Notes\": null, \"result_ats\": \"L\", \"spread\": \"+6\", \"result\": \"L\", \"bears_pts\": \"14\", \"opp_pts\": \"24\", \"num_spread\": 6.0, \"score_diff\": 10, \"_opp\": \"green-bay-packers\", \"url\": \"https://raw.githubusercontent.com/kono10/notebooks/main/chicago_bears_nerd/los-angeles-rams.png\"}, {\"Unnamed: 0\": 6, \"Week #\": 7, \"Day\": \"Sun\", \"Date\": \"Oct 24, 2021\", \"Time (ET)\": \"4:25\", \"Unnamed: 5\": \"@\", \"Opponent\": \"Tampa Bay Buccaneers\", \"Score\": \"L 3-38\", \"Spread\": \"L +11.5\", \"Total\": \"U 47\", \"Notes\": null, \"result_ats\": \"L\", \"spread\": \"+11.5\", \"result\": \"L\", \"bears_pts\": \"3\", \"opp_pts\": \"38\", \"num_spread\": 11.5, \"score_diff\": 35, \"_opp\": \"tampa-bay-buccaneers\", \"url\": \"https://raw.githubusercontent.com/kono10/notebooks/main/chicago_bears_nerd/los-angeles-rams.png\"}, {\"Unnamed: 0\": 7, \"Week #\": 8, \"Day\": \"Sun\", \"Date\": \"Oct 31, 2021\", \"Time (ET)\": \"1:00\", \"Unnamed: 5\": null, \"Opponent\": \"San Francisco 49ers\", \"Score\": \"L 22-33\", \"Spread\": \"L +4\", \"Total\": \"O 39.5\", \"Notes\": null, \"result_ats\": \"L\", \"spread\": \"+4\", \"result\": \"L\", \"bears_pts\": \"22\", \"opp_pts\": \"33\", \"num_spread\": 4.0, \"score_diff\": 11, \"_opp\": \"san-francisco-49ers\", \"url\": \"https://raw.githubusercontent.com/kono10/notebooks/main/chicago_bears_nerd/los-angeles-rams.png\"}, {\"Unnamed: 0\": 8, \"Week #\": 9, \"Day\": \"Mon\", \"Date\": \"Nov 8, 2021\", \"Time (ET)\": \"8:15\", \"Unnamed: 5\": \"@\", \"Opponent\": \"Pittsburgh Steelers\", \"Score\": \"L 27-29\", \"Spread\": \"W +6.5\", \"Total\": \"O 38.5\", \"Notes\": null, \"result_ats\": \"W\", \"spread\": \"+6.5\", \"result\": \"L\", \"bears_pts\": \"27\", \"opp_pts\": \"29\", \"num_spread\": 6.5, \"score_diff\": 2, \"_opp\": \"pittsburgh-steelers\", \"url\": \"https://raw.githubusercontent.com/kono10/notebooks/main/chicago_bears_nerd/los-angeles-rams.png\"}, {\"Unnamed: 0\": 9, \"Week #\": 11, \"Day\": \"Sun\", \"Date\": \"Nov 21, 2021\", \"Time (ET)\": \"1:00\", \"Unnamed: 5\": null, \"Opponent\": \"Baltimore Ravens\", \"Score\": \"L 13-16\", \"Spread\": \"W +5\", \"Total\": \"U 43.5\", \"Notes\": null, \"result_ats\": \"W\", \"spread\": \"+5\", \"result\": \"L\", \"bears_pts\": \"13\", \"opp_pts\": \"16\", \"num_spread\": 5.0, \"score_diff\": 3, \"_opp\": \"baltimore-ravens\", \"url\": \"https://raw.githubusercontent.com/kono10/notebooks/main/chicago_bears_nerd/los-angeles-rams.png\"}, {\"Unnamed: 0\": 10, \"Week #\": 12, \"Day\": \"Thu\", \"Date\": \"Nov 25, 2021\", \"Time (ET)\": \"12:30\", \"Unnamed: 5\": \"@\", \"Opponent\": \"Detroit Lions\", \"Score\": \"W 16-14\", \"Spread\": \"L -3\", \"Total\": \"U 41\", \"Notes\": null, \"result_ats\": \"L\", \"spread\": \"-3\", \"result\": \"W\", \"bears_pts\": \"16\", \"opp_pts\": \"14\", \"num_spread\": -3.0, \"score_diff\": -2, \"_opp\": \"detroit-lions\", \"url\": \"https://raw.githubusercontent.com/kono10/notebooks/main/chicago_bears_nerd/los-angeles-rams.png\"}, {\"Unnamed: 0\": 11, \"Week #\": 13, \"Day\": \"Sun\", \"Date\": \"Dec 5, 2021\", \"Time (ET)\": \"1:00\", \"Unnamed: 5\": null, \"Opponent\": \"Arizona Cardinals\", \"Score\": \"L 22-33\", \"Spread\": \"L +7.5\", \"Total\": \"O 42\", \"Notes\": null, \"result_ats\": \"L\", \"spread\": \"+7.5\", \"result\": \"L\", \"bears_pts\": \"22\", \"opp_pts\": \"33\", \"num_spread\": 7.5, \"score_diff\": 11, \"_opp\": \"arizona-cardinals\", \"url\": \"https://raw.githubusercontent.com/kono10/notebooks/main/chicago_bears_nerd/los-angeles-rams.png\"}, {\"Unnamed: 0\": 12, \"Week #\": 14, \"Day\": \"Sun\", \"Date\": \"Dec 12, 2021\", \"Time (ET)\": \"8:20\", \"Unnamed: 5\": \"@\", \"Opponent\": \"Green Bay Packers\", \"Score\": \"L 30-45\", \"Spread\": \"L +11.5\", \"Total\": \"O 43\", \"Notes\": null, \"result_ats\": \"L\", \"spread\": \"+11.5\", \"result\": \"L\", \"bears_pts\": \"30\", \"opp_pts\": \"45\", \"num_spread\": 11.5, \"score_diff\": 15, \"_opp\": \"green-bay-packers\", \"url\": \"https://raw.githubusercontent.com/kono10/notebooks/main/chicago_bears_nerd/los-angeles-rams.png\"}, {\"Unnamed: 0\": 13, \"Week #\": 15, \"Day\": \"Mon\", \"Date\": \"Dec 20, 2021\", \"Time (ET)\": \"8:15\", \"Unnamed: 5\": null, \"Opponent\": \"Minnesota Vikings\", \"Score\": \"L 9-17\", \"Spread\": \"L +6.5\", \"Total\": \"U 44.5\", \"Notes\": null, \"result_ats\": \"L\", \"spread\": \"+6.5\", \"result\": \"L\", \"bears_pts\": \"9\", \"opp_pts\": \"17\", \"num_spread\": 6.5, \"score_diff\": 8, \"_opp\": \"minnesota-vikings\", \"url\": \"https://raw.githubusercontent.com/kono10/notebooks/main/chicago_bears_nerd/los-angeles-rams.png\"}, {\"Unnamed: 0\": 14, \"Week #\": 16, \"Day\": \"Sun\", \"Date\": \"Dec 26, 2021\", \"Time (ET)\": \"4:04\", \"Unnamed: 5\": \"@\", \"Opponent\": \"Seattle Seahawks\", \"Score\": \"W 25-24\", \"Spread\": \"W +6.5\", \"Total\": \"O 41.5\", \"Notes\": null, \"result_ats\": \"W\", \"spread\": \"+6.5\", \"result\": \"W\", \"bears_pts\": \"25\", \"opp_pts\": \"24\", \"num_spread\": 6.5, \"score_diff\": -1, \"_opp\": \"seattle-seahawks\", \"url\": \"https://raw.githubusercontent.com/kono10/notebooks/main/chicago_bears_nerd/los-angeles-rams.png\"}, {\"Unnamed: 0\": 15, \"Week #\": 17, \"Day\": \"Sun\", \"Date\": \"Jan 2, 2022\", \"Time (ET)\": \"1:00\", \"Unnamed: 5\": null, \"Opponent\": \"New York Giants\", \"Score\": \"W 29-3\", \"Spread\": \"W -6.5\", \"Total\": \"U 36.5\", \"Notes\": null, \"result_ats\": \"W\", \"spread\": \"-6.5\", \"result\": \"W\", \"bears_pts\": \"29\", \"opp_pts\": \"3\", \"num_spread\": -6.5, \"score_diff\": -26, \"_opp\": \"new-york-giants\", \"url\": \"https://raw.githubusercontent.com/kono10/notebooks/main/chicago_bears_nerd/los-angeles-rams.png\"}, {\"Unnamed: 0\": 16, \"Week #\": 18, \"Day\": \"Sun\", \"Date\": \"Jan 9, 2022\", \"Time (ET)\": \"1:00\", \"Unnamed: 5\": \"@\", \"Opponent\": \"Minnesota Vikings\", \"Score\": \"L 17-31\", \"Spread\": \"L +4\", \"Total\": \"O 44.5\", \"Notes\": null, \"result_ats\": \"L\", \"spread\": \"+4\", \"result\": \"L\", \"bears_pts\": \"17\", \"opp_pts\": \"31\", \"num_spread\": 4.0, \"score_diff\": 14, \"_opp\": \"minnesota-vikings\", \"url\": \"https://raw.githubusercontent.com/kono10/notebooks/main/chicago_bears_nerd/los-angeles-rams.png\"}]}}, {\"mode\": \"vega-lite\"});\n",
       "</script>"
      ],
      "text/plain": [
       "alt.Chart(...)"
      ]
     },
     "execution_count": 114,
     "metadata": {},
     "output_type": "execute_result"
    }
   ],
   "source": [
    "alt.Chart(df, width=1000, height=1000, title=chart_title)\\\n",
    ".mark_image(height=50, width=50)\\\n",
    ".encode(\n",
    "    x=alt.X(**x_cfgs,\n",
    "        scale=alt.Scale(zero=False)\n",
    "    ),\n",
    "    y=alt.Y(**y_cfgs,\n",
    "        scale=alt.Scale(zero=False)\n",
    "    ),\n",
    "    url=\"url\",\n",
    "    tooltip=[\n",
    "        alt.Tooltip(**x_cfgs),\n",
    "        alt.Tooltip(**y_cfgs)]\n",
    ")\\\n",
    ".configure(background=primary_color)\\\n",
    ".configure_axis(gridColor=\"grey\", gridDash=[6,4])\\\n",
    ".configure_axisLeft(**axisLeftKwargs)\\\n",
    ".configure_axisBottom(**axisBottomKwargs)\\\n",
    ".configure_title(color=secondary_color, fontSize=25)\\\n",
    ".configure_legend(**legendKwargs)\n"
   ]
  },
  {
   "cell_type": "code",
   "execution_count": 101,
   "id": "cab3f377-28f1-4b48-9a1c-8016fe29e54c",
   "metadata": {},
   "outputs": [
    {
     "data": {
      "text/html": [
       "\n",
       "<div id=\"altair-viz-ae28660a46b94929b268bbed053210dc\"></div>\n",
       "<script type=\"text/javascript\">\n",
       "  var VEGA_DEBUG = (typeof VEGA_DEBUG == \"undefined\") ? {} : VEGA_DEBUG;\n",
       "  (function(spec, embedOpt){\n",
       "    let outputDiv = document.currentScript.previousElementSibling;\n",
       "    if (outputDiv.id !== \"altair-viz-ae28660a46b94929b268bbed053210dc\") {\n",
       "      outputDiv = document.getElementById(\"altair-viz-ae28660a46b94929b268bbed053210dc\");\n",
       "    }\n",
       "    const paths = {\n",
       "      \"vega\": \"https://cdn.jsdelivr.net/npm//vega@5?noext\",\n",
       "      \"vega-lib\": \"https://cdn.jsdelivr.net/npm//vega-lib?noext\",\n",
       "      \"vega-lite\": \"https://cdn.jsdelivr.net/npm//vega-lite@4.17.0?noext\",\n",
       "      \"vega-embed\": \"https://cdn.jsdelivr.net/npm//vega-embed@6?noext\",\n",
       "    };\n",
       "\n",
       "    function maybeLoadScript(lib, version) {\n",
       "      var key = `${lib.replace(\"-\", \"\")}_version`;\n",
       "      return (VEGA_DEBUG[key] == version) ?\n",
       "        Promise.resolve(paths[lib]) :\n",
       "        new Promise(function(resolve, reject) {\n",
       "          var s = document.createElement('script');\n",
       "          document.getElementsByTagName(\"head\")[0].appendChild(s);\n",
       "          s.async = true;\n",
       "          s.onload = () => {\n",
       "            VEGA_DEBUG[key] = version;\n",
       "            return resolve(paths[lib]);\n",
       "          };\n",
       "          s.onerror = () => reject(`Error loading script: ${paths[lib]}`);\n",
       "          s.src = paths[lib];\n",
       "        });\n",
       "    }\n",
       "\n",
       "    function showError(err) {\n",
       "      outputDiv.innerHTML = `<div class=\"error\" style=\"color:red;\">${err}</div>`;\n",
       "      throw err;\n",
       "    }\n",
       "\n",
       "    function displayChart(vegaEmbed) {\n",
       "      vegaEmbed(outputDiv, spec, embedOpt)\n",
       "        .catch(err => showError(`Javascript Error: ${err.message}<br>This usually means there's a typo in your chart specification. See the javascript console for the full traceback.`));\n",
       "    }\n",
       "\n",
       "    if(typeof define === \"function\" && define.amd) {\n",
       "      requirejs.config({paths});\n",
       "      require([\"vega-embed\"], displayChart, err => showError(`Error loading script: ${err.message}`));\n",
       "    } else {\n",
       "      maybeLoadScript(\"vega\", \"5\")\n",
       "        .then(() => maybeLoadScript(\"vega-lite\", \"4.17.0\"))\n",
       "        .then(() => maybeLoadScript(\"vega-embed\", \"6\"))\n",
       "        .catch(showError)\n",
       "        .then(() => displayChart(vegaEmbed));\n",
       "    }\n",
       "  })({\"config\": {\"view\": {\"continuousWidth\": 400, \"continuousHeight\": 300}}, \"data\": {\"name\": \"data-23ad7c117217a13cc17080d5bfb55be5\"}, \"mark\": {\"type\": \"image\", \"height\": 50, \"width\": 50}, \"encoding\": {\"url\": {\"field\": \"img\", \"type\": \"nominal\"}, \"x\": {\"field\": \"x\", \"type\": \"quantitative\"}, \"y\": {\"field\": \"y\", \"type\": \"quantitative\"}}, \"$schema\": \"https://vega.github.io/schema/vega-lite/v4.17.0.json\", \"datasets\": {\"data-23ad7c117217a13cc17080d5bfb55be5\": [{\"x\": 0.5, \"y\": 0.5, \"img\": \"https://vega.github.io/vega-datasets/data/ffox.png\"}, {\"x\": 1.5, \"y\": 1.5, \"img\": \"https://raw.githubusercontent.com/kono10/notebooks/main/chicago_bears_nerd/los-angeles-rams.png\"}, {\"x\": 2.5, \"y\": 2.5, \"img\": \"https://raw.githubusercontent.com/kono10/notebooks/main/chicago_bears_nerd/los-angeles-rams.png\"}]}}, {\"mode\": \"vega-lite\"});\n",
       "</script>"
      ],
      "text/plain": [
       "alt.Chart(...)"
      ]
     },
     "execution_count": 101,
     "metadata": {},
     "output_type": "execute_result"
    }
   ],
   "source": [
    "import altair as alt\n",
    "import pandas as pd\n",
    "\n",
    "source = pd.DataFrame.from_records([\n",
    "      {\"x\": 0.5, \"y\": 0.5, \"img\": \"https://vega.github.io/vega-datasets/data/ffox.png\"},\n",
    "      {\"x\": 1.5, \"y\": 1.5, \"img\": \"https://raw.githubusercontent.com/kono10/notebooks/main/chicago_bears_nerd/los-angeles-rams.png\"},\n",
    "      {\"x\": 2.5, \"y\": 2.5, \"img\": \"https://raw.githubusercontent.com/kono10/notebooks/main/chicago_bears_nerd/los-angeles-rams.png\"}\n",
    "])\n",
    "\n",
    "alt.Chart(source).mark_image(\n",
    "    width=50,\n",
    "    height=50\n",
    ").encode(\n",
    "    x='x',\n",
    "    y='y',\n",
    "    url='img'\n",
    ")"
   ]
  },
  {
   "cell_type": "code",
   "execution_count": 5,
   "id": "4ad06629-323f-4f6f-b20e-cb373274077d",
   "metadata": {},
   "outputs": [],
   "source": [
    "# visual of home teams in 2021 ats and su"
   ]
  },
  {
   "cell_type": "code",
   "execution_count": null,
   "id": "4319933f-d2f7-4e1a-b450-cddbfd492ca5",
   "metadata": {},
   "outputs": [],
   "source": [
    "\n",
    "# https://altair-viz.github.io/user_guide/marks.html\n",
    "# https://loodibee.com/wp-content/uploads/nfl-chicago-bears-team-logo-2.png\n"
   ]
  }
 ],
 "metadata": {
  "kernelspec": {
   "display_name": "Python [conda env:myenv] *",
   "language": "python",
   "name": "conda-env-myenv-py"
  },
  "language_info": {
   "codemirror_mode": {
    "name": "ipython",
    "version": 3
   },
   "file_extension": ".py",
   "mimetype": "text/x-python",
   "name": "python",
   "nbconvert_exporter": "python",
   "pygments_lexer": "ipython3",
   "version": "3.9.13"
  }
 },
 "nbformat": 4,
 "nbformat_minor": 5
}
