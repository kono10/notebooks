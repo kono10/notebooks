{
 "cells": [
  {
   "cell_type": "code",
   "execution_count": 4,
   "id": "f72df612-4f7c-4981-909f-c1d630ed624b",
   "metadata": {},
   "outputs": [],
   "source": [
    "import pandas as pd\n",
    "import numpy as np"
   ]
  },
  {
   "cell_type": "code",
   "execution_count": 66,
   "id": "84db9911-0e61-42c9-9660-5b706163ddfc",
   "metadata": {},
   "outputs": [
    {
     "name": "stderr",
     "output_type": "stream",
     "text": [
      "/tmp/ipykernel_658789/51190907.py:6: SettingWithCopyWarning: \n",
      "A value is trying to be set on a copy of a slice from a DataFrame.\n",
      "Try using .loc[row_indexer,col_indexer] = value instead\n",
      "\n",
      "See the caveats in the documentation: https://pandas.pydata.org/pandas-docs/stable/user_guide/indexing.html#returning-a-view-versus-a-copy\n",
      "  df_bears[\"bears_score\"] = np.where(df_bears[\"Winner/tie\"].eq(\"Chicago Bears\"), df_bears.pts_winner, df_bears.pts_loser)\n",
      "/tmp/ipykernel_658789/51190907.py:7: SettingWithCopyWarning: \n",
      "A value is trying to be set on a copy of a slice from a DataFrame.\n",
      "Try using .loc[row_indexer,col_indexer] = value instead\n",
      "\n",
      "See the caveats in the documentation: https://pandas.pydata.org/pandas-docs/stable/user_guide/indexing.html#returning-a-view-versus-a-copy\n",
      "  df_bears[\"opp_score\"] = np.where(df_bears[\"Winner/tie\"].eq(\"Chicago Bears\"), df_bears.pts_loser, df_bears.pts_winner)\n",
      "/tmp/ipykernel_658789/51190907.py:8: SettingWithCopyWarning: \n",
      "A value is trying to be set on a copy of a slice from a DataFrame.\n",
      "Try using .loc[row_indexer,col_indexer] = value instead\n",
      "\n",
      "See the caveats in the documentation: https://pandas.pydata.org/pandas-docs/stable/user_guide/indexing.html#returning-a-view-versus-a-copy\n",
      "  df_bears[\"opp\"] = np.where(df_bears[\"Winner/tie\"].eq(\"Chicago Bears\"), df_bears[\"Loser/tie\"], df_bears[\"Winner/tie\"])\n",
      "/tmp/ipykernel_658789/51190907.py:9: SettingWithCopyWarning: \n",
      "A value is trying to be set on a copy of a slice from a DataFrame.\n",
      "Try using .loc[row_indexer,col_indexer] = value instead\n",
      "\n",
      "See the caveats in the documentation: https://pandas.pydata.org/pandas-docs/stable/user_guide/indexing.html#returning-a-view-versus-a-copy\n",
      "  df_bears[\"score_diff\"] = df_bears.bears_score - df_bears.opp_score\n",
      "/tmp/ipykernel_658789/51190907.py:10: SettingWithCopyWarning: \n",
      "A value is trying to be set on a copy of a slice from a DataFrame.\n",
      "Try using .loc[row_indexer,col_indexer] = value instead\n",
      "\n",
      "See the caveats in the documentation: https://pandas.pydata.org/pandas-docs/stable/user_guide/indexing.html#returning-a-view-versus-a-copy\n",
      "  df_bears[\"result\"] = np.where(df_bears.score_diff <0, \"L\", \"W\")\n",
      "/tmp/ipykernel_658789/51190907.py:11: SettingWithCopyWarning: \n",
      "A value is trying to be set on a copy of a slice from a DataFrame.\n",
      "Try using .loc[row_indexer,col_indexer] = value instead\n",
      "\n",
      "See the caveats in the documentation: https://pandas.pydata.org/pandas-docs/stable/user_guide/indexing.html#returning-a-view-versus-a-copy\n",
      "  df_bears[\"countit\"] = 1\n"
     ]
    }
   ],
   "source": [
    "df = pd.read_csv(\"../data/season_history/nfl_season_history.csv\")\n",
    "df = df.rename({\"Pts\":\"pts_winner\", \"Pts.1\":\"pts_loser\"}, axis=1)\n",
    "\n",
    "df_bears = df[df[\"Winner/tie\"].eq(\"Chicago Bears\") | df[\"Loser/tie\"].eq(\"Chicago Bears\")]\n",
    "\n",
    "df_bears[\"bears_score\"] = np.where(df_bears[\"Winner/tie\"].eq(\"Chicago Bears\"), df_bears.pts_winner, df_bears.pts_loser) \n",
    "df_bears[\"opp_score\"] = np.where(df_bears[\"Winner/tie\"].eq(\"Chicago Bears\"), df_bears.pts_loser, df_bears.pts_winner) \n",
    "df_bears[\"opp\"] = np.where(df_bears[\"Winner/tie\"].eq(\"Chicago Bears\"), df_bears[\"Loser/tie\"], df_bears[\"Winner/tie\"]) \n",
    "df_bears[\"score_diff\"] = df_bears.bears_score - df_bears.opp_score\n",
    "df_bears[\"result\"] = np.where(df_bears.score_diff <0, \"L\", \"W\")\n",
    "df_bears[\"countit\"] = 1\n",
    "df_piv = df_bears.pivot_table(index=\"season_year\", columns=\"result\", values=\"countit\", aggfunc=\"sum\")\n",
    "df_piv[\"total\"] = df_piv.W + df_piv.L\n",
    "df_piv[\"win_percentage\"] = df_piv.W / df_piv.total"
   ]
  },
  {
   "cell_type": "code",
   "execution_count": 75,
   "id": "fd1bac23-629d-4f98-872f-d7b4169aa361",
   "metadata": {},
   "outputs": [],
   "source": [
    "chart_title = \"Chicago Bears Winning Percentage 1970-2021\"\n",
    "x_cfgs = {\"shorthand\":\"season_year:O\", \"title\":\"Season Year\"}\n",
    "y_cfgs = {\"shorthand\":\"win_percentage\", \"title\":\"Win %\"}\n",
    "# background etc.\n",
    "primary_color = \"#0B162A\" \n",
    "# font etc.\n",
    "secondary_color = \"#c83803\"\n",
    "axisLeftKwargs = dict(labelColor=secondary_color, titleColor=secondary_color, labelFontSize=15, titleFontSize=17)\n",
    "axisBottomKwargs = dict(labelColor=secondary_color, titleColor=secondary_color,labelFontSize=15, titleFontSize=17)\n",
    "legendKwargs = dict(labelColor=secondary_color, titleColor=secondary_color, strokeColor='gray', fillColor=primary_color, padding=10, cornerRadius=10,orient='top-right', labelFontSize=15, titleFontSize=15)"
   ]
  },
  {
   "cell_type": "code",
   "execution_count": 90,
   "id": "41f66c82-9d5e-4167-bc10-6a9c803542f2",
   "metadata": {},
   "outputs": [
    {
     "data": {
      "text/html": [
       "\n",
       "<div id=\"altair-viz-d5575745e43c463cbeafca2ab602ef12\"></div>\n",
       "<script type=\"text/javascript\">\n",
       "  var VEGA_DEBUG = (typeof VEGA_DEBUG == \"undefined\") ? {} : VEGA_DEBUG;\n",
       "  (function(spec, embedOpt){\n",
       "    let outputDiv = document.currentScript.previousElementSibling;\n",
       "    if (outputDiv.id !== \"altair-viz-d5575745e43c463cbeafca2ab602ef12\") {\n",
       "      outputDiv = document.getElementById(\"altair-viz-d5575745e43c463cbeafca2ab602ef12\");\n",
       "    }\n",
       "    const paths = {\n",
       "      \"vega\": \"https://cdn.jsdelivr.net/npm//vega@5?noext\",\n",
       "      \"vega-lib\": \"https://cdn.jsdelivr.net/npm//vega-lib?noext\",\n",
       "      \"vega-lite\": \"https://cdn.jsdelivr.net/npm//vega-lite@4.17.0?noext\",\n",
       "      \"vega-embed\": \"https://cdn.jsdelivr.net/npm//vega-embed@6?noext\",\n",
       "    };\n",
       "\n",
       "    function maybeLoadScript(lib, version) {\n",
       "      var key = `${lib.replace(\"-\", \"\")}_version`;\n",
       "      return (VEGA_DEBUG[key] == version) ?\n",
       "        Promise.resolve(paths[lib]) :\n",
       "        new Promise(function(resolve, reject) {\n",
       "          var s = document.createElement('script');\n",
       "          document.getElementsByTagName(\"head\")[0].appendChild(s);\n",
       "          s.async = true;\n",
       "          s.onload = () => {\n",
       "            VEGA_DEBUG[key] = version;\n",
       "            return resolve(paths[lib]);\n",
       "          };\n",
       "          s.onerror = () => reject(`Error loading script: ${paths[lib]}`);\n",
       "          s.src = paths[lib];\n",
       "        });\n",
       "    }\n",
       "\n",
       "    function showError(err) {\n",
       "      outputDiv.innerHTML = `<div class=\"error\" style=\"color:red;\">${err}</div>`;\n",
       "      throw err;\n",
       "    }\n",
       "\n",
       "    function displayChart(vegaEmbed) {\n",
       "      vegaEmbed(outputDiv, spec, embedOpt)\n",
       "        .catch(err => showError(`Javascript Error: ${err.message}<br>This usually means there's a typo in your chart specification. See the javascript console for the full traceback.`));\n",
       "    }\n",
       "\n",
       "    if(typeof define === \"function\" && define.amd) {\n",
       "      requirejs.config({paths});\n",
       "      require([\"vega-embed\"], displayChart, err => showError(`Error loading script: ${err.message}`));\n",
       "    } else {\n",
       "      maybeLoadScript(\"vega\", \"5\")\n",
       "        .then(() => maybeLoadScript(\"vega-lite\", \"4.17.0\"))\n",
       "        .then(() => maybeLoadScript(\"vega-embed\", \"6\"))\n",
       "        .catch(showError)\n",
       "        .then(() => displayChart(vegaEmbed));\n",
       "    }\n",
       "  })({\"config\": {\"view\": {\"continuousWidth\": 400, \"continuousHeight\": 300}, \"axis\": {\"gridColor\": \"grey\", \"gridDash\": [6, 4]}, \"axisBottom\": {\"labelColor\": \"#c83803\", \"labelFontSize\": 15, \"titleColor\": \"#c83803\", \"titleFontSize\": 17}, \"axisLeft\": {\"labelColor\": \"#c83803\", \"labelFontSize\": 15, \"titleColor\": \"#c83803\", \"titleFontSize\": 17}, \"background\": \"#0B162A\", \"legend\": {\"cornerRadius\": 10, \"fillColor\": \"#0B162A\", \"labelColor\": \"#c83803\", \"labelFontSize\": 15, \"orient\": \"top-right\", \"padding\": 10, \"strokeColor\": \"gray\", \"titleColor\": \"#c83803\", \"titleFontSize\": 15}, \"title\": {\"color\": \"#c83803\", \"fontSize\": 25}}, \"layer\": [{\"data\": {\"name\": \"data-7532d74759153240e8ee80ee06bfbc70\"}, \"mark\": {\"type\": \"line\", \"color\": \"white\", \"point\": {\"color\": \"white\"}}, \"encoding\": {\"tooltip\": [{\"field\": \"season_year\", \"title\": \"Year\", \"type\": \"quantitative\"}, {\"field\": \"win_percentage\", \"title\": \"Win %\", \"type\": \"quantitative\"}, {\"field\": \"W\", \"title\": \"Win\", \"type\": \"quantitative\"}, {\"field\": \"L\", \"title\": \"Loss\", \"type\": \"quantitative\"}], \"x\": {\"field\": \"season_year\", \"title\": \"Season Year\", \"type\": \"ordinal\"}, \"y\": {\"field\": \"win_percentage\", \"title\": \"Win %\", \"type\": \"quantitative\"}}, \"height\": 1000, \"title\": \"Chicago Bears Winning Percentage 1970-2021\", \"width\": 1500}, {\"data\": {\"name\": \"data-7532d74759153240e8ee80ee06bfbc70\"}, \"mark\": {\"type\": \"rule\", \"color\": \"red\"}, \"encoding\": {\"y\": {\"aggregate\": \"mean\", \"field\": \"win_percentage\", \"type\": \"quantitative\"}}}], \"$schema\": \"https://vega.github.io/schema/vega-lite/v4.17.0.json\", \"datasets\": {\"data-7532d74759153240e8ee80ee06bfbc70\": [{\"season_year\": 1970, \"L\": 8, \"W\": 6, \"total\": 14, \"win_percentage\": 0.42857142857142855}, {\"season_year\": 1971, \"L\": 8, \"W\": 6, \"total\": 14, \"win_percentage\": 0.42857142857142855}, {\"season_year\": 1972, \"L\": 9, \"W\": 5, \"total\": 14, \"win_percentage\": 0.35714285714285715}, {\"season_year\": 1973, \"L\": 11, \"W\": 3, \"total\": 14, \"win_percentage\": 0.21428571428571427}, {\"season_year\": 1974, \"L\": 10, \"W\": 4, \"total\": 14, \"win_percentage\": 0.2857142857142857}, {\"season_year\": 1975, \"L\": 10, \"W\": 4, \"total\": 14, \"win_percentage\": 0.2857142857142857}, {\"season_year\": 1976, \"L\": 7, \"W\": 7, \"total\": 14, \"win_percentage\": 0.5}, {\"season_year\": 1977, \"L\": 6, \"W\": 9, \"total\": 15, \"win_percentage\": 0.6}, {\"season_year\": 1978, \"L\": 9, \"W\": 7, \"total\": 16, \"win_percentage\": 0.4375}, {\"season_year\": 1979, \"L\": 7, \"W\": 10, \"total\": 17, \"win_percentage\": 0.5882352941176471}, {\"season_year\": 1980, \"L\": 9, \"W\": 7, \"total\": 16, \"win_percentage\": 0.4375}, {\"season_year\": 1981, \"L\": 10, \"W\": 6, \"total\": 16, \"win_percentage\": 0.375}, {\"season_year\": 1982, \"L\": 6, \"W\": 3, \"total\": 9, \"win_percentage\": 0.3333333333333333}, {\"season_year\": 1983, \"L\": 8, \"W\": 8, \"total\": 16, \"win_percentage\": 0.5}, {\"season_year\": 1984, \"L\": 7, \"W\": 11, \"total\": 18, \"win_percentage\": 0.6111111111111112}, {\"season_year\": 1985, \"L\": 1, \"W\": 18, \"total\": 19, \"win_percentage\": 0.9473684210526315}, {\"season_year\": 1986, \"L\": 3, \"W\": 14, \"total\": 17, \"win_percentage\": 0.8235294117647058}, {\"season_year\": 1987, \"L\": 5, \"W\": 11, \"total\": 16, \"win_percentage\": 0.6875}, {\"season_year\": 1988, \"L\": 5, \"W\": 13, \"total\": 18, \"win_percentage\": 0.7222222222222222}, {\"season_year\": 1989, \"L\": 10, \"W\": 6, \"total\": 16, \"win_percentage\": 0.375}, {\"season_year\": 1990, \"L\": 6, \"W\": 12, \"total\": 18, \"win_percentage\": 0.6666666666666666}, {\"season_year\": 1991, \"L\": 6, \"W\": 11, \"total\": 17, \"win_percentage\": 0.6470588235294118}, {\"season_year\": 1992, \"L\": 11, \"W\": 5, \"total\": 16, \"win_percentage\": 0.3125}, {\"season_year\": 1993, \"L\": 9, \"W\": 7, \"total\": 16, \"win_percentage\": 0.4375}, {\"season_year\": 1994, \"L\": 8, \"W\": 10, \"total\": 18, \"win_percentage\": 0.5555555555555556}, {\"season_year\": 1995, \"L\": 7, \"W\": 9, \"total\": 16, \"win_percentage\": 0.5625}, {\"season_year\": 1996, \"L\": 9, \"W\": 7, \"total\": 16, \"win_percentage\": 0.4375}, {\"season_year\": 1997, \"L\": 12, \"W\": 4, \"total\": 16, \"win_percentage\": 0.25}, {\"season_year\": 1998, \"L\": 12, \"W\": 4, \"total\": 16, \"win_percentage\": 0.25}, {\"season_year\": 1999, \"L\": 10, \"W\": 6, \"total\": 16, \"win_percentage\": 0.375}, {\"season_year\": 2000, \"L\": 11, \"W\": 5, \"total\": 16, \"win_percentage\": 0.3125}, {\"season_year\": 2001, \"L\": 4, \"W\": 13, \"total\": 17, \"win_percentage\": 0.7647058823529411}, {\"season_year\": 2002, \"L\": 12, \"W\": 4, \"total\": 16, \"win_percentage\": 0.25}, {\"season_year\": 2003, \"L\": 9, \"W\": 7, \"total\": 16, \"win_percentage\": 0.4375}, {\"season_year\": 2004, \"L\": 11, \"W\": 5, \"total\": 16, \"win_percentage\": 0.3125}, {\"season_year\": 2005, \"L\": 6, \"W\": 11, \"total\": 17, \"win_percentage\": 0.6470588235294118}, {\"season_year\": 2006, \"L\": 4, \"W\": 15, \"total\": 19, \"win_percentage\": 0.7894736842105263}, {\"season_year\": 2007, \"L\": 9, \"W\": 7, \"total\": 16, \"win_percentage\": 0.4375}, {\"season_year\": 2008, \"L\": 7, \"W\": 9, \"total\": 16, \"win_percentage\": 0.5625}, {\"season_year\": 2009, \"L\": 9, \"W\": 7, \"total\": 16, \"win_percentage\": 0.4375}, {\"season_year\": 2010, \"L\": 6, \"W\": 12, \"total\": 18, \"win_percentage\": 0.6666666666666666}, {\"season_year\": 2011, \"L\": 8, \"W\": 8, \"total\": 16, \"win_percentage\": 0.5}, {\"season_year\": 2012, \"L\": 6, \"W\": 10, \"total\": 16, \"win_percentage\": 0.625}, {\"season_year\": 2013, \"L\": 8, \"W\": 8, \"total\": 16, \"win_percentage\": 0.5}, {\"season_year\": 2014, \"L\": 11, \"W\": 5, \"total\": 16, \"win_percentage\": 0.3125}, {\"season_year\": 2015, \"L\": 10, \"W\": 6, \"total\": 16, \"win_percentage\": 0.375}, {\"season_year\": 2016, \"L\": 13, \"W\": 3, \"total\": 16, \"win_percentage\": 0.1875}, {\"season_year\": 2017, \"L\": 11, \"W\": 5, \"total\": 16, \"win_percentage\": 0.3125}, {\"season_year\": 2018, \"L\": 5, \"W\": 12, \"total\": 17, \"win_percentage\": 0.7058823529411765}, {\"season_year\": 2019, \"L\": 8, \"W\": 8, \"total\": 16, \"win_percentage\": 0.5}, {\"season_year\": 2020, \"L\": 9, \"W\": 8, \"total\": 17, \"win_percentage\": 0.47058823529411764}, {\"season_year\": 2021, \"L\": 11, \"W\": 6, \"total\": 17, \"win_percentage\": 0.35294117647058826}]}}, {\"mode\": \"vega-lite\"});\n",
       "</script>"
      ],
      "text/plain": [
       "alt.LayerChart(...)"
      ]
     },
     "execution_count": 90,
     "metadata": {},
     "output_type": "execute_result"
    }
   ],
   "source": [
    "chart = alt.Chart(df_piv.reset_index(), width=1500, height=1000, title=chart_title)\\\n",
    ".mark_line(color=\"white\", point=alt.OverlayMarkDef(color=\"white\"))\\\n",
    ".encode(\n",
    "    x=alt.X(**x_cfgs,\n",
    "    ),\n",
    "    y=alt.Y(**y_cfgs,\n",
    "    ),\n",
    "    tooltip=[\n",
    "        alt.Tooltip(shorthand=\"season_year\", title=\"Year\"),\n",
    "        alt.Tooltip(shorthand=\"win_percentage\", title=\"Win %\"),\n",
    "        alt.Tooltip(shorthand=\"W\", title=\"Win\"),\n",
    "        alt.Tooltip(shorthand=\"L\", title=\"Loss\"),\n",
    "    ]\n",
    ")\n",
    "\n",
    "\n",
    "rule = alt.Chart(df_piv.reset_index()).mark_rule(color='red').encode(\n",
    "    y='mean(win_percentage):Q'\n",
    ")\n",
    "\n",
    "(chart + rule)\\\n",
    ".configure(background=primary_color)\\\n",
    ".configure_axis(gridColor=\"grey\", gridDash=[6,4])\\\n",
    ".configure_axisLeft(**axisLeftKwargs)\\\n",
    ".configure_axisBottom(**axisBottomKwargs)\\\n",
    ".configure_title(color=secondary_color, fontSize=25)\\\n",
    ".configure_legend(**legendKwargs)"
   ]
  },
  {
   "cell_type": "code",
   "execution_count": null,
   "id": "c2cf209a-62d0-42db-8282-f4381c58b5ba",
   "metadata": {},
   "outputs": [],
   "source": []
  }
 ],
 "metadata": {
  "kernelspec": {
   "display_name": "Python [conda env:myenv] *",
   "language": "python",
   "name": "conda-env-myenv-py"
  },
  "language_info": {
   "codemirror_mode": {
    "name": "ipython",
    "version": 3
   },
   "file_extension": ".py",
   "mimetype": "text/x-python",
   "name": "python",
   "nbconvert_exporter": "python",
   "pygments_lexer": "ipython3",
   "version": "3.9.13"
  }
 },
 "nbformat": 4,
 "nbformat_minor": 5
}
