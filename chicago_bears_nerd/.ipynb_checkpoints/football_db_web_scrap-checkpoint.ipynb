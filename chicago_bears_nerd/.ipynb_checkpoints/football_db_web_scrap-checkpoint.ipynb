{
 "cells": [
  {
   "cell_type": "code",
   "execution_count": 3,
   "id": "393e4e65-3c6f-4030-a98a-b4e8030c7f24",
   "metadata": {},
   "outputs": [],
   "source": [
    "from bs4 import BeautifulSoup\n",
    "import requests as req\n",
    "from time import sleep\n",
    "import pandas as pd\n",
    "#from tqdm import tqdm\n",
    "\n",
    "\n",
    "# configure pandas\n",
    "pd.set_option('display.max_rows', 500)\n",
    "pd.set_option('display.max_columns', 500)\n",
    "pd.set_option('display.width', 1000)\n"
   ]
  },
  {
   "cell_type": "code",
   "execution_count": 158,
   "id": "562fdfdc-0458-41b1-9da5-3f6721e2b074",
   "metadata": {
    "tags": []
   },
   "outputs": [
    {
     "name": "stdout",
     "output_type": "stream",
     "text": [
      "https://www.footballdb.com/standings/index.html?lg=NFL&yr=2000\n",
      "https://www.footballdb.com/standings/index.html?lg=NFL&yr=2000&type=pre\n",
      "https://www.footballdb.com/standings/index.html?lg=NFL&yr=2001\n",
      "https://www.footballdb.com/standings/index.html?lg=NFL&yr=2001&type=pre\n",
      "https://www.footballdb.com/standings/index.html?lg=NFL&yr=2002\n",
      "https://www.footballdb.com/standings/index.html?lg=NFL&yr=2002&type=pre\n",
      "https://www.footballdb.com/standings/index.html?lg=NFL&yr=2003\n",
      "https://www.footballdb.com/standings/index.html?lg=NFL&yr=2003&type=pre\n",
      "https://www.footballdb.com/standings/index.html?lg=NFL&yr=2004\n",
      "https://www.footballdb.com/standings/index.html?lg=NFL&yr=2004&type=pre\n",
      "https://www.footballdb.com/standings/index.html?lg=NFL&yr=2005\n",
      "https://www.footballdb.com/standings/index.html?lg=NFL&yr=2005&type=pre\n",
      "https://www.footballdb.com/standings/index.html?lg=NFL&yr=2006\n",
      "https://www.footballdb.com/standings/index.html?lg=NFL&yr=2006&type=pre\n",
      "https://www.footballdb.com/standings/index.html?lg=NFL&yr=2007\n",
      "https://www.footballdb.com/standings/index.html?lg=NFL&yr=2007&type=pre\n",
      "https://www.footballdb.com/standings/index.html?lg=NFL&yr=2008\n",
      "https://www.footballdb.com/standings/index.html?lg=NFL&yr=2008&type=pre\n",
      "https://www.footballdb.com/standings/index.html?lg=NFL&yr=2009\n",
      "https://www.footballdb.com/standings/index.html?lg=NFL&yr=2009&type=pre\n",
      "https://www.footballdb.com/standings/index.html?lg=NFL&yr=2010\n",
      "https://www.footballdb.com/standings/index.html?lg=NFL&yr=2010&type=pre\n",
      "https://www.footballdb.com/standings/index.html?lg=NFL&yr=2011\n",
      "https://www.footballdb.com/standings/index.html?lg=NFL&yr=2011&type=pre\n",
      "https://www.footballdb.com/standings/index.html?lg=NFL&yr=2012\n",
      "https://www.footballdb.com/standings/index.html?lg=NFL&yr=2012&type=pre\n",
      "https://www.footballdb.com/standings/index.html?lg=NFL&yr=2013\n",
      "https://www.footballdb.com/standings/index.html?lg=NFL&yr=2013&type=pre\n",
      "https://www.footballdb.com/standings/index.html?lg=NFL&yr=2014\n",
      "https://www.footballdb.com/standings/index.html?lg=NFL&yr=2014&type=pre\n",
      "https://www.footballdb.com/standings/index.html?lg=NFL&yr=2015\n",
      "https://www.footballdb.com/standings/index.html?lg=NFL&yr=2015&type=pre\n",
      "https://www.footballdb.com/standings/index.html?lg=NFL&yr=2016\n",
      "https://www.footballdb.com/standings/index.html?lg=NFL&yr=2016&type=pre\n",
      "https://www.footballdb.com/standings/index.html?lg=NFL&yr=2017\n",
      "https://www.footballdb.com/standings/index.html?lg=NFL&yr=2017&type=pre\n",
      "https://www.footballdb.com/standings/index.html?lg=NFL&yr=2018\n",
      "https://www.footballdb.com/standings/index.html?lg=NFL&yr=2018&type=pre\n",
      "https://www.footballdb.com/standings/index.html?lg=NFL&yr=2019\n",
      "https://www.footballdb.com/standings/index.html?lg=NFL&yr=2019&type=pre\n",
      "https://www.footballdb.com/standings/index.html?lg=NFL&yr=2020\n",
      "https://www.footballdb.com/standings/index.html?lg=NFL&yr=2020&type=pre\n",
      "https://www.footballdb.com/standings/index.html?lg=NFL&yr=2021\n",
      "https://www.footballdb.com/standings/index.html?lg=NFL&yr=2021&type=pre\n"
     ]
    },
    {
     "data": {
      "text/html": [
       "<div>\n",
       "<style scoped>\n",
       "    .dataframe tbody tr th:only-of-type {\n",
       "        vertical-align: middle;\n",
       "    }\n",
       "\n",
       "    .dataframe tbody tr th {\n",
       "        vertical-align: top;\n",
       "    }\n",
       "\n",
       "    .dataframe thead th {\n",
       "        text-align: right;\n",
       "    }\n",
       "</style>\n",
       "<table border=\"1\" class=\"dataframe\">\n",
       "  <thead>\n",
       "    <tr style=\"text-align: right;\">\n",
       "      <th></th>\n",
       "      <th>conf</th>\n",
       "      <th>season_type</th>\n",
       "      <th>year</th>\n",
       "      <th>team_name</th>\n",
       "      <th>wins</th>\n",
       "      <th>losses</th>\n",
       "    </tr>\n",
       "  </thead>\n",
       "  <tbody>\n",
       "    <tr>\n",
       "      <th>0</th>\n",
       "      <td>EAST</td>\n",
       "      <td>reg</td>\n",
       "      <td>2000</td>\n",
       "      <td>Miami Dolphins</td>\n",
       "      <td>11</td>\n",
       "      <td>5</td>\n",
       "    </tr>\n",
       "    <tr>\n",
       "      <th>1</th>\n",
       "      <td>EAST</td>\n",
       "      <td>reg</td>\n",
       "      <td>2000</td>\n",
       "      <td>Indianapolis Colts</td>\n",
       "      <td>10</td>\n",
       "      <td>6</td>\n",
       "    </tr>\n",
       "    <tr>\n",
       "      <th>2</th>\n",
       "      <td>EAST</td>\n",
       "      <td>reg</td>\n",
       "      <td>2000</td>\n",
       "      <td>New York Jets</td>\n",
       "      <td>9</td>\n",
       "      <td>7</td>\n",
       "    </tr>\n",
       "    <tr>\n",
       "      <th>3</th>\n",
       "      <td>EAST</td>\n",
       "      <td>reg</td>\n",
       "      <td>2000</td>\n",
       "      <td>Buffalo Bills</td>\n",
       "      <td>8</td>\n",
       "      <td>8</td>\n",
       "    </tr>\n",
       "    <tr>\n",
       "      <th>4</th>\n",
       "      <td>EAST</td>\n",
       "      <td>reg</td>\n",
       "      <td>2000</td>\n",
       "      <td>New England Patriots</td>\n",
       "      <td>5</td>\n",
       "      <td>11</td>\n",
       "    </tr>\n",
       "  </tbody>\n",
       "</table>\n",
       "</div>"
      ],
      "text/plain": [
       "   conf season_type  year             team_name wins losses\n",
       "0  EAST         reg  2000        Miami Dolphins   11      5\n",
       "1  EAST         reg  2000    Indianapolis Colts   10      6\n",
       "2  EAST         reg  2000         New York Jets    9      7\n",
       "3  EAST         reg  2000         Buffalo Bills    8      8\n",
       "4  EAST         reg  2000  New England Patriots    5     11"
      ]
     },
     "execution_count": 158,
     "metadata": {},
     "output_type": "execute_result"
    }
   ],
   "source": [
    "season_types = [\"reg\",\"pre\"]\n",
    "years = list(range(2000, 2022))\n",
    "pd_list = list()\n",
    "for year in years:\n",
    "    for season in season_types:\n",
    "        headers = {\n",
    "            \"User-Agent\": (\n",
    "                \"Mozilla/5.0 (Windows NT 10.0; Win64; x64) AppleWebKit/537.36 \"\n",
    "                \"(KHTML, like Gecko) Chrome/99.0.4844.51 Safari/537.36\"\n",
    "            )\n",
    "        }\n",
    "        if season == \"reg\":\n",
    "            url = f\"https://www.footballdb.com/standings/index.html?lg=NFL&yr={year}\"\n",
    "        else:\n",
    "            url = f\"https://www.footballdb.com/standings/index.html?lg=NFL&yr={year}&type={season_type}\"  \n",
    "        print(url)\n",
    "        page = req.get(url, headers=headers).text\n",
    "        soup = BeautifulSoup(page, \"html.parser\")\n",
    "        data = []\n",
    "        tables = soup.find_all('table', attrs={\"class\":\"statistics\"})\n",
    "\n",
    "        for table in tables:\n",
    "            rows = table.find_all(\"tr\") \n",
    "            conf = rows[0].find(\"td\").text.strip()\n",
    "            for row in rows[1:]:\n",
    "                temp_dict = {}\n",
    "                temp_dict[\"conf\"] = conf\n",
    "                temp_dict[\"season_type\"] = season\n",
    "                temp_dict[\"year\"] = year\n",
    "                team_name = row.find(\"a\").text.strip()\n",
    "                temp_dict[\"team_name\"] = row.find(\"a\").text.strip()\n",
    "                temp_dict[\"wins\"] = row.find_all(\"td\")[1].text.strip()\n",
    "                temp_dict[\"losses\"] = row.find_all(\"td\")[2].text.strip()\n",
    "                pd_list.append(temp_dict)\n",
    "df = pd.DataFrame(pd_list)\n",
    "df.head()"
   ]
  },
  {
   "cell_type": "code",
   "execution_count": 160,
   "id": "d967d599-041c-4601-9385-6169ad65aa62",
   "metadata": {},
   "outputs": [
    {
     "data": {
      "text/html": [
       "<div>\n",
       "<style scoped>\n",
       "    .dataframe tbody tr th:only-of-type {\n",
       "        vertical-align: middle;\n",
       "    }\n",
       "\n",
       "    .dataframe tbody tr th {\n",
       "        vertical-align: top;\n",
       "    }\n",
       "\n",
       "    .dataframe thead th {\n",
       "        text-align: right;\n",
       "    }\n",
       "</style>\n",
       "<table border=\"1\" class=\"dataframe\">\n",
       "  <thead>\n",
       "    <tr style=\"text-align: right;\">\n",
       "      <th></th>\n",
       "      <th>conf</th>\n",
       "      <th>season_type</th>\n",
       "      <th>year</th>\n",
       "      <th>team_name</th>\n",
       "      <th>wins</th>\n",
       "      <th>losses</th>\n",
       "    </tr>\n",
       "  </thead>\n",
       "  <tbody>\n",
       "    <tr>\n",
       "      <th>25</th>\n",
       "      <td>CENTRAL</td>\n",
       "      <td>reg</td>\n",
       "      <td>2000</td>\n",
       "      <td>Chicago Bears</td>\n",
       "      <td>5</td>\n",
       "      <td>11</td>\n",
       "    </tr>\n",
       "    <tr>\n",
       "      <th>53</th>\n",
       "      <td>CENTRAL</td>\n",
       "      <td>pre</td>\n",
       "      <td>2000</td>\n",
       "      <td>Chicago Bears</td>\n",
       "      <td>2</td>\n",
       "      <td>2</td>\n",
       "    </tr>\n",
       "  </tbody>\n",
       "</table>\n",
       "</div>"
      ],
      "text/plain": [
       "       conf season_type  year      team_name wins losses\n",
       "25  CENTRAL         reg  2000  Chicago Bears    5     11\n",
       "53  CENTRAL         pre  2000  Chicago Bears    2      2"
      ]
     },
     "execution_count": 160,
     "metadata": {},
     "output_type": "execute_result"
    }
   ],
   "source": [
    "df[df.team_name.eq(\"Chicago Bears\")].query(\"year == 2000\")"
   ]
  },
  {
   "cell_type": "code",
   "execution_count": 163,
   "id": "da3e66b9-66f5-4435-8871-460c356b58fe",
   "metadata": {},
   "outputs": [],
   "source": [
    "df.to_csv(\"data/season_results.csv\")"
   ]
  },
  {
   "cell_type": "code",
   "execution_count": 162,
   "id": "744ad78a-7c62-45ad-a8aa-3e40b8edbfc6",
   "metadata": {},
   "outputs": [
    {
     "data": {
      "text/plain": [
       "<AxesSubplot:xlabel='reg', ylabel='pre'>"
      ]
     },
     "execution_count": 162,
     "metadata": {},
     "output_type": "execute_result"
    },
    {
     "data": {
      "image/png": "[encoded data removed]",
      "text/plain": [
       "<Figure size 432x288 with 1 Axes>"
      ]
     },
     "metadata": {
      "needs_background": "light"
     },
     "output_type": "display_data"
    }
   ],
   "source": [
    "pd.DataFrame(pd_list).pivot_table(index=\"team_name\", columns=\"season_type\", values=\"wins\").plot.scatter(x=\"reg\", y=\"pre\")"
   ]
  },
  {
   "cell_type": "code",
   "execution_count": 114,
   "id": "500a0d4b-75f4-4f94-a09d-caa7bd55da54",
   "metadata": {},
   "outputs": [
    {
     "data": {
      "text/plain": [
       "<tr class=\"row0 right\"><td class=\"left\">y - <span class=\"hidden-xs\"><a href=\"/teams/nfl/los-angeles-rams/results/2021\" title=\"Los Angeles Rams Schedule\">Los Angeles Rams</a></span><span class=\"visible-xs-inline\"><a href=\"/teams/nfl/los-angeles-rams/results/2021\" title=\"Los Angeles Rams Schedule\">LA</a></span></td><td>12</td><td>5</td><td>0</td><td>.706</td><td>460</td><td>372</td><td>5-3-0</td><td>7-2-0</td><td class=\"hidden-xs\">3-3-0</td><td class=\"hidden-xs\">8-4-0</td><td class=\"hidden-xs\">4-1-0</td></tr>"
      ]
     },
     "execution_count": 114,
     "metadata": {},
     "output_type": "execute_result"
    }
   ],
   "source": [
    "row"
   ]
  },
  {
   "cell_type": "code",
   "execution_count": null,
   "id": "3ba68e39-e689-422b-a124-cb1ce9123464",
   "metadata": {},
   "outputs": [],
   "source": [
    "rows"
   ]
  },
  {
   "cell_type": "code",
   "execution_count": null,
   "id": "2d24867f-4f50-4ec1-8544-b0697f0afff0",
   "metadata": {},
   "outputs": [],
   "source": [
    "# box score data\n",
    "\n",
    "# https://www.footballdb.com/games/boxscore/chicago-bears-vs-dallas-cowboys-2022103001\n",
    "# https://www.footballdb.com/games/index.html"
   ]
  },
  {
   "cell_type": "code",
   "execution_count": null,
   "id": "84220537-c823-4b95-98e4-9f10d79f3488",
   "metadata": {},
   "outputs": [],
   "source": []
  }
 ],
 "metadata": {
  "kernelspec": {
   "display_name": "Python [conda env:myenv] *",
   "language": "python",
   "name": "conda-env-myenv-py"
  },
  "language_info": {
   "codemirror_mode": {
    "name": "ipython",
    "version": 3
   },
   "file_extension": ".py",
   "mimetype": "text/x-python",
   "name": "python",
   "nbconvert_exporter": "python",
   "pygments_lexer": "ipython3",
   "version": "3.9.13"
  }
 },
 "nbformat": 4,
 "nbformat_minor": 5
}
