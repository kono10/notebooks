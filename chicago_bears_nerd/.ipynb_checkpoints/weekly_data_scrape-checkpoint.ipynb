{
 "cells": [
  {
   "cell_type": "code",
   "execution_count": 2,
   "id": "d6efa6cc-a56a-4a6f-a6ab-de9afe17878b",
   "metadata": {},
   "outputs": [],
   "source": [
    "from bs4 import BeautifulSoup\n",
    "import requests as req\n",
    "from time import sleep\n",
    "import pandas as pd\n",
    "import os\n",
    "import time\n",
    "from datetime import datetime as dt\n",
    "from tqdm import tqdm\n",
    "#from tqdm import tqdm\n",
    "\n",
    "\n",
    "# configure pandas\n",
    "pd.set_option('display.max_rows', 500)\n",
    "pd.set_option('display.max_columns', 500)\n",
    "pd.set_option('display.width', 1000)\n",
    "\n",
    "headers = {\n",
    "    \"User-Agent\": (\n",
    "        \"Mozilla/5.0 (Windows NT 10.0; Win64; x64) AppleWebKit/537.36 \"\n",
    "        \"(KHTML, like Gecko) Chrome/99.0.4844.51 Safari/537.36\"\n",
    "    )\n",
    "}"
   ]
  },
  {
   "cell_type": "markdown",
   "id": "06aa6a94-3c0a-4939-9990-f10ae3ce7502",
   "metadata": {
    "jp-MarkdownHeadingCollapsed": true,
    "tags": []
   },
   "source": [
    "# Historical Odds Data - data not ready until Thursday\n",
    "___"
   ]
  },
  {
   "cell_type": "code",
   "execution_count": 4,
   "id": "86f6e982-f560-4294-960c-93cd873cf29c",
   "metadata": {},
   "outputs": [
    {
     "name": "stdout",
     "output_type": "stream",
     "text": [
      "   Day          Date Time (ET)  NaN             Favorite         Score  Spread  NaN             Underdog Over/Under Notes  week\n",
      "0  Thu   Sep 8, 2022      8:20  NaN        Buffalo Bills       W 31-10  W -2.5    @     Los Angeles Rams       U 52   NaN     1\n",
      "1  Sun  Sep 11, 2022      1:00  NaN   New Orleans Saints       W 27-26  L -5.5    @      Atlanta Falcons     O 43.5   NaN     1\n",
      "2  Sun  Sep 11, 2022      1:00    @    Carolina Panthers       L 24-26  L -1.5  NaN     Cleveland Browns       O 42   NaN     1\n",
      "3  Sun  Sep 11, 2022      1:00  NaN  San Francisco 49ers       L 10-19    L -6    @        Chicago Bears       U 38   NaN     1\n",
      "4  Sun  Sep 11, 2022      1:00    @   Cincinnati Bengals  L 20-23 (OT)    L -7  NaN  Pittsburgh Steelers       U 44   NaN     1\n"
     ]
    }
   ],
   "source": [
    "\n",
    "url = f\"https://www.sportsoddshistory.com/nfl-game-season/?y=2022\"\n",
    "page = req.get(url, headers=headers).text\n",
    "soup = BeautifulSoup(page, \"html.parser\")\n",
    "tables = soup.find_all(\"table\", attrs={\"class\":\"soh1\"})\n",
    "pd_list = []\n",
    "for i, table in enumerate(tables[2:]):\n",
    "    df = pd.read_html(str(table))\n",
    "    df = df[0]\n",
    "    df.columns = df.iloc[-2]\n",
    "    df = df.iloc[:-2,: ]\n",
    "    df[\"week\"] = i + 1\n",
    "    pd_list.append(df)\n",
    "df = pd.concat(pd_list)\n",
    "print(df.head())\n",
    "df.to_csv(\"data/nfl_weekly_betting_summary.csv\")"
   ]
  },
  {
   "cell_type": "markdown",
   "id": "5ee8131c-d6a1-4395-8ae7-72b5a7e33413",
   "metadata": {
    "tags": []
   },
   "source": [
    "# Ranking Data\n",
    "____"
   ]
  },
  {
   "cell_type": "markdown",
   "id": "250e7682-5aaa-4773-bb71-0a7185fd38fa",
   "metadata": {},
   "source": [
    "## Team Stats"
   ]
  },
  {
   "cell_type": "code",
   "execution_count": 4,
   "id": "9e956b70-34b0-4c48-9bf7-c46363ce46f9",
   "metadata": {},
   "outputs": [
    {
     "name": "stderr",
     "output_type": "stream",
     "text": [
      "data/team_ranks/_nfl_stat_opponent_penalties_per_play_20221102.csv: 100%|██████████████████████████████████████████████████████████████████████████████████████████████████████████████████████████████████████████████████████████████████████████████████████████████████████████████████████████████████████████████████████████████████████████████████████████████████████████████████████████████| 226/226 [03:05<00:00,  1.22it/s]"
     ]
    },
    {
     "name": "stdout",
     "output_type": "stream",
     "text": [
      "   Rank       Team  2022  Last 3  Last 1  Home  Away  2021        asof                                    url\n",
      "0     1   Carolina  0.06    0.05    0.05  0.06  0.06  0.05  2022-11-02  /nfl/stat/opponent-penalties-per-play\n",
      "1     2  Minnesota  0.06    0.07    0.07  0.05  0.07  0.04  2022-11-02  /nfl/stat/opponent-penalties-per-play\n",
      "2     3  NY Giants  0.06    0.07    0.02  0.06  0.06  0.05  2022-11-02  /nfl/stat/opponent-penalties-per-play\n",
      "3     4  Tennessee  0.06    0.05    0.06  0.05  0.06  0.05  2022-11-02  /nfl/stat/opponent-penalties-per-play\n",
      "4     5     Denver  0.06    0.06    0.04  0.07  0.05  0.05  2022-11-02  /nfl/stat/opponent-penalties-per-play\n"
     ]
    },
    {
     "name": "stderr",
     "output_type": "stream",
     "text": [
      "\n"
     ]
    }
   ],
   "source": [
    "date = \"2022-11-02\"\n",
    "url = \"https://www.teamrankings.com/nfl/stats/\"\n",
    "page = req.get(url, headers=headers).text\n",
    "soup = BeautifulSoup(page, \"html.parser\")\n",
    "pbar = tqdm([a[\"href\"] for a in soup.find(attrs={\"class\":\"column large-2\"}).find_all(\"a\") if a[\"href\"] != \"#\"])\n",
    "\n",
    "for end_point in pbar:\n",
    "    time.sleep(.25)\n",
    "    url = f\"https://www.teamrankings.com{end_point}?date={date}\"\n",
    "    page = req.get(url, headers=headers).text\n",
    "    soup = BeautifulSoup(page, \"html.parser\")\n",
    "    table = soup.find(\"table\")\n",
    "    df = pd.read_html(str(table))[0].replace(\"--\",0)\n",
    "    df[\"asof\"] = date\n",
    "    df[\"url\"] = end_point\n",
    "    file_name = end_point.replace('/', '_').replace(\"-\",\"_\") + \"_\" + date.replace(\"-\", \"\")\n",
    "    full_file_path = f\"data/team_ranks/{file_name}.csv\"\n",
    "    df.to_csv(full_file_path)\n",
    "    pbar.set_description(full_file_path)\n",
    "print(df.head())"
   ]
  },
  {
   "cell_type": "markdown",
   "id": "f68d3a70-5d25-442b-96a2-c1e40b8eef13",
   "metadata": {},
   "source": [
    "## Player Stats"
   ]
  },
  {
   "cell_type": "code",
   "execution_count": 4,
   "id": "6b789641-50b5-4f5b-a049-b164f0b50564",
   "metadata": {
    "tags": []
   },
   "outputs": [
    {
     "name": "stderr",
     "output_type": "stream",
     "text": [
      "/nfl/player-stat/scoring-total-points: 100%|███████████████████████████████████████████████████████████████████████████████████████████████████████████████████████████████████████████████████████████████████████████████████████████████████████████████████████████████████████████████████████████████████████████████████████████████████████████████████████████████████████████████████████████| 112/112 [01:45<00:00,  1.06it/s]"
     ]
    },
    {
     "name": "stdout",
     "output_type": "stream",
     "text": [
      "   Rank         Player                  Team Pos  Value                       asof                                    url\n",
      "0     1    Jason Myers      Seattle Seahawks   K     72 2022-11-01 07:49:51.148130  /nfl/player-stat/scoring-total-points\n",
      "1     2  Justin Tucker      Baltimore Ravens   K     70 2022-11-01 07:49:51.148130  /nfl/player-stat/scoring-total-points\n",
      "2     3    Ryan Succop  Tampa Bay Buccaneers   K     66 2022-11-01 07:49:51.148130  /nfl/player-stat/scoring-total-points\n",
      "3     4    Graham Gano       New York Giants   K     65 2022-11-01 07:49:51.148130  /nfl/player-stat/scoring-total-points\n",
      "4     5    Brett Maher        Dallas Cowboys   K     63 2022-11-01 07:49:51.148130  /nfl/player-stat/scoring-total-points\n"
     ]
    },
    {
     "name": "stderr",
     "output_type": "stream",
     "text": [
      "\n"
     ]
    }
   ],
   "source": [
    "url = \"https://www.teamrankings.com/nfl/stats/\"\n",
    "page = req.get(url, headers=headers).text\n",
    "soup = BeautifulSoup(page, \"html.parser\")\n",
    "\n",
    "pbar = tqdm([a[\"href\"] for a in soup.find_all(attrs={\"class\":\"column large-2\"})[-1].find_all(\"a\") if a[\"href\"] != \"#\"])\n",
    "\n",
    "for end_point in pbar:\n",
    "    time.sleep(.25)\n",
    "    url = f\"https://www.teamrankings.com{end_point}?season_id=20\"\n",
    "    page = req.get(url, headers=headers).text\n",
    "    soup = BeautifulSoup(page, \"html.parser\")\n",
    "    table = soup.find(\"table\")\n",
    "    df = pd.read_html(str(table))[0].replace(\"--\",0)\n",
    "    df[\"asof\"] = dt.now()\n",
    "    df[\"url\"] = end_point\n",
    "    file_name = end_point.replace('/', '_').replace(\"-\",\"_\") + \"_\" + dt.now().strftime(\"%Y%m%d\").replace(\"-\", \"\")\n",
    "    full_file_path = f\"data/team_ranks/{file_name}.csv\"\n",
    "    df.to_csv(full_file_path)\n",
    "    pbar.set_description(full_file_path)\n",
    "\n",
    "print(df.head())"
   ]
  },
  {
   "cell_type": "markdown",
   "id": "1a5a25a2-ce03-44de-873e-c14c5f05f430",
   "metadata": {},
   "source": [
    "## Team Schedules\n"
   ]
  },
  {
   "cell_type": "code",
   "execution_count": 5,
   "id": "0d7c4e34-2805-40f7-9173-f95a320da162",
   "metadata": {},
   "outputs": [
    {
     "name": "stderr",
     "output_type": "stream",
     "text": [
      "/nfl/team/washington-commanders/: 100%|██████████████████████████████████████████████████████████████████████████████████████████████████████████████████████████████████████████████████████████████████████████████████████████████████████████████████████████████████████████████████████████████████████████████████████████████████████████████████████████████████████████████████████████████████| 32/32 [00:23<00:00,  1.37it/s]"
     ]
    },
    {
     "name": "stdout",
     "output_type": "stream",
     "text": [
      "    Date      Opponent   Result Location  W/L  Div  Spread    Total  Money                       asof                               url\n",
      "0  09/11  Jacksonville  W 28-22     Home  1-0  0-0    -3.0  Ov 43.0   -157 2022-11-01 07:50:14.916242  /nfl/team/washington-commanders/\n",
      "1  09/18       Detroit  L 27-36     Away  1-1  0-0  (Pick)  Ov 48.0   -115 2022-11-01 07:50:14.916242  /nfl/team/washington-commanders/\n",
      "2  09/25  Philadelphia   L 8-24     Home  1-2  0-1    +5.5  Un 47.5    200 2022-11-01 07:50:14.916242  /nfl/team/washington-commanders/\n",
      "3  10/02        Dallas  L 10-25     Away  1-3  0-2    +3.0  Un 41.0    140 2022-11-01 07:50:14.916242  /nfl/team/washington-commanders/\n",
      "4  10/09     Tennessee  L 17-21     Home  1-4  0-2    +0.5  Un 43.0   -110 2022-11-01 07:50:14.916242  /nfl/team/washington-commanders/\n"
     ]
    },
    {
     "name": "stderr",
     "output_type": "stream",
     "text": [
      "\n"
     ]
    }
   ],
   "source": [
    "url = \"https://www.teamrankings.com/nfl/\"\n",
    "page = req.get(url, headers=headers).text\n",
    "soup = BeautifulSoup(page, \"html.parser\")\n",
    "\n",
    "pbar = tqdm([li.find(\"a\")[\"href\"] for li in soup.find(\"div\", attrs={\"data-section\":\"nfl\"}).find_all(attrs={\"class\":\"teams-group\"})[0].find_all(\"li\")])\n",
    "\n",
    "for end_point in pbar:\n",
    "    time.sleep(.25)\n",
    "    url = f\"https://www.teamrankings.com{end_point}\"\n",
    "    page = req.get(url, headers=headers).text\n",
    "    soup = BeautifulSoup(page, \"html.parser\")\n",
    "    table = soup.find(\"table\", attrs={\"class\":\"tr-table datatable scrollable\"})\n",
    "    df = pd.read_html(str(table), displayed_only=False)[0].replace(\"--\",0)\n",
    "    df[\"asof\"] = dt.now()\n",
    "    df[\"url\"] = end_point\n",
    "    file_name = end_point.replace('/', '_').replace(\"-\",\"_\") + \"_\" + dt.now().strftime(\"%Y%m%d\").replace(\"-\", \"\")    \n",
    "    \n",
    "    full_file_path = f\"data/team_ranks/{file_name}.csv\"\n",
    "    df.to_csv(full_file_path)\n",
    "    pbar.set_description(full_file_path)\n",
    "\n",
    "print(df.head())"
   ]
  }
 ],
 "metadata": {
  "kernelspec": {
   "display_name": "Python 3 (ipykernel)",
   "language": "python",
   "name": "python3"
  },
  "language_info": {
   "codemirror_mode": {
    "name": "ipython",
    "version": 3
   },
   "file_extension": ".py",
   "mimetype": "text/x-python",
   "name": "python",
   "nbconvert_exporter": "python",
   "pygments_lexer": "ipython3",
   "version": "3.9.13"
  }
 },
 "nbformat": 4,
 "nbformat_minor": 5
}
